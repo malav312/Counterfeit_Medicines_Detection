{
 "cells": [
  {
   "cell_type": "code",
   "execution_count": 23,
   "metadata": {},
   "outputs": [],
   "source": [
    "from scipy.spatial import distance\n",
    "import numpy as np\n",
    "import json\n",
    "import os\n",
    "import math\n",
    "import csv"
   ]
  },
  {
   "cell_type": "code",
   "execution_count": 19,
   "metadata": {},
   "outputs": [],
   "source": [
    "def jaccard_similarity(list1, list2):\n",
    "    intersection = len(set(list1).intersection(list2)) \n",
    "    union = len(list1 + list2) - intersection \n",
    "    return intersection / union "
   ]
  },
  {
   "cell_type": "code",
   "execution_count": 29,
   "metadata": {},
   "outputs": [],
   "source": [
    "#Loading Json File\n",
    "def getMetric(json_file_1, json_file_2):\n",
    "# json_file_1 = \"metaanalysis/AB_Pas_N_Tablet/AB_Pas_N_Tablet_1.json\"\n",
    "# json_file_2 = \"metaanalysis/AB_Pas_N_Tablet/AB_Pas_N_Tablet_2.json\"\n",
    "    with open(json_file_1, 'r') as f1:\n",
    "        json_data1 = json.load(f1)\n",
    "\n",
    "    text_dict1 = {\n",
    "        \"Word List\": json_data1['Text'][\"Word List\"]\n",
    "    }\n",
    "    colour_features_dict1 = {\n",
    "        \"Colour Features\": json_data1[\"Color Moments\"][\"Colour Features\"]\n",
    "    }\n",
    "    texture_dict1 =  json_data1[\"Texture\"]\n",
    "    shape_dict1 =  json_data1[\"Shape\"]\n",
    "    pattern_dict1 = json_data1[\"Pattern\"]\n",
    "\n",
    "    with open(json_file_2, 'r') as f2:\n",
    "        json_data2 = json.load(f2)\n",
    "    text_dict2 = {\n",
    "        \"Word List\": json_data2['Text'][\"Word List\"]\n",
    "    }\n",
    "    colour_features_dict2 = {\n",
    "        \"Colour Features\": json_data2[\"Color Moments\"][\"Colour Features\"]\n",
    "    }\n",
    "    texture_dict2 =  json_data2[\"Texture\"]\n",
    "    shape_dict2 =  json_data2[\"Shape\"]\n",
    "    pattern_dict2 = json_data2[\"Pattern\"]\n",
    "\n",
    "    #word list  using Jaccardian Distance\n",
    "    word_list1 = text_dict1['Word List']\n",
    "    word_list2 = text_dict2['Word List']\n",
    "    dw = 0\n",
    "    for l in word_list1:\n",
    "        dw = 1-jaccard_similarity(word_list1, word_list2)\n",
    "\n",
    "    #color list using Euclidean Distance\n",
    "    color_list1 = colour_features_dict1['Colour Features']\n",
    "    color_list2 = colour_features_dict2['Colour Features']\n",
    "    dc=distance.euclidean(color_list1,color_list2)\n",
    "\n",
    "    #texture list using Euclidean Distance\n",
    "    texture_list1 = list(texture_dict1.values())\n",
    "    texture_list2 = list(texture_dict2.values())\n",
    "    dtx =distance.euclidean(texture_list1,texture_list2)\n",
    "\n",
    "    #shape list using Euclidean Distance\n",
    "    shape_list1 = list(shape_dict1.values())\n",
    "    shape_list2 = list(shape_dict2.values())\n",
    "    ds = distance.euclidean(shape_list1,shape_list2)\n",
    "\n",
    "    #pattern list using Euclidean Distance\n",
    "    pattern_list1 = list(pattern_dict1.values())\n",
    "    pattern_list2 = list(pattern_dict2.values())\n",
    "    dp = distance.euclidean(pattern_list1,pattern_list2)\n",
    "\n",
    "    d = math.sqrt((dw**2)+(dc**2)+(dtx**2)+(ds**2)+(dp**2))\n",
    "\n",
    "    return d\n",
    "\n",
    "\n"
   ]
  },
  {
   "cell_type": "code",
   "execution_count": 30,
   "metadata": {},
   "outputs": [
    {
     "data": {
      "text/plain": [
       "581.7612416559077"
      ]
     },
     "execution_count": 30,
     "metadata": {},
     "output_type": "execute_result"
    }
   ],
   "source": [
    "getMetric(\"metaanalysis/AB_Pas_N_Tablet/AB_Pas_N_Tablet_1.json\", \"metaanalysis/AB_Pas_N_Tablet/AB_Pas_N_Tablet_2.json\")"
   ]
  },
  {
   "cell_type": "code",
   "execution_count": 31,
   "metadata": {},
   "outputs": [],
   "source": [
    "import os\n",
    "import csv\n",
    "\n",
    "# define the paths to the metaanalysis folder and the output CSV file\n",
    "metaanalysis_path = \"metaanalysis\"\n",
    "output_csv_path = \"scores.csv\"\n",
    "\n",
    "# define the function to calculate the score\n",
    "results = []\n",
    "\n",
    "# iterate through the subfolders\n",
    "for subdir in os.listdir(metaanalysis_path):\n",
    "    subdir_path = os.path.join(metaanalysis_path, subdir)\n",
    "    if os.path.isdir(subdir_path):\n",
    "        # create a list to store the scores for this subfolder\n",
    "        subfolder_scores = [subdir]\n",
    "\n",
    "        # iterate through the json files in the subfolder\n",
    "        json_files = [f for f in os.listdir(subdir_path) if f.endswith('.json')]\n",
    "        for i in range(len(json_files)):\n",
    "            for j in range(i + 1, len(json_files)):\n",
    "                # calculate the score for this pair of json files\n",
    "                score = getMetric(os.path.join(subdir_path, json_files[i]), os.path.join(subdir_path, json_files[j]))\n",
    "\n",
    "                # append the score to the subfolder_scores list\n",
    "                subfolder_scores.append(score)\n",
    "\n",
    "        # append the subfolder_scores list to the results list\n",
    "        results.append(subfolder_scores)\n",
    "\n",
    "# write the results to the output CSV file\n",
    "with open(output_csv_path, 'w', newline='') as csvfile:\n",
    "    writer = csv.writer(csvfile)\n",
    "    writer.writerow(['Medicine Name', 'value_1', 'value_2', ...])\n",
    "    for row in results:\n",
    "        writer.writerow(row)\n"
   ]
  },
  {
   "cell_type": "code",
   "execution_count": null,
   "metadata": {},
   "outputs": [],
   "source": []
  }
 ],
 "metadata": {
  "kernelspec": {
   "display_name": "BTEP",
   "language": "python",
   "name": "btep"
  },
  "language_info": {
   "codemirror_mode": {
    "name": "ipython",
    "version": 3
   },
   "file_extension": ".py",
   "mimetype": "text/x-python",
   "name": "python",
   "nbconvert_exporter": "python",
   "pygments_lexer": "ipython3",
   "version": "3.8.10"
  },
  "orig_nbformat": 4
 },
 "nbformat": 4,
 "nbformat_minor": 2
}
