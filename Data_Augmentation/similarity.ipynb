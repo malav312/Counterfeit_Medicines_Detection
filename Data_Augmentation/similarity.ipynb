{
 "cells": [
  {
   "cell_type": "code",
   "execution_count": 1,
   "metadata": {},
   "outputs": [],
   "source": [
    "from scipy.spatial import distance\n",
    "import numpy as np\n",
    "import json\n",
    "import os"
   ]
  },
  {
   "cell_type": "code",
   "execution_count": 2,
   "metadata": {},
   "outputs": [
    {
     "name": "stdout",
     "output_type": "stream",
     "text": [
      "<class 'list'>\n"
     ]
    }
   ],
   "source": [
    "# Comparision of Word List using Jakardian Distance\n",
    "Word_List1 = [\n",
    "    \"abpas\",\n",
    "    \"11600\",\n",
    "    \"til\",\n",
    "    \"deoret\",\n",
    "    \"fra\",\n",
    "    \"steril\",\n",
    "    \"mascot\",\n",
    "    \"health\",\n",
    "    \"7980\",\n",
    "    \"sec6a\",\n",
    "    \"haridwar249408\"\n",
    "]\n",
    "Word_List2 = [\n",
    "    \"abpas\",\n",
    "    \"acebriphytine\",\n",
    "    \"physics\",\n",
    "    \"cost\",\n",
    "    \"medicted\",\n",
    "    \"mascot\",\n",
    "    \"heath\",\n",
    "    \"pit\",\n",
    "    \"7930\",\n",
    "    \"sec\",\n",
    "    \"sidos\",\n",
    "    \"handwer202008\"\n",
    "]\n",
    "\n",
    "\n",
    "#Now defining function for Jakardian\n",
    "def jaccard_similarity(list1, list2):\n",
    "    intersection = len(set(list1).intersection(list2)) #no need to call list here\n",
    "    union = len(list1 + list2) - intersection #you only need to call len once here\n",
    "    return intersection / union #also no need to cast to float as this will be done for you\n",
    "\n",
    "for l in Word_List1:\n",
    "    dw = 1-jaccard_similarity(Word_List1, Word_List2)\n",
    "\n",
    "print(type(Word_List1))"
   ]
  },
  {
   "cell_type": "code",
   "execution_count": 3,
   "metadata": {},
   "outputs": [],
   "source": [
    "# Euclidian for Color Features\n",
    "Color_features_1 = [\n",
    "      1.0, 104.95581582254493, 14852.069426731756, 115.01568842061324,\n",
    "      11819.116135144417, 17682.52118828653, 1.0, 104.49967849074271,\n",
    "      14984.196600153087, 114.55221467505503, 12040.3316090506,\n",
    "      17682.18901200747, 1.0, 110.89922743624615, 16508.479240350047,\n",
    "      112.98310977636609, 12570.415694732521, 17099.629109842088\n",
    "    ]\n",
    "\n",
    "Color_features_2 = [\n",
    "    1.0, 105.26660977976573, 14931.455539457813, 114.80675383144987,\n",
    "    11842.748717796992, 17617.571798036588, 1.0, 104.89816906490674,\n",
    "    15083.390288088669, 114.37058539651208, 12070.046970702906,\n",
    "    17620.76524922263, 1.0, 110.96017862803991, 16517.375977950618,\n",
    "    112.88119739485975, 12556.292502087934, 17065.308719354205\n",
    "]\n",
    "\n",
    "dc = distance.euclidean(Color_features_1,Color_features_2)"
   ]
  },
  {
   "cell_type": "code",
   "execution_count": 4,
   "metadata": {},
   "outputs": [
    {
     "name": "stdout",
     "output_type": "stream",
     "text": [
      "[905.5720491672007, 12.079776585522104, 0.5089865683730121, 0.15412137955575256, 0.8763977441993738]\n",
      "[1463.436198750801, 26.22355461242793, 0.05060970931765277, 0.014737496800784485, 0.7814055253734457]\n"
     ]
    },
    {
     "data": {
      "text/plain": [
       "558.0436312764812"
      ]
     },
     "execution_count": 4,
     "metadata": {},
     "output_type": "execute_result"
    }
   ],
   "source": [
    "#Distance between  texture features\n",
    "texture_dict1 = {\n",
    "    \"Contrast\": 905.5720491672007,\n",
    "    \"Dissimilarity\": 12.079776585522104,\n",
    "    \"Homogeneity\": 0.5089865683730121,\n",
    "    \"Energy\": 0.15412137955575256,\n",
    "    \"Coorelation\": 0.8763977441993738\n",
    "  }\n",
    "texture_dict2 = {\n",
    "    \"Contrast\": 1463.436198750801,\n",
    "    \"Dissimilarity\": 26.22355461242793,\n",
    "    \"Homogeneity\": 0.05060970931765277,\n",
    "    \"Energy\": 0.014737496800784485,\n",
    "    \"Coorelation\": 0.7814055253734457\n",
    "  }\n",
    "list_1 = list(texture_dict1.values())\n",
    "list_2 = list(texture_dict2.values())\n",
    "\n",
    "print(list_1)\n",
    "print(list_2)\n",
    "\n",
    "distance.euclidean(list_1,list_2)\n",
    "\n"
   ]
  },
  {
   "cell_type": "code",
   "execution_count": 5,
   "metadata": {},
   "outputs": [
    {
     "name": "stdout",
     "output_type": "stream",
     "text": [
      "{'Contrast': 905.5720491672007, 'Dissimilarity': 12.079776585522104, 'Homogeneity': 0.5089865683730121, 'Energy': 0.15412137955575256, 'Coorelation': 0.8763977441993738}\n"
     ]
    }
   ],
   "source": [
    "#Loading Json File\n",
    "\n",
    "json_file_1 = \"metaanalysis/AB_Pas_N_Tablet/AB_Pas_N_Tablet_1.json\"\n",
    "json_file_2 = \"metaanalysis/AB_Pas_N_Tablet/AB_Pas_N_Tablet_2.json\"\n",
    "with open(json_file_1, 'r') as f1:\n",
    "    json_data1 = json.load(f1)\n",
    "\n",
    "text_dict1 = {\n",
    "    \"Word List\": json_data1['Text'][\"Word List\"]\n",
    "}\n",
    "colour_features_dict1 = {\n",
    "    \"Colour Features\": json_data1[\"Color Moments\"][\"Colour Features\"]\n",
    "}\n",
    "texture_dict1 =  json_data1[\"Texture\"]\n",
    "shape_dict1 =  json_data1[\"Shape\"]\n",
    "pattern_dict1 = json_data1[\"Pattern\"]\n",
    "\n",
    "with open(json_file_2, 'r') as f2:\n",
    "    json_data2 = json.load(f2)\n",
    "text_dict2 = {\n",
    "    \"Word List\": json_data2['Text'][\"Word List\"]\n",
    "}\n",
    "colour_features_dict2 = {\n",
    "    \"Colour Features\": json_data2[\"Color Moments\"][\"Colour Features\"]\n",
    "}\n",
    "texture_dict2 =  json_data2[\"Texture\"]\n",
    "shape_dict2 =  json_data2[\"Shape\"]\n",
    "pattern_dict2 = json_data2[\"Pattern\"]\n",
    "\n",
    "print(texture_dict1)\n"
   ]
  },
  {
   "cell_type": "code",
   "execution_count": 6,
   "metadata": {},
   "outputs": [
    {
     "name": "stdout",
     "output_type": "stream",
     "text": [
      "['abpas', '11600', 'til', 'deoret', 'fra', 'steril', 'mascot', 'health', '7980', 'sec6a', 'haridwar249408']\n",
      "0.9047619047619048\n"
     ]
    }
   ],
   "source": [
    "word_list1 = text_dict1['Word List']\n",
    "word_list2 = text_dict2['Word List']\n",
    "print(word_list1)\n",
    "for l in Word_List1:\n",
    "    dw = 1-jaccard_similarity(word_list1, word_list2)\n",
    "print(dw)\n"
   ]
  },
  {
   "cell_type": "code",
   "execution_count": 13,
   "metadata": {},
   "outputs": [],
   "source": [
    "#cosine features\n",
    "color_list1 = colour_features_dict1['Colour Features']\n",
    "color_list2 = colour_features_dict2['Colour Features']\n",
    "\n",
    "\n",
    "dc=distance.euclidean(color_list1,color_list2)"
   ]
  },
  {
   "cell_type": "code",
   "execution_count": 14,
   "metadata": {},
   "outputs": [],
   "source": [
    "#texture features\n",
    "texture_list1 = list(texture_dict1.values())\n",
    "texture_list2 = list(texture_dict2.values())\n",
    "dtx =distance.euclidean(texture_list1,texture_list2)"
   ]
  },
  {
   "cell_type": "code",
   "execution_count": 15,
   "metadata": {},
   "outputs": [],
   "source": [
    "shape_list1 = list(shape_dict1.values())\n",
    "shape_list2 = list(shape_dict2.values())\n",
    "ds = distance.euclidean(shape_list1,shape_list2)"
   ]
  },
  {
   "cell_type": "code",
   "execution_count": 16,
   "metadata": {},
   "outputs": [],
   "source": [
    "pattern_list1 = list(pattern_dict1.values())\n",
    "pattern_list2 = list(pattern_dict2.values())\n",
    "dp = distance.euclidean(pattern_list1,pattern_list2)"
   ]
  },
  {
   "cell_type": "code",
   "execution_count": 17,
   "metadata": {},
   "outputs": [
    {
     "name": "stdout",
     "output_type": "stream",
     "text": [
      "581.7612416559077\n"
     ]
    }
   ],
   "source": [
    "#Metric\n",
    "import math\n",
    "d = math.sqrt((dw**2)+(dc**2)+(dtx**2)+(ds**2)+(dp**2))\n",
    "print(d)"
   ]
  },
  {
   "cell_type": "code",
   "execution_count": null,
   "metadata": {},
   "outputs": [],
   "source": []
  }
 ],
 "metadata": {
  "kernelspec": {
   "display_name": "BTEP",
   "language": "python",
   "name": "btep"
  },
  "language_info": {
   "codemirror_mode": {
    "name": "ipython",
    "version": 3
   },
   "file_extension": ".py",
   "mimetype": "text/x-python",
   "name": "python",
   "nbconvert_exporter": "python",
   "pygments_lexer": "ipython3",
   "version": "3.8.10"
  },
  "orig_nbformat": 4
 },
 "nbformat": 4,
 "nbformat_minor": 2
}
