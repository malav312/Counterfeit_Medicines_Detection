{
 "cells": [
  {
   "cell_type": "code",
   "execution_count": null,
   "metadata": {},
   "outputs": [],
   "source": [
    "from google.cloud import vision_v1\n",
    "\n",
    "\n",
    "def sample_async_batch_annotate_images(\n",
    "    input_image_uri=\"cloud-ai-platform-8e694e1c-83fc-4249-a48d-930525fa77dc/images\",\n",
    "    output_uri=\"gs://your-bucket/prefix/\",\n",
    "):\n",
    "    \"\"\"Perform async batch image annotation.\"\"\"\n",
    "    client = vision_v1.ImageAnnotatorClient()\n",
    "\n",
    "    source = {\"image_uri\": input_image_uri}\n",
    "    image = {\"source\": source}\n",
    "    features = [\n",
    "        {\"type_\": vision_v1.Feature.Type.LABEL_DETECTION},\n",
    "        {\"type_\": vision_v1.Feature.Type.IMAGE_PROPERTIES},\n",
    "    ]\n",
    "\n",
    "    # Each requests element corresponds to a single image.  To annotate more\n",
    "    # images, create a request element for each image and add it to\n",
    "    # the array of requests\n",
    "    requests = [{\"image\": image, \"features\": features}]\n",
    "    gcs_destination = {\"uri\": output_uri}\n",
    "\n",
    "    # The max number of responses to output in each JSON file\n",
    "    batch_size = 2\n",
    "    output_config = {\"gcs_destination\": gcs_destination,\n",
    "                     \"batch_size\": batch_size}\n",
    "\n",
    "    operation = client.async_batch_annotate_images(requests=requests, output_config=output_config)\n",
    "\n",
    "    print(\"Waiting for operation to complete...\")\n",
    "    response = operation.result(90)\n",
    "\n",
    "    # The output is written to GCS with the provided output_uri as prefix\n",
    "    gcs_output_uri = response.output_config.gcs_destination.uri\n",
    "    print(\"Output written to GCS with prefix: {}\".format(gcs_output_uri))"
   ]
  }
 ],
 "metadata": {
  "language_info": {
   "name": "python"
  },
  "orig_nbformat": 4
 },
 "nbformat": 4,
 "nbformat_minor": 2
}
