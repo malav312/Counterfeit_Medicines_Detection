{
 "cells": [
  {
   "cell_type": "code",
   "execution_count": 3,
   "metadata": {},
   "outputs": [
    {
     "ename": "ValueError",
     "evalue": "Plaintext is too long.",
     "output_type": "error",
     "traceback": [
      "\u001b[0;31m---------------------------------------------------------------------------\u001b[0m",
      "\u001b[0;31mValueError\u001b[0m                                Traceback (most recent call last)",
      "Cell \u001b[0;32mIn[3], line 30\u001b[0m\n\u001b[1;32m     28\u001b[0m json_files \u001b[39m=\u001b[39m [\u001b[39m'\u001b[39m\u001b[39mmetaanalysis/A-Phyl_100_Capsule/A-Phyl_100_Capsule_3.json\u001b[39m\u001b[39m'\u001b[39m, \u001b[39m'\u001b[39m\u001b[39mmetaanalysis/A-Phyl_100_Capsule/A-Phyl_100_Capsule_1.json\u001b[39m\u001b[39m'\u001b[39m, \u001b[39m'\u001b[39m\u001b[39mmetaanalysis/A-Phyl_100_Capsule/A-Phyl_100_Capsule_2.json\u001b[39m\u001b[39m'\u001b[39m]\n\u001b[1;32m     29\u001b[0m \u001b[39mfor\u001b[39;00m file \u001b[39min\u001b[39;00m json_files:\n\u001b[0;32m---> 30\u001b[0m     encrypt_file(file)\n",
      "Cell \u001b[0;32mIn[3], line 15\u001b[0m, in \u001b[0;36mencrypt_file\u001b[0;34m(filename)\u001b[0m\n\u001b[1;32m     13\u001b[0m \u001b[39m# Encrypt the JSON data using the public key\u001b[39;00m\n\u001b[1;32m     14\u001b[0m cipher \u001b[39m=\u001b[39m PKCS1_OAEP\u001b[39m.\u001b[39mnew(key\u001b[39m.\u001b[39mpublickey())\n\u001b[0;32m---> 15\u001b[0m encrypted_data \u001b[39m=\u001b[39m cipher\u001b[39m.\u001b[39;49mencrypt(json_data\u001b[39m.\u001b[39;49mencode())\n\u001b[1;32m     17\u001b[0m \u001b[39m# Save the encrypted data to file\u001b[39;00m\n\u001b[1;32m     18\u001b[0m encrypted_filename \u001b[39m=\u001b[39m \u001b[39mf\u001b[39m\u001b[39m\"\u001b[39m\u001b[39m{\u001b[39;00mfilename\u001b[39m}\u001b[39;00m\u001b[39m.encrypted\u001b[39m\u001b[39m\"\u001b[39m\n",
      "File \u001b[0;32m~/Desktop/BTEP/Counterfeit_Medicines_Detection/venv/lib/python3.8/site-packages/Crypto/Cipher/PKCS1_OAEP.py:115\u001b[0m, in \u001b[0;36mPKCS1OAEP_Cipher.encrypt\u001b[0;34m(self, message)\u001b[0m\n\u001b[1;32m    113\u001b[0m ps_len \u001b[39m=\u001b[39m k \u001b[39m-\u001b[39m mLen \u001b[39m-\u001b[39m \u001b[39m2\u001b[39m \u001b[39m*\u001b[39m hLen \u001b[39m-\u001b[39m \u001b[39m2\u001b[39m\n\u001b[1;32m    114\u001b[0m \u001b[39mif\u001b[39;00m ps_len \u001b[39m<\u001b[39m \u001b[39m0\u001b[39m:\n\u001b[0;32m--> 115\u001b[0m     \u001b[39mraise\u001b[39;00m \u001b[39mValueError\u001b[39;00m(\u001b[39m\"\u001b[39m\u001b[39mPlaintext is too long.\u001b[39m\u001b[39m\"\u001b[39m)\n\u001b[1;32m    116\u001b[0m \u001b[39m# Step 2a\u001b[39;00m\n\u001b[1;32m    117\u001b[0m lHash \u001b[39m=\u001b[39m \u001b[39mself\u001b[39m\u001b[39m.\u001b[39m_hashObj\u001b[39m.\u001b[39mnew(\u001b[39mself\u001b[39m\u001b[39m.\u001b[39m_label)\u001b[39m.\u001b[39mdigest()\n",
      "\u001b[0;31mValueError\u001b[0m: Plaintext is too long."
     ]
    }
   ],
   "source": [
    "import json\n",
    "from Crypto.PublicKey import RSA\n",
    "from Crypto.Cipher import PKCS1_OAEP\n",
    "\n",
    "def encrypt_file(filename):\n",
    "    # Load the JSON data from file\n",
    "    with open(filename, 'r') as file:\n",
    "        json_data = file.read()\n",
    "\n",
    "    # Generate a new RSA key pair\n",
    "    key = RSA.generate(2048)\n",
    "\n",
    "    # Encrypt the JSON data using the public key\n",
    "    cipher = PKCS1_OAEP.new(key.publickey())\n",
    "    encrypted_data = cipher.encrypt(json_data.encode())\n",
    "\n",
    "    # Save the encrypted data to file\n",
    "    encrypted_filename = f\"{filename}.encrypted\"\n",
    "    with open(encrypted_filename, 'wb') as file:\n",
    "        file.write(encrypted_data)\n",
    "\n",
    "    # Save the private key to file (keep this secure!)\n",
    "    private_key_filename = f\"{filename}.private_key.pem\"\n",
    "    with open(private_key_filename, 'wb') as file:\n",
    "        file.write(key.export_key('PEM'))\n",
    "\n",
    "# Encrypt multiple JSON files\n",
    "json_files = ['metaanalysis/A-Phyl_100_Capsule/A-Phyl_100_Capsule_3.json', 'metaanalysis/A-Phyl_100_Capsule/A-Phyl_100_Capsule_1.json', 'metaanalysis/A-Phyl_100_Capsule/A-Phyl_100_Capsule_2.json']\n",
    "for file in json_files:\n",
    "    encrypt_file(file)\n"
   ]
  },
  {
   "cell_type": "code",
   "execution_count": null,
   "metadata": {},
   "outputs": [],
   "source": []
  }
 ],
 "metadata": {
  "kernelspec": {
   "display_name": "BTEP",
   "language": "python",
   "name": "btep"
  },
  "language_info": {
   "codemirror_mode": {
    "name": "ipython",
    "version": 3
   },
   "file_extension": ".py",
   "mimetype": "text/x-python",
   "name": "python",
   "nbconvert_exporter": "python",
   "pygments_lexer": "ipython3",
   "version": "3.8.10"
  },
  "orig_nbformat": 4
 },
 "nbformat": 4,
 "nbformat_minor": 2
}
