{
 "cells": [
  {
   "cell_type": "code",
   "execution_count": 1,
   "metadata": {},
   "outputs": [],
   "source": [
    "import csv\n",
    "from scipy.stats import shapiro\n",
    "\n",
    "# open the scores.csv file for reading\n",
    "with open('scores.csv', 'r') as f:\n",
    "    reader = csv.reader(f)\n",
    "    next(reader)  # skip the header row\n",
    "    \n",
    "    # open a new csv file for writing\n",
    "    with open('results.csv', 'w', newline='') as f_out:\n",
    "        writer = csv.writer(f_out)\n",
    "        writer.writerow(['Medical Name', 'Is Normally Distributed'])\n",
    "        \n",
    "        # iterate over each row in the file\n",
    "        for row in reader:\n",
    "            # extract the data from the row\n",
    "            name = row[0]\n",
    "            data = [float(x) for x in row[1:]]\n",
    "            \n",
    "            # perform Shapiro-Wilk test\n",
    "            stat, p = shapiro(data)\n",
    "            \n",
    "            # determine if the data is normally distributed\n",
    "            alpha = 0.05\n",
    "            if p > alpha:\n",
    "                is_normal = True\n",
    "            else:\n",
    "                is_normal = False\n",
    "            \n",
    "            # write the results to the output file\n",
    "            writer.writerow([name, is_normal])\n"
   ]
  },
  {
   "cell_type": "code",
   "execution_count": null,
   "metadata": {},
   "outputs": [],
   "source": []
  }
 ],
 "metadata": {
  "kernelspec": {
   "display_name": "BTEP",
   "language": "python",
   "name": "btep"
  },
  "language_info": {
   "codemirror_mode": {
    "name": "ipython",
    "version": 3
   },
   "file_extension": ".py",
   "mimetype": "text/x-python",
   "name": "python",
   "nbconvert_exporter": "python",
   "pygments_lexer": "ipython3",
   "version": "3.8.10"
  },
  "orig_nbformat": 4
 },
 "nbformat": 4,
 "nbformat_minor": 2
}
