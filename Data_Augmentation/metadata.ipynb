{
 "cells": [
  {
   "cell_type": "code",
   "execution_count": 112,
   "metadata": {},
   "outputs": [],
   "source": [
    "import spacy\n",
    "import sqlite3\n",
    "import pandas as pd\n",
    "from spacy.lang.en.stop_words import STOP_WORDS\n",
    "from sklearn.metrics.pairwise import cosine_similarity\n",
    "import numpy as np\n",
    "from tqdm import tqdm\n",
    "from joblib import Parallel, delayed\n",
    "import os\n",
    "from google.cloud import vision\n",
    "import io\n",
    "import string\n",
    "from nltk.corpus import stopwords\n",
    "from difflib import SequenceMatcher\n",
    "from textblob import TextBlob\n",
    "from fuzzywuzzy import process, fuzz\n",
    "import re\n",
    "from skimage.feature import graycomatrix, graycoprops\n",
    "import pytesseract\n",
    "import cv2"
   ]
  },
  {
   "cell_type": "code",
   "execution_count": 96,
   "metadata": {},
   "outputs": [],
   "source": [
    "#Load Stop Words\n",
    "stop = stopwords.words('english')\n",
    "with open('selected_words.txt', 'r') as f:\n",
    "    stop_words = [word.strip().replace('\"', '') for line in f.readlines() for word in line.split(',')]\n",
    "stop.extend(stop_words)"
   ]
  },
  {
   "cell_type": "code",
   "execution_count": 353,
   "metadata": {},
   "outputs": [],
   "source": [
    "#Detect and Process Text here\n",
    "def lower_case(df):\n",
    "    df['text'] = df['text'].apply(str.lower)\n",
    "    return df\n",
    "\n",
    "def remove_punctuations(df):\n",
    "    cleaned_text = []\n",
    "    for index in tqdm(range(df.shape[0])):\n",
    "        text = df['text'].iloc[index]\n",
    "\n",
    "        word_tokens = text.split()\n",
    "        \n",
    "        table = str.maketrans('', '', string.punctuation)\n",
    "        stripped = [w.translate(table) for w in word_tokens]\n",
    "\n",
    "        filtered_sentence = \" \".join(stripped).strip()\n",
    "        cleaned_text.append(filtered_sentence)\n",
    "    df['text'] = np.array(cleaned_text)\n",
    "    return df\n",
    "\n",
    "def remove_null(df):\n",
    "    if df['text'].isnull().sum() > 0:\n",
    "        df.dropna(inplace = True)\n",
    "    return df\n",
    "\n",
    "def detect_text(path):\n",
    "    \"\"\"Detects text in the file.\"\"\"\n",
    "    \n",
    "    client = vision.ImageAnnotatorClient()\n",
    "\n",
    "    with io.open(path, 'rb') as image_file:\n",
    "        content = image_file.read()\n",
    "\n",
    "    image = vision.Image(content=content)\n",
    "\n",
    "    response = client.text_detection(image=image)\n",
    "    texts = response.text_annotations\n",
    " \n",
    "    text_list = []\n",
    "\n",
    "    for text in texts:\n",
    "        text_list.append('\\n\"{}\"'.format(text.description))\n",
    "\n",
    "    if response.error.message:\n",
    "        raise Exception(\n",
    "            '{}\\nFor more info on error messages, check: '\n",
    "            'https://cloud.google.com/apis/design/errors'.format(\n",
    "                response.error.message))\n",
    "    if text_list is None:\n",
    "        print(\"No Text Detected\")\n",
    "    \n",
    "    return text_list\n",
    "\n",
    "\n",
    "def removeStop(temp_df,stopwords = stop):\n",
    "    temp_df['text'] = temp_df['text'].apply(lambda x: ' '.join([word for word in x.split() if word not in (stop)]))\n",
    "\n",
    "def cleanDataframeEnglish(df,column_name):\n",
    "  cleanedDf = pd.DataFrame(columns=['words'])\n",
    "  for index, row in df.iterrows():\n",
    "      word = row[column_name]\n",
    "      if word.isalnum() and not word.isspace() and word.isascii():\n",
    "        new_row = pd.DataFrame.from_records([{'words':word}])\n",
    "        # print(\"New Row\",new_row)\n",
    "        cleanedDf = pd.concat([cleanedDf,new_row],ignore_index=True)\n",
    "        # print(\"Iteration\",cleanedDf)\n",
    "\n",
    "  return cleanedDf\n",
    "\n",
    "def executeText(path):\n",
    "    image_text = detect_text(path)\n",
    "    if len(image_text) ==0:\n",
    "        returnDict = {'Word List': []}\n",
    "        return returnDict\n",
    "    temp_df = pd.DataFrame(columns=['text'])\n",
    "    temp_df['text'] = image_text[0].replace(\"\\n\",\" \").split()\n",
    "    temp_df = remove_punctuations(temp_df)\n",
    "    temp_df = lower_case(temp_df)\n",
    "    temp_df = remove_null(temp_df)\n",
    "    temp_df['text'] = temp_df['text'].apply(lambda x: ' '.join([word for word in x.split() if word not in (stop)]))\n",
    "    new_df = cleanDataframeEnglish(temp_df, 'text')   \n",
    "    word_list = new_df.values.flatten().tolist()\n",
    "    returnDict = {'Word List': word_list}\n",
    "\n",
    "    return returnDict"
   ]
  },
  {
   "cell_type": "code",
   "execution_count": null,
   "metadata": {},
   "outputs": [],
   "source": []
  },
  {
   "cell_type": "code",
   "execution_count": 354,
   "metadata": {},
   "outputs": [
    {
     "data": {
      "text/plain": [
       "{'Word List': []}"
      ]
     },
     "execution_count": 354,
     "metadata": {},
     "output_type": "execute_result"
    }
   ],
   "source": [
    "word_list = executeText(\"../images-115-max-keys-400/images/Ace-MR_Tablet/Ace-MR_Tablet1_gaussian_noise.jpg\")\n",
    "word_list\n"
   ]
  },
  {
   "cell_type": "code",
   "execution_count": 265,
   "metadata": {},
   "outputs": [],
   "source": [
    "\n",
    "def color_moments(image_path):\n",
    "    img = cv2.imread(image_path)\n",
    "    channels = cv2.split(img)\n",
    "\n",
    "    colour_features = []\n",
    "    for channel in channels:\n",
    "        moments = cv2.moments(channel)\n",
    "        for i in range(3):\n",
    "            for j in range(3):\n",
    "                if i + j <= 2:\n",
    "                    colour_features.append(moments['m{}{}'.format(i, j)] / moments['m00'])\n",
    "\n",
    "    returnDict = {'Colour Features': colour_features}\n",
    "    return returnDict\n",
    "\n",
    "\n",
    "def texture_features(image_path):\n",
    "        # Convert image to grayscale\n",
    "\n",
    "        img = cv2.imread(image_path)\n",
    "        gray = cv2.cvtColor(img, cv2.COLOR_BGR2GRAY)\n",
    "\n",
    "        # Compute GLCM features\n",
    "        glcm = graycomatrix(gray, distances=[1], angles=[0], symmetric=True, normed=True)\n",
    "        contrast = graycoprops(glcm, 'contrast')\n",
    "        dissimilarity = graycoprops(glcm, 'dissimilarity')\n",
    "        homogeneity = graycoprops(glcm, 'homogeneity')\n",
    "        energy = graycoprops(glcm, 'energy')\n",
    "        correlation = graycoprops(glcm, 'correlation')\n",
    "\n",
    "        returnDict = {'Contrast': contrast.flatten()[0],\n",
    "                     'Dissimilarity': dissimilarity.flatten()[0], \n",
    "                     'Homogeneity': homogeneity.flatten()[0], \n",
    "                     'Energy':energy.flatten()[0], \n",
    "                     'Coorelation':correlation.flatten()[0]}\n",
    "        return returnDict\n",
    "\n",
    "def shape_features(image_path):\n",
    "    # Convert image to grayscale\n",
    "    img = cv2.imread(image_path)\n",
    "    gray = cv2.cvtColor(img, cv2.COLOR_BGR2GRAY)\n",
    "\n",
    "    # Threshold the image to create a binary image\n",
    "    _, binary = cv2.threshold(gray, 0, 255, cv2.THRESH_BINARY + cv2.THRESH_OTSU)\n",
    "\n",
    "    # Compute the contours of the binary image\n",
    "    contours, _ = cv2.findContours(binary, cv2.RETR_EXTERNAL, cv2.CHAIN_APPROX_SIMPLE)\n",
    "\n",
    "    # Compute the area, perimeter, and aspect ratio of each contour\n",
    "    areas = []\n",
    "    perimeters = []\n",
    "    aspect_ratios = []\n",
    "    centroid_xs = []\n",
    "    centroid_ys = []\n",
    "    for contour in contours:\n",
    "        area = cv2.contourArea(contour)\n",
    "        perimeter = cv2.arcLength(contour, True)\n",
    "        x, y, w, h = cv2.boundingRect(contour)\n",
    "        aspect_ratio = w / h\n",
    "        centroid_x = x + w/2\n",
    "        centroid_y = y + h/2\n",
    "        areas.append(area)\n",
    "        perimeters.append(perimeter)\n",
    "        aspect_ratios.append(aspect_ratio)\n",
    "        centroid_xs.append(centroid_x)\n",
    "        centroid_ys.append(centroid_y)\n",
    "\n",
    "    # Compute the mean and standard deviation of the computed features\n",
    "    mean_area = np.mean(areas)\n",
    "    std_area = np.std(areas)\n",
    "    mean_perimeter = np.mean(perimeters)\n",
    "    std_perimeter = np.std(perimeters)\n",
    "    mean_aspect_ratio = np.mean(aspect_ratios)\n",
    "    std_aspect_ratio = np.std(aspect_ratios)\n",
    "    mean_centroid_x = np.mean(centroid_xs)\n",
    "    std_centroid_x = np.std(centroid_xs)\n",
    "    mean_centroid_y = np.mean(centroid_ys)\n",
    "    std_centroid_y = np.std(centroid_ys)\n",
    "\n",
    "    returnDict = {\n",
    "    'Mean Area': mean_area,\n",
    "    'Std Area': std_area,\n",
    "    'Mean Perimeter': mean_perimeter,\n",
    "    'Std Perimeter': std_perimeter,\n",
    "    'Mean Aspect Ratio': mean_aspect_ratio,\n",
    "    'Std Aspect Ratio': std_aspect_ratio,\n",
    "    'Mean Centroid X': mean_centroid_x,\n",
    "    'Std Centroid X': std_centroid_x,\n",
    "    'Mean Centroid Y': mean_centroid_y,\n",
    "    'Std Centroid Y': std_centroid_y\n",
    "    }   \n",
    "    # Return the computed features\n",
    "    return returnDict\n",
    "\n",
    "def pattern_features(image_path):\n",
    "    img = cv2.imread(image_path)\n",
    "    # Convert image to grayscale\n",
    "    gray = cv2.cvtColor(img, cv2.COLOR_BGR2GRAY)\n",
    "    # Compute the normalized histogram of the image\n",
    "    hist = cv2.calcHist([gray], [0], None, [256], [0, 256])\n",
    "    hist_norm = hist / np.sum(hist)\n",
    "\n",
    "    # Compute the entropy of the histogram\n",
    "    eps = np.finfo(float).eps\n",
    "    entropy = -np.sum(hist_norm * np.log2(hist_norm + eps))\n",
    "    entropylist = entropy.tolist()\n",
    "    # entropylist = [float(x) if isinstance(x, np.float32) else x for x in entropylist]\n",
    "    returnDict = {'Entropy': entropylist}\n",
    "\n",
    "    # Return the computed feature\n",
    "    return returnDict\n",
    "\n",
    "\n",
    "\n"
   ]
  },
  {
   "cell_type": "code",
   "execution_count": 355,
   "metadata": {},
   "outputs": [
    {
     "name": "stdout",
     "output_type": "stream",
     "text": [
      "{'Contrast': 615.0416337025316, 'Dissimilarity': 9.433023470464136, 'Homogeneity': 0.5019732088818553, 'Energy': 0.13262236915429243, 'Coorelation': 0.839205042376685}\n"
     ]
    }
   ],
   "source": [
    "texture = texture_features(\"Accept-SP_Tablet2 (1).jpg\")\n",
    "print(texture)"
   ]
  },
  {
   "cell_type": "code",
   "execution_count": null,
   "metadata": {},
   "outputs": [],
   "source": []
  },
  {
   "cell_type": "code",
   "execution_count": 356,
   "metadata": {},
   "outputs": [],
   "source": [
    "def executeFeatures(image_path):\n",
    "    wordList = executeText(image_path)\n",
    "    colour_moments = color_moments(image_path)\n",
    "    texture = texture_features(image_path)\n",
    "    shape = shape_features(image_path)\n",
    "    pattern = pattern_features(image_path)\n",
    "\n",
    "    returnDict = {'Text' : wordList, 'Color Moments': colour_moments, 'Texture':texture,'Shape':shape, 'Pattern':pattern}\n",
    "\n",
    "    return returnDict    "
   ]
  },
  {
   "cell_type": "code",
   "execution_count": 341,
   "metadata": {},
   "outputs": [],
   "source": [
    "VALID_EXTENSIONS = ('.jpg')\n",
    "\n",
    "def is_valid_image(filename):\n",
    "    \"\"\"Returns True if the file is a valid image file.\"\"\"\n",
    "    return os.path.splitext(filename)[1].lower() in VALID_EXTENSIONS\n",
    "\n",
    "def process_directory(dir_path):\n",
    "    \"\"\"Process directory and its contents.\"\"\"\n",
    "    image_path=[]\n",
    "    for filename in os.listdir(dir_path):\n",
    "        file_path = os.path.join(dir_path, filename)\n",
    "        if os.path.isfile(file_path) and is_valid_image(filename):\n",
    "            # process image file here\n",
    "            image_path.append(file_path)\n",
    "        \n",
    "        elif os.path.isdir(file_path):\n",
    "            image_path.extend(process_directory(file_path))\n",
    "    return image_path\n",
    "\n",
    "# all_image_paths = []\n",
    "# # pass every directory path to process_directory function\n",
    "# for dirpath, dirnames, filenames in os.walk('../images-115-max-keys-400/images'):\n",
    "#     dir_name = os.path.basename(dirpath)\n",
    "#     image_path = process_directory(dirpath)\n",
    "#     all_image_paths.append(image_path)\n",
    "\n",
    "# for image_path in all_image_paths:\n",
    "#     for image_p in image_path:\n",
    "#         medicine_data = executeFeatures(image_p)"
   ]
  },
  {
   "cell_type": "code",
   "execution_count": 357,
   "metadata": {},
   "outputs": [],
   "source": [
    "import json\n",
    "def toJson(image_path, directory,counter):\n",
    "    dir_name = directory\n",
    "    output_dir=\"metaanalysis\"\n",
    "    output_path1 = os.path.join(output_dir, dir_name)\n",
    "    if not os.path.exists(output_path1):\n",
    "        os.mkdir(output_path1)\n",
    "    output_name = f\"{dir_name}_{counter}.json\"\n",
    "    output_path = os.path.join(output_path1, output_name)\n",
    "    print(\"Outpath:\",output_path)\n",
    "    if os.path.exists(output_path):\n",
    "        output_name = f\"{dir_name}_{counter}.json\"\n",
    "        output_path = os.path.join(output_path1, output_name)\n",
    "        return 1\n",
    "    with open(output_path, 'w') as f:\n",
    "        json.dump(executeFeatures(image_path), f)"
   ]
  },
  {
   "cell_type": "code",
   "execution_count": 358,
   "metadata": {},
   "outputs": [
    {
     "name": "stdout",
     "output_type": "stream",
     "text": [
      "Dir: ../images-115-max-keys-400/images\n",
      "Dir: ../images-115-max-keys-400/images/AF_200_Tablet\n",
      "Image_path: ../images-115-max-keys-400/images/AF_200_Tablet/AF_200_Tablet0_gaussian_noise.jpg\n",
      "Dir name: AF_200_Tablet\n",
      "Outpath: metaanalysis/AF_200_Tablet/AF_200_Tablet_1.json\n",
      "Image_path: ../images-115-max-keys-400/images/AF_200_Tablet/AF_200_Tablet2.jpg\n",
      "Dir name: AF_200_Tablet\n",
      "Outpath: metaanalysis/AF_200_Tablet/AF_200_Tablet_2.json\n",
      "Image_path: ../images-115-max-keys-400/images/AF_200_Tablet/AF_200_Tablet0_rotated.jpg\n",
      "Dir name: AF_200_Tablet\n",
      "Outpath: metaanalysis/AF_200_Tablet/AF_200_Tablet_3.json\n",
      "Image_path: ../images-115-max-keys-400/images/AF_200_Tablet/AF_200_Tablet1_blur.jpg\n",
      "Dir name: AF_200_Tablet\n",
      "Outpath: metaanalysis/AF_200_Tablet/AF_200_Tablet_4.json\n",
      "Image_path: ../images-115-max-keys-400/images/AF_200_Tablet/AF_200_Tablet1_gaussian_noise.jpg\n",
      "Dir name: AF_200_Tablet\n",
      "Outpath: metaanalysis/AF_200_Tablet/AF_200_Tablet_5.json\n",
      "Image_path: ../images-115-max-keys-400/images/AF_200_Tablet/AF_200_Tablet2_blur.jpg\n",
      "Dir name: AF_200_Tablet\n",
      "Outpath: metaanalysis/AF_200_Tablet/AF_200_Tablet_6.json\n",
      "Image_path: ../images-115-max-keys-400/images/AF_200_Tablet/AF_200_Tablet1_rotated.jpg\n",
      "Dir name: AF_200_Tablet\n",
      "Outpath: metaanalysis/AF_200_Tablet/AF_200_Tablet_7.json\n",
      "Image_path: ../images-115-max-keys-400/images/AF_200_Tablet/AF_200_Tablet0.jpg\n",
      "Dir name: AF_200_Tablet\n",
      "Outpath: metaanalysis/AF_200_Tablet/AF_200_Tablet_8.json\n",
      "Image_path: ../images-115-max-keys-400/images/AF_200_Tablet/AF_200_Tablet0_blur.jpg\n",
      "Dir name: AF_200_Tablet\n",
      "Outpath: metaanalysis/AF_200_Tablet/AF_200_Tablet_9.json\n",
      "Image_path: ../images-115-max-keys-400/images/AF_200_Tablet/AF_200_Tablet1.jpg\n",
      "Dir name: AF_200_Tablet\n",
      "Outpath: metaanalysis/AF_200_Tablet/AF_200_Tablet_10.json\n",
      "Image_path: ../images-115-max-keys-400/images/AF_200_Tablet/AF_200_Tablet2_gaussian_noise.jpg\n",
      "Dir name: AF_200_Tablet\n",
      "Outpath: metaanalysis/AF_200_Tablet/AF_200_Tablet_11.json\n",
      "Image_path: ../images-115-max-keys-400/images/AF_200_Tablet/AF_200_Tablet2_rotated.jpg\n",
      "Dir name: AF_200_Tablet\n",
      "Outpath: metaanalysis/AF_200_Tablet/AF_200_Tablet_12.json\n",
      "Dir: ../images-115-max-keys-400/images/AB-Flo_Capsule\n",
      "Image_path: ../images-115-max-keys-400/images/AB-Flo_Capsule/AB-Flo_Capsule0.jpg\n",
      "Dir name: AB-Flo_Capsule\n",
      "Outpath: metaanalysis/AB-Flo_Capsule/AB-Flo_Capsule_1.json\n",
      "Image_path: ../images-115-max-keys-400/images/AB-Flo_Capsule/AB-Flo_Capsule0_rotated.jpg\n",
      "Dir name: AB-Flo_Capsule\n",
      "Outpath: metaanalysis/AB-Flo_Capsule/AB-Flo_Capsule_2.json\n",
      "Image_path: ../images-115-max-keys-400/images/AB-Flo_Capsule/AB-Flo_Capsule0_gaussian_noise.jpg\n",
      "Dir name: AB-Flo_Capsule\n",
      "Outpath: metaanalysis/AB-Flo_Capsule/AB-Flo_Capsule_3.json\n",
      "Image_path: ../images-115-max-keys-400/images/AB-Flo_Capsule/AB-Flo_Capsule1_rotated.jpg\n",
      "Dir name: AB-Flo_Capsule\n",
      "Outpath: metaanalysis/AB-Flo_Capsule/AB-Flo_Capsule_4.json\n",
      "Image_path: ../images-115-max-keys-400/images/AB-Flo_Capsule/AB-Flo_Capsule2.jpg\n",
      "Dir name: AB-Flo_Capsule\n",
      "Outpath: metaanalysis/AB-Flo_Capsule/AB-Flo_Capsule_5.json\n",
      "Image_path: ../images-115-max-keys-400/images/AB-Flo_Capsule/AB-Flo_Capsule2_rotated.jpg\n",
      "Dir name: AB-Flo_Capsule\n",
      "Outpath: metaanalysis/AB-Flo_Capsule/AB-Flo_Capsule_6.json\n",
      "Image_path: ../images-115-max-keys-400/images/AB-Flo_Capsule/AB-Flo_Capsule2_gaussian_noise.jpg\n",
      "Dir name: AB-Flo_Capsule\n",
      "Outpath: metaanalysis/AB-Flo_Capsule/AB-Flo_Capsule_7.json\n",
      "Image_path: ../images-115-max-keys-400/images/AB-Flo_Capsule/AB-Flo_Capsule1_gaussian_noise.jpg\n",
      "Dir name: AB-Flo_Capsule\n",
      "Outpath: metaanalysis/AB-Flo_Capsule/AB-Flo_Capsule_8.json\n",
      "Image_path: ../images-115-max-keys-400/images/AB-Flo_Capsule/AB-Flo_Capsule0_blur.jpg\n",
      "Dir name: AB-Flo_Capsule\n",
      "Outpath: metaanalysis/AB-Flo_Capsule/AB-Flo_Capsule_9.json\n",
      "Image_path: ../images-115-max-keys-400/images/AB-Flo_Capsule/AB-Flo_Capsule1.jpg\n",
      "Dir name: AB-Flo_Capsule\n",
      "Outpath: metaanalysis/AB-Flo_Capsule/AB-Flo_Capsule_10.json\n",
      "Image_path: ../images-115-max-keys-400/images/AB-Flo_Capsule/AB-Flo_Capsule2_blur.jpg\n",
      "Dir name: AB-Flo_Capsule\n",
      "Outpath: metaanalysis/AB-Flo_Capsule/AB-Flo_Capsule_11.json\n",
      "Image_path: ../images-115-max-keys-400/images/AB-Flo_Capsule/AB-Flo_Capsule1_blur.jpg\n",
      "Dir name: AB-Flo_Capsule\n",
      "Outpath: metaanalysis/AB-Flo_Capsule/AB-Flo_Capsule_12.json\n",
      "Dir: ../images-115-max-keys-400/images/Acartex_50_Tablet\n",
      "Image_path: ../images-115-max-keys-400/images/Acartex_50_Tablet/Acartex_50_Tablet0_blur.jpg\n",
      "Dir name: Acartex_50_Tablet\n",
      "Outpath: metaanalysis/Acartex_50_Tablet/Acartex_50_Tablet_1.json\n",
      "Image_path: ../images-115-max-keys-400/images/Acartex_50_Tablet/Acartex_50_Tablet0.jpg\n",
      "Dir name: Acartex_50_Tablet\n",
      "Outpath: metaanalysis/Acartex_50_Tablet/Acartex_50_Tablet_2.json\n",
      "Image_path: ../images-115-max-keys-400/images/Acartex_50_Tablet/Acartex_50_Tablet0_rotated.jpg\n",
      "Dir name: Acartex_50_Tablet\n",
      "Outpath: metaanalysis/Acartex_50_Tablet/Acartex_50_Tablet_3.json\n",
      "Image_path: ../images-115-max-keys-400/images/Acartex_50_Tablet/Acartex_50_Tablet0_gaussian_noise.jpg\n",
      "Dir name: Acartex_50_Tablet\n",
      "Outpath: metaanalysis/Acartex_50_Tablet/Acartex_50_Tablet_4.json\n",
      "Dir: ../images-115-max-keys-400/images/Abolish_M_Tablet\n",
      "Image_path: ../images-115-max-keys-400/images/Abolish_M_Tablet/Abolish_M_Tablet1.jpg\n",
      "Dir name: Abolish_M_Tablet\n",
      "Outpath: metaanalysis/Abolish_M_Tablet/Abolish_M_Tablet_1.json\n",
      "Image_path: ../images-115-max-keys-400/images/Abolish_M_Tablet/Abolish_M_Tablet0.jpg\n",
      "Dir name: Abolish_M_Tablet\n",
      "Outpath: metaanalysis/Abolish_M_Tablet/Abolish_M_Tablet_2.json\n",
      "Image_path: ../images-115-max-keys-400/images/Abolish_M_Tablet/Abolish_M_Tablet2_rotated.jpg\n",
      "Dir name: Abolish_M_Tablet\n",
      "Outpath: metaanalysis/Abolish_M_Tablet/Abolish_M_Tablet_3.json\n",
      "Image_path: ../images-115-max-keys-400/images/Abolish_M_Tablet/Abolish_M_Tablet0_blur.jpg\n",
      "Dir name: Abolish_M_Tablet\n",
      "Outpath: metaanalysis/Abolish_M_Tablet/Abolish_M_Tablet_4.json\n",
      "Image_path: ../images-115-max-keys-400/images/Abolish_M_Tablet/Abolish_M_Tablet0_gaussian_noise.jpg\n",
      "Dir name: Abolish_M_Tablet\n",
      "Outpath: metaanalysis/Abolish_M_Tablet/Abolish_M_Tablet_5.json\n",
      "Image_path: ../images-115-max-keys-400/images/Abolish_M_Tablet/Abolish_M_Tablet2.jpg\n",
      "Dir name: Abolish_M_Tablet\n",
      "Outpath: metaanalysis/Abolish_M_Tablet/Abolish_M_Tablet_6.json\n",
      "Image_path: ../images-115-max-keys-400/images/Abolish_M_Tablet/Abolish_M_Tablet1_blur.jpg\n",
      "Dir name: Abolish_M_Tablet\n",
      "Outpath: metaanalysis/Abolish_M_Tablet/Abolish_M_Tablet_7.json\n",
      "Image_path: ../images-115-max-keys-400/images/Abolish_M_Tablet/Abolish_M_Tablet1_gaussian_noise.jpg\n",
      "Dir name: Abolish_M_Tablet\n",
      "Outpath: metaanalysis/Abolish_M_Tablet/Abolish_M_Tablet_8.json\n",
      "Image_path: ../images-115-max-keys-400/images/Abolish_M_Tablet/Abolish_M_Tablet1_rotated.jpg\n",
      "Dir name: Abolish_M_Tablet\n",
      "Outpath: metaanalysis/Abolish_M_Tablet/Abolish_M_Tablet_9.json\n",
      "Image_path: ../images-115-max-keys-400/images/Abolish_M_Tablet/Abolish_M_Tablet2_blur.jpg\n",
      "Dir name: Abolish_M_Tablet\n",
      "Outpath: metaanalysis/Abolish_M_Tablet/Abolish_M_Tablet_10.json\n",
      "Image_path: ../images-115-max-keys-400/images/Abolish_M_Tablet/Abolish_M_Tablet2_gaussian_noise.jpg\n",
      "Dir name: Abolish_M_Tablet\n",
      "Outpath: metaanalysis/Abolish_M_Tablet/Abolish_M_Tablet_11.json\n",
      "Image_path: ../images-115-max-keys-400/images/Abolish_M_Tablet/Abolish_M_Tablet0_rotated.jpg\n",
      "Dir name: Abolish_M_Tablet\n",
      "Outpath: metaanalysis/Abolish_M_Tablet/Abolish_M_Tablet_12.json\n",
      "Dir: ../images-115-max-keys-400/images/Acceclowoc-SP_Tablet\n",
      "Image_path: ../images-115-max-keys-400/images/Acceclowoc-SP_Tablet/Acceclowoc-SP_Tablet0_blur.jpg\n",
      "Dir name: Acceclowoc-SP_Tablet\n",
      "Outpath: metaanalysis/Acceclowoc-SP_Tablet/Acceclowoc-SP_Tablet_1.json\n",
      "Image_path: ../images-115-max-keys-400/images/Acceclowoc-SP_Tablet/Acceclowoc-SP_Tablet1_blur.jpg\n",
      "Dir name: Acceclowoc-SP_Tablet\n",
      "Outpath: metaanalysis/Acceclowoc-SP_Tablet/Acceclowoc-SP_Tablet_2.json\n",
      "Image_path: ../images-115-max-keys-400/images/Acceclowoc-SP_Tablet/Acceclowoc-SP_Tablet1_gaussian_noise.jpg\n",
      "Dir name: Acceclowoc-SP_Tablet\n",
      "Outpath: metaanalysis/Acceclowoc-SP_Tablet/Acceclowoc-SP_Tablet_3.json\n",
      "Image_path: ../images-115-max-keys-400/images/Acceclowoc-SP_Tablet/Acceclowoc-SP_Tablet0_rotated.jpg\n",
      "Dir name: Acceclowoc-SP_Tablet\n",
      "Outpath: metaanalysis/Acceclowoc-SP_Tablet/Acceclowoc-SP_Tablet_4.json\n",
      "Image_path: ../images-115-max-keys-400/images/Acceclowoc-SP_Tablet/Acceclowoc-SP_Tablet1_rotated.jpg\n",
      "Dir name: Acceclowoc-SP_Tablet\n",
      "Outpath: metaanalysis/Acceclowoc-SP_Tablet/Acceclowoc-SP_Tablet_5.json\n",
      "Image_path: ../images-115-max-keys-400/images/Acceclowoc-SP_Tablet/Acceclowoc-SP_Tablet0.jpg\n",
      "Dir name: Acceclowoc-SP_Tablet\n",
      "Outpath: metaanalysis/Acceclowoc-SP_Tablet/Acceclowoc-SP_Tablet_6.json\n",
      "Image_path: ../images-115-max-keys-400/images/Acceclowoc-SP_Tablet/Acceclowoc-SP_Tablet1.jpg\n",
      "Dir name: Acceclowoc-SP_Tablet\n",
      "Outpath: metaanalysis/Acceclowoc-SP_Tablet/Acceclowoc-SP_Tablet_7.json\n",
      "Image_path: ../images-115-max-keys-400/images/Acceclowoc-SP_Tablet/Acceclowoc-SP_Tablet0_gaussian_noise.jpg\n",
      "Dir name: Acceclowoc-SP_Tablet\n",
      "Outpath: metaanalysis/Acceclowoc-SP_Tablet/Acceclowoc-SP_Tablet_8.json\n",
      "Dir: ../images-115-max-keys-400/images/Ace-MR_Tablet\n",
      "Image_path: ../images-115-max-keys-400/images/Ace-MR_Tablet/Ace-MR_Tablet0_rotated.jpg\n",
      "Dir name: Ace-MR_Tablet\n",
      "Outpath: metaanalysis/Ace-MR_Tablet/Ace-MR_Tablet_1.json\n",
      "Image_path: ../images-115-max-keys-400/images/Ace-MR_Tablet/Ace-MR_Tablet1_blur.jpg\n",
      "Dir name: Ace-MR_Tablet\n",
      "Outpath: metaanalysis/Ace-MR_Tablet/Ace-MR_Tablet_2.json\n",
      "Image_path: ../images-115-max-keys-400/images/Ace-MR_Tablet/Ace-MR_Tablet0.jpg\n",
      "Dir name: Ace-MR_Tablet\n",
      "Outpath: metaanalysis/Ace-MR_Tablet/Ace-MR_Tablet_3.json\n",
      "Image_path: ../images-115-max-keys-400/images/Ace-MR_Tablet/Ace-MR_Tablet2_gaussian_noise.jpg\n",
      "Dir name: Ace-MR_Tablet\n",
      "Outpath: metaanalysis/Ace-MR_Tablet/Ace-MR_Tablet_4.json\n",
      "Image_path: ../images-115-max-keys-400/images/Ace-MR_Tablet/Ace-MR_Tablet0_blur.jpg\n",
      "Dir name: Ace-MR_Tablet\n",
      "Outpath: metaanalysis/Ace-MR_Tablet/Ace-MR_Tablet_5.json\n"
     ]
    },
    {
     "name": "stderr",
     "output_type": "stream",
     "text": [
      "100%|██████████| 6/6 [00:00<00:00, 17343.78it/s]\n"
     ]
    },
    {
     "name": "stdout",
     "output_type": "stream",
     "text": [
      "Image_path: ../images-115-max-keys-400/images/Ace-MR_Tablet/Ace-MR_Tablet2.jpg\n",
      "Dir name: Ace-MR_Tablet\n",
      "Outpath: metaanalysis/Ace-MR_Tablet/Ace-MR_Tablet_6.json\n"
     ]
    },
    {
     "name": "stderr",
     "output_type": "stream",
     "text": [
      "100%|██████████| 52/52 [00:00<00:00, 8330.30it/s]\n"
     ]
    },
    {
     "name": "stdout",
     "output_type": "stream",
     "text": [
      "Image_path: ../images-115-max-keys-400/images/Ace-MR_Tablet/Ace-MR_Tablet2_blur.jpg\n",
      "Dir name: Ace-MR_Tablet\n",
      "Outpath: metaanalysis/Ace-MR_Tablet/Ace-MR_Tablet_7.json\n"
     ]
    },
    {
     "name": "stderr",
     "output_type": "stream",
     "text": [
      "100%|██████████| 10/10 [00:00<00:00, 9267.13it/s]\n"
     ]
    },
    {
     "name": "stdout",
     "output_type": "stream",
     "text": [
      "Image_path: ../images-115-max-keys-400/images/Ace-MR_Tablet/Ace-MR_Tablet1.jpg\n",
      "Dir name: Ace-MR_Tablet\n",
      "Outpath: metaanalysis/Ace-MR_Tablet/Ace-MR_Tablet_8.json\n"
     ]
    },
    {
     "name": "stderr",
     "output_type": "stream",
     "text": [
      "100%|██████████| 107/107 [00:00<00:00, 33082.01it/s]\n"
     ]
    },
    {
     "name": "stdout",
     "output_type": "stream",
     "text": [
      "Image_path: ../images-115-max-keys-400/images/Ace-MR_Tablet/Ace-MR_Tablet0_gaussian_noise.jpg\n",
      "Dir name: Ace-MR_Tablet\n",
      "Outpath: metaanalysis/Ace-MR_Tablet/Ace-MR_Tablet_9.json\n"
     ]
    },
    {
     "name": "stderr",
     "output_type": "stream",
     "text": [
      "100%|██████████| 2/2 [00:00<00:00, 6278.90it/s]\n"
     ]
    },
    {
     "name": "stdout",
     "output_type": "stream",
     "text": [
      "Image_path: ../images-115-max-keys-400/images/Ace-MR_Tablet/Ace-MR_Tablet1_rotated.jpg\n",
      "Dir name: Ace-MR_Tablet\n",
      "Outpath: metaanalysis/Ace-MR_Tablet/Ace-MR_Tablet_10.json\n"
     ]
    },
    {
     "name": "stderr",
     "output_type": "stream",
     "text": [
      "100%|██████████| 107/107 [00:00<00:00, 12122.59it/s]\n"
     ]
    },
    {
     "name": "stdout",
     "output_type": "stream",
     "text": [
      "Image_path: ../images-115-max-keys-400/images/Ace-MR_Tablet/Ace-MR_Tablet2_rotated.jpg\n",
      "Dir name: Ace-MR_Tablet\n",
      "Outpath: metaanalysis/Ace-MR_Tablet/Ace-MR_Tablet_11.json\n"
     ]
    },
    {
     "name": "stderr",
     "output_type": "stream",
     "text": [
      "100%|██████████| 25/25 [00:00<00:00, 21368.98it/s]\n"
     ]
    },
    {
     "name": "stdout",
     "output_type": "stream",
     "text": [
      "Image_path: ../images-115-max-keys-400/images/Ace-MR_Tablet/Ace-MR_Tablet1_gaussian_noise.jpg\n",
      "Dir name: Ace-MR_Tablet\n",
      "Outpath: metaanalysis/Ace-MR_Tablet/Ace-MR_Tablet_12.json\n",
      "Dir: ../images-115-max-keys-400/images/A_Doxid_100mg_Capsule\n",
      "Image_path: ../images-115-max-keys-400/images/A_Doxid_100mg_Capsule/A_Doxid_100mg_Capsule2_gaussian_noise.jpg\n",
      "Dir name: A_Doxid_100mg_Capsule\n",
      "Outpath: metaanalysis/A_Doxid_100mg_Capsule/A_Doxid_100mg_Capsule_1.json\n",
      "Image_path: ../images-115-max-keys-400/images/A_Doxid_100mg_Capsule/A_Doxid_100mg_Capsule2_rotated.jpg\n",
      "Dir name: A_Doxid_100mg_Capsule\n",
      "Outpath: metaanalysis/A_Doxid_100mg_Capsule/A_Doxid_100mg_Capsule_2.json\n"
     ]
    },
    {
     "name": "stderr",
     "output_type": "stream",
     "text": [
      "100%|██████████| 1/1 [00:00<00:00, 1539.76it/s]\n"
     ]
    },
    {
     "name": "stdout",
     "output_type": "stream",
     "text": [
      "Image_path: ../images-115-max-keys-400/images/A_Doxid_100mg_Capsule/A_Doxid_100mg_Capsule1_blur.jpg\n",
      "Dir name: A_Doxid_100mg_Capsule\n",
      "Outpath: metaanalysis/A_Doxid_100mg_Capsule/A_Doxid_100mg_Capsule_3.json\n"
     ]
    },
    {
     "name": "stderr",
     "output_type": "stream",
     "text": [
      "100%|██████████| 14/14 [00:00<00:00, 14975.84it/s]\n"
     ]
    },
    {
     "name": "stdout",
     "output_type": "stream",
     "text": [
      "Image_path: ../images-115-max-keys-400/images/A_Doxid_100mg_Capsule/A_Doxid_100mg_Capsule0_rotated.jpg\n",
      "Dir name: A_Doxid_100mg_Capsule\n",
      "Outpath: metaanalysis/A_Doxid_100mg_Capsule/A_Doxid_100mg_Capsule_4.json\n"
     ]
    },
    {
     "name": "stderr",
     "output_type": "stream",
     "text": [
      "100%|██████████| 7/7 [00:00<00:00, 9610.52it/s]\n"
     ]
    },
    {
     "name": "stdout",
     "output_type": "stream",
     "text": [
      "Image_path: ../images-115-max-keys-400/images/A_Doxid_100mg_Capsule/A_Doxid_100mg_Capsule1.jpg\n",
      "Dir name: A_Doxid_100mg_Capsule\n",
      "Outpath: metaanalysis/A_Doxid_100mg_Capsule/A_Doxid_100mg_Capsule_5.json\n"
     ]
    },
    {
     "name": "stderr",
     "output_type": "stream",
     "text": [
      "100%|██████████| 86/86 [00:00<00:00, 17032.30it/s]\n"
     ]
    },
    {
     "name": "stdout",
     "output_type": "stream",
     "text": [
      "Image_path: ../images-115-max-keys-400/images/A_Doxid_100mg_Capsule/A_Doxid_100mg_Capsule1_rotated.jpg\n",
      "Dir name: A_Doxid_100mg_Capsule\n",
      "Outpath: metaanalysis/A_Doxid_100mg_Capsule/A_Doxid_100mg_Capsule_6.json\n"
     ]
    },
    {
     "name": "stderr",
     "output_type": "stream",
     "text": [
      "100%|██████████| 29/29 [00:00<00:00, 9158.56it/s]\n"
     ]
    },
    {
     "name": "stdout",
     "output_type": "stream",
     "text": [
      "Image_path: ../images-115-max-keys-400/images/A_Doxid_100mg_Capsule/A_Doxid_100mg_Capsule2_blur.jpg\n",
      "Dir name: A_Doxid_100mg_Capsule\n",
      "Outpath: metaanalysis/A_Doxid_100mg_Capsule/A_Doxid_100mg_Capsule_7.json\n",
      "Image_path: ../images-115-max-keys-400/images/A_Doxid_100mg_Capsule/A_Doxid_100mg_Capsule2.jpg\n",
      "Dir name: A_Doxid_100mg_Capsule\n",
      "Outpath: metaanalysis/A_Doxid_100mg_Capsule/A_Doxid_100mg_Capsule_8.json\n",
      "Image_path: ../images-115-max-keys-400/images/A_Doxid_100mg_Capsule/A_Doxid_100mg_Capsule0_blur.jpg\n",
      "Dir name: A_Doxid_100mg_Capsule\n",
      "Outpath: metaanalysis/A_Doxid_100mg_Capsule/A_Doxid_100mg_Capsule_9.json\n"
     ]
    },
    {
     "name": "stderr",
     "output_type": "stream",
     "text": [
      "100%|██████████| 7/7 [00:00<00:00, 14007.69it/s]\n"
     ]
    },
    {
     "name": "stdout",
     "output_type": "stream",
     "text": [
      "Image_path: ../images-115-max-keys-400/images/A_Doxid_100mg_Capsule/A_Doxid_100mg_Capsule0.jpg\n",
      "Dir name: A_Doxid_100mg_Capsule\n",
      "Outpath: metaanalysis/A_Doxid_100mg_Capsule/A_Doxid_100mg_Capsule_10.json\n"
     ]
    },
    {
     "name": "stderr",
     "output_type": "stream",
     "text": [
      "100%|██████████| 10/10 [00:00<00:00, 5250.76it/s]\n"
     ]
    },
    {
     "name": "stdout",
     "output_type": "stream",
     "text": [
      "Image_path: ../images-115-max-keys-400/images/A_Doxid_100mg_Capsule/A_Doxid_100mg_Capsule1_gaussian_noise.jpg\n",
      "Dir name: A_Doxid_100mg_Capsule\n",
      "Outpath: metaanalysis/A_Doxid_100mg_Capsule/A_Doxid_100mg_Capsule_11.json\n"
     ]
    },
    {
     "name": "stderr",
     "output_type": "stream",
     "text": [
      "100%|██████████| 16/16 [00:00<00:00, 12304.52it/s]\n"
     ]
    },
    {
     "name": "stdout",
     "output_type": "stream",
     "text": [
      "Image_path: ../images-115-max-keys-400/images/A_Doxid_100mg_Capsule/A_Doxid_100mg_Capsule0_gaussian_noise.jpg\n",
      "Dir name: A_Doxid_100mg_Capsule\n",
      "Outpath: metaanalysis/A_Doxid_100mg_Capsule/A_Doxid_100mg_Capsule_12.json\n"
     ]
    },
    {
     "name": "stderr",
     "output_type": "stream",
     "text": [
      "100%|██████████| 6/6 [00:00<00:00, 5522.45it/s]\n"
     ]
    },
    {
     "name": "stdout",
     "output_type": "stream",
     "text": [
      "Dir: ../images-115-max-keys-400/images/Acenac-MR_Tablet\n",
      "Image_path: ../images-115-max-keys-400/images/Acenac-MR_Tablet/Acenac-MR_Tablet1.jpg\n",
      "Dir name: Acenac-MR_Tablet\n",
      "Outpath: metaanalysis/Acenac-MR_Tablet/Acenac-MR_Tablet_1.json\n"
     ]
    },
    {
     "name": "stderr",
     "output_type": "stream",
     "text": [
      "100%|██████████| 96/96 [00:00<00:00, 9645.77it/s]\n"
     ]
    },
    {
     "name": "stdout",
     "output_type": "stream",
     "text": [
      "Image_path: ../images-115-max-keys-400/images/Acenac-MR_Tablet/Acenac-MR_Tablet1_blur.jpg\n",
      "Dir name: Acenac-MR_Tablet\n",
      "Outpath: metaanalysis/Acenac-MR_Tablet/Acenac-MR_Tablet_2.json\n"
     ]
    },
    {
     "name": "stderr",
     "output_type": "stream",
     "text": [
      "100%|██████████| 70/70 [00:00<00:00, 24513.76it/s]\n"
     ]
    },
    {
     "name": "stdout",
     "output_type": "stream",
     "text": [
      "Image_path: ../images-115-max-keys-400/images/Acenac-MR_Tablet/Acenac-MR_Tablet1_gaussian_noise.jpg\n",
      "Dir name: Acenac-MR_Tablet\n",
      "Outpath: metaanalysis/Acenac-MR_Tablet/Acenac-MR_Tablet_3.json\n"
     ]
    },
    {
     "name": "stderr",
     "output_type": "stream",
     "text": [
      "100%|██████████| 77/77 [00:00<00:00, 12025.67it/s]\n"
     ]
    },
    {
     "name": "stdout",
     "output_type": "stream",
     "text": [
      "Image_path: ../images-115-max-keys-400/images/Acenac-MR_Tablet/Acenac-MR_Tablet0_gaussian_noise.jpg\n",
      "Dir name: Acenac-MR_Tablet\n",
      "Outpath: metaanalysis/Acenac-MR_Tablet/Acenac-MR_Tablet_4.json\n"
     ]
    },
    {
     "name": "stderr",
     "output_type": "stream",
     "text": [
      "100%|██████████| 5/5 [00:00<00:00, 6389.86it/s]\n"
     ]
    },
    {
     "name": "stdout",
     "output_type": "stream",
     "text": [
      "Image_path: ../images-115-max-keys-400/images/Acenac-MR_Tablet/Acenac-MR_Tablet2_rotated.jpg\n",
      "Dir name: Acenac-MR_Tablet\n",
      "Outpath: metaanalysis/Acenac-MR_Tablet/Acenac-MR_Tablet_5.json\n"
     ]
    },
    {
     "name": "stderr",
     "output_type": "stream",
     "text": [
      "100%|██████████| 8/8 [00:00<00:00, 6463.96it/s]\n"
     ]
    },
    {
     "name": "stdout",
     "output_type": "stream",
     "text": [
      "Image_path: ../images-115-max-keys-400/images/Acenac-MR_Tablet/Acenac-MR_Tablet0_rotated.jpg\n",
      "Dir name: Acenac-MR_Tablet\n",
      "Outpath: metaanalysis/Acenac-MR_Tablet/Acenac-MR_Tablet_6.json\n"
     ]
    },
    {
     "name": "stderr",
     "output_type": "stream",
     "text": [
      "100%|██████████| 4/4 [00:00<00:00, 6907.05it/s]\n"
     ]
    },
    {
     "name": "stdout",
     "output_type": "stream",
     "text": [
      "Image_path: ../images-115-max-keys-400/images/Acenac-MR_Tablet/Acenac-MR_Tablet2_gaussian_noise.jpg\n",
      "Dir name: Acenac-MR_Tablet\n",
      "Outpath: metaanalysis/Acenac-MR_Tablet/Acenac-MR_Tablet_7.json\n"
     ]
    },
    {
     "name": "stderr",
     "output_type": "stream",
     "text": [
      "100%|██████████| 1/1 [00:00<00:00, 1353.87it/s]\n"
     ]
    },
    {
     "name": "stdout",
     "output_type": "stream",
     "text": [
      "Image_path: ../images-115-max-keys-400/images/Acenac-MR_Tablet/Acenac-MR_Tablet0.jpg\n",
      "Dir name: Acenac-MR_Tablet\n",
      "Outpath: metaanalysis/Acenac-MR_Tablet/Acenac-MR_Tablet_8.json\n"
     ]
    },
    {
     "name": "stderr",
     "output_type": "stream",
     "text": [
      "100%|██████████| 6/6 [00:00<00:00, 5477.98it/s]\n"
     ]
    },
    {
     "name": "stdout",
     "output_type": "stream",
     "text": [
      "Image_path: ../images-115-max-keys-400/images/Acenac-MR_Tablet/Acenac-MR_Tablet2_blur.jpg\n",
      "Dir name: Acenac-MR_Tablet\n",
      "Outpath: metaanalysis/Acenac-MR_Tablet/Acenac-MR_Tablet_9.json\n"
     ]
    },
    {
     "name": "stderr",
     "output_type": "stream",
     "text": [
      "100%|██████████| 8/8 [00:00<00:00, 12018.06it/s]\n"
     ]
    },
    {
     "name": "stdout",
     "output_type": "stream",
     "text": [
      "Image_path: ../images-115-max-keys-400/images/Acenac-MR_Tablet/Acenac-MR_Tablet1_rotated.jpg\n",
      "Dir name: Acenac-MR_Tablet\n",
      "Outpath: metaanalysis/Acenac-MR_Tablet/Acenac-MR_Tablet_10.json\n"
     ]
    },
    {
     "name": "stderr",
     "output_type": "stream",
     "text": [
      "100%|██████████| 90/90 [00:00<00:00, 10981.77it/s]\n"
     ]
    },
    {
     "name": "stdout",
     "output_type": "stream",
     "text": [
      "Image_path: ../images-115-max-keys-400/images/Acenac-MR_Tablet/Acenac-MR_Tablet0_blur.jpg\n",
      "Dir name: Acenac-MR_Tablet\n",
      "Outpath: metaanalysis/Acenac-MR_Tablet/Acenac-MR_Tablet_11.json\n"
     ]
    },
    {
     "name": "stderr",
     "output_type": "stream",
     "text": [
      "100%|██████████| 6/6 [00:00<00:00, 12000.87it/s]\n"
     ]
    },
    {
     "name": "stdout",
     "output_type": "stream",
     "text": [
      "Image_path: ../images-115-max-keys-400/images/Acenac-MR_Tablet/Acenac-MR_Tablet2.jpg\n",
      "Dir name: Acenac-MR_Tablet\n",
      "Outpath: metaanalysis/Acenac-MR_Tablet/Acenac-MR_Tablet_12.json\n"
     ]
    },
    {
     "name": "stderr",
     "output_type": "stream",
     "text": [
      "100%|██████████| 9/9 [00:00<00:00, 20382.69it/s]\n"
     ]
    },
    {
     "name": "stdout",
     "output_type": "stream",
     "text": [
      "Dir: ../images-115-max-keys-400/images/Accunac-SP_Tablet\n",
      "Image_path: ../images-115-max-keys-400/images/Accunac-SP_Tablet/Accunac-SP_Tablet1_blur.jpg\n",
      "Dir name: Accunac-SP_Tablet\n",
      "Outpath: metaanalysis/Accunac-SP_Tablet/Accunac-SP_Tablet_1.json\n"
     ]
    },
    {
     "name": "stderr",
     "output_type": "stream",
     "text": [
      "100%|██████████| 37/37 [00:00<00:00, 13466.61it/s]\n"
     ]
    },
    {
     "name": "stdout",
     "output_type": "stream",
     "text": [
      "Image_path: ../images-115-max-keys-400/images/Accunac-SP_Tablet/Accunac-SP_Tablet0_blur.jpg\n",
      "Dir name: Accunac-SP_Tablet\n",
      "Outpath: metaanalysis/Accunac-SP_Tablet/Accunac-SP_Tablet_2.json\n"
     ]
    },
    {
     "name": "stderr",
     "output_type": "stream",
     "text": [
      "100%|██████████| 6/6 [00:00<00:00, 4295.98it/s]\n"
     ]
    },
    {
     "name": "stdout",
     "output_type": "stream",
     "text": [
      "Image_path: ../images-115-max-keys-400/images/Accunac-SP_Tablet/Accunac-SP_Tablet0_rotated.jpg\n",
      "Dir name: Accunac-SP_Tablet\n",
      "Outpath: metaanalysis/Accunac-SP_Tablet/Accunac-SP_Tablet_3.json\n"
     ]
    },
    {
     "name": "stderr",
     "output_type": "stream",
     "text": [
      "100%|██████████| 9/9 [00:00<00:00, 19132.66it/s]\n"
     ]
    },
    {
     "name": "stdout",
     "output_type": "stream",
     "text": [
      "Image_path: ../images-115-max-keys-400/images/Accunac-SP_Tablet/Accunac-SP_Tablet1_gaussian_noise.jpg\n",
      "Dir name: Accunac-SP_Tablet\n",
      "Outpath: metaanalysis/Accunac-SP_Tablet/Accunac-SP_Tablet_4.json\n"
     ]
    },
    {
     "name": "stderr",
     "output_type": "stream",
     "text": [
      "100%|██████████| 55/55 [00:00<00:00, 11978.13it/s]\n"
     ]
    },
    {
     "name": "stdout",
     "output_type": "stream",
     "text": [
      "Image_path: ../images-115-max-keys-400/images/Accunac-SP_Tablet/Accunac-SP_Tablet1_rotated.jpg\n",
      "Dir name: Accunac-SP_Tablet\n",
      "Outpath: metaanalysis/Accunac-SP_Tablet/Accunac-SP_Tablet_5.json\n"
     ]
    },
    {
     "name": "stderr",
     "output_type": "stream",
     "text": [
      "100%|██████████| 60/60 [00:00<00:00, 33165.29it/s]\n"
     ]
    },
    {
     "name": "stdout",
     "output_type": "stream",
     "text": [
      "Image_path: ../images-115-max-keys-400/images/Accunac-SP_Tablet/Accunac-SP_Tablet0.jpg\n",
      "Dir name: Accunac-SP_Tablet\n",
      "Outpath: metaanalysis/Accunac-SP_Tablet/Accunac-SP_Tablet_6.json\n"
     ]
    },
    {
     "name": "stderr",
     "output_type": "stream",
     "text": [
      "100%|██████████| 7/7 [00:00<00:00, 4699.88it/s]\n"
     ]
    },
    {
     "name": "stdout",
     "output_type": "stream",
     "text": [
      "Image_path: ../images-115-max-keys-400/images/Accunac-SP_Tablet/Accunac-SP_Tablet1.jpg\n",
      "Dir name: Accunac-SP_Tablet\n",
      "Outpath: metaanalysis/Accunac-SP_Tablet/Accunac-SP_Tablet_7.json\n"
     ]
    },
    {
     "name": "stderr",
     "output_type": "stream",
     "text": [
      "100%|██████████| 93/93 [00:00<00:00, 59671.14it/s]\n"
     ]
    },
    {
     "name": "stdout",
     "output_type": "stream",
     "text": [
      "Image_path: ../images-115-max-keys-400/images/Accunac-SP_Tablet/Accunac-SP_Tablet0_gaussian_noise.jpg\n",
      "Dir name: Accunac-SP_Tablet\n",
      "Outpath: metaanalysis/Accunac-SP_Tablet/Accunac-SP_Tablet_8.json\n"
     ]
    },
    {
     "name": "stderr",
     "output_type": "stream",
     "text": [
      "100%|██████████| 7/7 [00:00<00:00, 15149.70it/s]\n"
     ]
    },
    {
     "name": "stdout",
     "output_type": "stream",
     "text": [
      "Dir: ../images-115-max-keys-400/images/Ablin-N_Tablet\n",
      "Image_path: ../images-115-max-keys-400/images/Ablin-N_Tablet/Ablin-N_Tablet1.jpg\n",
      "Dir name: Ablin-N_Tablet\n",
      "Outpath: metaanalysis/Ablin-N_Tablet/Ablin-N_Tablet_1.json\n"
     ]
    },
    {
     "name": "stderr",
     "output_type": "stream",
     "text": [
      "100%|██████████| 95/95 [00:00<00:00, 11149.45it/s]\n"
     ]
    },
    {
     "name": "stdout",
     "output_type": "stream",
     "text": [
      "Image_path: ../images-115-max-keys-400/images/Ablin-N_Tablet/Ablin-N_Tablet2_gaussian_noise.jpg\n",
      "Dir name: Ablin-N_Tablet\n",
      "Outpath: metaanalysis/Ablin-N_Tablet/Ablin-N_Tablet_2.json\n"
     ]
    },
    {
     "name": "stderr",
     "output_type": "stream",
     "text": [
      "100%|██████████| 14/14 [00:00<00:00, 27672.13it/s]\n"
     ]
    },
    {
     "name": "stdout",
     "output_type": "stream",
     "text": [
      "Image_path: ../images-115-max-keys-400/images/Ablin-N_Tablet/Ablin-N_Tablet2_blur.jpg\n",
      "Dir name: Ablin-N_Tablet\n",
      "Outpath: metaanalysis/Ablin-N_Tablet/Ablin-N_Tablet_3.json\n"
     ]
    },
    {
     "name": "stderr",
     "output_type": "stream",
     "text": [
      "100%|██████████| 13/13 [00:00<00:00, 7856.77it/s]\n"
     ]
    },
    {
     "name": "stdout",
     "output_type": "stream",
     "text": [
      "Image_path: ../images-115-max-keys-400/images/Ablin-N_Tablet/Ablin-N_Tablet2.jpg\n",
      "Dir name: Ablin-N_Tablet\n",
      "Outpath: metaanalysis/Ablin-N_Tablet/Ablin-N_Tablet_4.json\n"
     ]
    },
    {
     "name": "stderr",
     "output_type": "stream",
     "text": [
      "100%|██████████| 47/47 [00:00<00:00, 14668.67it/s]\n"
     ]
    },
    {
     "name": "stdout",
     "output_type": "stream",
     "text": [
      "Image_path: ../images-115-max-keys-400/images/Ablin-N_Tablet/Ablin-N_Tablet1_rotated.jpg\n",
      "Dir name: Ablin-N_Tablet\n",
      "Outpath: metaanalysis/Ablin-N_Tablet/Ablin-N_Tablet_5.json\n"
     ]
    },
    {
     "name": "stderr",
     "output_type": "stream",
     "text": [
      "100%|██████████| 80/80 [00:00<00:00, 60699.04it/s]\n"
     ]
    },
    {
     "name": "stdout",
     "output_type": "stream",
     "text": [
      "Image_path: ../images-115-max-keys-400/images/Ablin-N_Tablet/Ablin-N_Tablet0_rotated.jpg\n",
      "Dir name: Ablin-N_Tablet\n",
      "Outpath: metaanalysis/Ablin-N_Tablet/Ablin-N_Tablet_6.json\n"
     ]
    },
    {
     "name": "stderr",
     "output_type": "stream",
     "text": [
      "100%|██████████| 5/5 [00:00<00:00, 4338.34it/s]\n"
     ]
    },
    {
     "name": "stdout",
     "output_type": "stream",
     "text": [
      "Image_path: ../images-115-max-keys-400/images/Ablin-N_Tablet/Ablin-N_Tablet1_blur.jpg\n",
      "Dir name: Ablin-N_Tablet\n",
      "Outpath: metaanalysis/Ablin-N_Tablet/Ablin-N_Tablet_7.json\n"
     ]
    },
    {
     "name": "stderr",
     "output_type": "stream",
     "text": [
      "100%|██████████| 37/37 [00:00<00:00, 13563.12it/s]\n"
     ]
    },
    {
     "name": "stdout",
     "output_type": "stream",
     "text": [
      "Image_path: ../images-115-max-keys-400/images/Ablin-N_Tablet/Ablin-N_Tablet1_gaussian_noise.jpg\n",
      "Dir name: Ablin-N_Tablet\n",
      "Outpath: metaanalysis/Ablin-N_Tablet/Ablin-N_Tablet_8.json\n"
     ]
    },
    {
     "name": "stderr",
     "output_type": "stream",
     "text": [
      "100%|██████████| 47/47 [00:00<00:00, 10193.51it/s]\n"
     ]
    },
    {
     "name": "stdout",
     "output_type": "stream",
     "text": [
      "Image_path: ../images-115-max-keys-400/images/Ablin-N_Tablet/Ablin-N_Tablet0.jpg\n",
      "Dir name: Ablin-N_Tablet\n",
      "Outpath: metaanalysis/Ablin-N_Tablet/Ablin-N_Tablet_9.json\n"
     ]
    },
    {
     "name": "stderr",
     "output_type": "stream",
     "text": [
      "100%|██████████| 8/8 [00:00<00:00, 7603.54it/s]\n"
     ]
    },
    {
     "name": "stdout",
     "output_type": "stream",
     "text": [
      "Image_path: ../images-115-max-keys-400/images/Ablin-N_Tablet/Ablin-N_Tablet0_blur.jpg\n",
      "Dir name: Ablin-N_Tablet\n",
      "Outpath: metaanalysis/Ablin-N_Tablet/Ablin-N_Tablet_10.json\n"
     ]
    },
    {
     "name": "stderr",
     "output_type": "stream",
     "text": [
      "100%|██████████| 6/6 [00:00<00:00, 12403.07it/s]\n"
     ]
    },
    {
     "name": "stdout",
     "output_type": "stream",
     "text": [
      "Image_path: ../images-115-max-keys-400/images/Ablin-N_Tablet/Ablin-N_Tablet0_gaussian_noise.jpg\n",
      "Dir name: Ablin-N_Tablet\n",
      "Outpath: metaanalysis/Ablin-N_Tablet/Ablin-N_Tablet_11.json\n"
     ]
    },
    {
     "name": "stderr",
     "output_type": "stream",
     "text": [
      "100%|██████████| 5/5 [00:00<00:00, 1694.94it/s]\n"
     ]
    },
    {
     "name": "stdout",
     "output_type": "stream",
     "text": [
      "Image_path: ../images-115-max-keys-400/images/Ablin-N_Tablet/Ablin-N_Tablet2_rotated.jpg\n",
      "Dir name: Ablin-N_Tablet\n",
      "Outpath: metaanalysis/Ablin-N_Tablet/Ablin-N_Tablet_12.json\n"
     ]
    },
    {
     "name": "stderr",
     "output_type": "stream",
     "text": [
      "100%|██████████| 22/22 [00:00<00:00, 11093.37it/s]\n"
     ]
    },
    {
     "name": "stdout",
     "output_type": "stream",
     "text": [
      "Dir: ../images-115-max-keys-400/images/Acendol-P_Tablet\n",
      "Image_path: ../images-115-max-keys-400/images/Acendol-P_Tablet/Acendol-P_Tablet0_gaussian_noise.jpg\n",
      "Dir name: Acendol-P_Tablet\n",
      "Outpath: metaanalysis/Acendol-P_Tablet/Acendol-P_Tablet_1.json\n"
     ]
    },
    {
     "name": "stderr",
     "output_type": "stream",
     "text": [
      "100%|██████████| 22/22 [00:00<00:00, 9951.97it/s]\n"
     ]
    },
    {
     "name": "stdout",
     "output_type": "stream",
     "text": [
      "Image_path: ../images-115-max-keys-400/images/Acendol-P_Tablet/Acendol-P_Tablet0_rotated.jpg\n",
      "Dir name: Acendol-P_Tablet\n",
      "Outpath: metaanalysis/Acendol-P_Tablet/Acendol-P_Tablet_2.json\n"
     ]
    },
    {
     "name": "stderr",
     "output_type": "stream",
     "text": [
      "100%|██████████| 31/31 [00:00<00:00, 37192.05it/s]\n"
     ]
    },
    {
     "name": "stdout",
     "output_type": "stream",
     "text": [
      "Image_path: ../images-115-max-keys-400/images/Acendol-P_Tablet/Acendol-P_Tablet0_blur.jpg\n",
      "Dir name: Acendol-P_Tablet\n",
      "Outpath: metaanalysis/Acendol-P_Tablet/Acendol-P_Tablet_3.json\n"
     ]
    },
    {
     "name": "stderr",
     "output_type": "stream",
     "text": [
      "100%|██████████| 16/16 [00:00<00:00, 10710.00it/s]\n"
     ]
    },
    {
     "name": "stdout",
     "output_type": "stream",
     "text": [
      "Image_path: ../images-115-max-keys-400/images/Acendol-P_Tablet/Acendol-P_Tablet0.jpg\n",
      "Dir name: Acendol-P_Tablet\n",
      "Outpath: metaanalysis/Acendol-P_Tablet/Acendol-P_Tablet_4.json\n"
     ]
    },
    {
     "name": "stderr",
     "output_type": "stream",
     "text": [
      "100%|██████████| 63/63 [00:00<00:00, 14496.44it/s]\n"
     ]
    },
    {
     "name": "stdout",
     "output_type": "stream",
     "text": [
      "Dir: ../images-115-max-keys-400/images/ADMENTA_10_MG_TABLET_MD\n",
      "Image_path: ../images-115-max-keys-400/images/ADMENTA_10_MG_TABLET_MD/ADMENTA_10_MG_TABLET_MD0_gaussian_noise.jpg\n",
      "Dir name: ADMENTA_10_MG_TABLET_MD\n",
      "Outpath: metaanalysis/ADMENTA_10_MG_TABLET_MD/ADMENTA_10_MG_TABLET_MD_1.json\n"
     ]
    },
    {
     "name": "stderr",
     "output_type": "stream",
     "text": [
      "100%|██████████| 17/17 [00:00<00:00, 6621.15it/s]\n"
     ]
    },
    {
     "name": "stdout",
     "output_type": "stream",
     "text": [
      "Image_path: ../images-115-max-keys-400/images/ADMENTA_10_MG_TABLET_MD/ADMENTA_10_MG_TABLET_MD0_rotated.jpg\n",
      "Dir name: ADMENTA_10_MG_TABLET_MD\n",
      "Outpath: metaanalysis/ADMENTA_10_MG_TABLET_MD/ADMENTA_10_MG_TABLET_MD_2.json\n"
     ]
    },
    {
     "name": "stderr",
     "output_type": "stream",
     "text": [
      "100%|██████████| 27/27 [00:00<00:00, 9563.10it/s]\n"
     ]
    },
    {
     "name": "stdout",
     "output_type": "stream",
     "text": [
      "Image_path: ../images-115-max-keys-400/images/ADMENTA_10_MG_TABLET_MD/ADMENTA_10_MG_TABLET_MD1_gaussian_noise.jpg\n",
      "Dir name: ADMENTA_10_MG_TABLET_MD\n",
      "Outpath: metaanalysis/ADMENTA_10_MG_TABLET_MD/ADMENTA_10_MG_TABLET_MD_3.json\n"
     ]
    },
    {
     "name": "stderr",
     "output_type": "stream",
     "text": [
      "100%|██████████| 5/5 [00:00<00:00, 10433.59it/s]\n"
     ]
    },
    {
     "name": "stdout",
     "output_type": "stream",
     "text": [
      "Image_path: ../images-115-max-keys-400/images/ADMENTA_10_MG_TABLET_MD/ADMENTA_10_MG_TABLET_MD0.jpg\n",
      "Dir name: ADMENTA_10_MG_TABLET_MD\n",
      "Outpath: metaanalysis/ADMENTA_10_MG_TABLET_MD/ADMENTA_10_MG_TABLET_MD_4.json\n"
     ]
    },
    {
     "name": "stderr",
     "output_type": "stream",
     "text": [
      "100%|██████████| 48/48 [00:00<00:00, 22741.06it/s]\n"
     ]
    },
    {
     "name": "stdout",
     "output_type": "stream",
     "text": [
      "Image_path: ../images-115-max-keys-400/images/ADMENTA_10_MG_TABLET_MD/ADMENTA_10_MG_TABLET_MD1_blur.jpg\n",
      "Dir name: ADMENTA_10_MG_TABLET_MD\n",
      "Outpath: metaanalysis/ADMENTA_10_MG_TABLET_MD/ADMENTA_10_MG_TABLET_MD_5.json\n"
     ]
    },
    {
     "name": "stderr",
     "output_type": "stream",
     "text": [
      "100%|██████████| 5/5 [00:00<00:00, 5105.04it/s]\n"
     ]
    },
    {
     "name": "stdout",
     "output_type": "stream",
     "text": [
      "Image_path: ../images-115-max-keys-400/images/ADMENTA_10_MG_TABLET_MD/ADMENTA_10_MG_TABLET_MD0_blur.jpg\n",
      "Dir name: ADMENTA_10_MG_TABLET_MD\n",
      "Outpath: metaanalysis/ADMENTA_10_MG_TABLET_MD/ADMENTA_10_MG_TABLET_MD_6.json\n"
     ]
    },
    {
     "name": "stderr",
     "output_type": "stream",
     "text": [
      "100%|██████████| 27/27 [00:00<00:00, 33624.17it/s]\n"
     ]
    },
    {
     "name": "stdout",
     "output_type": "stream",
     "text": [
      "Image_path: ../images-115-max-keys-400/images/ADMENTA_10_MG_TABLET_MD/ADMENTA_10_MG_TABLET_MD1.jpg\n",
      "Dir name: ADMENTA_10_MG_TABLET_MD\n",
      "Outpath: metaanalysis/ADMENTA_10_MG_TABLET_MD/ADMENTA_10_MG_TABLET_MD_7.json\n"
     ]
    },
    {
     "name": "stderr",
     "output_type": "stream",
     "text": [
      "100%|██████████| 5/5 [00:00<00:00, 1400.81it/s]\n"
     ]
    },
    {
     "name": "stdout",
     "output_type": "stream",
     "text": [
      "Image_path: ../images-115-max-keys-400/images/ADMENTA_10_MG_TABLET_MD/ADMENTA_10_MG_TABLET_MD1_rotated.jpg\n",
      "Dir name: ADMENTA_10_MG_TABLET_MD\n",
      "Outpath: metaanalysis/ADMENTA_10_MG_TABLET_MD/ADMENTA_10_MG_TABLET_MD_8.json\n"
     ]
    },
    {
     "name": "stderr",
     "output_type": "stream",
     "text": [
      "100%|██████████| 5/5 [00:00<00:00, 5838.40it/s]\n"
     ]
    },
    {
     "name": "stdout",
     "output_type": "stream",
     "text": [
      "Dir: ../images-115-max-keys-400/images/Acefile_TH_Forte_Tablet\n",
      "Image_path: ../images-115-max-keys-400/images/Acefile_TH_Forte_Tablet/Acefile_TH_Forte_Tablet0.jpg\n",
      "Dir name: Acefile_TH_Forte_Tablet\n",
      "Outpath: metaanalysis/Acefile_TH_Forte_Tablet/Acefile_TH_Forte_Tablet_1.json\n"
     ]
    },
    {
     "name": "stderr",
     "output_type": "stream",
     "text": [
      "100%|██████████| 10/10 [00:00<00:00, 11178.85it/s]\n"
     ]
    },
    {
     "name": "stdout",
     "output_type": "stream",
     "text": [
      "Image_path: ../images-115-max-keys-400/images/Acefile_TH_Forte_Tablet/Acefile_TH_Forte_Tablet0_rotated.jpg\n",
      "Dir name: Acefile_TH_Forte_Tablet\n",
      "Outpath: metaanalysis/Acefile_TH_Forte_Tablet/Acefile_TH_Forte_Tablet_2.json\n"
     ]
    },
    {
     "name": "stderr",
     "output_type": "stream",
     "text": [
      "100%|██████████| 8/8 [00:00<00:00, 5667.02it/s]\n"
     ]
    },
    {
     "name": "stdout",
     "output_type": "stream",
     "text": [
      "Image_path: ../images-115-max-keys-400/images/Acefile_TH_Forte_Tablet/Acefile_TH_Forte_Tablet0_blur.jpg\n",
      "Dir name: Acefile_TH_Forte_Tablet\n",
      "Outpath: metaanalysis/Acefile_TH_Forte_Tablet/Acefile_TH_Forte_Tablet_3.json\n"
     ]
    },
    {
     "name": "stderr",
     "output_type": "stream",
     "text": [
      "100%|██████████| 8/8 [00:00<00:00, 24438.77it/s]\n"
     ]
    },
    {
     "name": "stdout",
     "output_type": "stream",
     "text": [
      "Image_path: ../images-115-max-keys-400/images/Acefile_TH_Forte_Tablet/Acefile_TH_Forte_Tablet0_gaussian_noise.jpg\n",
      "Dir name: Acefile_TH_Forte_Tablet\n",
      "Outpath: metaanalysis/Acefile_TH_Forte_Tablet/Acefile_TH_Forte_Tablet_4.json\n"
     ]
    },
    {
     "name": "stderr",
     "output_type": "stream",
     "text": [
      "100%|██████████| 9/9 [00:00<00:00, 6123.07it/s]\n"
     ]
    },
    {
     "name": "stdout",
     "output_type": "stream",
     "text": [
      "Dir: ../images-115-max-keys-400/images/AT_Tablet\n",
      "Image_path: ../images-115-max-keys-400/images/AT_Tablet/AT_Tablet0_blur.jpg\n",
      "Dir name: AT_Tablet\n",
      "Outpath: metaanalysis/AT_Tablet/AT_Tablet_1.json\n"
     ]
    },
    {
     "name": "stderr",
     "output_type": "stream",
     "text": [
      "100%|██████████| 9/9 [00:00<00:00, 7555.79it/s]\n"
     ]
    },
    {
     "name": "stdout",
     "output_type": "stream",
     "text": [
      "Image_path: ../images-115-max-keys-400/images/AT_Tablet/AT_Tablet0_gaussian_noise.jpg\n",
      "Dir name: AT_Tablet\n",
      "Outpath: metaanalysis/AT_Tablet/AT_Tablet_2.json\n"
     ]
    },
    {
     "name": "stderr",
     "output_type": "stream",
     "text": [
      "100%|██████████| 8/8 [00:00<00:00, 8054.35it/s]\n"
     ]
    },
    {
     "name": "stdout",
     "output_type": "stream",
     "text": [
      "Image_path: ../images-115-max-keys-400/images/AT_Tablet/AT_Tablet1_rotated.jpg\n",
      "Dir name: AT_Tablet\n",
      "Outpath: metaanalysis/AT_Tablet/AT_Tablet_3.json\n"
     ]
    },
    {
     "name": "stderr",
     "output_type": "stream",
     "text": [
      "100%|██████████| 54/54 [00:00<00:00, 31210.20it/s]\n"
     ]
    },
    {
     "name": "stdout",
     "output_type": "stream",
     "text": [
      "Image_path: ../images-115-max-keys-400/images/AT_Tablet/AT_Tablet0.jpg\n",
      "Dir name: AT_Tablet\n",
      "Outpath: metaanalysis/AT_Tablet/AT_Tablet_4.json\n"
     ]
    },
    {
     "name": "stderr",
     "output_type": "stream",
     "text": [
      "100%|██████████| 11/11 [00:00<00:00, 6777.93it/s]\n"
     ]
    },
    {
     "name": "stdout",
     "output_type": "stream",
     "text": [
      "Image_path: ../images-115-max-keys-400/images/AT_Tablet/AT_Tablet1.jpg\n",
      "Dir name: AT_Tablet\n",
      "Outpath: metaanalysis/AT_Tablet/AT_Tablet_5.json\n"
     ]
    },
    {
     "name": "stderr",
     "output_type": "stream",
     "text": [
      "100%|██████████| 60/60 [00:00<00:00, 30203.82it/s]\n"
     ]
    },
    {
     "name": "stdout",
     "output_type": "stream",
     "text": [
      "Image_path: ../images-115-max-keys-400/images/AT_Tablet/AT_Tablet1_gaussian_noise.jpg\n",
      "Dir name: AT_Tablet\n",
      "Outpath: metaanalysis/AT_Tablet/AT_Tablet_6.json\n"
     ]
    },
    {
     "name": "stderr",
     "output_type": "stream",
     "text": [
      "100%|██████████| 44/44 [00:00<00:00, 13940.88it/s]\n"
     ]
    },
    {
     "name": "stdout",
     "output_type": "stream",
     "text": [
      "Image_path: ../images-115-max-keys-400/images/AT_Tablet/AT_Tablet0_rotated.jpg\n",
      "Dir name: AT_Tablet\n",
      "Outpath: metaanalysis/AT_Tablet/AT_Tablet_7.json\n"
     ]
    },
    {
     "name": "stderr",
     "output_type": "stream",
     "text": [
      "100%|██████████| 9/9 [00:00<00:00, 7735.40it/s]\n"
     ]
    },
    {
     "name": "stdout",
     "output_type": "stream",
     "text": [
      "Image_path: ../images-115-max-keys-400/images/AT_Tablet/AT_Tablet1_blur.jpg\n",
      "Dir name: AT_Tablet\n",
      "Outpath: metaanalysis/AT_Tablet/AT_Tablet_8.json\n"
     ]
    },
    {
     "name": "stderr",
     "output_type": "stream",
     "text": [
      "100%|██████████| 42/42 [00:00<00:00, 13211.40it/s]\n"
     ]
    },
    {
     "name": "stdout",
     "output_type": "stream",
     "text": [
      "Dir: ../images-115-max-keys-400/images/Abvida_50mg_Tablet\n",
      "Image_path: ../images-115-max-keys-400/images/Abvida_50mg_Tablet/Abvida_50mg_Tablet1_rotated.jpg\n",
      "Dir name: Abvida_50mg_Tablet\n",
      "Outpath: metaanalysis/Abvida_50mg_Tablet/Abvida_50mg_Tablet_1.json\n"
     ]
    },
    {
     "name": "stderr",
     "output_type": "stream",
     "text": [
      "100%|██████████| 48/48 [00:00<00:00, 15837.52it/s]\n"
     ]
    },
    {
     "name": "stdout",
     "output_type": "stream",
     "text": [
      "Image_path: ../images-115-max-keys-400/images/Abvida_50mg_Tablet/Abvida_50mg_Tablet0_rotated.jpg\n",
      "Dir name: Abvida_50mg_Tablet\n",
      "Outpath: metaanalysis/Abvida_50mg_Tablet/Abvida_50mg_Tablet_2.json\n"
     ]
    },
    {
     "name": "stderr",
     "output_type": "stream",
     "text": [
      "100%|██████████| 9/9 [00:00<00:00, 4907.53it/s]\n"
     ]
    },
    {
     "name": "stdout",
     "output_type": "stream",
     "text": [
      "Image_path: ../images-115-max-keys-400/images/Abvida_50mg_Tablet/Abvida_50mg_Tablet0_blur.jpg\n",
      "Dir name: Abvida_50mg_Tablet\n",
      "Outpath: metaanalysis/Abvida_50mg_Tablet/Abvida_50mg_Tablet_3.json\n"
     ]
    },
    {
     "name": "stderr",
     "output_type": "stream",
     "text": [
      "100%|██████████| 7/7 [00:00<00:00, 5674.55it/s]\n"
     ]
    },
    {
     "name": "stdout",
     "output_type": "stream",
     "text": [
      "Image_path: ../images-115-max-keys-400/images/Abvida_50mg_Tablet/Abvida_50mg_Tablet1_blur.jpg\n",
      "Dir name: Abvida_50mg_Tablet\n",
      "Outpath: metaanalysis/Abvida_50mg_Tablet/Abvida_50mg_Tablet_4.json\n"
     ]
    },
    {
     "name": "stderr",
     "output_type": "stream",
     "text": [
      "100%|██████████| 25/25 [00:00<00:00, 12471.17it/s]\n"
     ]
    },
    {
     "name": "stdout",
     "output_type": "stream",
     "text": [
      "Image_path: ../images-115-max-keys-400/images/Abvida_50mg_Tablet/Abvida_50mg_Tablet0.jpg\n",
      "Dir name: Abvida_50mg_Tablet\n",
      "Outpath: metaanalysis/Abvida_50mg_Tablet/Abvida_50mg_Tablet_5.json\n"
     ]
    },
    {
     "name": "stderr",
     "output_type": "stream",
     "text": [
      "100%|██████████| 9/9 [00:00<00:00, 3927.66it/s]\n"
     ]
    },
    {
     "name": "stdout",
     "output_type": "stream",
     "text": [
      "Image_path: ../images-115-max-keys-400/images/Abvida_50mg_Tablet/Abvida_50mg_Tablet1.jpg\n",
      "Dir name: Abvida_50mg_Tablet\n",
      "Outpath: metaanalysis/Abvida_50mg_Tablet/Abvida_50mg_Tablet_6.json\n"
     ]
    },
    {
     "name": "stderr",
     "output_type": "stream",
     "text": [
      "100%|██████████| 61/61 [00:00<00:00, 30079.07it/s]\n"
     ]
    },
    {
     "name": "stdout",
     "output_type": "stream",
     "text": [
      "Image_path: ../images-115-max-keys-400/images/Abvida_50mg_Tablet/Abvida_50mg_Tablet1_gaussian_noise.jpg\n",
      "Dir name: Abvida_50mg_Tablet\n",
      "Outpath: metaanalysis/Abvida_50mg_Tablet/Abvida_50mg_Tablet_7.json\n"
     ]
    },
    {
     "name": "stderr",
     "output_type": "stream",
     "text": [
      "100%|██████████| 43/43 [00:00<00:00, 36063.80it/s]\n"
     ]
    },
    {
     "name": "stdout",
     "output_type": "stream",
     "text": [
      "Image_path: ../images-115-max-keys-400/images/Abvida_50mg_Tablet/Abvida_50mg_Tablet0_gaussian_noise.jpg\n",
      "Dir name: Abvida_50mg_Tablet\n",
      "Outpath: metaanalysis/Abvida_50mg_Tablet/Abvida_50mg_Tablet_8.json\n"
     ]
    },
    {
     "name": "stderr",
     "output_type": "stream",
     "text": [
      "100%|██████████| 8/8 [00:00<00:00, 11634.69it/s]\n"
     ]
    },
    {
     "name": "stdout",
     "output_type": "stream",
     "text": [
      "Dir: ../images-115-max-keys-400/images/AB_Pas_N_Tablet\n",
      "Image_path: ../images-115-max-keys-400/images/AB_Pas_N_Tablet/AB_Pas_N_Tablet1.jpg\n",
      "Dir name: AB_Pas_N_Tablet\n",
      "Outpath: metaanalysis/AB_Pas_N_Tablet/AB_Pas_N_Tablet_1.json\n"
     ]
    },
    {
     "name": "stderr",
     "output_type": "stream",
     "text": [
      "100%|██████████| 73/73 [00:00<00:00, 11294.98it/s]\n"
     ]
    },
    {
     "name": "stdout",
     "output_type": "stream",
     "text": [
      "Image_path: ../images-115-max-keys-400/images/AB_Pas_N_Tablet/AB_Pas_N_Tablet1_gaussian_noise.jpg\n",
      "Dir name: AB_Pas_N_Tablet\n",
      "Outpath: metaanalysis/AB_Pas_N_Tablet/AB_Pas_N_Tablet_2.json\n"
     ]
    },
    {
     "name": "stderr",
     "output_type": "stream",
     "text": [
      "100%|██████████| 63/63 [00:00<00:00, 57985.77it/s]\n"
     ]
    },
    {
     "name": "stdout",
     "output_type": "stream",
     "text": [
      "Image_path: ../images-115-max-keys-400/images/AB_Pas_N_Tablet/AB_Pas_N_Tablet1_rotated.jpg\n",
      "Dir name: AB_Pas_N_Tablet\n",
      "Outpath: metaanalysis/AB_Pas_N_Tablet/AB_Pas_N_Tablet_3.json\n"
     ]
    },
    {
     "name": "stderr",
     "output_type": "stream",
     "text": [
      "100%|██████████| 63/63 [00:00<00:00, 19571.97it/s]\n"
     ]
    },
    {
     "name": "stdout",
     "output_type": "stream",
     "text": [
      "Image_path: ../images-115-max-keys-400/images/AB_Pas_N_Tablet/AB_Pas_N_Tablet1_blur.jpg\n",
      "Dir name: AB_Pas_N_Tablet\n",
      "Outpath: metaanalysis/AB_Pas_N_Tablet/AB_Pas_N_Tablet_4.json\n"
     ]
    },
    {
     "name": "stderr",
     "output_type": "stream",
     "text": [
      "100%|██████████| 50/50 [00:00<00:00, 10043.35it/s]\n"
     ]
    },
    {
     "name": "stdout",
     "output_type": "stream",
     "text": [
      "Image_path: ../images-115-max-keys-400/images/AB_Pas_N_Tablet/AB_Pas_N_Tablet0.jpg\n",
      "Dir name: AB_Pas_N_Tablet\n",
      "Outpath: metaanalysis/AB_Pas_N_Tablet/AB_Pas_N_Tablet_5.json\n"
     ]
    },
    {
     "name": "stderr",
     "output_type": "stream",
     "text": [
      "100%|██████████| 18/18 [00:00<00:00, 11358.13it/s]\n"
     ]
    },
    {
     "name": "stdout",
     "output_type": "stream",
     "text": [
      "Image_path: ../images-115-max-keys-400/images/AB_Pas_N_Tablet/AB_Pas_N_Tablet0_gaussian_noise.jpg\n",
      "Dir name: AB_Pas_N_Tablet\n",
      "Outpath: metaanalysis/AB_Pas_N_Tablet/AB_Pas_N_Tablet_6.json\n"
     ]
    },
    {
     "name": "stderr",
     "output_type": "stream",
     "text": [
      "100%|██████████| 13/13 [00:00<00:00, 8320.76it/s]\n"
     ]
    },
    {
     "name": "stdout",
     "output_type": "stream",
     "text": [
      "Image_path: ../images-115-max-keys-400/images/AB_Pas_N_Tablet/AB_Pas_N_Tablet0_rotated.jpg\n",
      "Dir name: AB_Pas_N_Tablet\n",
      "Outpath: metaanalysis/AB_Pas_N_Tablet/AB_Pas_N_Tablet_7.json\n"
     ]
    },
    {
     "name": "stderr",
     "output_type": "stream",
     "text": [
      "100%|██████████| 10/10 [00:00<00:00, 5833.52it/s]\n"
     ]
    },
    {
     "name": "stdout",
     "output_type": "stream",
     "text": [
      "Image_path: ../images-115-max-keys-400/images/AB_Pas_N_Tablet/AB_Pas_N_Tablet0_blur.jpg\n",
      "Dir name: AB_Pas_N_Tablet\n",
      "Outpath: metaanalysis/AB_Pas_N_Tablet/AB_Pas_N_Tablet_8.json\n"
     ]
    },
    {
     "name": "stderr",
     "output_type": "stream",
     "text": [
      "100%|██████████| 6/6 [00:00<00:00, 4344.18it/s]\n"
     ]
    },
    {
     "name": "stdout",
     "output_type": "stream",
     "text": [
      "Dir: ../images-115-max-keys-400/images/Acera-L_Capsule_SR\n",
      "Image_path: ../images-115-max-keys-400/images/Acera-L_Capsule_SR/Acera-L_Capsule_SR2.jpg\n",
      "Dir name: Acera-L_Capsule_SR\n",
      "Outpath: metaanalysis/Acera-L_Capsule_SR/Acera-L_Capsule_SR_1.json\n"
     ]
    },
    {
     "name": "stderr",
     "output_type": "stream",
     "text": [
      "100%|██████████| 87/87 [00:00<00:00, 15491.59it/s]\n"
     ]
    },
    {
     "name": "stdout",
     "output_type": "stream",
     "text": [
      "Image_path: ../images-115-max-keys-400/images/Acera-L_Capsule_SR/Acera-L_Capsule_SR0_gaussian_noise.jpg\n",
      "Dir name: Acera-L_Capsule_SR\n",
      "Outpath: metaanalysis/Acera-L_Capsule_SR/Acera-L_Capsule_SR_2.json\n"
     ]
    },
    {
     "name": "stderr",
     "output_type": "stream",
     "text": [
      "100%|██████████| 6/6 [00:00<00:00, 3780.36it/s]\n"
     ]
    },
    {
     "name": "stdout",
     "output_type": "stream",
     "text": [
      "Image_path: ../images-115-max-keys-400/images/Acera-L_Capsule_SR/Acera-L_Capsule_SR0_blur.jpg\n",
      "Dir name: Acera-L_Capsule_SR\n",
      "Outpath: metaanalysis/Acera-L_Capsule_SR/Acera-L_Capsule_SR_3.json\n"
     ]
    },
    {
     "name": "stderr",
     "output_type": "stream",
     "text": [
      "100%|██████████| 7/7 [00:00<00:00, 5255.08it/s]\n"
     ]
    },
    {
     "name": "stdout",
     "output_type": "stream",
     "text": [
      "Image_path: ../images-115-max-keys-400/images/Acera-L_Capsule_SR/Acera-L_Capsule_SR0_rotated.jpg\n",
      "Dir name: Acera-L_Capsule_SR\n",
      "Outpath: metaanalysis/Acera-L_Capsule_SR/Acera-L_Capsule_SR_4.json\n"
     ]
    },
    {
     "name": "stderr",
     "output_type": "stream",
     "text": [
      "100%|██████████| 9/9 [00:00<00:00, 5931.61it/s]\n"
     ]
    },
    {
     "name": "stdout",
     "output_type": "stream",
     "text": [
      "Image_path: ../images-115-max-keys-400/images/Acera-L_Capsule_SR/Acera-L_Capsule_SR2_gaussian_noise.jpg\n",
      "Dir name: Acera-L_Capsule_SR\n",
      "Outpath: metaanalysis/Acera-L_Capsule_SR/Acera-L_Capsule_SR_5.json\n"
     ]
    },
    {
     "name": "stderr",
     "output_type": "stream",
     "text": [
      "100%|██████████| 41/41 [00:00<00:00, 20859.59it/s]\n"
     ]
    },
    {
     "name": "stdout",
     "output_type": "stream",
     "text": [
      "Image_path: ../images-115-max-keys-400/images/Acera-L_Capsule_SR/Acera-L_Capsule_SR0.jpg\n",
      "Dir name: Acera-L_Capsule_SR\n",
      "Outpath: metaanalysis/Acera-L_Capsule_SR/Acera-L_Capsule_SR_6.json\n"
     ]
    },
    {
     "name": "stderr",
     "output_type": "stream",
     "text": [
      "100%|██████████| 10/10 [00:00<00:00, 12648.69it/s]\n"
     ]
    },
    {
     "name": "stdout",
     "output_type": "stream",
     "text": [
      "Image_path: ../images-115-max-keys-400/images/Acera-L_Capsule_SR/Acera-L_Capsule_SR1_gaussian_noise.jpg\n",
      "Dir name: Acera-L_Capsule_SR\n",
      "Outpath: metaanalysis/Acera-L_Capsule_SR/Acera-L_Capsule_SR_7.json\n"
     ]
    },
    {
     "name": "stderr",
     "output_type": "stream",
     "text": [
      "100%|██████████| 4/4 [00:00<00:00, 3912.60it/s]\n"
     ]
    },
    {
     "name": "stdout",
     "output_type": "stream",
     "text": [
      "Image_path: ../images-115-max-keys-400/images/Acera-L_Capsule_SR/Acera-L_Capsule_SR1_blur.jpg\n",
      "Dir name: Acera-L_Capsule_SR\n",
      "Outpath: metaanalysis/Acera-L_Capsule_SR/Acera-L_Capsule_SR_8.json\n"
     ]
    },
    {
     "name": "stderr",
     "output_type": "stream",
     "text": [
      "100%|██████████| 10/10 [00:00<00:00, 8282.59it/s]\n"
     ]
    },
    {
     "name": "stdout",
     "output_type": "stream",
     "text": [
      "Image_path: ../images-115-max-keys-400/images/Acera-L_Capsule_SR/Acera-L_Capsule_SR2_blur.jpg\n",
      "Dir name: Acera-L_Capsule_SR\n",
      "Outpath: metaanalysis/Acera-L_Capsule_SR/Acera-L_Capsule_SR_9.json\n"
     ]
    },
    {
     "name": "stderr",
     "output_type": "stream",
     "text": [
      "100%|██████████| 15/15 [00:00<00:00, 7601.13it/s]\n"
     ]
    },
    {
     "name": "stdout",
     "output_type": "stream",
     "text": [
      "Image_path: ../images-115-max-keys-400/images/Acera-L_Capsule_SR/Acera-L_Capsule_SR1.jpg\n",
      "Dir name: Acera-L_Capsule_SR\n",
      "Outpath: metaanalysis/Acera-L_Capsule_SR/Acera-L_Capsule_SR_10.json\n"
     ]
    },
    {
     "name": "stderr",
     "output_type": "stream",
     "text": [
      "100%|██████████| 10/10 [00:00<00:00, 4432.32it/s]\n"
     ]
    },
    {
     "name": "stdout",
     "output_type": "stream",
     "text": [
      "Image_path: ../images-115-max-keys-400/images/Acera-L_Capsule_SR/Acera-L_Capsule_SR2_rotated.jpg\n",
      "Dir name: Acera-L_Capsule_SR\n",
      "Outpath: metaanalysis/Acera-L_Capsule_SR/Acera-L_Capsule_SR_11.json\n"
     ]
    },
    {
     "name": "stderr",
     "output_type": "stream",
     "text": [
      "100%|██████████| 87/87 [00:00<00:00, 13538.04it/s]\n"
     ]
    },
    {
     "name": "stdout",
     "output_type": "stream",
     "text": [
      "Image_path: ../images-115-max-keys-400/images/Acera-L_Capsule_SR/Acera-L_Capsule_SR1_rotated.jpg\n",
      "Dir name: Acera-L_Capsule_SR\n",
      "Outpath: metaanalysis/Acera-L_Capsule_SR/Acera-L_Capsule_SR_12.json\n"
     ]
    },
    {
     "name": "stderr",
     "output_type": "stream",
     "text": [
      "100%|██████████| 10/10 [00:00<00:00, 15358.13it/s]\n"
     ]
    },
    {
     "name": "stdout",
     "output_type": "stream",
     "text": [
      "Dir: ../images-115-max-keys-400/images/Abevia_100_Capsule\n",
      "Image_path: ../images-115-max-keys-400/images/Abevia_100_Capsule/Abevia_100_Capsule2_blur.jpg\n",
      "Dir name: Abevia_100_Capsule\n",
      "Outpath: metaanalysis/Abevia_100_Capsule/Abevia_100_Capsule_1.json\n"
     ]
    },
    {
     "name": "stderr",
     "output_type": "stream",
     "text": [
      "100%|██████████| 1/1 [00:00<00:00, 1804.00it/s]\n"
     ]
    },
    {
     "name": "stdout",
     "output_type": "stream",
     "text": [
      "Image_path: ../images-115-max-keys-400/images/Abevia_100_Capsule/Abevia_100_Capsule0.jpg\n",
      "Dir name: Abevia_100_Capsule\n",
      "Outpath: metaanalysis/Abevia_100_Capsule/Abevia_100_Capsule_2.json\n"
     ]
    },
    {
     "name": "stderr",
     "output_type": "stream",
     "text": [
      "100%|██████████| 7/7 [00:00<00:00, 12107.27it/s]\n"
     ]
    },
    {
     "name": "stdout",
     "output_type": "stream",
     "text": [
      "Image_path: ../images-115-max-keys-400/images/Abevia_100_Capsule/Abevia_100_Capsule0_blur.jpg\n",
      "Dir name: Abevia_100_Capsule\n",
      "Outpath: metaanalysis/Abevia_100_Capsule/Abevia_100_Capsule_3.json\n"
     ]
    },
    {
     "name": "stderr",
     "output_type": "stream",
     "text": [
      "100%|██████████| 7/7 [00:00<00:00, 6350.88it/s]\n"
     ]
    },
    {
     "name": "stdout",
     "output_type": "stream",
     "text": [
      "Image_path: ../images-115-max-keys-400/images/Abevia_100_Capsule/Abevia_100_Capsule1_gaussian_noise.jpg\n",
      "Dir name: Abevia_100_Capsule\n",
      "Outpath: metaanalysis/Abevia_100_Capsule/Abevia_100_Capsule_4.json\n"
     ]
    },
    {
     "name": "stderr",
     "output_type": "stream",
     "text": [
      "100%|██████████| 6/6 [00:00<00:00, 2010.21it/s]\n"
     ]
    },
    {
     "name": "stdout",
     "output_type": "stream",
     "text": [
      "Image_path: ../images-115-max-keys-400/images/Abevia_100_Capsule/Abevia_100_Capsule2_gaussian_noise.jpg\n",
      "Dir name: Abevia_100_Capsule\n",
      "Outpath: metaanalysis/Abevia_100_Capsule/Abevia_100_Capsule_5.json\n",
      "Image_path: ../images-115-max-keys-400/images/Abevia_100_Capsule/Abevia_100_Capsule1.jpg\n",
      "Dir name: Abevia_100_Capsule\n",
      "Outpath: metaanalysis/Abevia_100_Capsule/Abevia_100_Capsule_6.json\n"
     ]
    },
    {
     "name": "stderr",
     "output_type": "stream",
     "text": [
      "100%|██████████| 6/6 [00:00<00:00, 5443.61it/s]\n"
     ]
    },
    {
     "name": "stdout",
     "output_type": "stream",
     "text": [
      "Image_path: ../images-115-max-keys-400/images/Abevia_100_Capsule/Abevia_100_Capsule0_gaussian_noise.jpg\n",
      "Dir name: Abevia_100_Capsule\n",
      "Outpath: metaanalysis/Abevia_100_Capsule/Abevia_100_Capsule_7.json\n"
     ]
    },
    {
     "name": "stderr",
     "output_type": "stream",
     "text": [
      "100%|██████████| 7/7 [00:00<00:00, 5596.67it/s]\n"
     ]
    },
    {
     "name": "stdout",
     "output_type": "stream",
     "text": [
      "Image_path: ../images-115-max-keys-400/images/Abevia_100_Capsule/Abevia_100_Capsule1_rotated.jpg\n",
      "Dir name: Abevia_100_Capsule\n",
      "Outpath: metaanalysis/Abevia_100_Capsule/Abevia_100_Capsule_8.json\n"
     ]
    },
    {
     "name": "stderr",
     "output_type": "stream",
     "text": [
      "100%|██████████| 6/6 [00:00<00:00, 5976.21it/s]\n"
     ]
    },
    {
     "name": "stdout",
     "output_type": "stream",
     "text": [
      "Image_path: ../images-115-max-keys-400/images/Abevia_100_Capsule/Abevia_100_Capsule0_rotated.jpg\n",
      "Dir name: Abevia_100_Capsule\n",
      "Outpath: metaanalysis/Abevia_100_Capsule/Abevia_100_Capsule_9.json\n"
     ]
    },
    {
     "name": "stderr",
     "output_type": "stream",
     "text": [
      "100%|██████████| 7/7 [00:00<00:00, 5061.22it/s]\n"
     ]
    },
    {
     "name": "stdout",
     "output_type": "stream",
     "text": [
      "Image_path: ../images-115-max-keys-400/images/Abevia_100_Capsule/Abevia_100_Capsule1_blur.jpg\n",
      "Dir name: Abevia_100_Capsule\n",
      "Outpath: metaanalysis/Abevia_100_Capsule/Abevia_100_Capsule_10.json\n"
     ]
    },
    {
     "name": "stderr",
     "output_type": "stream",
     "text": [
      "100%|██████████| 6/6 [00:00<00:00, 6906.10it/s]\n"
     ]
    },
    {
     "name": "stdout",
     "output_type": "stream",
     "text": [
      "Image_path: ../images-115-max-keys-400/images/Abevia_100_Capsule/Abevia_100_Capsule2_rotated.jpg\n",
      "Dir name: Abevia_100_Capsule\n",
      "Outpath: metaanalysis/Abevia_100_Capsule/Abevia_100_Capsule_11.json\n",
      "Image_path: ../images-115-max-keys-400/images/Abevia_100_Capsule/Abevia_100_Capsule2.jpg\n",
      "Dir name: Abevia_100_Capsule\n",
      "Outpath: metaanalysis/Abevia_100_Capsule/Abevia_100_Capsule_12.json\n",
      "Dir: ../images-115-max-keys-400/images/Acera-D_Capsule_SR\n",
      "Image_path: ../images-115-max-keys-400/images/Acera-D_Capsule_SR/Acera-D_Capsule_SR2_blur.jpg\n",
      "Dir name: Acera-D_Capsule_SR\n",
      "Outpath: metaanalysis/Acera-D_Capsule_SR/Acera-D_Capsule_SR_1.json\n"
     ]
    },
    {
     "name": "stderr",
     "output_type": "stream",
     "text": [
      "100%|██████████| 77/77 [00:00<00:00, 4276.05it/s]\n"
     ]
    },
    {
     "name": "stdout",
     "output_type": "stream",
     "text": [
      "Image_path: ../images-115-max-keys-400/images/Acera-D_Capsule_SR/Acera-D_Capsule_SR2_rotated.jpg\n",
      "Dir name: Acera-D_Capsule_SR\n",
      "Outpath: metaanalysis/Acera-D_Capsule_SR/Acera-D_Capsule_SR_2.json\n"
     ]
    },
    {
     "name": "stderr",
     "output_type": "stream",
     "text": [
      "100%|██████████| 77/77 [00:00<00:00, 13670.90it/s]\n"
     ]
    },
    {
     "name": "stdout",
     "output_type": "stream",
     "text": [
      "Image_path: ../images-115-max-keys-400/images/Acera-D_Capsule_SR/Acera-D_Capsule_SR0_gaussian_noise.jpg\n",
      "Dir name: Acera-D_Capsule_SR\n",
      "Outpath: metaanalysis/Acera-D_Capsule_SR/Acera-D_Capsule_SR_3.json\n"
     ]
    },
    {
     "name": "stderr",
     "output_type": "stream",
     "text": [
      "100%|██████████| 3/3 [00:00<00:00, 2432.42it/s]\n"
     ]
    },
    {
     "name": "stdout",
     "output_type": "stream",
     "text": [
      "Image_path: ../images-115-max-keys-400/images/Acera-D_Capsule_SR/Acera-D_Capsule_SR0_blur.jpg\n",
      "Dir name: Acera-D_Capsule_SR\n",
      "Outpath: metaanalysis/Acera-D_Capsule_SR/Acera-D_Capsule_SR_4.json\n"
     ]
    },
    {
     "name": "stderr",
     "output_type": "stream",
     "text": [
      "100%|██████████| 9/9 [00:00<00:00, 7621.39it/s]\n"
     ]
    },
    {
     "name": "stdout",
     "output_type": "stream",
     "text": [
      "Image_path: ../images-115-max-keys-400/images/Acera-D_Capsule_SR/Acera-D_Capsule_SR1_rotated.jpg\n",
      "Dir name: Acera-D_Capsule_SR\n",
      "Outpath: metaanalysis/Acera-D_Capsule_SR/Acera-D_Capsule_SR_5.json\n"
     ]
    },
    {
     "name": "stderr",
     "output_type": "stream",
     "text": [
      "100%|██████████| 17/17 [00:00<00:00, 11211.19it/s]\n"
     ]
    },
    {
     "name": "stdout",
     "output_type": "stream",
     "text": [
      "Image_path: ../images-115-max-keys-400/images/Acera-D_Capsule_SR/Acera-D_Capsule_SR0.jpg\n",
      "Dir name: Acera-D_Capsule_SR\n",
      "Outpath: metaanalysis/Acera-D_Capsule_SR/Acera-D_Capsule_SR_6.json\n"
     ]
    },
    {
     "name": "stderr",
     "output_type": "stream",
     "text": [
      "100%|██████████| 15/15 [00:00<00:00, 8536.58it/s]\n"
     ]
    },
    {
     "name": "stdout",
     "output_type": "stream",
     "text": [
      "Image_path: ../images-115-max-keys-400/images/Acera-D_Capsule_SR/Acera-D_Capsule_SR2_gaussian_noise.jpg\n",
      "Dir name: Acera-D_Capsule_SR\n",
      "Outpath: metaanalysis/Acera-D_Capsule_SR/Acera-D_Capsule_SR_7.json\n"
     ]
    },
    {
     "name": "stderr",
     "output_type": "stream",
     "text": [
      "100%|██████████| 78/78 [00:00<00:00, 10346.81it/s]\n"
     ]
    },
    {
     "name": "stdout",
     "output_type": "stream",
     "text": [
      "Image_path: ../images-115-max-keys-400/images/Acera-D_Capsule_SR/Acera-D_Capsule_SR1_gaussian_noise.jpg\n",
      "Dir name: Acera-D_Capsule_SR\n",
      "Outpath: metaanalysis/Acera-D_Capsule_SR/Acera-D_Capsule_SR_8.json\n"
     ]
    },
    {
     "name": "stderr",
     "output_type": "stream",
     "text": [
      "100%|██████████| 5/5 [00:00<00:00, 7337.83it/s]\n"
     ]
    },
    {
     "name": "stdout",
     "output_type": "stream",
     "text": [
      "Image_path: ../images-115-max-keys-400/images/Acera-D_Capsule_SR/Acera-D_Capsule_SR0_rotated.jpg\n",
      "Dir name: Acera-D_Capsule_SR\n",
      "Outpath: metaanalysis/Acera-D_Capsule_SR/Acera-D_Capsule_SR_9.json\n"
     ]
    },
    {
     "name": "stderr",
     "output_type": "stream",
     "text": [
      "100%|██████████| 12/12 [00:00<00:00, 5356.71it/s]\n"
     ]
    },
    {
     "name": "stdout",
     "output_type": "stream",
     "text": [
      "Image_path: ../images-115-max-keys-400/images/Acera-D_Capsule_SR/Acera-D_Capsule_SR2.jpg\n",
      "Dir name: Acera-D_Capsule_SR\n",
      "Outpath: metaanalysis/Acera-D_Capsule_SR/Acera-D_Capsule_SR_10.json\n"
     ]
    },
    {
     "name": "stderr",
     "output_type": "stream",
     "text": [
      "100%|██████████| 77/77 [00:00<00:00, 11946.93it/s]\n"
     ]
    },
    {
     "name": "stdout",
     "output_type": "stream",
     "text": [
      "Image_path: ../images-115-max-keys-400/images/Acera-D_Capsule_SR/Acera-D_Capsule_SR1_blur.jpg\n",
      "Dir name: Acera-D_Capsule_SR\n",
      "Outpath: metaanalysis/Acera-D_Capsule_SR/Acera-D_Capsule_SR_11.json\n"
     ]
    },
    {
     "name": "stderr",
     "output_type": "stream",
     "text": [
      "100%|██████████| 15/15 [00:00<00:00, 23087.91it/s]\n"
     ]
    },
    {
     "name": "stdout",
     "output_type": "stream",
     "text": [
      "Image_path: ../images-115-max-keys-400/images/Acera-D_Capsule_SR/Acera-D_Capsule_SR1.jpg\n",
      "Dir name: Acera-D_Capsule_SR\n",
      "Outpath: metaanalysis/Acera-D_Capsule_SR/Acera-D_Capsule_SR_12.json\n"
     ]
    },
    {
     "name": "stderr",
     "output_type": "stream",
     "text": [
      "100%|██████████| 18/18 [00:00<00:00, 12608.13it/s]\n"
     ]
    },
    {
     "name": "stdout",
     "output_type": "stream",
     "text": [
      "Dir: ../images-115-max-keys-400/images/Accept-SP_Tablet\n",
      "Image_path: ../images-115-max-keys-400/images/Accept-SP_Tablet/Accept-SP_Tablet0_blur.jpg\n",
      "Dir name: Accept-SP_Tablet\n",
      "Outpath: metaanalysis/Accept-SP_Tablet/Accept-SP_Tablet_1.json\n"
     ]
    },
    {
     "name": "stderr",
     "output_type": "stream",
     "text": [
      "100%|██████████| 7/7 [00:00<00:00, 14088.35it/s]\n"
     ]
    },
    {
     "name": "stdout",
     "output_type": "stream",
     "text": [
      "Image_path: ../images-115-max-keys-400/images/Accept-SP_Tablet/Accept-SP_Tablet1_rotated.jpg\n",
      "Dir name: Accept-SP_Tablet\n",
      "Outpath: metaanalysis/Accept-SP_Tablet/Accept-SP_Tablet_2.json\n"
     ]
    },
    {
     "name": "stderr",
     "output_type": "stream",
     "text": [
      "100%|██████████| 12/12 [00:00<00:00, 6626.07it/s]\n"
     ]
    },
    {
     "name": "stdout",
     "output_type": "stream",
     "text": [
      "Image_path: ../images-115-max-keys-400/images/Accept-SP_Tablet/Accept-SP_Tablet1.jpg\n",
      "Dir name: Accept-SP_Tablet\n",
      "Outpath: metaanalysis/Accept-SP_Tablet/Accept-SP_Tablet_3.json\n"
     ]
    },
    {
     "name": "stderr",
     "output_type": "stream",
     "text": [
      "100%|██████████| 15/15 [00:00<00:00, 11861.72it/s]\n"
     ]
    },
    {
     "name": "stdout",
     "output_type": "stream",
     "text": [
      "Image_path: ../images-115-max-keys-400/images/Accept-SP_Tablet/Accept-SP_Tablet2.jpg\n",
      "Dir name: Accept-SP_Tablet\n",
      "Outpath: metaanalysis/Accept-SP_Tablet/Accept-SP_Tablet_4.json\n"
     ]
    },
    {
     "name": "stderr",
     "output_type": "stream",
     "text": [
      "100%|██████████| 84/84 [00:00<00:00, 21114.80it/s]\n"
     ]
    },
    {
     "name": "stdout",
     "output_type": "stream",
     "text": [
      "Image_path: ../images-115-max-keys-400/images/Accept-SP_Tablet/Accept-SP_Tablet1_gaussian_noise.jpg\n",
      "Dir name: Accept-SP_Tablet\n",
      "Outpath: metaanalysis/Accept-SP_Tablet/Accept-SP_Tablet_5.json\n"
     ]
    },
    {
     "name": "stderr",
     "output_type": "stream",
     "text": [
      "100%|██████████| 10/10 [00:00<00:00, 24314.81it/s]\n"
     ]
    },
    {
     "name": "stdout",
     "output_type": "stream",
     "text": [
      "Image_path: ../images-115-max-keys-400/images/Accept-SP_Tablet/Accept-SP_Tablet0_rotated.jpg\n",
      "Dir name: Accept-SP_Tablet\n",
      "Outpath: metaanalysis/Accept-SP_Tablet/Accept-SP_Tablet_6.json\n"
     ]
    },
    {
     "name": "stderr",
     "output_type": "stream",
     "text": [
      "100%|██████████| 8/8 [00:00<00:00, 9936.17it/s]\n"
     ]
    },
    {
     "name": "stdout",
     "output_type": "stream",
     "text": [
      "Image_path: ../images-115-max-keys-400/images/Accept-SP_Tablet/Accept-SP_Tablet0_gaussian_noise.jpg\n",
      "Dir name: Accept-SP_Tablet\n",
      "Outpath: metaanalysis/Accept-SP_Tablet/Accept-SP_Tablet_7.json\n"
     ]
    },
    {
     "name": "stderr",
     "output_type": "stream",
     "text": [
      "100%|██████████| 6/6 [00:00<00:00, 5983.32it/s]\n"
     ]
    },
    {
     "name": "stdout",
     "output_type": "stream",
     "text": [
      "Image_path: ../images-115-max-keys-400/images/Accept-SP_Tablet/Accept-SP_Tablet2_gaussian_noise.jpg\n",
      "Dir name: Accept-SP_Tablet\n",
      "Outpath: metaanalysis/Accept-SP_Tablet/Accept-SP_Tablet_8.json\n"
     ]
    },
    {
     "name": "stderr",
     "output_type": "stream",
     "text": [
      "100%|██████████| 84/84 [00:00<00:00, 16615.02it/s]\n"
     ]
    },
    {
     "name": "stdout",
     "output_type": "stream",
     "text": [
      "Image_path: ../images-115-max-keys-400/images/Accept-SP_Tablet/Accept-SP_Tablet1_blur.jpg\n",
      "Dir name: Accept-SP_Tablet\n",
      "Outpath: metaanalysis/Accept-SP_Tablet/Accept-SP_Tablet_9.json\n"
     ]
    },
    {
     "name": "stderr",
     "output_type": "stream",
     "text": [
      "100%|██████████| 11/11 [00:00<00:00, 7946.49it/s]\n"
     ]
    },
    {
     "name": "stdout",
     "output_type": "stream",
     "text": [
      "Image_path: ../images-115-max-keys-400/images/Accept-SP_Tablet/Accept-SP_Tablet0.jpg\n",
      "Dir name: Accept-SP_Tablet\n",
      "Outpath: metaanalysis/Accept-SP_Tablet/Accept-SP_Tablet_10.json\n"
     ]
    },
    {
     "name": "stderr",
     "output_type": "stream",
     "text": [
      "100%|██████████| 10/10 [00:00<00:00, 8905.10it/s]\n"
     ]
    },
    {
     "name": "stdout",
     "output_type": "stream",
     "text": [
      "Image_path: ../images-115-max-keys-400/images/Accept-SP_Tablet/Accept-SP_Tablet2_blur.jpg\n",
      "Dir name: Accept-SP_Tablet\n",
      "Outpath: metaanalysis/Accept-SP_Tablet/Accept-SP_Tablet_11.json\n"
     ]
    },
    {
     "name": "stderr",
     "output_type": "stream",
     "text": [
      "100%|██████████| 84/84 [00:00<00:00, 11170.27it/s]\n"
     ]
    },
    {
     "name": "stdout",
     "output_type": "stream",
     "text": [
      "Image_path: ../images-115-max-keys-400/images/Accept-SP_Tablet/Accept-SP_Tablet2_rotated.jpg\n",
      "Dir name: Accept-SP_Tablet\n",
      "Outpath: metaanalysis/Accept-SP_Tablet/Accept-SP_Tablet_12.json\n"
     ]
    },
    {
     "name": "stderr",
     "output_type": "stream",
     "text": [
      "100%|██████████| 79/79 [00:00<00:00, 16575.79it/s]\n"
     ]
    },
    {
     "name": "stdout",
     "output_type": "stream",
     "text": [
      "Dir: ../images-115-max-keys-400/images/AL-D3_Soft_Gelatin_Capsule\n",
      "Image_path: ../images-115-max-keys-400/images/AL-D3_Soft_Gelatin_Capsule/AL-D3_Soft_Gelatin_Capsule0.jpg\n",
      "Dir name: AL-D3_Soft_Gelatin_Capsule\n",
      "Outpath: metaanalysis/AL-D3_Soft_Gelatin_Capsule/AL-D3_Soft_Gelatin_Capsule_1.json\n"
     ]
    },
    {
     "name": "stderr",
     "output_type": "stream",
     "text": [
      "100%|██████████| 6/6 [00:00<00:00, 2313.67it/s]\n"
     ]
    },
    {
     "name": "stdout",
     "output_type": "stream",
     "text": [
      "Image_path: ../images-115-max-keys-400/images/AL-D3_Soft_Gelatin_Capsule/AL-D3_Soft_Gelatin_Capsule1_rotated.jpg\n",
      "Dir name: AL-D3_Soft_Gelatin_Capsule\n",
      "Outpath: metaanalysis/AL-D3_Soft_Gelatin_Capsule/AL-D3_Soft_Gelatin_Capsule_2.json\n"
     ]
    },
    {
     "name": "stderr",
     "output_type": "stream",
     "text": [
      "100%|██████████| 67/67 [00:00<00:00, 9306.48it/s]\n"
     ]
    },
    {
     "name": "stdout",
     "output_type": "stream",
     "text": [
      "Image_path: ../images-115-max-keys-400/images/AL-D3_Soft_Gelatin_Capsule/AL-D3_Soft_Gelatin_Capsule0_rotated.jpg\n",
      "Dir name: AL-D3_Soft_Gelatin_Capsule\n",
      "Outpath: metaanalysis/AL-D3_Soft_Gelatin_Capsule/AL-D3_Soft_Gelatin_Capsule_3.json\n"
     ]
    },
    {
     "name": "stderr",
     "output_type": "stream",
     "text": [
      "100%|██████████| 6/6 [00:00<00:00, 4299.65it/s]\n"
     ]
    },
    {
     "name": "stdout",
     "output_type": "stream",
     "text": [
      "Image_path: ../images-115-max-keys-400/images/AL-D3_Soft_Gelatin_Capsule/AL-D3_Soft_Gelatin_Capsule0_blur.jpg\n",
      "Dir name: AL-D3_Soft_Gelatin_Capsule\n",
      "Outpath: metaanalysis/AL-D3_Soft_Gelatin_Capsule/AL-D3_Soft_Gelatin_Capsule_4.json\n"
     ]
    },
    {
     "name": "stderr",
     "output_type": "stream",
     "text": [
      "100%|██████████| 9/9 [00:00<00:00, 11508.76it/s]\n"
     ]
    },
    {
     "name": "stdout",
     "output_type": "stream",
     "text": [
      "Image_path: ../images-115-max-keys-400/images/AL-D3_Soft_Gelatin_Capsule/AL-D3_Soft_Gelatin_Capsule0_gaussian_noise.jpg\n",
      "Dir name: AL-D3_Soft_Gelatin_Capsule\n",
      "Outpath: metaanalysis/AL-D3_Soft_Gelatin_Capsule/AL-D3_Soft_Gelatin_Capsule_5.json\n"
     ]
    },
    {
     "name": "stderr",
     "output_type": "stream",
     "text": [
      "100%|██████████| 6/6 [00:00<00:00, 4369.07it/s]\n"
     ]
    },
    {
     "name": "stdout",
     "output_type": "stream",
     "text": [
      "Image_path: ../images-115-max-keys-400/images/AL-D3_Soft_Gelatin_Capsule/AL-D3_Soft_Gelatin_Capsule1_blur.jpg\n",
      "Dir name: AL-D3_Soft_Gelatin_Capsule\n",
      "Outpath: metaanalysis/AL-D3_Soft_Gelatin_Capsule/AL-D3_Soft_Gelatin_Capsule_6.json\n"
     ]
    },
    {
     "name": "stderr",
     "output_type": "stream",
     "text": [
      "100%|██████████| 64/64 [00:00<00:00, 8970.87it/s]\n"
     ]
    },
    {
     "name": "stdout",
     "output_type": "stream",
     "text": [
      "Image_path: ../images-115-max-keys-400/images/AL-D3_Soft_Gelatin_Capsule/AL-D3_Soft_Gelatin_Capsule1_gaussian_noise.jpg\n",
      "Dir name: AL-D3_Soft_Gelatin_Capsule\n",
      "Outpath: metaanalysis/AL-D3_Soft_Gelatin_Capsule/AL-D3_Soft_Gelatin_Capsule_7.json\n"
     ]
    },
    {
     "name": "stderr",
     "output_type": "stream",
     "text": [
      "100%|██████████| 51/51 [00:00<00:00, 11037.07it/s]\n"
     ]
    },
    {
     "name": "stdout",
     "output_type": "stream",
     "text": [
      "Image_path: ../images-115-max-keys-400/images/AL-D3_Soft_Gelatin_Capsule/AL-D3_Soft_Gelatin_Capsule1.jpg\n",
      "Dir name: AL-D3_Soft_Gelatin_Capsule\n",
      "Outpath: metaanalysis/AL-D3_Soft_Gelatin_Capsule/AL-D3_Soft_Gelatin_Capsule_8.json\n"
     ]
    },
    {
     "name": "stderr",
     "output_type": "stream",
     "text": [
      "100%|██████████| 67/67 [00:00<00:00, 18151.30it/s]\n"
     ]
    },
    {
     "name": "stdout",
     "output_type": "stream",
     "text": [
      "Dir: ../images-115-max-keys-400/images/Acentio_MR8_Tablet\n",
      "Image_path: ../images-115-max-keys-400/images/Acentio_MR8_Tablet/Acentio_MR8_Tablet1_rotated.jpg\n",
      "Dir name: Acentio_MR8_Tablet\n",
      "Outpath: metaanalysis/Acentio_MR8_Tablet/Acentio_MR8_Tablet_1.json\n"
     ]
    },
    {
     "name": "stderr",
     "output_type": "stream",
     "text": [
      "100%|██████████| 51/51 [00:00<00:00, 31737.32it/s]\n"
     ]
    },
    {
     "name": "stdout",
     "output_type": "stream",
     "text": [
      "Image_path: ../images-115-max-keys-400/images/Acentio_MR8_Tablet/Acentio_MR8_Tablet0_gaussian_noise.jpg\n",
      "Dir name: Acentio_MR8_Tablet\n",
      "Outpath: metaanalysis/Acentio_MR8_Tablet/Acentio_MR8_Tablet_2.json\n"
     ]
    },
    {
     "name": "stderr",
     "output_type": "stream",
     "text": [
      "100%|██████████| 10/10 [00:00<00:00, 6662.91it/s]\n"
     ]
    },
    {
     "name": "stdout",
     "output_type": "stream",
     "text": [
      "Image_path: ../images-115-max-keys-400/images/Acentio_MR8_Tablet/Acentio_MR8_Tablet1_blur.jpg\n",
      "Dir name: Acentio_MR8_Tablet\n",
      "Outpath: metaanalysis/Acentio_MR8_Tablet/Acentio_MR8_Tablet_3.json\n"
     ]
    },
    {
     "name": "stderr",
     "output_type": "stream",
     "text": [
      "100%|██████████| 37/37 [00:00<00:00, 15545.35it/s]\n"
     ]
    },
    {
     "name": "stdout",
     "output_type": "stream",
     "text": [
      "Image_path: ../images-115-max-keys-400/images/Acentio_MR8_Tablet/Acentio_MR8_Tablet0_blur.jpg\n",
      "Dir name: Acentio_MR8_Tablet\n",
      "Outpath: metaanalysis/Acentio_MR8_Tablet/Acentio_MR8_Tablet_4.json\n"
     ]
    },
    {
     "name": "stderr",
     "output_type": "stream",
     "text": [
      "100%|██████████| 8/8 [00:00<00:00, 7496.52it/s]\n"
     ]
    },
    {
     "name": "stdout",
     "output_type": "stream",
     "text": [
      "Image_path: ../images-115-max-keys-400/images/Acentio_MR8_Tablet/Acentio_MR8_Tablet2.jpg\n",
      "Dir name: Acentio_MR8_Tablet\n",
      "Outpath: metaanalysis/Acentio_MR8_Tablet/Acentio_MR8_Tablet_5.json\n"
     ]
    },
    {
     "name": "stderr",
     "output_type": "stream",
     "text": [
      "100%|██████████| 48/48 [00:00<00:00, 17296.10it/s]\n"
     ]
    },
    {
     "name": "stdout",
     "output_type": "stream",
     "text": [
      "Image_path: ../images-115-max-keys-400/images/Acentio_MR8_Tablet/Acentio_MR8_Tablet1.jpg\n",
      "Dir name: Acentio_MR8_Tablet\n",
      "Outpath: metaanalysis/Acentio_MR8_Tablet/Acentio_MR8_Tablet_6.json\n"
     ]
    },
    {
     "name": "stderr",
     "output_type": "stream",
     "text": [
      "100%|██████████| 61/61 [00:00<00:00, 15678.20it/s]\n"
     ]
    },
    {
     "name": "stdout",
     "output_type": "stream",
     "text": [
      "Image_path: ../images-115-max-keys-400/images/Acentio_MR8_Tablet/Acentio_MR8_Tablet2_gaussian_noise.jpg\n",
      "Dir name: Acentio_MR8_Tablet\n",
      "Outpath: metaanalysis/Acentio_MR8_Tablet/Acentio_MR8_Tablet_7.json\n"
     ]
    },
    {
     "name": "stderr",
     "output_type": "stream",
     "text": [
      "100%|██████████| 40/40 [00:00<00:00, 13422.85it/s]\n"
     ]
    },
    {
     "name": "stdout",
     "output_type": "stream",
     "text": [
      "Image_path: ../images-115-max-keys-400/images/Acentio_MR8_Tablet/Acentio_MR8_Tablet2_rotated.jpg\n",
      "Dir name: Acentio_MR8_Tablet\n",
      "Outpath: metaanalysis/Acentio_MR8_Tablet/Acentio_MR8_Tablet_8.json\n"
     ]
    },
    {
     "name": "stderr",
     "output_type": "stream",
     "text": [
      "100%|██████████| 37/37 [00:00<00:00, 12724.60it/s]\n"
     ]
    },
    {
     "name": "stdout",
     "output_type": "stream",
     "text": [
      "Image_path: ../images-115-max-keys-400/images/Acentio_MR8_Tablet/Acentio_MR8_Tablet0_rotated.jpg\n",
      "Dir name: Acentio_MR8_Tablet\n",
      "Outpath: metaanalysis/Acentio_MR8_Tablet/Acentio_MR8_Tablet_9.json\n"
     ]
    },
    {
     "name": "stderr",
     "output_type": "stream",
     "text": [
      "100%|██████████| 9/9 [00:00<00:00, 6955.73it/s]\n"
     ]
    },
    {
     "name": "stdout",
     "output_type": "stream",
     "text": [
      "Image_path: ../images-115-max-keys-400/images/Acentio_MR8_Tablet/Acentio_MR8_Tablet1_gaussian_noise.jpg\n",
      "Dir name: Acentio_MR8_Tablet\n",
      "Outpath: metaanalysis/Acentio_MR8_Tablet/Acentio_MR8_Tablet_10.json\n"
     ]
    },
    {
     "name": "stderr",
     "output_type": "stream",
     "text": [
      "100%|██████████| 46/46 [00:00<00:00, 17511.16it/s]\n"
     ]
    },
    {
     "name": "stdout",
     "output_type": "stream",
     "text": [
      "Image_path: ../images-115-max-keys-400/images/Acentio_MR8_Tablet/Acentio_MR8_Tablet0.jpg\n",
      "Dir name: Acentio_MR8_Tablet\n",
      "Outpath: metaanalysis/Acentio_MR8_Tablet/Acentio_MR8_Tablet_11.json\n"
     ]
    },
    {
     "name": "stderr",
     "output_type": "stream",
     "text": [
      "100%|██████████| 9/9 [00:00<00:00, 21870.65it/s]\n"
     ]
    },
    {
     "name": "stdout",
     "output_type": "stream",
     "text": [
      "Image_path: ../images-115-max-keys-400/images/Acentio_MR8_Tablet/Acentio_MR8_Tablet2_blur.jpg\n",
      "Dir name: Acentio_MR8_Tablet\n",
      "Outpath: metaanalysis/Acentio_MR8_Tablet/Acentio_MR8_Tablet_12.json\n"
     ]
    },
    {
     "name": "stderr",
     "output_type": "stream",
     "text": [
      "100%|██████████| 10/10 [00:00<00:00, 7108.99it/s]\n"
     ]
    },
    {
     "name": "stdout",
     "output_type": "stream",
     "text": [
      "Dir: ../images-115-max-keys-400/images/Ace-TH_4_Tablet\n",
      "Image_path: ../images-115-max-keys-400/images/Ace-TH_4_Tablet/Ace-TH_4_Tablet1_rotated.jpg\n",
      "Dir name: Ace-TH_4_Tablet\n",
      "Outpath: metaanalysis/Ace-TH_4_Tablet/Ace-TH_4_Tablet_1.json\n"
     ]
    },
    {
     "name": "stderr",
     "output_type": "stream",
     "text": [
      "100%|██████████| 12/12 [00:00<00:00, 6173.39it/s]\n"
     ]
    },
    {
     "name": "stdout",
     "output_type": "stream",
     "text": [
      "Image_path: ../images-115-max-keys-400/images/Ace-TH_4_Tablet/Ace-TH_4_Tablet0_gaussian_noise.jpg\n",
      "Dir name: Ace-TH_4_Tablet\n",
      "Outpath: metaanalysis/Ace-TH_4_Tablet/Ace-TH_4_Tablet_2.json\n"
     ]
    },
    {
     "name": "stderr",
     "output_type": "stream",
     "text": [
      "100%|██████████| 3/3 [00:00<00:00, 3492.34it/s]\n"
     ]
    },
    {
     "name": "stdout",
     "output_type": "stream",
     "text": [
      "Image_path: ../images-115-max-keys-400/images/Ace-TH_4_Tablet/Ace-TH_4_Tablet1_gaussian_noise.jpg\n",
      "Dir name: Ace-TH_4_Tablet\n",
      "Outpath: metaanalysis/Ace-TH_4_Tablet/Ace-TH_4_Tablet_3.json\n"
     ]
    },
    {
     "name": "stderr",
     "output_type": "stream",
     "text": [
      "100%|██████████| 6/6 [00:00<00:00, 6296.18it/s]\n"
     ]
    },
    {
     "name": "stdout",
     "output_type": "stream",
     "text": [
      "Image_path: ../images-115-max-keys-400/images/Ace-TH_4_Tablet/Ace-TH_4_Tablet1.jpg\n",
      "Dir name: Ace-TH_4_Tablet\n",
      "Outpath: metaanalysis/Ace-TH_4_Tablet/Ace-TH_4_Tablet_4.json\n"
     ]
    },
    {
     "name": "stderr",
     "output_type": "stream",
     "text": [
      "100%|██████████| 12/12 [00:00<00:00, 4986.79it/s]\n"
     ]
    },
    {
     "name": "stdout",
     "output_type": "stream",
     "text": [
      "Image_path: ../images-115-max-keys-400/images/Ace-TH_4_Tablet/Ace-TH_4_Tablet2_blur.jpg\n",
      "Dir name: Ace-TH_4_Tablet\n",
      "Outpath: metaanalysis/Ace-TH_4_Tablet/Ace-TH_4_Tablet_5.json\n",
      "Image_path: ../images-115-max-keys-400/images/Ace-TH_4_Tablet/Ace-TH_4_Tablet0_rotated.jpg\n",
      "Dir name: Ace-TH_4_Tablet\n",
      "Outpath: metaanalysis/Ace-TH_4_Tablet/Ace-TH_4_Tablet_6.json\n"
     ]
    },
    {
     "name": "stderr",
     "output_type": "stream",
     "text": [
      "100%|██████████| 4/4 [00:00<00:00, 5603.61it/s]\n"
     ]
    },
    {
     "name": "stdout",
     "output_type": "stream",
     "text": [
      "Image_path: ../images-115-max-keys-400/images/Ace-TH_4_Tablet/Ace-TH_4_Tablet2.jpg\n",
      "Dir name: Ace-TH_4_Tablet\n",
      "Outpath: metaanalysis/Ace-TH_4_Tablet/Ace-TH_4_Tablet_7.json\n"
     ]
    },
    {
     "name": "stderr",
     "output_type": "stream",
     "text": [
      "100%|██████████| 2/2 [00:00<00:00, 2423.75it/s]\n"
     ]
    },
    {
     "name": "stdout",
     "output_type": "stream",
     "text": [
      "Image_path: ../images-115-max-keys-400/images/Ace-TH_4_Tablet/Ace-TH_4_Tablet0_blur.jpg\n",
      "Dir name: Ace-TH_4_Tablet\n",
      "Outpath: metaanalysis/Ace-TH_4_Tablet/Ace-TH_4_Tablet_8.json\n"
     ]
    },
    {
     "name": "stderr",
     "output_type": "stream",
     "text": [
      "100%|██████████| 6/6 [00:00<00:00, 2613.27it/s]\n"
     ]
    },
    {
     "name": "stdout",
     "output_type": "stream",
     "text": [
      "Image_path: ../images-115-max-keys-400/images/Ace-TH_4_Tablet/Ace-TH_4_Tablet2_rotated.jpg\n",
      "Dir name: Ace-TH_4_Tablet\n",
      "Outpath: metaanalysis/Ace-TH_4_Tablet/Ace-TH_4_Tablet_9.json\n"
     ]
    },
    {
     "name": "stderr",
     "output_type": "stream",
     "text": [
      "100%|██████████| 1/1 [00:00<00:00, 1671.70it/s]\n"
     ]
    },
    {
     "name": "stdout",
     "output_type": "stream",
     "text": [
      "Image_path: ../images-115-max-keys-400/images/Ace-TH_4_Tablet/Ace-TH_4_Tablet1_blur.jpg\n",
      "Dir name: Ace-TH_4_Tablet\n",
      "Outpath: metaanalysis/Ace-TH_4_Tablet/Ace-TH_4_Tablet_10.json\n"
     ]
    },
    {
     "name": "stderr",
     "output_type": "stream",
     "text": [
      "100%|██████████| 9/9 [00:00<00:00, 9028.64it/s]\n"
     ]
    },
    {
     "name": "stdout",
     "output_type": "stream",
     "text": [
      "Image_path: ../images-115-max-keys-400/images/Ace-TH_4_Tablet/Ace-TH_4_Tablet2_gaussian_noise.jpg\n",
      "Dir name: Ace-TH_4_Tablet\n",
      "Outpath: metaanalysis/Ace-TH_4_Tablet/Ace-TH_4_Tablet_11.json\n"
     ]
    },
    {
     "name": "stderr",
     "output_type": "stream",
     "text": [
      "100%|██████████| 1/1 [00:00<00:00, 3390.71it/s]\n"
     ]
    },
    {
     "name": "stdout",
     "output_type": "stream",
     "text": [
      "Image_path: ../images-115-max-keys-400/images/Ace-TH_4_Tablet/Ace-TH_4_Tablet0.jpg\n",
      "Dir name: Ace-TH_4_Tablet\n",
      "Outpath: metaanalysis/Ace-TH_4_Tablet/Ace-TH_4_Tablet_12.json\n"
     ]
    },
    {
     "name": "stderr",
     "output_type": "stream",
     "text": [
      "100%|██████████| 8/8 [00:00<00:00, 7033.00it/s]\n"
     ]
    },
    {
     "name": "stdout",
     "output_type": "stream",
     "text": [
      "Dir: ../images-115-max-keys-400/images/AF_300_Tablet\n",
      "Image_path: ../images-115-max-keys-400/images/AF_300_Tablet/AF_300_Tablet2_rotated.jpg\n",
      "Dir name: AF_300_Tablet\n",
      "Outpath: metaanalysis/AF_300_Tablet/AF_300_Tablet_1.json\n"
     ]
    },
    {
     "name": "stderr",
     "output_type": "stream",
     "text": [
      "100%|██████████| 15/15 [00:00<00:00, 11890.86it/s]\n"
     ]
    },
    {
     "name": "stdout",
     "output_type": "stream",
     "text": [
      "Image_path: ../images-115-max-keys-400/images/AF_300_Tablet/AF_300_Tablet0.jpg\n",
      "Dir name: AF_300_Tablet\n",
      "Outpath: metaanalysis/AF_300_Tablet/AF_300_Tablet_2.json\n"
     ]
    },
    {
     "name": "stderr",
     "output_type": "stream",
     "text": [
      "100%|██████████| 12/12 [00:00<00:00, 2853.43it/s]\n"
     ]
    },
    {
     "name": "stdout",
     "output_type": "stream",
     "text": [
      "Image_path: ../images-115-max-keys-400/images/AF_300_Tablet/AF_300_Tablet1.jpg\n",
      "Dir name: AF_300_Tablet\n",
      "Outpath: metaanalysis/AF_300_Tablet/AF_300_Tablet_3.json\n"
     ]
    },
    {
     "name": "stderr",
     "output_type": "stream",
     "text": [
      "100%|██████████| 8/8 [00:00<00:00, 2982.62it/s]\n"
     ]
    },
    {
     "name": "stdout",
     "output_type": "stream",
     "text": [
      "Image_path: ../images-115-max-keys-400/images/AF_300_Tablet/AF_300_Tablet1_rotated.jpg\n",
      "Dir name: AF_300_Tablet\n",
      "Outpath: metaanalysis/AF_300_Tablet/AF_300_Tablet_4.json\n"
     ]
    },
    {
     "name": "stderr",
     "output_type": "stream",
     "text": [
      "100%|██████████| 7/7 [00:00<00:00, 6967.28it/s]\n"
     ]
    },
    {
     "name": "stdout",
     "output_type": "stream",
     "text": [
      "Image_path: ../images-115-max-keys-400/images/AF_300_Tablet/AF_300_Tablet0_rotated.jpg\n",
      "Dir name: AF_300_Tablet\n",
      "Outpath: metaanalysis/AF_300_Tablet/AF_300_Tablet_5.json\n"
     ]
    },
    {
     "name": "stderr",
     "output_type": "stream",
     "text": [
      "100%|██████████| 11/11 [00:00<00:00, 8498.31it/s]\n"
     ]
    },
    {
     "name": "stdout",
     "output_type": "stream",
     "text": [
      "Image_path: ../images-115-max-keys-400/images/AF_300_Tablet/AF_300_Tablet0_gaussian_noise.jpg\n",
      "Dir name: AF_300_Tablet\n",
      "Outpath: metaanalysis/AF_300_Tablet/AF_300_Tablet_6.json\n"
     ]
    },
    {
     "name": "stderr",
     "output_type": "stream",
     "text": [
      "100%|██████████| 3/3 [00:00<00:00, 3513.80it/s]\n"
     ]
    },
    {
     "name": "stdout",
     "output_type": "stream",
     "text": [
      "Image_path: ../images-115-max-keys-400/images/AF_300_Tablet/AF_300_Tablet2_gaussian_noise.jpg\n",
      "Dir name: AF_300_Tablet\n",
      "Outpath: metaanalysis/AF_300_Tablet/AF_300_Tablet_7.json\n"
     ]
    },
    {
     "name": "stderr",
     "output_type": "stream",
     "text": [
      "100%|██████████| 4/4 [00:00<00:00, 10638.69it/s]\n"
     ]
    },
    {
     "name": "stdout",
     "output_type": "stream",
     "text": [
      "Image_path: ../images-115-max-keys-400/images/AF_300_Tablet/AF_300_Tablet2_blur.jpg\n",
      "Dir name: AF_300_Tablet\n",
      "Outpath: metaanalysis/AF_300_Tablet/AF_300_Tablet_8.json\n"
     ]
    },
    {
     "name": "stderr",
     "output_type": "stream",
     "text": [
      "100%|██████████| 8/8 [00:00<00:00, 4381.05it/s]\n"
     ]
    },
    {
     "name": "stdout",
     "output_type": "stream",
     "text": [
      "Image_path: ../images-115-max-keys-400/images/AF_300_Tablet/AF_300_Tablet2.jpg\n",
      "Dir name: AF_300_Tablet\n",
      "Outpath: metaanalysis/AF_300_Tablet/AF_300_Tablet_9.json\n"
     ]
    },
    {
     "name": "stderr",
     "output_type": "stream",
     "text": [
      "100%|██████████| 24/24 [00:00<00:00, 8354.49it/s]\n"
     ]
    },
    {
     "name": "stdout",
     "output_type": "stream",
     "text": [
      "Image_path: ../images-115-max-keys-400/images/AF_300_Tablet/AF_300_Tablet1_blur.jpg\n",
      "Dir name: AF_300_Tablet\n",
      "Outpath: metaanalysis/AF_300_Tablet/AF_300_Tablet_10.json\n"
     ]
    },
    {
     "name": "stderr",
     "output_type": "stream",
     "text": [
      "100%|██████████| 8/8 [00:00<00:00, 10638.69it/s]\n"
     ]
    },
    {
     "name": "stdout",
     "output_type": "stream",
     "text": [
      "Image_path: ../images-115-max-keys-400/images/AF_300_Tablet/AF_300_Tablet1_gaussian_noise.jpg\n",
      "Dir name: AF_300_Tablet\n",
      "Outpath: metaanalysis/AF_300_Tablet/AF_300_Tablet_11.json\n"
     ]
    },
    {
     "name": "stderr",
     "output_type": "stream",
     "text": [
      "100%|██████████| 8/8 [00:00<00:00, 6155.65it/s]\n"
     ]
    },
    {
     "name": "stdout",
     "output_type": "stream",
     "text": [
      "Image_path: ../images-115-max-keys-400/images/AF_300_Tablet/AF_300_Tablet0_blur.jpg\n",
      "Dir name: AF_300_Tablet\n",
      "Outpath: metaanalysis/AF_300_Tablet/AF_300_Tablet_12.json\n"
     ]
    },
    {
     "name": "stderr",
     "output_type": "stream",
     "text": [
      "100%|██████████| 10/10 [00:00<00:00, 5467.03it/s]\n"
     ]
    },
    {
     "name": "stdout",
     "output_type": "stream",
     "text": [
      "Dir: ../images-115-max-keys-400/images/A2__Tablet\n",
      "Image_path: ../images-115-max-keys-400/images/A2__Tablet/A2__Tablet0.jpg\n",
      "Dir name: A2__Tablet\n",
      "Outpath: metaanalysis/A2__Tablet/A2__Tablet_1.json\n"
     ]
    },
    {
     "name": "stderr",
     "output_type": "stream",
     "text": [
      "100%|██████████| 10/10 [00:00<00:00, 7677.66it/s]\n"
     ]
    },
    {
     "name": "stdout",
     "output_type": "stream",
     "text": [
      "Image_path: ../images-115-max-keys-400/images/A2__Tablet/A2__Tablet1_blur.jpg\n",
      "Dir name: A2__Tablet\n",
      "Outpath: metaanalysis/A2__Tablet/A2__Tablet_2.json\n"
     ]
    },
    {
     "name": "stderr",
     "output_type": "stream",
     "text": [
      "100%|██████████| 31/31 [00:00<00:00, 31444.60it/s]\n"
     ]
    },
    {
     "name": "stdout",
     "output_type": "stream",
     "text": [
      "Image_path: ../images-115-max-keys-400/images/A2__Tablet/A2__Tablet0_blur.jpg\n",
      "Dir name: A2__Tablet\n",
      "Outpath: metaanalysis/A2__Tablet/A2__Tablet_3.json\n"
     ]
    },
    {
     "name": "stderr",
     "output_type": "stream",
     "text": [
      "100%|██████████| 8/8 [00:00<00:00, 6511.63it/s]\n"
     ]
    },
    {
     "name": "stdout",
     "output_type": "stream",
     "text": [
      "Image_path: ../images-115-max-keys-400/images/A2__Tablet/A2__Tablet2_rotated.jpg\n",
      "Dir name: A2__Tablet\n",
      "Outpath: metaanalysis/A2__Tablet/A2__Tablet_4.json\n"
     ]
    },
    {
     "name": "stderr",
     "output_type": "stream",
     "text": [
      "100%|██████████| 10/10 [00:00<00:00, 17353.35it/s]\n"
     ]
    },
    {
     "name": "stdout",
     "output_type": "stream",
     "text": [
      "Image_path: ../images-115-max-keys-400/images/A2__Tablet/A2__Tablet1_rotated.jpg\n",
      "Dir name: A2__Tablet\n",
      "Outpath: metaanalysis/A2__Tablet/A2__Tablet_5.json\n"
     ]
    },
    {
     "name": "stderr",
     "output_type": "stream",
     "text": [
      "100%|██████████| 55/55 [00:00<00:00, 14952.47it/s]\n"
     ]
    },
    {
     "name": "stdout",
     "output_type": "stream",
     "text": [
      "Image_path: ../images-115-max-keys-400/images/A2__Tablet/A2__Tablet1.jpg\n",
      "Dir name: A2__Tablet\n",
      "Outpath: metaanalysis/A2__Tablet/A2__Tablet_6.json\n"
     ]
    },
    {
     "name": "stderr",
     "output_type": "stream",
     "text": [
      "100%|██████████| 71/71 [00:00<00:00, 14819.39it/s]\n"
     ]
    },
    {
     "name": "stdout",
     "output_type": "stream",
     "text": [
      "Image_path: ../images-115-max-keys-400/images/A2__Tablet/A2__Tablet0_rotated.jpg\n",
      "Dir name: A2__Tablet\n",
      "Outpath: metaanalysis/A2__Tablet/A2__Tablet_7.json\n"
     ]
    },
    {
     "name": "stderr",
     "output_type": "stream",
     "text": [
      "100%|██████████| 9/9 [00:00<00:00, 13152.87it/s]\n"
     ]
    },
    {
     "name": "stdout",
     "output_type": "stream",
     "text": [
      "Image_path: ../images-115-max-keys-400/images/A2__Tablet/A2__Tablet0_gaussian_noise.jpg\n",
      "Dir name: A2__Tablet\n",
      "Outpath: metaanalysis/A2__Tablet/A2__Tablet_8.json\n"
     ]
    },
    {
     "name": "stderr",
     "output_type": "stream",
     "text": [
      "100%|██████████| 8/8 [00:00<00:00, 15413.15it/s]\n"
     ]
    },
    {
     "name": "stdout",
     "output_type": "stream",
     "text": [
      "Image_path: ../images-115-max-keys-400/images/A2__Tablet/A2__Tablet1_gaussian_noise.jpg\n",
      "Dir name: A2__Tablet\n",
      "Outpath: metaanalysis/A2__Tablet/A2__Tablet_9.json\n"
     ]
    },
    {
     "name": "stderr",
     "output_type": "stream",
     "text": [
      "100%|██████████| 47/47 [00:00<00:00, 16200.88it/s]\n"
     ]
    },
    {
     "name": "stdout",
     "output_type": "stream",
     "text": [
      "Image_path: ../images-115-max-keys-400/images/A2__Tablet/A2__Tablet2.jpg\n",
      "Dir name: A2__Tablet\n",
      "Outpath: metaanalysis/A2__Tablet/A2__Tablet_10.json\n"
     ]
    },
    {
     "name": "stderr",
     "output_type": "stream",
     "text": [
      "100%|██████████| 10/10 [00:00<00:00, 5191.61it/s]\n"
     ]
    },
    {
     "name": "stdout",
     "output_type": "stream",
     "text": [
      "Image_path: ../images-115-max-keys-400/images/A2__Tablet/A2__Tablet2_gaussian_noise.jpg\n",
      "Dir name: A2__Tablet\n",
      "Outpath: metaanalysis/A2__Tablet/A2__Tablet_11.json\n"
     ]
    },
    {
     "name": "stderr",
     "output_type": "stream",
     "text": [
      "100%|██████████| 3/3 [00:00<00:00, 2839.75it/s]\n"
     ]
    },
    {
     "name": "stdout",
     "output_type": "stream",
     "text": [
      "Image_path: ../images-115-max-keys-400/images/A2__Tablet/A2__Tablet2_blur.jpg\n",
      "Dir name: A2__Tablet\n",
      "Outpath: metaanalysis/A2__Tablet/A2__Tablet_12.json\n"
     ]
    },
    {
     "name": "stderr",
     "output_type": "stream",
     "text": [
      "100%|██████████| 2/2 [00:00<00:00, 7358.43it/s]\n"
     ]
    },
    {
     "name": "stdout",
     "output_type": "stream",
     "text": [
      "Dir: ../images-115-max-keys-400/images/Abitol_Tablet\n",
      "Image_path: ../images-115-max-keys-400/images/Abitol_Tablet/Abitol_Tablet1_rotated.jpg\n",
      "Dir name: Abitol_Tablet\n",
      "Outpath: metaanalysis/Abitol_Tablet/Abitol_Tablet_1.json\n"
     ]
    },
    {
     "name": "stderr",
     "output_type": "stream",
     "text": [
      "100%|██████████| 46/46 [00:00<00:00, 23937.72it/s]\n"
     ]
    },
    {
     "name": "stdout",
     "output_type": "stream",
     "text": [
      "Image_path: ../images-115-max-keys-400/images/Abitol_Tablet/Abitol_Tablet1_gaussian_noise.jpg\n",
      "Dir name: Abitol_Tablet\n",
      "Outpath: metaanalysis/Abitol_Tablet/Abitol_Tablet_2.json\n"
     ]
    },
    {
     "name": "stderr",
     "output_type": "stream",
     "text": [
      "100%|██████████| 51/51 [00:00<00:00, 16891.15it/s]\n"
     ]
    },
    {
     "name": "stdout",
     "output_type": "stream",
     "text": [
      "Image_path: ../images-115-max-keys-400/images/Abitol_Tablet/Abitol_Tablet2_blur.jpg\n",
      "Dir name: Abitol_Tablet\n",
      "Outpath: metaanalysis/Abitol_Tablet/Abitol_Tablet_3.json\n"
     ]
    },
    {
     "name": "stderr",
     "output_type": "stream",
     "text": [
      "100%|██████████| 15/15 [00:00<00:00, 7305.45it/s]\n"
     ]
    },
    {
     "name": "stdout",
     "output_type": "stream",
     "text": [
      "Image_path: ../images-115-max-keys-400/images/Abitol_Tablet/Abitol_Tablet2.jpg\n",
      "Dir name: Abitol_Tablet\n",
      "Outpath: metaanalysis/Abitol_Tablet/Abitol_Tablet_4.json\n"
     ]
    },
    {
     "name": "stderr",
     "output_type": "stream",
     "text": [
      "100%|██████████| 34/34 [00:00<00:00, 24277.55it/s]\n"
     ]
    },
    {
     "name": "stdout",
     "output_type": "stream",
     "text": [
      "Image_path: ../images-115-max-keys-400/images/Abitol_Tablet/Abitol_Tablet2_gaussian_noise.jpg\n",
      "Dir name: Abitol_Tablet\n",
      "Outpath: metaanalysis/Abitol_Tablet/Abitol_Tablet_5.json\n"
     ]
    },
    {
     "name": "stderr",
     "output_type": "stream",
     "text": [
      "100%|██████████| 38/38 [00:00<00:00, 13764.88it/s]\n"
     ]
    },
    {
     "name": "stdout",
     "output_type": "stream",
     "text": [
      "Image_path: ../images-115-max-keys-400/images/Abitol_Tablet/Abitol_Tablet0_gaussian_noise.jpg\n",
      "Dir name: Abitol_Tablet\n",
      "Outpath: metaanalysis/Abitol_Tablet/Abitol_Tablet_6.json\n"
     ]
    },
    {
     "name": "stderr",
     "output_type": "stream",
     "text": [
      "100%|██████████| 9/9 [00:00<00:00, 8998.51it/s]\n"
     ]
    },
    {
     "name": "stdout",
     "output_type": "stream",
     "text": [
      "Image_path: ../images-115-max-keys-400/images/Abitol_Tablet/Abitol_Tablet2_rotated.jpg\n",
      "Dir name: Abitol_Tablet\n",
      "Outpath: metaanalysis/Abitol_Tablet/Abitol_Tablet_7.json\n"
     ]
    },
    {
     "name": "stderr",
     "output_type": "stream",
     "text": [
      "100%|██████████| 28/28 [00:00<00:00, 13480.32it/s]\n"
     ]
    },
    {
     "name": "stdout",
     "output_type": "stream",
     "text": [
      "Image_path: ../images-115-max-keys-400/images/Abitol_Tablet/Abitol_Tablet0_rotated.jpg\n",
      "Dir name: Abitol_Tablet\n",
      "Outpath: metaanalysis/Abitol_Tablet/Abitol_Tablet_8.json\n"
     ]
    },
    {
     "name": "stderr",
     "output_type": "stream",
     "text": [
      "100%|██████████| 11/11 [00:00<00:00, 15171.77it/s]\n"
     ]
    },
    {
     "name": "stdout",
     "output_type": "stream",
     "text": [
      "Image_path: ../images-115-max-keys-400/images/Abitol_Tablet/Abitol_Tablet0.jpg\n",
      "Dir name: Abitol_Tablet\n",
      "Outpath: metaanalysis/Abitol_Tablet/Abitol_Tablet_9.json\n"
     ]
    },
    {
     "name": "stderr",
     "output_type": "stream",
     "text": [
      "100%|██████████| 11/11 [00:00<00:00, 16465.86it/s]\n"
     ]
    },
    {
     "name": "stdout",
     "output_type": "stream",
     "text": [
      "Image_path: ../images-115-max-keys-400/images/Abitol_Tablet/Abitol_Tablet0_blur.jpg\n",
      "Dir name: Abitol_Tablet\n",
      "Outpath: metaanalysis/Abitol_Tablet/Abitol_Tablet_10.json\n"
     ]
    },
    {
     "name": "stderr",
     "output_type": "stream",
     "text": [
      "100%|██████████| 9/9 [00:00<00:00, 20025.85it/s]\n"
     ]
    },
    {
     "name": "stdout",
     "output_type": "stream",
     "text": [
      "Image_path: ../images-115-max-keys-400/images/Abitol_Tablet/Abitol_Tablet1.jpg\n",
      "Dir name: Abitol_Tablet\n",
      "Outpath: metaanalysis/Abitol_Tablet/Abitol_Tablet_11.json\n"
     ]
    },
    {
     "name": "stderr",
     "output_type": "stream",
     "text": [
      "100%|██████████| 55/55 [00:00<00:00, 17179.53it/s]\n"
     ]
    },
    {
     "name": "stdout",
     "output_type": "stream",
     "text": [
      "Image_path: ../images-115-max-keys-400/images/Abitol_Tablet/Abitol_Tablet1_blur.jpg\n",
      "Dir name: Abitol_Tablet\n",
      "Outpath: metaanalysis/Abitol_Tablet/Abitol_Tablet_12.json\n"
     ]
    },
    {
     "name": "stderr",
     "output_type": "stream",
     "text": [
      "100%|██████████| 42/42 [00:00<00:00, 9485.29it/s]\n"
     ]
    },
    {
     "name": "stdout",
     "output_type": "stream",
     "text": [
      "Dir: ../images-115-max-keys-400/images/Acemiz_100mg_Tablet\n",
      "Image_path: ../images-115-max-keys-400/images/Acemiz_100mg_Tablet/Acemiz_100mg_Tablet0_blur.jpg\n",
      "Dir name: Acemiz_100mg_Tablet\n",
      "Outpath: metaanalysis/Acemiz_100mg_Tablet/Acemiz_100mg_Tablet_1.json\n"
     ]
    },
    {
     "name": "stderr",
     "output_type": "stream",
     "text": [
      "100%|██████████| 7/7 [00:00<00:00, 5333.36it/s]\n"
     ]
    },
    {
     "name": "stdout",
     "output_type": "stream",
     "text": [
      "Image_path: ../images-115-max-keys-400/images/Acemiz_100mg_Tablet/Acemiz_100mg_Tablet0_rotated.jpg\n",
      "Dir name: Acemiz_100mg_Tablet\n",
      "Outpath: metaanalysis/Acemiz_100mg_Tablet/Acemiz_100mg_Tablet_2.json\n"
     ]
    },
    {
     "name": "stderr",
     "output_type": "stream",
     "text": [
      "100%|██████████| 11/11 [00:00<00:00, 9161.51it/s]\n"
     ]
    },
    {
     "name": "stdout",
     "output_type": "stream",
     "text": [
      "Image_path: ../images-115-max-keys-400/images/Acemiz_100mg_Tablet/Acemiz_100mg_Tablet1_gaussian_noise.jpg\n",
      "Dir name: Acemiz_100mg_Tablet\n",
      "Outpath: metaanalysis/Acemiz_100mg_Tablet/Acemiz_100mg_Tablet_3.json\n",
      "Image_path: ../images-115-max-keys-400/images/Acemiz_100mg_Tablet/Acemiz_100mg_Tablet0.jpg\n",
      "Dir name: Acemiz_100mg_Tablet\n",
      "Outpath: metaanalysis/Acemiz_100mg_Tablet/Acemiz_100mg_Tablet_4.json\n"
     ]
    },
    {
     "name": "stderr",
     "output_type": "stream",
     "text": [
      "100%|██████████| 10/10 [00:00<00:00, 6998.67it/s]\n"
     ]
    },
    {
     "name": "stdout",
     "output_type": "stream",
     "text": [
      "Image_path: ../images-115-max-keys-400/images/Acemiz_100mg_Tablet/Acemiz_100mg_Tablet0_gaussian_noise.jpg\n",
      "Dir name: Acemiz_100mg_Tablet\n",
      "Outpath: metaanalysis/Acemiz_100mg_Tablet/Acemiz_100mg_Tablet_5.json\n"
     ]
    },
    {
     "name": "stderr",
     "output_type": "stream",
     "text": [
      "100%|██████████| 11/11 [00:00<00:00, 17973.25it/s]\n"
     ]
    },
    {
     "name": "stdout",
     "output_type": "stream",
     "text": [
      "Image_path: ../images-115-max-keys-400/images/Acemiz_100mg_Tablet/Acemiz_100mg_Tablet1.jpg\n",
      "Dir name: Acemiz_100mg_Tablet\n",
      "Outpath: metaanalysis/Acemiz_100mg_Tablet/Acemiz_100mg_Tablet_6.json\n",
      "Image_path: ../images-115-max-keys-400/images/Acemiz_100mg_Tablet/Acemiz_100mg_Tablet1_blur.jpg\n",
      "Dir name: Acemiz_100mg_Tablet\n",
      "Outpath: metaanalysis/Acemiz_100mg_Tablet/Acemiz_100mg_Tablet_7.json\n"
     ]
    },
    {
     "name": "stderr",
     "output_type": "stream",
     "text": [
      "100%|██████████| 1/1 [00:00<00:00, 4177.59it/s]\n"
     ]
    },
    {
     "name": "stdout",
     "output_type": "stream",
     "text": [
      "Image_path: ../images-115-max-keys-400/images/Acemiz_100mg_Tablet/Acemiz_100mg_Tablet1_rotated.jpg\n",
      "Dir name: Acemiz_100mg_Tablet\n",
      "Outpath: metaanalysis/Acemiz_100mg_Tablet/Acemiz_100mg_Tablet_8.json\n",
      "Dir: ../images-115-max-keys-400/images/AFM_Tablet\n",
      "Image_path: ../images-115-max-keys-400/images/AFM_Tablet/AFM_Tablet0.jpg\n",
      "Dir name: AFM_Tablet\n",
      "Outpath: metaanalysis/AFM_Tablet/AFM_Tablet_1.json\n"
     ]
    },
    {
     "name": "stderr",
     "output_type": "stream",
     "text": [
      "100%|██████████| 12/12 [00:00<00:00, 24733.00it/s]\n"
     ]
    },
    {
     "name": "stdout",
     "output_type": "stream",
     "text": [
      "Image_path: ../images-115-max-keys-400/images/AFM_Tablet/AFM_Tablet0_gaussian_noise.jpg\n",
      "Dir name: AFM_Tablet\n",
      "Outpath: metaanalysis/AFM_Tablet/AFM_Tablet_2.json\n"
     ]
    },
    {
     "name": "stderr",
     "output_type": "stream",
     "text": [
      "100%|██████████| 9/9 [00:00<00:00, 5004.47it/s]\n"
     ]
    },
    {
     "name": "stdout",
     "output_type": "stream",
     "text": [
      "Image_path: ../images-115-max-keys-400/images/AFM_Tablet/AFM_Tablet0_rotated.jpg\n",
      "Dir name: AFM_Tablet\n",
      "Outpath: metaanalysis/AFM_Tablet/AFM_Tablet_3.json\n"
     ]
    },
    {
     "name": "stderr",
     "output_type": "stream",
     "text": [
      "100%|██████████| 12/12 [00:00<00:00, 6119.35it/s]\n"
     ]
    },
    {
     "name": "stdout",
     "output_type": "stream",
     "text": [
      "Image_path: ../images-115-max-keys-400/images/AFM_Tablet/AFM_Tablet0_blur.jpg\n",
      "Dir name: AFM_Tablet\n",
      "Outpath: metaanalysis/AFM_Tablet/AFM_Tablet_4.json\n"
     ]
    },
    {
     "name": "stderr",
     "output_type": "stream",
     "text": [
      "100%|██████████| 11/11 [00:00<00:00, 20271.24it/s]\n"
     ]
    },
    {
     "name": "stdout",
     "output_type": "stream",
     "text": [
      "Dir: ../images-115-max-keys-400/images/Abiways_Tablet\n",
      "Image_path: ../images-115-max-keys-400/images/Abiways_Tablet/Abiways_Tablet1_blur.jpg\n",
      "Dir name: Abiways_Tablet\n",
      "Outpath: metaanalysis/Abiways_Tablet/Abiways_Tablet_1.json\n"
     ]
    },
    {
     "name": "stderr",
     "output_type": "stream",
     "text": [
      "100%|██████████| 4/4 [00:00<00:00, 8224.13it/s]\n"
     ]
    },
    {
     "name": "stdout",
     "output_type": "stream",
     "text": [
      "Image_path: ../images-115-max-keys-400/images/Abiways_Tablet/Abiways_Tablet0_rotated.jpg\n",
      "Dir name: Abiways_Tablet\n",
      "Outpath: metaanalysis/Abiways_Tablet/Abiways_Tablet_2.json\n"
     ]
    },
    {
     "name": "stderr",
     "output_type": "stream",
     "text": [
      "100%|██████████| 8/8 [00:00<00:00, 18315.74it/s]\n"
     ]
    },
    {
     "name": "stdout",
     "output_type": "stream",
     "text": [
      "Image_path: ../images-115-max-keys-400/images/Abiways_Tablet/Abiways_Tablet0_gaussian_noise.jpg\n",
      "Dir name: Abiways_Tablet\n",
      "Outpath: metaanalysis/Abiways_Tablet/Abiways_Tablet_3.json\n"
     ]
    },
    {
     "name": "stderr",
     "output_type": "stream",
     "text": [
      "100%|██████████| 7/7 [00:00<00:00, 5677.84it/s]\n"
     ]
    },
    {
     "name": "stdout",
     "output_type": "stream",
     "text": [
      "Image_path: ../images-115-max-keys-400/images/Abiways_Tablet/Abiways_Tablet2_gaussian_noise.jpg\n",
      "Dir name: Abiways_Tablet\n",
      "Outpath: metaanalysis/Abiways_Tablet/Abiways_Tablet_4.json\n"
     ]
    },
    {
     "name": "stderr",
     "output_type": "stream",
     "text": [
      "100%|██████████| 1/1 [00:00<00:00, 1354.31it/s]\n"
     ]
    },
    {
     "name": "stdout",
     "output_type": "stream",
     "text": [
      "Image_path: ../images-115-max-keys-400/images/Abiways_Tablet/Abiways_Tablet0.jpg\n",
      "Dir name: Abiways_Tablet\n",
      "Outpath: metaanalysis/Abiways_Tablet/Abiways_Tablet_5.json\n"
     ]
    },
    {
     "name": "stderr",
     "output_type": "stream",
     "text": [
      "100%|██████████| 10/10 [00:00<00:00, 4928.10it/s]\n"
     ]
    },
    {
     "name": "stdout",
     "output_type": "stream",
     "text": [
      "Image_path: ../images-115-max-keys-400/images/Abiways_Tablet/Abiways_Tablet1_gaussian_noise.jpg\n",
      "Dir name: Abiways_Tablet\n",
      "Outpath: metaanalysis/Abiways_Tablet/Abiways_Tablet_6.json\n"
     ]
    },
    {
     "name": "stderr",
     "output_type": "stream",
     "text": [
      "100%|██████████| 9/9 [00:00<00:00, 2523.48it/s]\n"
     ]
    },
    {
     "name": "stdout",
     "output_type": "stream",
     "text": [
      "Image_path: ../images-115-max-keys-400/images/Abiways_Tablet/Abiways_Tablet1_rotated.jpg\n",
      "Dir name: Abiways_Tablet\n",
      "Outpath: metaanalysis/Abiways_Tablet/Abiways_Tablet_7.json\n"
     ]
    },
    {
     "name": "stderr",
     "output_type": "stream",
     "text": [
      "100%|██████████| 34/34 [00:00<00:00, 14165.72it/s]\n"
     ]
    },
    {
     "name": "stdout",
     "output_type": "stream",
     "text": [
      "Image_path: ../images-115-max-keys-400/images/Abiways_Tablet/Abiways_Tablet2.jpg\n",
      "Dir name: Abiways_Tablet\n",
      "Outpath: metaanalysis/Abiways_Tablet/Abiways_Tablet_8.json\n"
     ]
    },
    {
     "name": "stderr",
     "output_type": "stream",
     "text": [
      "100%|██████████| 2/2 [00:00<00:00, 5050.34it/s]\n"
     ]
    },
    {
     "name": "stdout",
     "output_type": "stream",
     "text": [
      "Image_path: ../images-115-max-keys-400/images/Abiways_Tablet/Abiways_Tablet2_blur.jpg\n",
      "Dir name: Abiways_Tablet\n",
      "Outpath: metaanalysis/Abiways_Tablet/Abiways_Tablet_9.json\n"
     ]
    },
    {
     "name": "stderr",
     "output_type": "stream",
     "text": [
      "100%|██████████| 4/4 [00:00<00:00, 14254.22it/s]\n"
     ]
    },
    {
     "name": "stdout",
     "output_type": "stream",
     "text": [
      "Image_path: ../images-115-max-keys-400/images/Abiways_Tablet/Abiways_Tablet0_blur.jpg\n",
      "Dir name: Abiways_Tablet\n",
      "Outpath: metaanalysis/Abiways_Tablet/Abiways_Tablet_10.json\n"
     ]
    },
    {
     "name": "stderr",
     "output_type": "stream",
     "text": [
      "100%|██████████| 8/8 [00:00<00:00, 7504.91it/s]\n"
     ]
    },
    {
     "name": "stdout",
     "output_type": "stream",
     "text": [
      "Image_path: ../images-115-max-keys-400/images/Abiways_Tablet/Abiways_Tablet1.jpg\n",
      "Dir name: Abiways_Tablet\n",
      "Outpath: metaanalysis/Abiways_Tablet/Abiways_Tablet_11.json\n"
     ]
    },
    {
     "name": "stderr",
     "output_type": "stream",
     "text": [
      "100%|██████████| 84/84 [00:00<00:00, 23269.37it/s]\n"
     ]
    },
    {
     "name": "stdout",
     "output_type": "stream",
     "text": [
      "Image_path: ../images-115-max-keys-400/images/Abiways_Tablet/Abiways_Tablet2_rotated.jpg\n",
      "Dir name: Abiways_Tablet\n",
      "Outpath: metaanalysis/Abiways_Tablet/Abiways_Tablet_12.json\n"
     ]
    },
    {
     "name": "stderr",
     "output_type": "stream",
     "text": [
      "100%|██████████| 2/2 [00:00<00:00, 3677.60it/s]\n"
     ]
    },
    {
     "name": "stdout",
     "output_type": "stream",
     "text": [
      "Dir: ../images-115-max-keys-400/images/Ace_Proxyvon_TH_4_Tablet\n",
      "Image_path: ../images-115-max-keys-400/images/Ace_Proxyvon_TH_4_Tablet/Ace_Proxyvon_TH_4_Tablet1_gaussian_noise.jpg\n",
      "Dir name: Ace_Proxyvon_TH_4_Tablet\n",
      "Outpath: metaanalysis/Ace_Proxyvon_TH_4_Tablet/Ace_Proxyvon_TH_4_Tablet_1.json\n"
     ]
    },
    {
     "name": "stderr",
     "output_type": "stream",
     "text": [
      "100%|██████████| 6/6 [00:00<00:00, 2711.83it/s]\n"
     ]
    },
    {
     "name": "stdout",
     "output_type": "stream",
     "text": [
      "Image_path: ../images-115-max-keys-400/images/Ace_Proxyvon_TH_4_Tablet/Ace_Proxyvon_TH_4_Tablet0_gaussian_noise.jpg\n",
      "Dir name: Ace_Proxyvon_TH_4_Tablet\n",
      "Outpath: metaanalysis/Ace_Proxyvon_TH_4_Tablet/Ace_Proxyvon_TH_4_Tablet_2.json\n"
     ]
    },
    {
     "name": "stderr",
     "output_type": "stream",
     "text": [
      "100%|██████████| 3/3 [00:00<00:00, 9204.76it/s]\n"
     ]
    },
    {
     "name": "stdout",
     "output_type": "stream",
     "text": [
      "Image_path: ../images-115-max-keys-400/images/Ace_Proxyvon_TH_4_Tablet/Ace_Proxyvon_TH_4_Tablet2_rotated.jpg\n",
      "Dir name: Ace_Proxyvon_TH_4_Tablet\n",
      "Outpath: metaanalysis/Ace_Proxyvon_TH_4_Tablet/Ace_Proxyvon_TH_4_Tablet_3.json\n"
     ]
    },
    {
     "name": "stderr",
     "output_type": "stream",
     "text": [
      "100%|██████████| 1/1 [00:00<00:00, 1030.54it/s]\n"
     ]
    },
    {
     "name": "stdout",
     "output_type": "stream",
     "text": [
      "Image_path: ../images-115-max-keys-400/images/Ace_Proxyvon_TH_4_Tablet/Ace_Proxyvon_TH_4_Tablet1_rotated.jpg\n",
      "Dir name: Ace_Proxyvon_TH_4_Tablet\n",
      "Outpath: metaanalysis/Ace_Proxyvon_TH_4_Tablet/Ace_Proxyvon_TH_4_Tablet_4.json\n"
     ]
    },
    {
     "name": "stderr",
     "output_type": "stream",
     "text": [
      "100%|██████████| 12/12 [00:00<00:00, 9206.45it/s]\n"
     ]
    },
    {
     "name": "stdout",
     "output_type": "stream",
     "text": [
      "Image_path: ../images-115-max-keys-400/images/Ace_Proxyvon_TH_4_Tablet/Ace_Proxyvon_TH_4_Tablet2_blur.jpg\n",
      "Dir name: Ace_Proxyvon_TH_4_Tablet\n",
      "Outpath: metaanalysis/Ace_Proxyvon_TH_4_Tablet/Ace_Proxyvon_TH_4_Tablet_5.json\n",
      "Image_path: ../images-115-max-keys-400/images/Ace_Proxyvon_TH_4_Tablet/Ace_Proxyvon_TH_4_Tablet0_blur.jpg\n",
      "Dir name: Ace_Proxyvon_TH_4_Tablet\n",
      "Outpath: metaanalysis/Ace_Proxyvon_TH_4_Tablet/Ace_Proxyvon_TH_4_Tablet_6.json\n"
     ]
    },
    {
     "name": "stderr",
     "output_type": "stream",
     "text": [
      "100%|██████████| 6/6 [00:00<00:00, 4034.92it/s]\n"
     ]
    },
    {
     "name": "stdout",
     "output_type": "stream",
     "text": [
      "Image_path: ../images-115-max-keys-400/images/Ace_Proxyvon_TH_4_Tablet/Ace_Proxyvon_TH_4_Tablet2.jpg\n",
      "Dir name: Ace_Proxyvon_TH_4_Tablet\n",
      "Outpath: metaanalysis/Ace_Proxyvon_TH_4_Tablet/Ace_Proxyvon_TH_4_Tablet_7.json\n"
     ]
    },
    {
     "name": "stderr",
     "output_type": "stream",
     "text": [
      "100%|██████████| 2/2 [00:00<00:00, 2169.28it/s]\n"
     ]
    },
    {
     "name": "stdout",
     "output_type": "stream",
     "text": [
      "Image_path: ../images-115-max-keys-400/images/Ace_Proxyvon_TH_4_Tablet/Ace_Proxyvon_TH_4_Tablet1.jpg\n",
      "Dir name: Ace_Proxyvon_TH_4_Tablet\n",
      "Outpath: metaanalysis/Ace_Proxyvon_TH_4_Tablet/Ace_Proxyvon_TH_4_Tablet_8.json\n"
     ]
    },
    {
     "name": "stderr",
     "output_type": "stream",
     "text": [
      "100%|██████████| 12/12 [00:00<00:00, 9388.48it/s]\n"
     ]
    },
    {
     "name": "stdout",
     "output_type": "stream",
     "text": [
      "Image_path: ../images-115-max-keys-400/images/Ace_Proxyvon_TH_4_Tablet/Ace_Proxyvon_TH_4_Tablet0.jpg\n",
      "Dir name: Ace_Proxyvon_TH_4_Tablet\n",
      "Outpath: metaanalysis/Ace_Proxyvon_TH_4_Tablet/Ace_Proxyvon_TH_4_Tablet_9.json\n"
     ]
    },
    {
     "name": "stderr",
     "output_type": "stream",
     "text": [
      "100%|██████████| 8/8 [00:00<00:00, 22031.80it/s]\n"
     ]
    },
    {
     "name": "stdout",
     "output_type": "stream",
     "text": [
      "Image_path: ../images-115-max-keys-400/images/Ace_Proxyvon_TH_4_Tablet/Ace_Proxyvon_TH_4_Tablet0_rotated.jpg\n",
      "Dir name: Ace_Proxyvon_TH_4_Tablet\n",
      "Outpath: metaanalysis/Ace_Proxyvon_TH_4_Tablet/Ace_Proxyvon_TH_4_Tablet_10.json\n"
     ]
    },
    {
     "name": "stderr",
     "output_type": "stream",
     "text": [
      "100%|██████████| 6/6 [00:00<00:00, 16330.84it/s]\n"
     ]
    },
    {
     "name": "stdout",
     "output_type": "stream",
     "text": [
      "Image_path: ../images-115-max-keys-400/images/Ace_Proxyvon_TH_4_Tablet/Ace_Proxyvon_TH_4_Tablet1_blur.jpg\n",
      "Dir name: Ace_Proxyvon_TH_4_Tablet\n",
      "Outpath: metaanalysis/Ace_Proxyvon_TH_4_Tablet/Ace_Proxyvon_TH_4_Tablet_11.json\n"
     ]
    },
    {
     "name": "stderr",
     "output_type": "stream",
     "text": [
      "100%|██████████| 9/9 [00:00<00:00, 6028.22it/s]\n"
     ]
    },
    {
     "name": "stdout",
     "output_type": "stream",
     "text": [
      "Image_path: ../images-115-max-keys-400/images/Ace_Proxyvon_TH_4_Tablet/Ace_Proxyvon_TH_4_Tablet2_gaussian_noise.jpg\n",
      "Dir name: Ace_Proxyvon_TH_4_Tablet\n",
      "Outpath: metaanalysis/Ace_Proxyvon_TH_4_Tablet/Ace_Proxyvon_TH_4_Tablet_12.json\n"
     ]
    },
    {
     "name": "stderr",
     "output_type": "stream",
     "text": [
      "100%|██████████| 1/1 [00:00<00:00, 3039.35it/s]\n"
     ]
    },
    {
     "name": "stdout",
     "output_type": "stream",
     "text": [
      "Dir: ../images-115-max-keys-400/images/AA_5_Tablet\n",
      "Image_path: ../images-115-max-keys-400/images/AA_5_Tablet/AA_5_Tablet0_gaussian_noise.jpg\n",
      "Dir name: AA_5_Tablet\n",
      "Outpath: metaanalysis/AA_5_Tablet/AA_5_Tablet_1.json\n"
     ]
    },
    {
     "name": "stderr",
     "output_type": "stream",
     "text": [
      "100%|██████████| 12/12 [00:00<00:00, 29160.86it/s]\n"
     ]
    },
    {
     "name": "stdout",
     "output_type": "stream",
     "text": [
      "Image_path: ../images-115-max-keys-400/images/AA_5_Tablet/AA_5_Tablet0_blur.jpg\n",
      "Dir name: AA_5_Tablet\n",
      "Outpath: metaanalysis/AA_5_Tablet/AA_5_Tablet_2.json\n"
     ]
    },
    {
     "name": "stderr",
     "output_type": "stream",
     "text": [
      "100%|██████████| 9/9 [00:00<00:00, 6440.66it/s]\n"
     ]
    },
    {
     "name": "stdout",
     "output_type": "stream",
     "text": [
      "Image_path: ../images-115-max-keys-400/images/AA_5_Tablet/AA_5_Tablet0_rotated.jpg\n",
      "Dir name: AA_5_Tablet\n",
      "Outpath: metaanalysis/AA_5_Tablet/AA_5_Tablet_3.json\n"
     ]
    },
    {
     "name": "stderr",
     "output_type": "stream",
     "text": [
      "100%|██████████| 24/24 [00:00<00:00, 13761.22it/s]\n"
     ]
    },
    {
     "name": "stdout",
     "output_type": "stream",
     "text": [
      "Image_path: ../images-115-max-keys-400/images/AA_5_Tablet/AA_5_Tablet0.jpg\n",
      "Dir name: AA_5_Tablet\n",
      "Outpath: metaanalysis/AA_5_Tablet/AA_5_Tablet_4.json\n"
     ]
    },
    {
     "name": "stderr",
     "output_type": "stream",
     "text": [
      "100%|██████████| 35/35 [00:00<00:00, 8255.11it/s]\n"
     ]
    },
    {
     "name": "stdout",
     "output_type": "stream",
     "text": [
      "Dir: ../images-115-max-keys-400/images/Aceclo_SR_Tablet\n",
      "Image_path: ../images-115-max-keys-400/images/Aceclo_SR_Tablet/Aceclo_SR_Tablet1_gaussian_noise.jpg\n",
      "Dir name: Aceclo_SR_Tablet\n",
      "Outpath: metaanalysis/Aceclo_SR_Tablet/Aceclo_SR_Tablet_1.json\n"
     ]
    },
    {
     "name": "stderr",
     "output_type": "stream",
     "text": [
      "100%|██████████| 58/58 [00:00<00:00, 55859.85it/s]\n"
     ]
    },
    {
     "name": "stdout",
     "output_type": "stream",
     "text": [
      "Image_path: ../images-115-max-keys-400/images/Aceclo_SR_Tablet/Aceclo_SR_Tablet2_blur.jpg\n",
      "Dir name: Aceclo_SR_Tablet\n",
      "Outpath: metaanalysis/Aceclo_SR_Tablet/Aceclo_SR_Tablet_2.json\n"
     ]
    },
    {
     "name": "stderr",
     "output_type": "stream",
     "text": [
      "100%|██████████| 2/2 [00:00<00:00, 5866.16it/s]\n"
     ]
    },
    {
     "name": "stdout",
     "output_type": "stream",
     "text": [
      "Image_path: ../images-115-max-keys-400/images/Aceclo_SR_Tablet/Aceclo_SR_Tablet0_rotated.jpg\n",
      "Dir name: Aceclo_SR_Tablet\n",
      "Outpath: metaanalysis/Aceclo_SR_Tablet/Aceclo_SR_Tablet_3.json\n"
     ]
    },
    {
     "name": "stderr",
     "output_type": "stream",
     "text": [
      "100%|██████████| 17/17 [00:00<00:00, 8794.17it/s]\n"
     ]
    },
    {
     "name": "stdout",
     "output_type": "stream",
     "text": [
      "Image_path: ../images-115-max-keys-400/images/Aceclo_SR_Tablet/Aceclo_SR_Tablet2_gaussian_noise.jpg\n",
      "Dir name: Aceclo_SR_Tablet\n",
      "Outpath: metaanalysis/Aceclo_SR_Tablet/Aceclo_SR_Tablet_4.json\n"
     ]
    },
    {
     "name": "stderr",
     "output_type": "stream",
     "text": [
      "100%|██████████| 2/2 [00:00<00:00, 5486.34it/s]\n"
     ]
    },
    {
     "name": "stdout",
     "output_type": "stream",
     "text": [
      "Image_path: ../images-115-max-keys-400/images/Aceclo_SR_Tablet/Aceclo_SR_Tablet2.jpg\n",
      "Dir name: Aceclo_SR_Tablet\n",
      "Outpath: metaanalysis/Aceclo_SR_Tablet/Aceclo_SR_Tablet_5.json\n"
     ]
    },
    {
     "name": "stderr",
     "output_type": "stream",
     "text": [
      "100%|██████████| 2/2 [00:00<00:00, 6379.17it/s]\n"
     ]
    },
    {
     "name": "stdout",
     "output_type": "stream",
     "text": [
      "Image_path: ../images-115-max-keys-400/images/Aceclo_SR_Tablet/Aceclo_SR_Tablet1.jpg\n",
      "Dir name: Aceclo_SR_Tablet\n",
      "Outpath: metaanalysis/Aceclo_SR_Tablet/Aceclo_SR_Tablet_6.json\n"
     ]
    },
    {
     "name": "stderr",
     "output_type": "stream",
     "text": [
      "100%|██████████| 62/62 [00:00<00:00, 58714.57it/s]\n"
     ]
    },
    {
     "name": "stdout",
     "output_type": "stream",
     "text": [
      "Image_path: ../images-115-max-keys-400/images/Aceclo_SR_Tablet/Aceclo_SR_Tablet1_rotated.jpg\n",
      "Dir name: Aceclo_SR_Tablet\n",
      "Outpath: metaanalysis/Aceclo_SR_Tablet/Aceclo_SR_Tablet_7.json\n"
     ]
    },
    {
     "name": "stderr",
     "output_type": "stream",
     "text": [
      "100%|██████████| 63/63 [00:00<00:00, 57493.72it/s]\n"
     ]
    },
    {
     "name": "stdout",
     "output_type": "stream",
     "text": [
      "Image_path: ../images-115-max-keys-400/images/Aceclo_SR_Tablet/Aceclo_SR_Tablet0.jpg\n",
      "Dir name: Aceclo_SR_Tablet\n",
      "Outpath: metaanalysis/Aceclo_SR_Tablet/Aceclo_SR_Tablet_8.json\n"
     ]
    },
    {
     "name": "stderr",
     "output_type": "stream",
     "text": [
      "100%|██████████| 16/16 [00:00<00:00, 10134.23it/s]\n"
     ]
    },
    {
     "name": "stdout",
     "output_type": "stream",
     "text": [
      "Image_path: ../images-115-max-keys-400/images/Aceclo_SR_Tablet/Aceclo_SR_Tablet0_blur.jpg\n",
      "Dir name: Aceclo_SR_Tablet\n",
      "Outpath: metaanalysis/Aceclo_SR_Tablet/Aceclo_SR_Tablet_9.json\n"
     ]
    },
    {
     "name": "stderr",
     "output_type": "stream",
     "text": [
      "100%|██████████| 12/12 [00:00<00:00, 5088.12it/s]\n"
     ]
    },
    {
     "name": "stdout",
     "output_type": "stream",
     "text": [
      "Image_path: ../images-115-max-keys-400/images/Aceclo_SR_Tablet/Aceclo_SR_Tablet0_gaussian_noise.jpg\n",
      "Dir name: Aceclo_SR_Tablet\n",
      "Outpath: metaanalysis/Aceclo_SR_Tablet/Aceclo_SR_Tablet_10.json\n"
     ]
    },
    {
     "name": "stderr",
     "output_type": "stream",
     "text": [
      "100%|██████████| 11/11 [00:00<00:00, 22539.01it/s]\n"
     ]
    },
    {
     "name": "stdout",
     "output_type": "stream",
     "text": [
      "Image_path: ../images-115-max-keys-400/images/Aceclo_SR_Tablet/Aceclo_SR_Tablet1_blur.jpg\n",
      "Dir name: Aceclo_SR_Tablet\n",
      "Outpath: metaanalysis/Aceclo_SR_Tablet/Aceclo_SR_Tablet_11.json\n"
     ]
    },
    {
     "name": "stderr",
     "output_type": "stream",
     "text": [
      "100%|██████████| 56/56 [00:00<00:00, 31570.03it/s]\n"
     ]
    },
    {
     "name": "stdout",
     "output_type": "stream",
     "text": [
      "Image_path: ../images-115-max-keys-400/images/Aceclo_SR_Tablet/Aceclo_SR_Tablet2_rotated.jpg\n",
      "Dir name: Aceclo_SR_Tablet\n",
      "Outpath: metaanalysis/Aceclo_SR_Tablet/Aceclo_SR_Tablet_12.json\n"
     ]
    },
    {
     "name": "stderr",
     "output_type": "stream",
     "text": [
      "100%|██████████| 2/2 [00:00<00:00, 4179.68it/s]\n"
     ]
    },
    {
     "name": "stdout",
     "output_type": "stream",
     "text": [
      "Dir: ../images-115-max-keys-400/images/Acebull_A_Tablet\n",
      "Image_path: ../images-115-max-keys-400/images/Acebull_A_Tablet/Acebull_A_Tablet0_rotated.jpg\n",
      "Dir name: Acebull_A_Tablet\n",
      "Outpath: metaanalysis/Acebull_A_Tablet/Acebull_A_Tablet_1.json\n"
     ]
    },
    {
     "name": "stderr",
     "output_type": "stream",
     "text": [
      "100%|██████████| 11/11 [00:00<00:00, 8244.70it/s]\n"
     ]
    },
    {
     "name": "stdout",
     "output_type": "stream",
     "text": [
      "Image_path: ../images-115-max-keys-400/images/Acebull_A_Tablet/Acebull_A_Tablet1_gaussian_noise.jpg\n",
      "Dir name: Acebull_A_Tablet\n",
      "Outpath: metaanalysis/Acebull_A_Tablet/Acebull_A_Tablet_2.json\n"
     ]
    },
    {
     "name": "stderr",
     "output_type": "stream",
     "text": [
      "100%|██████████| 74/74 [00:00<00:00, 55474.26it/s]\n"
     ]
    },
    {
     "name": "stdout",
     "output_type": "stream",
     "text": [
      "Image_path: ../images-115-max-keys-400/images/Acebull_A_Tablet/Acebull_A_Tablet1.jpg\n",
      "Dir name: Acebull_A_Tablet\n",
      "Outpath: metaanalysis/Acebull_A_Tablet/Acebull_A_Tablet_3.json\n"
     ]
    },
    {
     "name": "stderr",
     "output_type": "stream",
     "text": [
      "100%|██████████| 91/91 [00:00<00:00, 18361.56it/s]\n"
     ]
    },
    {
     "name": "stdout",
     "output_type": "stream",
     "text": [
      "Image_path: ../images-115-max-keys-400/images/Acebull_A_Tablet/Acebull_A_Tablet1_blur.jpg\n",
      "Dir name: Acebull_A_Tablet\n",
      "Outpath: metaanalysis/Acebull_A_Tablet/Acebull_A_Tablet_4.json\n"
     ]
    },
    {
     "name": "stderr",
     "output_type": "stream",
     "text": [
      "100%|██████████| 66/66 [00:00<00:00, 21238.61it/s]\n"
     ]
    },
    {
     "name": "stdout",
     "output_type": "stream",
     "text": [
      "Image_path: ../images-115-max-keys-400/images/Acebull_A_Tablet/Acebull_A_Tablet1_rotated.jpg\n",
      "Dir name: Acebull_A_Tablet\n",
      "Outpath: metaanalysis/Acebull_A_Tablet/Acebull_A_Tablet_5.json\n"
     ]
    },
    {
     "name": "stderr",
     "output_type": "stream",
     "text": [
      "100%|██████████| 82/82 [00:00<00:00, 19598.43it/s]\n"
     ]
    },
    {
     "name": "stdout",
     "output_type": "stream",
     "text": [
      "Image_path: ../images-115-max-keys-400/images/Acebull_A_Tablet/Acebull_A_Tablet0_gaussian_noise.jpg\n",
      "Dir name: Acebull_A_Tablet\n",
      "Outpath: metaanalysis/Acebull_A_Tablet/Acebull_A_Tablet_6.json\n"
     ]
    },
    {
     "name": "stderr",
     "output_type": "stream",
     "text": [
      "100%|██████████| 11/11 [00:00<00:00, 14399.92it/s]\n"
     ]
    },
    {
     "name": "stdout",
     "output_type": "stream",
     "text": [
      "Image_path: ../images-115-max-keys-400/images/Acebull_A_Tablet/Acebull_A_Tablet0_blur.jpg\n",
      "Dir name: Acebull_A_Tablet\n",
      "Outpath: metaanalysis/Acebull_A_Tablet/Acebull_A_Tablet_7.json\n"
     ]
    },
    {
     "name": "stderr",
     "output_type": "stream",
     "text": [
      "100%|██████████| 11/11 [00:00<00:00, 8347.63it/s]\n"
     ]
    },
    {
     "name": "stdout",
     "output_type": "stream",
     "text": [
      "Image_path: ../images-115-max-keys-400/images/Acebull_A_Tablet/Acebull_A_Tablet0.jpg\n",
      "Dir name: Acebull_A_Tablet\n",
      "Outpath: metaanalysis/Acebull_A_Tablet/Acebull_A_Tablet_8.json\n"
     ]
    },
    {
     "name": "stderr",
     "output_type": "stream",
     "text": [
      "100%|██████████| 13/13 [00:00<00:00, 30074.99it/s]\n"
     ]
    },
    {
     "name": "stdout",
     "output_type": "stream",
     "text": [
      "Dir: ../images-115-max-keys-400/images/AT_10_Tablet\n",
      "Image_path: ../images-115-max-keys-400/images/AT_10_Tablet/AT_10_Tablet0.jpg\n",
      "Dir name: AT_10_Tablet\n",
      "Outpath: metaanalysis/AT_10_Tablet/AT_10_Tablet_1.json\n"
     ]
    },
    {
     "name": "stderr",
     "output_type": "stream",
     "text": [
      "100%|██████████| 14/14 [00:00<00:00, 18174.02it/s]\n"
     ]
    },
    {
     "name": "stdout",
     "output_type": "stream",
     "text": [
      "Image_path: ../images-115-max-keys-400/images/AT_10_Tablet/AT_10_Tablet0_rotated.jpg\n",
      "Dir name: AT_10_Tablet\n",
      "Outpath: metaanalysis/AT_10_Tablet/AT_10_Tablet_2.json\n"
     ]
    },
    {
     "name": "stderr",
     "output_type": "stream",
     "text": [
      "100%|██████████| 10/10 [00:00<00:00, 8182.41it/s]\n"
     ]
    },
    {
     "name": "stdout",
     "output_type": "stream",
     "text": [
      "Image_path: ../images-115-max-keys-400/images/AT_10_Tablet/AT_10_Tablet2_rotated.jpg\n",
      "Dir name: AT_10_Tablet\n",
      "Outpath: metaanalysis/AT_10_Tablet/AT_10_Tablet_3.json\n"
     ]
    },
    {
     "name": "stderr",
     "output_type": "stream",
     "text": [
      "100%|██████████| 16/16 [00:00<00:00, 27125.65it/s]\n"
     ]
    },
    {
     "name": "stdout",
     "output_type": "stream",
     "text": [
      "Image_path: ../images-115-max-keys-400/images/AT_10_Tablet/AT_10_Tablet0_blur.jpg\n",
      "Dir name: AT_10_Tablet\n",
      "Outpath: metaanalysis/AT_10_Tablet/AT_10_Tablet_4.json\n"
     ]
    },
    {
     "name": "stderr",
     "output_type": "stream",
     "text": [
      "100%|██████████| 11/11 [00:00<00:00, 9540.39it/s]\n"
     ]
    },
    {
     "name": "stdout",
     "output_type": "stream",
     "text": [
      "Image_path: ../images-115-max-keys-400/images/AT_10_Tablet/AT_10_Tablet1_rotated.jpg\n",
      "Dir name: AT_10_Tablet\n",
      "Outpath: metaanalysis/AT_10_Tablet/AT_10_Tablet_5.json\n"
     ]
    },
    {
     "name": "stderr",
     "output_type": "stream",
     "text": [
      "100%|██████████| 27/27 [00:00<00:00, 10624.47it/s]\n"
     ]
    },
    {
     "name": "stdout",
     "output_type": "stream",
     "text": [
      "Image_path: ../images-115-max-keys-400/images/AT_10_Tablet/AT_10_Tablet2_gaussian_noise.jpg\n",
      "Dir name: AT_10_Tablet\n",
      "Outpath: metaanalysis/AT_10_Tablet/AT_10_Tablet_6.json\n"
     ]
    },
    {
     "name": "stderr",
     "output_type": "stream",
     "text": [
      "100%|██████████| 13/13 [00:00<00:00, 31157.69it/s]\n"
     ]
    },
    {
     "name": "stdout",
     "output_type": "stream",
     "text": [
      "Image_path: ../images-115-max-keys-400/images/AT_10_Tablet/AT_10_Tablet2_blur.jpg\n",
      "Dir name: AT_10_Tablet\n",
      "Outpath: metaanalysis/AT_10_Tablet/AT_10_Tablet_7.json\n"
     ]
    },
    {
     "name": "stderr",
     "output_type": "stream",
     "text": [
      "100%|██████████| 10/10 [00:00<00:00, 12024.95it/s]\n"
     ]
    },
    {
     "name": "stdout",
     "output_type": "stream",
     "text": [
      "Image_path: ../images-115-max-keys-400/images/AT_10_Tablet/AT_10_Tablet1_gaussian_noise.jpg\n",
      "Dir name: AT_10_Tablet\n",
      "Outpath: metaanalysis/AT_10_Tablet/AT_10_Tablet_8.json\n"
     ]
    },
    {
     "name": "stderr",
     "output_type": "stream",
     "text": [
      "100%|██████████| 30/30 [00:00<00:00, 13874.64it/s]\n"
     ]
    },
    {
     "name": "stdout",
     "output_type": "stream",
     "text": [
      "Image_path: ../images-115-max-keys-400/images/AT_10_Tablet/AT_10_Tablet0_gaussian_noise.jpg\n",
      "Dir name: AT_10_Tablet\n",
      "Outpath: metaanalysis/AT_10_Tablet/AT_10_Tablet_9.json\n"
     ]
    },
    {
     "name": "stderr",
     "output_type": "stream",
     "text": [
      "100%|██████████| 13/13 [00:00<00:00, 20112.86it/s]\n"
     ]
    },
    {
     "name": "stdout",
     "output_type": "stream",
     "text": [
      "Image_path: ../images-115-max-keys-400/images/AT_10_Tablet/AT_10_Tablet1.jpg\n",
      "Dir name: AT_10_Tablet\n",
      "Outpath: metaanalysis/AT_10_Tablet/AT_10_Tablet_10.json\n"
     ]
    },
    {
     "name": "stderr",
     "output_type": "stream",
     "text": [
      "100%|██████████| 36/36 [00:00<00:00, 21937.37it/s]\n"
     ]
    },
    {
     "name": "stdout",
     "output_type": "stream",
     "text": [
      "Image_path: ../images-115-max-keys-400/images/AT_10_Tablet/AT_10_Tablet1_blur.jpg\n",
      "Dir name: AT_10_Tablet\n",
      "Outpath: metaanalysis/AT_10_Tablet/AT_10_Tablet_11.json\n"
     ]
    },
    {
     "name": "stderr",
     "output_type": "stream",
     "text": [
      "100%|██████████| 19/19 [00:00<00:00, 11386.17it/s]\n"
     ]
    },
    {
     "name": "stdout",
     "output_type": "stream",
     "text": [
      "Image_path: ../images-115-max-keys-400/images/AT_10_Tablet/AT_10_Tablet2.jpg\n",
      "Dir name: AT_10_Tablet\n",
      "Outpath: metaanalysis/AT_10_Tablet/AT_10_Tablet_12.json\n"
     ]
    },
    {
     "name": "stderr",
     "output_type": "stream",
     "text": [
      "100%|██████████| 20/20 [00:00<00:00, 13204.17it/s]\n"
     ]
    },
    {
     "name": "stdout",
     "output_type": "stream",
     "text": [
      "Dir: ../images-115-max-keys-400/images/ALERGIN_L_TABLET\n",
      "Image_path: ../images-115-max-keys-400/images/ALERGIN_L_TABLET/ALERGIN_L_TABLET2_blur.jpg\n",
      "Dir name: ALERGIN_L_TABLET\n",
      "Outpath: metaanalysis/ALERGIN_L_TABLET/ALERGIN_L_TABLET_1.json\n"
     ]
    },
    {
     "name": "stderr",
     "output_type": "stream",
     "text": [
      "100%|██████████| 58/58 [00:00<00:00, 18433.71it/s]\n"
     ]
    },
    {
     "name": "stdout",
     "output_type": "stream",
     "text": [
      "Image_path: ../images-115-max-keys-400/images/ALERGIN_L_TABLET/ALERGIN_L_TABLET1_rotated.jpg\n",
      "Dir name: ALERGIN_L_TABLET\n",
      "Outpath: metaanalysis/ALERGIN_L_TABLET/ALERGIN_L_TABLET_2.json\n"
     ]
    },
    {
     "name": "stderr",
     "output_type": "stream",
     "text": [
      "100%|██████████| 42/42 [00:00<00:00, 12832.22it/s]\n"
     ]
    },
    {
     "name": "stdout",
     "output_type": "stream",
     "text": [
      "Image_path: ../images-115-max-keys-400/images/ALERGIN_L_TABLET/ALERGIN_L_TABLET2.jpg\n",
      "Dir name: ALERGIN_L_TABLET\n",
      "Outpath: metaanalysis/ALERGIN_L_TABLET/ALERGIN_L_TABLET_3.json\n"
     ]
    },
    {
     "name": "stderr",
     "output_type": "stream",
     "text": [
      "100%|██████████| 60/60 [00:00<00:00, 16388.27it/s]\n"
     ]
    },
    {
     "name": "stdout",
     "output_type": "stream",
     "text": [
      "Image_path: ../images-115-max-keys-400/images/ALERGIN_L_TABLET/ALERGIN_L_TABLET1_gaussian_noise.jpg\n",
      "Dir name: ALERGIN_L_TABLET\n",
      "Outpath: metaanalysis/ALERGIN_L_TABLET/ALERGIN_L_TABLET_4.json\n"
     ]
    },
    {
     "name": "stderr",
     "output_type": "stream",
     "text": [
      "100%|██████████| 42/42 [00:00<00:00, 17005.58it/s]\n"
     ]
    },
    {
     "name": "stdout",
     "output_type": "stream",
     "text": [
      "Image_path: ../images-115-max-keys-400/images/ALERGIN_L_TABLET/ALERGIN_L_TABLET2_rotated.jpg\n",
      "Dir name: ALERGIN_L_TABLET\n",
      "Outpath: metaanalysis/ALERGIN_L_TABLET/ALERGIN_L_TABLET_5.json\n"
     ]
    },
    {
     "name": "stderr",
     "output_type": "stream",
     "text": [
      "100%|██████████| 60/60 [00:00<00:00, 23629.88it/s]\n"
     ]
    },
    {
     "name": "stdout",
     "output_type": "stream",
     "text": [
      "Image_path: ../images-115-max-keys-400/images/ALERGIN_L_TABLET/ALERGIN_L_TABLET0_blur.jpg\n",
      "Dir name: ALERGIN_L_TABLET\n",
      "Outpath: metaanalysis/ALERGIN_L_TABLET/ALERGIN_L_TABLET_6.json\n"
     ]
    },
    {
     "name": "stderr",
     "output_type": "stream",
     "text": [
      "100%|██████████| 10/10 [00:00<00:00, 6745.42it/s]\n"
     ]
    },
    {
     "name": "stdout",
     "output_type": "stream",
     "text": [
      "Image_path: ../images-115-max-keys-400/images/ALERGIN_L_TABLET/ALERGIN_L_TABLET1_blur.jpg\n",
      "Dir name: ALERGIN_L_TABLET\n",
      "Outpath: metaanalysis/ALERGIN_L_TABLET/ALERGIN_L_TABLET_7.json\n"
     ]
    },
    {
     "name": "stderr",
     "output_type": "stream",
     "text": [
      "100%|██████████| 40/40 [00:00<00:00, 23230.71it/s]\n"
     ]
    },
    {
     "name": "stdout",
     "output_type": "stream",
     "text": [
      "Image_path: ../images-115-max-keys-400/images/ALERGIN_L_TABLET/ALERGIN_L_TABLET0.jpg\n",
      "Dir name: ALERGIN_L_TABLET\n",
      "Outpath: metaanalysis/ALERGIN_L_TABLET/ALERGIN_L_TABLET_8.json\n"
     ]
    },
    {
     "name": "stderr",
     "output_type": "stream",
     "text": [
      "100%|██████████| 13/13 [00:00<00:00, 20708.68it/s]\n"
     ]
    },
    {
     "name": "stdout",
     "output_type": "stream",
     "text": [
      "Image_path: ../images-115-max-keys-400/images/ALERGIN_L_TABLET/ALERGIN_L_TABLET0_rotated.jpg\n",
      "Dir name: ALERGIN_L_TABLET\n",
      "Outpath: metaanalysis/ALERGIN_L_TABLET/ALERGIN_L_TABLET_9.json\n"
     ]
    },
    {
     "name": "stderr",
     "output_type": "stream",
     "text": [
      "100%|██████████| 12/12 [00:00<00:00, 10178.29it/s]\n"
     ]
    },
    {
     "name": "stdout",
     "output_type": "stream",
     "text": [
      "Image_path: ../images-115-max-keys-400/images/ALERGIN_L_TABLET/ALERGIN_L_TABLET0_gaussian_noise.jpg\n",
      "Dir name: ALERGIN_L_TABLET\n",
      "Outpath: metaanalysis/ALERGIN_L_TABLET/ALERGIN_L_TABLET_10.json\n"
     ]
    },
    {
     "name": "stderr",
     "output_type": "stream",
     "text": [
      "100%|██████████| 12/12 [00:00<00:00, 7055.18it/s]\n"
     ]
    },
    {
     "name": "stdout",
     "output_type": "stream",
     "text": [
      "Image_path: ../images-115-max-keys-400/images/ALERGIN_L_TABLET/ALERGIN_L_TABLET2_gaussian_noise.jpg\n",
      "Dir name: ALERGIN_L_TABLET\n",
      "Outpath: metaanalysis/ALERGIN_L_TABLET/ALERGIN_L_TABLET_11.json\n"
     ]
    },
    {
     "name": "stderr",
     "output_type": "stream",
     "text": [
      "100%|██████████| 61/61 [00:00<00:00, 12768.37it/s]\n"
     ]
    },
    {
     "name": "stdout",
     "output_type": "stream",
     "text": [
      "Image_path: ../images-115-max-keys-400/images/ALERGIN_L_TABLET/ALERGIN_L_TABLET1.jpg\n",
      "Dir name: ALERGIN_L_TABLET\n",
      "Outpath: metaanalysis/ALERGIN_L_TABLET/ALERGIN_L_TABLET_12.json\n"
     ]
    },
    {
     "name": "stderr",
     "output_type": "stream",
     "text": [
      "100%|██████████| 60/60 [00:00<00:00, 35345.26it/s]\n"
     ]
    },
    {
     "name": "stdout",
     "output_type": "stream",
     "text": [
      "Dir: ../images-115-max-keys-400/images/Ace-Coxib_90_Tablet\n",
      "Image_path: ../images-115-max-keys-400/images/Ace-Coxib_90_Tablet/Ace-Coxib_90_Tablet0_gaussian_noise.jpg\n",
      "Dir name: Ace-Coxib_90_Tablet\n",
      "Outpath: metaanalysis/Ace-Coxib_90_Tablet/Ace-Coxib_90_Tablet_1.json\n"
     ]
    },
    {
     "name": "stderr",
     "output_type": "stream",
     "text": [
      "100%|██████████| 5/5 [00:00<00:00, 3900.95it/s]\n"
     ]
    },
    {
     "name": "stdout",
     "output_type": "stream",
     "text": [
      "Image_path: ../images-115-max-keys-400/images/Ace-Coxib_90_Tablet/Ace-Coxib_90_Tablet1_gaussian_noise.jpg\n",
      "Dir name: Ace-Coxib_90_Tablet\n",
      "Outpath: metaanalysis/Ace-Coxib_90_Tablet/Ace-Coxib_90_Tablet_2.json\n"
     ]
    },
    {
     "name": "stderr",
     "output_type": "stream",
     "text": [
      "100%|██████████| 1/1 [00:00<00:00, 1600.27it/s]\n"
     ]
    },
    {
     "name": "stdout",
     "output_type": "stream",
     "text": [
      "Image_path: ../images-115-max-keys-400/images/Ace-Coxib_90_Tablet/Ace-Coxib_90_Tablet1.jpg\n",
      "Dir name: Ace-Coxib_90_Tablet\n",
      "Outpath: metaanalysis/Ace-Coxib_90_Tablet/Ace-Coxib_90_Tablet_3.json\n",
      "Image_path: ../images-115-max-keys-400/images/Ace-Coxib_90_Tablet/Ace-Coxib_90_Tablet0_rotated.jpg\n",
      "Dir name: Ace-Coxib_90_Tablet\n",
      "Outpath: metaanalysis/Ace-Coxib_90_Tablet/Ace-Coxib_90_Tablet_4.json\n"
     ]
    },
    {
     "name": "stderr",
     "output_type": "stream",
     "text": [
      "100%|██████████| 7/7 [00:00<00:00, 7319.90it/s]\n"
     ]
    },
    {
     "name": "stdout",
     "output_type": "stream",
     "text": [
      "Image_path: ../images-115-max-keys-400/images/Ace-Coxib_90_Tablet/Ace-Coxib_90_Tablet1_blur.jpg\n",
      "Dir name: Ace-Coxib_90_Tablet\n",
      "Outpath: metaanalysis/Ace-Coxib_90_Tablet/Ace-Coxib_90_Tablet_5.json\n",
      "Image_path: ../images-115-max-keys-400/images/Ace-Coxib_90_Tablet/Ace-Coxib_90_Tablet0_blur.jpg\n",
      "Dir name: Ace-Coxib_90_Tablet\n",
      "Outpath: metaanalysis/Ace-Coxib_90_Tablet/Ace-Coxib_90_Tablet_6.json\n"
     ]
    },
    {
     "name": "stderr",
     "output_type": "stream",
     "text": [
      "100%|██████████| 6/6 [00:00<00:00, 13926.85it/s]\n"
     ]
    },
    {
     "name": "stdout",
     "output_type": "stream",
     "text": [
      "Image_path: ../images-115-max-keys-400/images/Ace-Coxib_90_Tablet/Ace-Coxib_90_Tablet1_rotated.jpg\n",
      "Dir name: Ace-Coxib_90_Tablet\n",
      "Outpath: metaanalysis/Ace-Coxib_90_Tablet/Ace-Coxib_90_Tablet_7.json\n"
     ]
    },
    {
     "name": "stderr",
     "output_type": "stream",
     "text": [
      "100%|██████████| 1/1 [00:00<00:00, 3858.61it/s]\n"
     ]
    },
    {
     "name": "stdout",
     "output_type": "stream",
     "text": [
      "Image_path: ../images-115-max-keys-400/images/Ace-Coxib_90_Tablet/Ace-Coxib_90_Tablet0.jpg\n",
      "Dir name: Ace-Coxib_90_Tablet\n",
      "Outpath: metaanalysis/Ace-Coxib_90_Tablet/Ace-Coxib_90_Tablet_8.json\n"
     ]
    },
    {
     "name": "stderr",
     "output_type": "stream",
     "text": [
      "100%|██████████| 8/8 [00:00<00:00, 22779.66it/s]\n"
     ]
    },
    {
     "name": "stdout",
     "output_type": "stream",
     "text": [
      "Dir: ../images-115-max-keys-400/images/Absolut_DM_Capsule\n",
      "Image_path: ../images-115-max-keys-400/images/Absolut_DM_Capsule/Absolut_DM_Capsule1_rotated.jpg\n",
      "Dir name: Absolut_DM_Capsule\n",
      "Outpath: metaanalysis/Absolut_DM_Capsule/Absolut_DM_Capsule_1.json\n",
      "Image_path: ../images-115-max-keys-400/images/Absolut_DM_Capsule/Absolut_DM_Capsule1_gaussian_noise.jpg\n",
      "Dir name: Absolut_DM_Capsule\n",
      "Outpath: metaanalysis/Absolut_DM_Capsule/Absolut_DM_Capsule_2.json\n"
     ]
    },
    {
     "name": "stderr",
     "output_type": "stream",
     "text": [
      "100%|██████████| 1/1 [00:00<00:00, 2024.28it/s]\n"
     ]
    },
    {
     "name": "stdout",
     "output_type": "stream",
     "text": [
      "Image_path: ../images-115-max-keys-400/images/Absolut_DM_Capsule/Absolut_DM_Capsule0.jpg\n",
      "Dir name: Absolut_DM_Capsule\n",
      "Outpath: metaanalysis/Absolut_DM_Capsule/Absolut_DM_Capsule_3.json\n"
     ]
    },
    {
     "name": "stderr",
     "output_type": "stream",
     "text": [
      "100%|██████████| 61/61 [00:00<00:00, 50895.67it/s]\n"
     ]
    },
    {
     "name": "stdout",
     "output_type": "stream",
     "text": [
      "Image_path: ../images-115-max-keys-400/images/Absolut_DM_Capsule/Absolut_DM_Capsule0_blur.jpg\n",
      "Dir name: Absolut_DM_Capsule\n",
      "Outpath: metaanalysis/Absolut_DM_Capsule/Absolut_DM_Capsule_4.json\n"
     ]
    },
    {
     "name": "stderr",
     "output_type": "stream",
     "text": [
      "100%|██████████| 16/16 [00:00<00:00, 11324.48it/s]\n"
     ]
    },
    {
     "name": "stdout",
     "output_type": "stream",
     "text": [
      "Image_path: ../images-115-max-keys-400/images/Absolut_DM_Capsule/Absolut_DM_Capsule0_rotated.jpg\n",
      "Dir name: Absolut_DM_Capsule\n",
      "Outpath: metaanalysis/Absolut_DM_Capsule/Absolut_DM_Capsule_5.json\n"
     ]
    },
    {
     "name": "stderr",
     "output_type": "stream",
     "text": [
      "100%|██████████| 30/30 [00:00<00:00, 10798.93it/s]\n"
     ]
    },
    {
     "name": "stdout",
     "output_type": "stream",
     "text": [
      "Image_path: ../images-115-max-keys-400/images/Absolut_DM_Capsule/Absolut_DM_Capsule1_blur.jpg\n",
      "Dir name: Absolut_DM_Capsule\n",
      "Outpath: metaanalysis/Absolut_DM_Capsule/Absolut_DM_Capsule_6.json\n",
      "Image_path: ../images-115-max-keys-400/images/Absolut_DM_Capsule/Absolut_DM_Capsule0_gaussian_noise.jpg\n",
      "Dir name: Absolut_DM_Capsule\n",
      "Outpath: metaanalysis/Absolut_DM_Capsule/Absolut_DM_Capsule_7.json\n"
     ]
    },
    {
     "name": "stderr",
     "output_type": "stream",
     "text": [
      "100%|██████████| 21/21 [00:00<00:00, 17146.27it/s]\n"
     ]
    },
    {
     "name": "stdout",
     "output_type": "stream",
     "text": [
      "Image_path: ../images-115-max-keys-400/images/Absolut_DM_Capsule/Absolut_DM_Capsule1.jpg\n",
      "Dir name: Absolut_DM_Capsule\n",
      "Outpath: metaanalysis/Absolut_DM_Capsule/Absolut_DM_Capsule_8.json\n",
      "Dir: ../images-115-max-keys-400/images/Ace_Proxyvon_Tablet\n",
      "Image_path: ../images-115-max-keys-400/images/Ace_Proxyvon_Tablet/Ace_Proxyvon_Tablet1_gaussian_noise.jpg\n",
      "Dir name: Ace_Proxyvon_Tablet\n",
      "Outpath: metaanalysis/Ace_Proxyvon_Tablet/Ace_Proxyvon_Tablet_1.json\n"
     ]
    },
    {
     "name": "stderr",
     "output_type": "stream",
     "text": [
      "100%|██████████| 34/34 [00:00<00:00, 14636.80it/s]\n"
     ]
    },
    {
     "name": "stdout",
     "output_type": "stream",
     "text": [
      "Image_path: ../images-115-max-keys-400/images/Ace_Proxyvon_Tablet/Ace_Proxyvon_Tablet2_gaussian_noise.jpg\n",
      "Dir name: Ace_Proxyvon_Tablet\n",
      "Outpath: metaanalysis/Ace_Proxyvon_Tablet/Ace_Proxyvon_Tablet_2.json\n"
     ]
    },
    {
     "name": "stderr",
     "output_type": "stream",
     "text": [
      "100%|██████████| 32/32 [00:00<00:00, 12911.76it/s]\n"
     ]
    },
    {
     "name": "stdout",
     "output_type": "stream",
     "text": [
      "Image_path: ../images-115-max-keys-400/images/Ace_Proxyvon_Tablet/Ace_Proxyvon_Tablet0.jpg\n",
      "Dir name: Ace_Proxyvon_Tablet\n",
      "Outpath: metaanalysis/Ace_Proxyvon_Tablet/Ace_Proxyvon_Tablet_3.json\n"
     ]
    },
    {
     "name": "stderr",
     "output_type": "stream",
     "text": [
      "100%|██████████| 8/8 [00:00<00:00, 14242.12it/s]\n"
     ]
    },
    {
     "name": "stdout",
     "output_type": "stream",
     "text": [
      "Image_path: ../images-115-max-keys-400/images/Ace_Proxyvon_Tablet/Ace_Proxyvon_Tablet0_gaussian_noise.jpg\n",
      "Dir name: Ace_Proxyvon_Tablet\n",
      "Outpath: metaanalysis/Ace_Proxyvon_Tablet/Ace_Proxyvon_Tablet_4.json\n"
     ]
    },
    {
     "name": "stderr",
     "output_type": "stream",
     "text": [
      "100%|██████████| 6/6 [00:00<00:00, 4570.62it/s]\n"
     ]
    },
    {
     "name": "stdout",
     "output_type": "stream",
     "text": [
      "Image_path: ../images-115-max-keys-400/images/Ace_Proxyvon_Tablet/Ace_Proxyvon_Tablet0_rotated.jpg\n",
      "Dir name: Ace_Proxyvon_Tablet\n",
      "Outpath: metaanalysis/Ace_Proxyvon_Tablet/Ace_Proxyvon_Tablet_5.json\n"
     ]
    },
    {
     "name": "stderr",
     "output_type": "stream",
     "text": [
      "100%|██████████| 7/7 [00:00<00:00, 22378.15it/s]\n"
     ]
    },
    {
     "name": "stdout",
     "output_type": "stream",
     "text": [
      "Image_path: ../images-115-max-keys-400/images/Ace_Proxyvon_Tablet/Ace_Proxyvon_Tablet1_blur.jpg\n",
      "Dir name: Ace_Proxyvon_Tablet\n",
      "Outpath: metaanalysis/Ace_Proxyvon_Tablet/Ace_Proxyvon_Tablet_6.json\n"
     ]
    },
    {
     "name": "stderr",
     "output_type": "stream",
     "text": [
      "100%|██████████| 34/34 [00:00<00:00, 36185.32it/s]\n"
     ]
    },
    {
     "name": "stdout",
     "output_type": "stream",
     "text": [
      "Image_path: ../images-115-max-keys-400/images/Ace_Proxyvon_Tablet/Ace_Proxyvon_Tablet2_rotated.jpg\n",
      "Dir name: Ace_Proxyvon_Tablet\n",
      "Outpath: metaanalysis/Ace_Proxyvon_Tablet/Ace_Proxyvon_Tablet_7.json\n"
     ]
    },
    {
     "name": "stderr",
     "output_type": "stream",
     "text": [
      "100%|██████████| 36/36 [00:00<00:00, 45303.01it/s]\n"
     ]
    },
    {
     "name": "stdout",
     "output_type": "stream",
     "text": [
      "Image_path: ../images-115-max-keys-400/images/Ace_Proxyvon_Tablet/Ace_Proxyvon_Tablet1.jpg\n",
      "Dir name: Ace_Proxyvon_Tablet\n",
      "Outpath: metaanalysis/Ace_Proxyvon_Tablet/Ace_Proxyvon_Tablet_8.json\n"
     ]
    },
    {
     "name": "stderr",
     "output_type": "stream",
     "text": [
      "100%|██████████| 95/95 [00:00<00:00, 44170.15it/s]\n"
     ]
    },
    {
     "name": "stdout",
     "output_type": "stream",
     "text": [
      "Image_path: ../images-115-max-keys-400/images/Ace_Proxyvon_Tablet/Ace_Proxyvon_Tablet2.jpg\n",
      "Dir name: Ace_Proxyvon_Tablet\n",
      "Outpath: metaanalysis/Ace_Proxyvon_Tablet/Ace_Proxyvon_Tablet_9.json\n"
     ]
    },
    {
     "name": "stderr",
     "output_type": "stream",
     "text": [
      "100%|██████████| 42/42 [00:00<00:00, 57102.36it/s]\n"
     ]
    },
    {
     "name": "stdout",
     "output_type": "stream",
     "text": [
      "Image_path: ../images-115-max-keys-400/images/Ace_Proxyvon_Tablet/Ace_Proxyvon_Tablet1_rotated.jpg\n",
      "Dir name: Ace_Proxyvon_Tablet\n",
      "Outpath: metaanalysis/Ace_Proxyvon_Tablet/Ace_Proxyvon_Tablet_10.json\n"
     ]
    },
    {
     "name": "stderr",
     "output_type": "stream",
     "text": [
      "100%|██████████| 70/70 [00:00<00:00, 34716.95it/s]\n"
     ]
    },
    {
     "name": "stdout",
     "output_type": "stream",
     "text": [
      "Image_path: ../images-115-max-keys-400/images/Ace_Proxyvon_Tablet/Ace_Proxyvon_Tablet0_blur.jpg\n",
      "Dir name: Ace_Proxyvon_Tablet\n",
      "Outpath: metaanalysis/Ace_Proxyvon_Tablet/Ace_Proxyvon_Tablet_11.json\n"
     ]
    },
    {
     "name": "stderr",
     "output_type": "stream",
     "text": [
      "100%|██████████| 8/8 [00:00<00:00, 19796.13it/s]\n"
     ]
    },
    {
     "name": "stdout",
     "output_type": "stream",
     "text": [
      "Image_path: ../images-115-max-keys-400/images/Ace_Proxyvon_Tablet/Ace_Proxyvon_Tablet2_blur.jpg\n",
      "Dir name: Ace_Proxyvon_Tablet\n",
      "Outpath: metaanalysis/Ace_Proxyvon_Tablet/Ace_Proxyvon_Tablet_12.json\n"
     ]
    },
    {
     "name": "stderr",
     "output_type": "stream",
     "text": [
      "100%|██████████| 28/28 [00:00<00:00, 21592.30it/s]\n"
     ]
    },
    {
     "name": "stdout",
     "output_type": "stream",
     "text": [
      "Dir: ../images-115-max-keys-400/images/AB_Phylline_N_Tablet\n",
      "Image_path: ../images-115-max-keys-400/images/AB_Phylline_N_Tablet/AB_Phylline_N_Tablet0_blur.jpg\n",
      "Dir name: AB_Phylline_N_Tablet\n",
      "Outpath: metaanalysis/AB_Phylline_N_Tablet/AB_Phylline_N_Tablet_1.json\n"
     ]
    },
    {
     "name": "stderr",
     "output_type": "stream",
     "text": [
      "100%|██████████| 7/7 [00:00<00:00, 6540.46it/s]\n"
     ]
    },
    {
     "name": "stdout",
     "output_type": "stream",
     "text": [
      "Image_path: ../images-115-max-keys-400/images/AB_Phylline_N_Tablet/AB_Phylline_N_Tablet0_gaussian_noise.jpg\n",
      "Dir name: AB_Phylline_N_Tablet\n",
      "Outpath: metaanalysis/AB_Phylline_N_Tablet/AB_Phylline_N_Tablet_2.json\n"
     ]
    },
    {
     "name": "stderr",
     "output_type": "stream",
     "text": [
      "100%|██████████| 7/7 [00:00<00:00, 4547.73it/s]\n"
     ]
    },
    {
     "name": "stdout",
     "output_type": "stream",
     "text": [
      "Image_path: ../images-115-max-keys-400/images/AB_Phylline_N_Tablet/AB_Phylline_N_Tablet1_rotated.jpg\n",
      "Dir name: AB_Phylline_N_Tablet\n",
      "Outpath: metaanalysis/AB_Phylline_N_Tablet/AB_Phylline_N_Tablet_3.json\n"
     ]
    },
    {
     "name": "stderr",
     "output_type": "stream",
     "text": [
      "100%|██████████| 11/11 [00:00<00:00, 18440.19it/s]\n"
     ]
    },
    {
     "name": "stdout",
     "output_type": "stream",
     "text": [
      "Image_path: ../images-115-max-keys-400/images/AB_Phylline_N_Tablet/AB_Phylline_N_Tablet1.jpg\n",
      "Dir name: AB_Phylline_N_Tablet\n",
      "Outpath: metaanalysis/AB_Phylline_N_Tablet/AB_Phylline_N_Tablet_4.json\n"
     ]
    },
    {
     "name": "stderr",
     "output_type": "stream",
     "text": [
      "100%|██████████| 16/16 [00:00<00:00, 12000.87it/s]\n"
     ]
    },
    {
     "name": "stdout",
     "output_type": "stream",
     "text": [
      "Image_path: ../images-115-max-keys-400/images/AB_Phylline_N_Tablet/AB_Phylline_N_Tablet0.jpg\n",
      "Dir name: AB_Phylline_N_Tablet\n",
      "Outpath: metaanalysis/AB_Phylline_N_Tablet/AB_Phylline_N_Tablet_5.json\n"
     ]
    },
    {
     "name": "stderr",
     "output_type": "stream",
     "text": [
      "100%|██████████| 7/7 [00:00<00:00, 12419.68it/s]\n"
     ]
    },
    {
     "name": "stdout",
     "output_type": "stream",
     "text": [
      "Image_path: ../images-115-max-keys-400/images/AB_Phylline_N_Tablet/AB_Phylline_N_Tablet2.jpg\n",
      "Dir name: AB_Phylline_N_Tablet\n",
      "Outpath: metaanalysis/AB_Phylline_N_Tablet/AB_Phylline_N_Tablet_6.json\n"
     ]
    },
    {
     "name": "stderr",
     "output_type": "stream",
     "text": [
      "100%|██████████| 50/50 [00:00<00:00, 15016.12it/s]\n"
     ]
    },
    {
     "name": "stdout",
     "output_type": "stream",
     "text": [
      "Image_path: ../images-115-max-keys-400/images/AB_Phylline_N_Tablet/AB_Phylline_N_Tablet1_gaussian_noise.jpg\n",
      "Dir name: AB_Phylline_N_Tablet\n",
      "Outpath: metaanalysis/AB_Phylline_N_Tablet/AB_Phylline_N_Tablet_7.json\n"
     ]
    },
    {
     "name": "stderr",
     "output_type": "stream",
     "text": [
      "100%|██████████| 11/11 [00:00<00:00, 19304.33it/s]\n"
     ]
    },
    {
     "name": "stdout",
     "output_type": "stream",
     "text": [
      "Image_path: ../images-115-max-keys-400/images/AB_Phylline_N_Tablet/AB_Phylline_N_Tablet2_rotated.jpg\n",
      "Dir name: AB_Phylline_N_Tablet\n",
      "Outpath: metaanalysis/AB_Phylline_N_Tablet/AB_Phylline_N_Tablet_8.json\n"
     ]
    },
    {
     "name": "stderr",
     "output_type": "stream",
     "text": [
      "100%|██████████| 47/47 [00:00<00:00, 19374.18it/s]\n"
     ]
    },
    {
     "name": "stdout",
     "output_type": "stream",
     "text": [
      "Image_path: ../images-115-max-keys-400/images/AB_Phylline_N_Tablet/AB_Phylline_N_Tablet2_gaussian_noise.jpg\n",
      "Dir name: AB_Phylline_N_Tablet\n",
      "Outpath: metaanalysis/AB_Phylline_N_Tablet/AB_Phylline_N_Tablet_9.json\n"
     ]
    },
    {
     "name": "stderr",
     "output_type": "stream",
     "text": [
      "100%|██████████| 36/36 [00:00<00:00, 34030.86it/s]\n"
     ]
    },
    {
     "name": "stdout",
     "output_type": "stream",
     "text": [
      "Image_path: ../images-115-max-keys-400/images/AB_Phylline_N_Tablet/AB_Phylline_N_Tablet2_blur.jpg\n",
      "Dir name: AB_Phylline_N_Tablet\n",
      "Outpath: metaanalysis/AB_Phylline_N_Tablet/AB_Phylline_N_Tablet_10.json\n"
     ]
    },
    {
     "name": "stderr",
     "output_type": "stream",
     "text": [
      "100%|██████████| 47/47 [00:00<00:00, 21090.43it/s]\n"
     ]
    },
    {
     "name": "stdout",
     "output_type": "stream",
     "text": [
      "Image_path: ../images-115-max-keys-400/images/AB_Phylline_N_Tablet/AB_Phylline_N_Tablet0_rotated.jpg\n",
      "Dir name: AB_Phylline_N_Tablet\n",
      "Outpath: metaanalysis/AB_Phylline_N_Tablet/AB_Phylline_N_Tablet_11.json\n"
     ]
    },
    {
     "name": "stderr",
     "output_type": "stream",
     "text": [
      "100%|██████████| 7/7 [00:00<00:00, 11066.77it/s]\n"
     ]
    },
    {
     "name": "stdout",
     "output_type": "stream",
     "text": [
      "Image_path: ../images-115-max-keys-400/images/AB_Phylline_N_Tablet/AB_Phylline_N_Tablet1_blur.jpg\n",
      "Dir name: AB_Phylline_N_Tablet\n",
      "Outpath: metaanalysis/AB_Phylline_N_Tablet/AB_Phylline_N_Tablet_12.json\n"
     ]
    },
    {
     "name": "stderr",
     "output_type": "stream",
     "text": [
      "100%|██████████| 10/10 [00:00<00:00, 8134.80it/s]\n"
     ]
    },
    {
     "name": "stdout",
     "output_type": "stream",
     "text": [
      "Dir: ../images-115-max-keys-400/images/Abolish-FX_120_Tablet\n",
      "Image_path: ../images-115-max-keys-400/images/Abolish-FX_120_Tablet/Abolish-FX_120_Tablet1_rotated.jpg\n",
      "Dir name: Abolish-FX_120_Tablet\n",
      "Outpath: metaanalysis/Abolish-FX_120_Tablet/Abolish-FX_120_Tablet_1.json\n"
     ]
    },
    {
     "name": "stderr",
     "output_type": "stream",
     "text": [
      "100%|██████████| 64/64 [00:00<00:00, 20072.94it/s]\n"
     ]
    },
    {
     "name": "stdout",
     "output_type": "stream",
     "text": [
      "Image_path: ../images-115-max-keys-400/images/Abolish-FX_120_Tablet/Abolish-FX_120_Tablet1.jpg\n",
      "Dir name: Abolish-FX_120_Tablet\n",
      "Outpath: metaanalysis/Abolish-FX_120_Tablet/Abolish-FX_120_Tablet_2.json\n"
     ]
    },
    {
     "name": "stderr",
     "output_type": "stream",
     "text": [
      "100%|██████████| 66/66 [00:00<00:00, 8696.13it/s]\n"
     ]
    },
    {
     "name": "stdout",
     "output_type": "stream",
     "text": [
      "Image_path: ../images-115-max-keys-400/images/Abolish-FX_120_Tablet/Abolish-FX_120_Tablet0_rotated.jpg\n",
      "Dir name: Abolish-FX_120_Tablet\n",
      "Outpath: metaanalysis/Abolish-FX_120_Tablet/Abolish-FX_120_Tablet_3.json\n"
     ]
    },
    {
     "name": "stderr",
     "output_type": "stream",
     "text": [
      "100%|██████████| 11/11 [00:00<00:00, 13193.41it/s]\n"
     ]
    },
    {
     "name": "stdout",
     "output_type": "stream",
     "text": [
      "Image_path: ../images-115-max-keys-400/images/Abolish-FX_120_Tablet/Abolish-FX_120_Tablet0_gaussian_noise.jpg\n",
      "Dir name: Abolish-FX_120_Tablet\n",
      "Outpath: metaanalysis/Abolish-FX_120_Tablet/Abolish-FX_120_Tablet_4.json\n"
     ]
    },
    {
     "name": "stderr",
     "output_type": "stream",
     "text": [
      "100%|██████████| 10/10 [00:00<00:00, 26834.96it/s]\n"
     ]
    },
    {
     "name": "stdout",
     "output_type": "stream",
     "text": [
      "Image_path: ../images-115-max-keys-400/images/Abolish-FX_120_Tablet/Abolish-FX_120_Tablet1_gaussian_noise.jpg\n",
      "Dir name: Abolish-FX_120_Tablet\n",
      "Outpath: metaanalysis/Abolish-FX_120_Tablet/Abolish-FX_120_Tablet_5.json\n"
     ]
    },
    {
     "name": "stderr",
     "output_type": "stream",
     "text": [
      "100%|██████████| 46/46 [00:00<00:00, 15023.98it/s]\n"
     ]
    },
    {
     "name": "stdout",
     "output_type": "stream",
     "text": [
      "Image_path: ../images-115-max-keys-400/images/Abolish-FX_120_Tablet/Abolish-FX_120_Tablet1_blur.jpg\n",
      "Dir name: Abolish-FX_120_Tablet\n",
      "Outpath: metaanalysis/Abolish-FX_120_Tablet/Abolish-FX_120_Tablet_6.json\n"
     ]
    },
    {
     "name": "stderr",
     "output_type": "stream",
     "text": [
      "100%|██████████| 59/59 [00:00<00:00, 29264.89it/s]\n"
     ]
    },
    {
     "name": "stdout",
     "output_type": "stream",
     "text": [
      "Image_path: ../images-115-max-keys-400/images/Abolish-FX_120_Tablet/Abolish-FX_120_Tablet0.jpg\n",
      "Dir name: Abolish-FX_120_Tablet\n",
      "Outpath: metaanalysis/Abolish-FX_120_Tablet/Abolish-FX_120_Tablet_7.json\n"
     ]
    },
    {
     "name": "stderr",
     "output_type": "stream",
     "text": [
      "100%|██████████| 11/11 [00:00<00:00, 11394.75it/s]\n"
     ]
    },
    {
     "name": "stdout",
     "output_type": "stream",
     "text": [
      "Image_path: ../images-115-max-keys-400/images/Abolish-FX_120_Tablet/Abolish-FX_120_Tablet0_blur.jpg\n",
      "Dir name: Abolish-FX_120_Tablet\n",
      "Outpath: metaanalysis/Abolish-FX_120_Tablet/Abolish-FX_120_Tablet_8.json\n"
     ]
    },
    {
     "name": "stderr",
     "output_type": "stream",
     "text": [
      "100%|██████████| 10/10 [00:00<00:00, 8863.70it/s]\n"
     ]
    },
    {
     "name": "stdout",
     "output_type": "stream",
     "text": [
      "Dir: ../images-115-max-keys-400/images/Aceclo_Tablet\n",
      "Image_path: ../images-115-max-keys-400/images/Aceclo_Tablet/Aceclo_Tablet1.jpg\n",
      "Dir name: Aceclo_Tablet\n",
      "Outpath: metaanalysis/Aceclo_Tablet/Aceclo_Tablet_1.json\n"
     ]
    },
    {
     "name": "stderr",
     "output_type": "stream",
     "text": [
      "100%|██████████| 12/12 [00:00<00:00, 13090.16it/s]\n"
     ]
    },
    {
     "name": "stdout",
     "output_type": "stream",
     "text": [
      "Image_path: ../images-115-max-keys-400/images/Aceclo_Tablet/Aceclo_Tablet2_rotated.jpg\n",
      "Dir name: Aceclo_Tablet\n",
      "Outpath: metaanalysis/Aceclo_Tablet/Aceclo_Tablet_2.json\n"
     ]
    },
    {
     "name": "stderr",
     "output_type": "stream",
     "text": [
      "100%|██████████| 59/59 [00:00<00:00, 51662.62it/s]\n"
     ]
    },
    {
     "name": "stdout",
     "output_type": "stream",
     "text": [
      "Image_path: ../images-115-max-keys-400/images/Aceclo_Tablet/Aceclo_Tablet2_gaussian_noise.jpg\n",
      "Dir name: Aceclo_Tablet\n",
      "Outpath: metaanalysis/Aceclo_Tablet/Aceclo_Tablet_3.json\n"
     ]
    },
    {
     "name": "stderr",
     "output_type": "stream",
     "text": [
      "100%|██████████| 44/44 [00:00<00:00, 43525.80it/s]\n"
     ]
    },
    {
     "name": "stdout",
     "output_type": "stream",
     "text": [
      "Image_path: ../images-115-max-keys-400/images/Aceclo_Tablet/Aceclo_Tablet0_gaussian_noise.jpg\n",
      "Dir name: Aceclo_Tablet\n",
      "Outpath: metaanalysis/Aceclo_Tablet/Aceclo_Tablet_4.json\n"
     ]
    },
    {
     "name": "stderr",
     "output_type": "stream",
     "text": [
      "100%|██████████| 5/5 [00:00<00:00, 11119.58it/s]\n"
     ]
    },
    {
     "name": "stdout",
     "output_type": "stream",
     "text": [
      "Image_path: ../images-115-max-keys-400/images/Aceclo_Tablet/Aceclo_Tablet1_rotated.jpg\n",
      "Dir name: Aceclo_Tablet\n",
      "Outpath: metaanalysis/Aceclo_Tablet/Aceclo_Tablet_5.json\n"
     ]
    },
    {
     "name": "stderr",
     "output_type": "stream",
     "text": [
      "100%|██████████| 13/13 [00:00<00:00, 20685.11it/s]\n"
     ]
    },
    {
     "name": "stdout",
     "output_type": "stream",
     "text": [
      "Image_path: ../images-115-max-keys-400/images/Aceclo_Tablet/Aceclo_Tablet1_gaussian_noise.jpg\n",
      "Dir name: Aceclo_Tablet\n",
      "Outpath: metaanalysis/Aceclo_Tablet/Aceclo_Tablet_6.json\n"
     ]
    },
    {
     "name": "stderr",
     "output_type": "stream",
     "text": [
      "100%|██████████| 10/10 [00:00<00:00, 2275.93it/s]\n"
     ]
    },
    {
     "name": "stdout",
     "output_type": "stream",
     "text": [
      "Image_path: ../images-115-max-keys-400/images/Aceclo_Tablet/Aceclo_Tablet0_blur.jpg\n",
      "Dir name: Aceclo_Tablet\n",
      "Outpath: metaanalysis/Aceclo_Tablet/Aceclo_Tablet_7.json\n"
     ]
    },
    {
     "name": "stderr",
     "output_type": "stream",
     "text": [
      "100%|██████████| 9/9 [00:00<00:00, 2929.21it/s]\n"
     ]
    },
    {
     "name": "stdout",
     "output_type": "stream",
     "text": [
      "Image_path: ../images-115-max-keys-400/images/Aceclo_Tablet/Aceclo_Tablet2_blur.jpg\n",
      "Dir name: Aceclo_Tablet\n",
      "Outpath: metaanalysis/Aceclo_Tablet/Aceclo_Tablet_8.json\n"
     ]
    },
    {
     "name": "stderr",
     "output_type": "stream",
     "text": [
      "100%|██████████| 34/34 [00:00<00:00, 23056.80it/s]\n"
     ]
    },
    {
     "name": "stdout",
     "output_type": "stream",
     "text": [
      "Image_path: ../images-115-max-keys-400/images/Aceclo_Tablet/Aceclo_Tablet0_rotated.jpg\n",
      "Dir name: Aceclo_Tablet\n",
      "Outpath: metaanalysis/Aceclo_Tablet/Aceclo_Tablet_9.json\n"
     ]
    },
    {
     "name": "stderr",
     "output_type": "stream",
     "text": [
      "100%|██████████| 10/10 [00:00<00:00, 7209.19it/s]\n"
     ]
    },
    {
     "name": "stdout",
     "output_type": "stream",
     "text": [
      "Image_path: ../images-115-max-keys-400/images/Aceclo_Tablet/Aceclo_Tablet1_blur.jpg\n",
      "Dir name: Aceclo_Tablet\n",
      "Outpath: metaanalysis/Aceclo_Tablet/Aceclo_Tablet_10.json\n"
     ]
    },
    {
     "name": "stderr",
     "output_type": "stream",
     "text": [
      "100%|██████████| 8/8 [00:00<00:00, 10696.34it/s]\n"
     ]
    },
    {
     "name": "stdout",
     "output_type": "stream",
     "text": [
      "Image_path: ../images-115-max-keys-400/images/Aceclo_Tablet/Aceclo_Tablet0.jpg\n",
      "Dir name: Aceclo_Tablet\n",
      "Outpath: metaanalysis/Aceclo_Tablet/Aceclo_Tablet_11.json\n"
     ]
    },
    {
     "name": "stderr",
     "output_type": "stream",
     "text": [
      "100%|██████████| 11/11 [00:00<00:00, 17292.86it/s]\n"
     ]
    },
    {
     "name": "stdout",
     "output_type": "stream",
     "text": [
      "Image_path: ../images-115-max-keys-400/images/Aceclo_Tablet/Aceclo_Tablet2.jpg\n",
      "Dir name: Aceclo_Tablet\n",
      "Outpath: metaanalysis/Aceclo_Tablet/Aceclo_Tablet_12.json\n"
     ]
    },
    {
     "name": "stderr",
     "output_type": "stream",
     "text": [
      "100%|██████████| 58/58 [00:00<00:00, 23805.62it/s]\n"
     ]
    },
    {
     "name": "stdout",
     "output_type": "stream",
     "text": [
      "Dir: ../images-115-max-keys-400/images/Aceclo_Spas_Tablet\n",
      "Image_path: ../images-115-max-keys-400/images/Aceclo_Spas_Tablet/Aceclo_Spas_Tablet0_gaussian_noise.jpg\n",
      "Dir name: Aceclo_Spas_Tablet\n",
      "Outpath: metaanalysis/Aceclo_Spas_Tablet/Aceclo_Spas_Tablet_1.json\n"
     ]
    },
    {
     "name": "stderr",
     "output_type": "stream",
     "text": [
      "100%|██████████| 4/4 [00:00<00:00, 3919.91it/s]\n"
     ]
    },
    {
     "name": "stdout",
     "output_type": "stream",
     "text": [
      "Image_path: ../images-115-max-keys-400/images/Aceclo_Spas_Tablet/Aceclo_Spas_Tablet1_gaussian_noise.jpg\n",
      "Dir name: Aceclo_Spas_Tablet\n",
      "Outpath: metaanalysis/Aceclo_Spas_Tablet/Aceclo_Spas_Tablet_2.json\n"
     ]
    },
    {
     "name": "stderr",
     "output_type": "stream",
     "text": [
      "100%|██████████| 6/6 [00:00<00:00, 6570.71it/s]\n"
     ]
    },
    {
     "name": "stdout",
     "output_type": "stream",
     "text": [
      "Image_path: ../images-115-max-keys-400/images/Aceclo_Spas_Tablet/Aceclo_Spas_Tablet0.jpg\n",
      "Dir name: Aceclo_Spas_Tablet\n",
      "Outpath: metaanalysis/Aceclo_Spas_Tablet/Aceclo_Spas_Tablet_3.json\n"
     ]
    },
    {
     "name": "stderr",
     "output_type": "stream",
     "text": [
      "100%|██████████| 10/10 [00:00<00:00, 6331.98it/s]\n"
     ]
    },
    {
     "name": "stdout",
     "output_type": "stream",
     "text": [
      "Image_path: ../images-115-max-keys-400/images/Aceclo_Spas_Tablet/Aceclo_Spas_Tablet2.jpg\n",
      "Dir name: Aceclo_Spas_Tablet\n",
      "Outpath: metaanalysis/Aceclo_Spas_Tablet/Aceclo_Spas_Tablet_4.json\n"
     ]
    },
    {
     "name": "stderr",
     "output_type": "stream",
     "text": [
      "100%|██████████| 70/70 [00:00<00:00, 23629.88it/s]\n"
     ]
    },
    {
     "name": "stdout",
     "output_type": "stream",
     "text": [
      "Image_path: ../images-115-max-keys-400/images/Aceclo_Spas_Tablet/Aceclo_Spas_Tablet2_rotated.jpg\n",
      "Dir name: Aceclo_Spas_Tablet\n",
      "Outpath: metaanalysis/Aceclo_Spas_Tablet/Aceclo_Spas_Tablet_5.json\n"
     ]
    },
    {
     "name": "stderr",
     "output_type": "stream",
     "text": [
      "100%|██████████| 64/64 [00:00<00:00, 42200.20it/s]\n"
     ]
    },
    {
     "name": "stdout",
     "output_type": "stream",
     "text": [
      "Image_path: ../images-115-max-keys-400/images/Aceclo_Spas_Tablet/Aceclo_Spas_Tablet1.jpg\n",
      "Dir name: Aceclo_Spas_Tablet\n",
      "Outpath: metaanalysis/Aceclo_Spas_Tablet/Aceclo_Spas_Tablet_6.json\n"
     ]
    },
    {
     "name": "stderr",
     "output_type": "stream",
     "text": [
      "100%|██████████| 11/11 [00:00<00:00, 16614.10it/s]\n"
     ]
    },
    {
     "name": "stdout",
     "output_type": "stream",
     "text": [
      "Image_path: ../images-115-max-keys-400/images/Aceclo_Spas_Tablet/Aceclo_Spas_Tablet2_gaussian_noise.jpg\n",
      "Dir name: Aceclo_Spas_Tablet\n",
      "Outpath: metaanalysis/Aceclo_Spas_Tablet/Aceclo_Spas_Tablet_7.json\n"
     ]
    },
    {
     "name": "stderr",
     "output_type": "stream",
     "text": [
      "100%|██████████| 43/43 [00:00<00:00, 25976.53it/s]\n"
     ]
    },
    {
     "name": "stdout",
     "output_type": "stream",
     "text": [
      "Image_path: ../images-115-max-keys-400/images/Aceclo_Spas_Tablet/Aceclo_Spas_Tablet1_blur.jpg\n",
      "Dir name: Aceclo_Spas_Tablet\n",
      "Outpath: metaanalysis/Aceclo_Spas_Tablet/Aceclo_Spas_Tablet_8.json\n"
     ]
    },
    {
     "name": "stderr",
     "output_type": "stream",
     "text": [
      "100%|██████████| 10/10 [00:00<00:00, 12024.95it/s]\n"
     ]
    },
    {
     "name": "stdout",
     "output_type": "stream",
     "text": [
      "Image_path: ../images-115-max-keys-400/images/Aceclo_Spas_Tablet/Aceclo_Spas_Tablet1_rotated.jpg\n",
      "Dir name: Aceclo_Spas_Tablet\n",
      "Outpath: metaanalysis/Aceclo_Spas_Tablet/Aceclo_Spas_Tablet_9.json\n"
     ]
    },
    {
     "name": "stderr",
     "output_type": "stream",
     "text": [
      "100%|██████████| 9/9 [00:00<00:00, 6857.17it/s]\n"
     ]
    },
    {
     "name": "stdout",
     "output_type": "stream",
     "text": [
      "Image_path: ../images-115-max-keys-400/images/Aceclo_Spas_Tablet/Aceclo_Spas_Tablet0_blur.jpg\n",
      "Dir name: Aceclo_Spas_Tablet\n",
      "Outpath: metaanalysis/Aceclo_Spas_Tablet/Aceclo_Spas_Tablet_10.json\n"
     ]
    },
    {
     "name": "stderr",
     "output_type": "stream",
     "text": [
      "100%|██████████| 9/9 [00:00<00:00, 16754.88it/s]\n"
     ]
    },
    {
     "name": "stdout",
     "output_type": "stream",
     "text": [
      "Image_path: ../images-115-max-keys-400/images/Aceclo_Spas_Tablet/Aceclo_Spas_Tablet0_rotated.jpg\n",
      "Dir name: Aceclo_Spas_Tablet\n",
      "Outpath: metaanalysis/Aceclo_Spas_Tablet/Aceclo_Spas_Tablet_11.json\n"
     ]
    },
    {
     "name": "stderr",
     "output_type": "stream",
     "text": [
      "100%|██████████| 10/10 [00:00<00:00, 27094.99it/s]\n"
     ]
    },
    {
     "name": "stdout",
     "output_type": "stream",
     "text": [
      "Image_path: ../images-115-max-keys-400/images/Aceclo_Spas_Tablet/Aceclo_Spas_Tablet2_blur.jpg\n",
      "Dir name: Aceclo_Spas_Tablet\n",
      "Outpath: metaanalysis/Aceclo_Spas_Tablet/Aceclo_Spas_Tablet_12.json\n"
     ]
    },
    {
     "name": "stderr",
     "output_type": "stream",
     "text": [
      "100%|██████████| 34/34 [00:00<00:00, 16560.95it/s]\n"
     ]
    },
    {
     "name": "stdout",
     "output_type": "stream",
     "text": [
      "Dir: ../images-115-max-keys-400/images/ANC_9_Tablet\n",
      "Image_path: ../images-115-max-keys-400/images/ANC_9_Tablet/ANC_9_Tablet1.jpg\n",
      "Dir name: ANC_9_Tablet\n",
      "Outpath: metaanalysis/ANC_9_Tablet/ANC_9_Tablet_1.json\n"
     ]
    },
    {
     "name": "stderr",
     "output_type": "stream",
     "text": [
      "100%|██████████| 39/39 [00:00<00:00, 43551.08it/s]\n"
     ]
    },
    {
     "name": "stdout",
     "output_type": "stream",
     "text": [
      "Image_path: ../images-115-max-keys-400/images/ANC_9_Tablet/ANC_9_Tablet1_gaussian_noise.jpg\n",
      "Dir name: ANC_9_Tablet\n",
      "Outpath: metaanalysis/ANC_9_Tablet/ANC_9_Tablet_2.json\n"
     ]
    },
    {
     "name": "stderr",
     "output_type": "stream",
     "text": [
      "100%|██████████| 17/17 [00:00<00:00, 32662.93it/s]\n"
     ]
    },
    {
     "name": "stdout",
     "output_type": "stream",
     "text": [
      "Image_path: ../images-115-max-keys-400/images/ANC_9_Tablet/ANC_9_Tablet1_rotated.jpg\n",
      "Dir name: ANC_9_Tablet\n",
      "Outpath: metaanalysis/ANC_9_Tablet/ANC_9_Tablet_3.json\n"
     ]
    },
    {
     "name": "stderr",
     "output_type": "stream",
     "text": [
      "100%|██████████| 24/24 [00:00<00:00, 10287.51it/s]\n"
     ]
    },
    {
     "name": "stdout",
     "output_type": "stream",
     "text": [
      "Image_path: ../images-115-max-keys-400/images/ANC_9_Tablet/ANC_9_Tablet0.jpg\n",
      "Dir name: ANC_9_Tablet\n",
      "Outpath: metaanalysis/ANC_9_Tablet/ANC_9_Tablet_4.json\n"
     ]
    },
    {
     "name": "stderr",
     "output_type": "stream",
     "text": [
      "100%|██████████| 9/9 [00:00<00:00, 7756.06it/s]\n"
     ]
    },
    {
     "name": "stdout",
     "output_type": "stream",
     "text": [
      "Image_path: ../images-115-max-keys-400/images/ANC_9_Tablet/ANC_9_Tablet0_blur.jpg\n",
      "Dir name: ANC_9_Tablet\n",
      "Outpath: metaanalysis/ANC_9_Tablet/ANC_9_Tablet_5.json\n"
     ]
    },
    {
     "name": "stderr",
     "output_type": "stream",
     "text": [
      "100%|██████████| 8/8 [00:00<00:00, 6957.17it/s]\n"
     ]
    },
    {
     "name": "stdout",
     "output_type": "stream",
     "text": [
      "Image_path: ../images-115-max-keys-400/images/ANC_9_Tablet/ANC_9_Tablet0_rotated.jpg\n",
      "Dir name: ANC_9_Tablet\n",
      "Outpath: metaanalysis/ANC_9_Tablet/ANC_9_Tablet_6.json\n"
     ]
    },
    {
     "name": "stderr",
     "output_type": "stream",
     "text": [
      "100%|██████████| 9/9 [00:00<00:00, 11005.46it/s]\n"
     ]
    },
    {
     "name": "stdout",
     "output_type": "stream",
     "text": [
      "Image_path: ../images-115-max-keys-400/images/ANC_9_Tablet/ANC_9_Tablet0_gaussian_noise.jpg\n",
      "Dir name: ANC_9_Tablet\n",
      "Outpath: metaanalysis/ANC_9_Tablet/ANC_9_Tablet_7.json\n"
     ]
    },
    {
     "name": "stderr",
     "output_type": "stream",
     "text": [
      "100%|██████████| 9/9 [00:00<00:00, 8919.83it/s]\n"
     ]
    },
    {
     "name": "stdout",
     "output_type": "stream",
     "text": [
      "Image_path: ../images-115-max-keys-400/images/ANC_9_Tablet/ANC_9_Tablet1_blur.jpg\n",
      "Dir name: ANC_9_Tablet\n",
      "Outpath: metaanalysis/ANC_9_Tablet/ANC_9_Tablet_8.json\n"
     ]
    },
    {
     "name": "stderr",
     "output_type": "stream",
     "text": [
      "100%|██████████| 8/8 [00:00<00:00, 7099.96it/s]\n"
     ]
    },
    {
     "name": "stdout",
     "output_type": "stream",
     "text": [
      "Dir: ../images-115-max-keys-400/images/Acbc-N_Tablet\n",
      "Image_path: ../images-115-max-keys-400/images/Acbc-N_Tablet/Acbc-N_Tablet0_gaussian_noise.jpg\n",
      "Dir name: Acbc-N_Tablet\n",
      "Outpath: metaanalysis/Acbc-N_Tablet/Acbc-N_Tablet_1.json\n"
     ]
    },
    {
     "name": "stderr",
     "output_type": "stream",
     "text": [
      "100%|██████████| 11/11 [00:00<00:00, 13029.47it/s]\n"
     ]
    },
    {
     "name": "stdout",
     "output_type": "stream",
     "text": [
      "Image_path: ../images-115-max-keys-400/images/Acbc-N_Tablet/Acbc-N_Tablet0_rotated.jpg\n",
      "Dir name: Acbc-N_Tablet\n",
      "Outpath: metaanalysis/Acbc-N_Tablet/Acbc-N_Tablet_2.json\n"
     ]
    },
    {
     "name": "stderr",
     "output_type": "stream",
     "text": [
      "100%|██████████| 12/12 [00:00<00:00, 17172.18it/s]\n"
     ]
    },
    {
     "name": "stdout",
     "output_type": "stream",
     "text": [
      "Image_path: ../images-115-max-keys-400/images/Acbc-N_Tablet/Acbc-N_Tablet0_blur.jpg\n",
      "Dir name: Acbc-N_Tablet\n",
      "Outpath: metaanalysis/Acbc-N_Tablet/Acbc-N_Tablet_3.json\n"
     ]
    },
    {
     "name": "stderr",
     "output_type": "stream",
     "text": [
      "100%|██████████| 7/7 [00:00<00:00, 4644.85it/s]\n"
     ]
    },
    {
     "name": "stdout",
     "output_type": "stream",
     "text": [
      "Image_path: ../images-115-max-keys-400/images/Acbc-N_Tablet/Acbc-N_Tablet0.jpg\n",
      "Dir name: Acbc-N_Tablet\n",
      "Outpath: metaanalysis/Acbc-N_Tablet/Acbc-N_Tablet_4.json\n"
     ]
    },
    {
     "name": "stderr",
     "output_type": "stream",
     "text": [
      "100%|██████████| 14/14 [00:00<00:00, 20986.51it/s]\n"
     ]
    },
    {
     "name": "stdout",
     "output_type": "stream",
     "text": [
      "Dir: ../images-115-max-keys-400/images/Abel_80_Tablet\n",
      "Image_path: ../images-115-max-keys-400/images/Abel_80_Tablet/Abel_80_Tablet0_gaussian_noise.jpg\n",
      "Dir name: Abel_80_Tablet\n",
      "Outpath: metaanalysis/Abel_80_Tablet/Abel_80_Tablet_1.json\n"
     ]
    },
    {
     "name": "stderr",
     "output_type": "stream",
     "text": [
      "100%|██████████| 8/8 [00:00<00:00, 14134.13it/s]\n"
     ]
    },
    {
     "name": "stdout",
     "output_type": "stream",
     "text": [
      "Image_path: ../images-115-max-keys-400/images/Abel_80_Tablet/Abel_80_Tablet0_rotated.jpg\n",
      "Dir name: Abel_80_Tablet\n",
      "Outpath: metaanalysis/Abel_80_Tablet/Abel_80_Tablet_2.json\n"
     ]
    },
    {
     "name": "stderr",
     "output_type": "stream",
     "text": [
      "100%|██████████| 20/20 [00:00<00:00, 6917.87it/s]\n"
     ]
    },
    {
     "name": "stdout",
     "output_type": "stream",
     "text": [
      "Image_path: ../images-115-max-keys-400/images/Abel_80_Tablet/Abel_80_Tablet1_rotated.jpg\n",
      "Dir name: Abel_80_Tablet\n",
      "Outpath: metaanalysis/Abel_80_Tablet/Abel_80_Tablet_3.json\n"
     ]
    },
    {
     "name": "stderr",
     "output_type": "stream",
     "text": [
      "100%|██████████| 3/3 [00:00<00:00, 2369.66it/s]\n"
     ]
    },
    {
     "name": "stdout",
     "output_type": "stream",
     "text": [
      "Image_path: ../images-115-max-keys-400/images/Abel_80_Tablet/Abel_80_Tablet1_gaussian_noise.jpg\n",
      "Dir name: Abel_80_Tablet\n",
      "Outpath: metaanalysis/Abel_80_Tablet/Abel_80_Tablet_4.json\n"
     ]
    },
    {
     "name": "stderr",
     "output_type": "stream",
     "text": [
      "100%|██████████| 2/2 [00:00<00:00, 1390.45it/s]\n"
     ]
    },
    {
     "name": "stdout",
     "output_type": "stream",
     "text": [
      "Image_path: ../images-115-max-keys-400/images/Abel_80_Tablet/Abel_80_Tablet0_blur.jpg\n",
      "Dir name: Abel_80_Tablet\n",
      "Outpath: metaanalysis/Abel_80_Tablet/Abel_80_Tablet_5.json\n"
     ]
    },
    {
     "name": "stderr",
     "output_type": "stream",
     "text": [
      "100%|██████████| 8/8 [00:00<00:00, 7055.18it/s]\n"
     ]
    },
    {
     "name": "stdout",
     "output_type": "stream",
     "text": [
      "Image_path: ../images-115-max-keys-400/images/Abel_80_Tablet/Abel_80_Tablet1_blur.jpg\n",
      "Dir name: Abel_80_Tablet\n",
      "Outpath: metaanalysis/Abel_80_Tablet/Abel_80_Tablet_6.json\n"
     ]
    },
    {
     "name": "stderr",
     "output_type": "stream",
     "text": [
      "100%|██████████| 3/3 [00:00<00:00, 4378.19it/s]\n"
     ]
    },
    {
     "name": "stdout",
     "output_type": "stream",
     "text": [
      "Image_path: ../images-115-max-keys-400/images/Abel_80_Tablet/Abel_80_Tablet1.jpg\n",
      "Dir name: Abel_80_Tablet\n",
      "Outpath: metaanalysis/Abel_80_Tablet/Abel_80_Tablet_7.json\n"
     ]
    },
    {
     "name": "stderr",
     "output_type": "stream",
     "text": [
      "100%|██████████| 3/3 [00:00<00:00, 13189.64it/s]\n"
     ]
    },
    {
     "name": "stdout",
     "output_type": "stream",
     "text": [
      "Image_path: ../images-115-max-keys-400/images/Abel_80_Tablet/Abel_80_Tablet0.jpg\n",
      "Dir name: Abel_80_Tablet\n",
      "Outpath: metaanalysis/Abel_80_Tablet/Abel_80_Tablet_8.json\n"
     ]
    },
    {
     "name": "stderr",
     "output_type": "stream",
     "text": [
      "100%|██████████| 43/43 [00:00<00:00, 20942.30it/s]\n"
     ]
    },
    {
     "name": "stdout",
     "output_type": "stream",
     "text": [
      "Dir: ../images-115-max-keys-400/images/Acebrohope-SR_200_Tablet\n",
      "Image_path: ../images-115-max-keys-400/images/Acebrohope-SR_200_Tablet/Acebrohope-SR_200_Tablet0_blur.jpg\n",
      "Dir name: Acebrohope-SR_200_Tablet\n",
      "Outpath: metaanalysis/Acebrohope-SR_200_Tablet/Acebrohope-SR_200_Tablet_1.json\n"
     ]
    },
    {
     "name": "stderr",
     "output_type": "stream",
     "text": [
      "100%|██████████| 8/8 [00:00<00:00, 4957.07it/s]\n"
     ]
    },
    {
     "name": "stdout",
     "output_type": "stream",
     "text": [
      "Image_path: ../images-115-max-keys-400/images/Acebrohope-SR_200_Tablet/Acebrohope-SR_200_Tablet0_rotated.jpg\n",
      "Dir name: Acebrohope-SR_200_Tablet\n",
      "Outpath: metaanalysis/Acebrohope-SR_200_Tablet/Acebrohope-SR_200_Tablet_2.json\n"
     ]
    },
    {
     "name": "stderr",
     "output_type": "stream",
     "text": [
      "100%|██████████| 18/18 [00:00<00:00, 29059.84it/s]\n"
     ]
    },
    {
     "name": "stdout",
     "output_type": "stream",
     "text": [
      "Image_path: ../images-115-max-keys-400/images/Acebrohope-SR_200_Tablet/Acebrohope-SR_200_Tablet0.jpg\n",
      "Dir name: Acebrohope-SR_200_Tablet\n",
      "Outpath: metaanalysis/Acebrohope-SR_200_Tablet/Acebrohope-SR_200_Tablet_3.json\n"
     ]
    },
    {
     "name": "stderr",
     "output_type": "stream",
     "text": [
      "100%|██████████| 33/33 [00:00<00:00, 11891.07it/s]\n"
     ]
    },
    {
     "name": "stdout",
     "output_type": "stream",
     "text": [
      "Image_path: ../images-115-max-keys-400/images/Acebrohope-SR_200_Tablet/Acebrohope-SR_200_Tablet0_gaussian_noise.jpg\n",
      "Dir name: Acebrohope-SR_200_Tablet\n",
      "Outpath: metaanalysis/Acebrohope-SR_200_Tablet/Acebrohope-SR_200_Tablet_4.json\n"
     ]
    },
    {
     "name": "stderr",
     "output_type": "stream",
     "text": [
      "100%|██████████| 6/6 [00:00<00:00, 5903.31it/s]\n"
     ]
    },
    {
     "name": "stdout",
     "output_type": "stream",
     "text": [
      "Dir: ../images-115-max-keys-400/images/Acentio_MR_Tablet\n",
      "Image_path: ../images-115-max-keys-400/images/Acentio_MR_Tablet/Acentio_MR_Tablet0_blur.jpg\n",
      "Dir name: Acentio_MR_Tablet\n",
      "Outpath: metaanalysis/Acentio_MR_Tablet/Acentio_MR_Tablet_1.json\n"
     ]
    },
    {
     "name": "stderr",
     "output_type": "stream",
     "text": [
      "100%|██████████| 9/9 [00:00<00:00, 8992.08it/s]\n"
     ]
    },
    {
     "name": "stdout",
     "output_type": "stream",
     "text": [
      "Image_path: ../images-115-max-keys-400/images/Acentio_MR_Tablet/Acentio_MR_Tablet1_blur.jpg\n",
      "Dir name: Acentio_MR_Tablet\n",
      "Outpath: metaanalysis/Acentio_MR_Tablet/Acentio_MR_Tablet_2.json\n"
     ]
    },
    {
     "name": "stderr",
     "output_type": "stream",
     "text": [
      "100%|██████████| 60/60 [00:00<00:00, 16055.78it/s]\n"
     ]
    },
    {
     "name": "stdout",
     "output_type": "stream",
     "text": [
      "Image_path: ../images-115-max-keys-400/images/Acentio_MR_Tablet/Acentio_MR_Tablet1_gaussian_noise.jpg\n",
      "Dir name: Acentio_MR_Tablet\n",
      "Outpath: metaanalysis/Acentio_MR_Tablet/Acentio_MR_Tablet_3.json\n"
     ]
    },
    {
     "name": "stderr",
     "output_type": "stream",
     "text": [
      "100%|██████████| 75/75 [00:00<00:00, 35779.44it/s]\n"
     ]
    },
    {
     "name": "stdout",
     "output_type": "stream",
     "text": [
      "Image_path: ../images-115-max-keys-400/images/Acentio_MR_Tablet/Acentio_MR_Tablet0.jpg\n",
      "Dir name: Acentio_MR_Tablet\n",
      "Outpath: metaanalysis/Acentio_MR_Tablet/Acentio_MR_Tablet_4.json\n"
     ]
    },
    {
     "name": "stderr",
     "output_type": "stream",
     "text": [
      "100%|██████████| 10/10 [00:00<00:00, 6123.97it/s]\n"
     ]
    },
    {
     "name": "stdout",
     "output_type": "stream",
     "text": [
      "Image_path: ../images-115-max-keys-400/images/Acentio_MR_Tablet/Acentio_MR_Tablet0_gaussian_noise.jpg\n",
      "Dir name: Acentio_MR_Tablet\n",
      "Outpath: metaanalysis/Acentio_MR_Tablet/Acentio_MR_Tablet_5.json\n"
     ]
    },
    {
     "name": "stderr",
     "output_type": "stream",
     "text": [
      "100%|██████████| 10/10 [00:00<00:00, 25070.56it/s]\n"
     ]
    },
    {
     "name": "stdout",
     "output_type": "stream",
     "text": [
      "Image_path: ../images-115-max-keys-400/images/Acentio_MR_Tablet/Acentio_MR_Tablet1.jpg\n",
      "Dir name: Acentio_MR_Tablet\n",
      "Outpath: metaanalysis/Acentio_MR_Tablet/Acentio_MR_Tablet_6.json\n"
     ]
    },
    {
     "name": "stderr",
     "output_type": "stream",
     "text": [
      "100%|██████████| 77/77 [00:00<00:00, 16371.54it/s]\n"
     ]
    },
    {
     "name": "stdout",
     "output_type": "stream",
     "text": [
      "Image_path: ../images-115-max-keys-400/images/Acentio_MR_Tablet/Acentio_MR_Tablet2_rotated.jpg\n",
      "Dir name: Acentio_MR_Tablet\n",
      "Outpath: metaanalysis/Acentio_MR_Tablet/Acentio_MR_Tablet_7.json\n"
     ]
    },
    {
     "name": "stderr",
     "output_type": "stream",
     "text": [
      "100%|██████████| 51/51 [00:00<00:00, 32027.18it/s]\n"
     ]
    },
    {
     "name": "stdout",
     "output_type": "stream",
     "text": [
      "Image_path: ../images-115-max-keys-400/images/Acentio_MR_Tablet/Acentio_MR_Tablet2_gaussian_noise.jpg\n",
      "Dir name: Acentio_MR_Tablet\n",
      "Outpath: metaanalysis/Acentio_MR_Tablet/Acentio_MR_Tablet_8.json\n"
     ]
    },
    {
     "name": "stderr",
     "output_type": "stream",
     "text": [
      "100%|██████████| 45/45 [00:00<00:00, 29127.11it/s]\n"
     ]
    },
    {
     "name": "stdout",
     "output_type": "stream",
     "text": [
      "Image_path: ../images-115-max-keys-400/images/Acentio_MR_Tablet/Acentio_MR_Tablet0_rotated.jpg\n",
      "Dir name: Acentio_MR_Tablet\n",
      "Outpath: metaanalysis/Acentio_MR_Tablet/Acentio_MR_Tablet_9.json\n"
     ]
    },
    {
     "name": "stderr",
     "output_type": "stream",
     "text": [
      "100%|██████████| 11/11 [00:00<00:00, 25490.25it/s]\n"
     ]
    },
    {
     "name": "stdout",
     "output_type": "stream",
     "text": [
      "Image_path: ../images-115-max-keys-400/images/Acentio_MR_Tablet/Acentio_MR_Tablet1_rotated.jpg\n",
      "Dir name: Acentio_MR_Tablet\n",
      "Outpath: metaanalysis/Acentio_MR_Tablet/Acentio_MR_Tablet_10.json\n"
     ]
    },
    {
     "name": "stderr",
     "output_type": "stream",
     "text": [
      "100%|██████████| 66/66 [00:00<00:00, 21336.83it/s]\n"
     ]
    },
    {
     "name": "stdout",
     "output_type": "stream",
     "text": [
      "Image_path: ../images-115-max-keys-400/images/Acentio_MR_Tablet/Acentio_MR_Tablet2_blur.jpg\n",
      "Dir name: Acentio_MR_Tablet\n",
      "Outpath: metaanalysis/Acentio_MR_Tablet/Acentio_MR_Tablet_11.json\n"
     ]
    },
    {
     "name": "stderr",
     "output_type": "stream",
     "text": [
      "100%|██████████| 38/38 [00:00<00:00, 15399.38it/s]\n"
     ]
    },
    {
     "name": "stdout",
     "output_type": "stream",
     "text": [
      "Image_path: ../images-115-max-keys-400/images/Acentio_MR_Tablet/Acentio_MR_Tablet2.jpg\n",
      "Dir name: Acentio_MR_Tablet\n",
      "Outpath: metaanalysis/Acentio_MR_Tablet/Acentio_MR_Tablet_12.json\n"
     ]
    },
    {
     "name": "stderr",
     "output_type": "stream",
     "text": [
      "100%|██████████| 53/53 [00:00<00:00, 21817.46it/s]\n"
     ]
    },
    {
     "name": "stdout",
     "output_type": "stream",
     "text": [
      "Dir: ../images-115-max-keys-400/images/Ace_Tablet\n",
      "Image_path: ../images-115-max-keys-400/images/Ace_Tablet/Ace_Tablet0_gaussian_noise.jpg\n",
      "Dir name: Ace_Tablet\n",
      "Outpath: metaanalysis/Ace_Tablet/Ace_Tablet_1.json\n"
     ]
    },
    {
     "name": "stderr",
     "output_type": "stream",
     "text": [
      "100%|██████████| 6/6 [00:00<00:00, 4855.46it/s]\n"
     ]
    },
    {
     "name": "stdout",
     "output_type": "stream",
     "text": [
      "Image_path: ../images-115-max-keys-400/images/Ace_Tablet/Ace_Tablet2_gaussian_noise.jpg\n",
      "Dir name: Ace_Tablet\n",
      "Outpath: metaanalysis/Ace_Tablet/Ace_Tablet_2.json\n"
     ]
    },
    {
     "name": "stderr",
     "output_type": "stream",
     "text": [
      "100%|██████████| 30/30 [00:00<00:00, 11733.41it/s]\n"
     ]
    },
    {
     "name": "stdout",
     "output_type": "stream",
     "text": [
      "Image_path: ../images-115-max-keys-400/images/Ace_Tablet/Ace_Tablet1_gaussian_noise.jpg\n",
      "Dir name: Ace_Tablet\n",
      "Outpath: metaanalysis/Ace_Tablet/Ace_Tablet_3.json\n"
     ]
    },
    {
     "name": "stderr",
     "output_type": "stream",
     "text": [
      "100%|██████████| 40/40 [00:00<00:00, 13201.05it/s]\n"
     ]
    },
    {
     "name": "stdout",
     "output_type": "stream",
     "text": [
      "Image_path: ../images-115-max-keys-400/images/Ace_Tablet/Ace_Tablet2_blur.jpg\n",
      "Dir name: Ace_Tablet\n",
      "Outpath: metaanalysis/Ace_Tablet/Ace_Tablet_4.json\n"
     ]
    },
    {
     "name": "stderr",
     "output_type": "stream",
     "text": [
      "100%|██████████| 28/28 [00:00<00:00, 22843.90it/s]\n"
     ]
    },
    {
     "name": "stdout",
     "output_type": "stream",
     "text": [
      "Image_path: ../images-115-max-keys-400/images/Ace_Tablet/Ace_Tablet1_blur.jpg\n",
      "Dir name: Ace_Tablet\n",
      "Outpath: metaanalysis/Ace_Tablet/Ace_Tablet_5.json\n"
     ]
    },
    {
     "name": "stderr",
     "output_type": "stream",
     "text": [
      "100%|██████████| 34/34 [00:00<00:00, 24310.66it/s]\n"
     ]
    },
    {
     "name": "stdout",
     "output_type": "stream",
     "text": [
      "Image_path: ../images-115-max-keys-400/images/Ace_Tablet/Ace_Tablet0_blur.jpg\n",
      "Dir name: Ace_Tablet\n",
      "Outpath: metaanalysis/Ace_Tablet/Ace_Tablet_6.json\n"
     ]
    },
    {
     "name": "stderr",
     "output_type": "stream",
     "text": [
      "100%|██████████| 8/8 [00:00<00:00, 11606.51it/s]\n"
     ]
    },
    {
     "name": "stdout",
     "output_type": "stream",
     "text": [
      "Image_path: ../images-115-max-keys-400/images/Ace_Tablet/Ace_Tablet2.jpg\n",
      "Dir name: Ace_Tablet\n",
      "Outpath: metaanalysis/Ace_Tablet/Ace_Tablet_7.json\n"
     ]
    },
    {
     "name": "stderr",
     "output_type": "stream",
     "text": [
      "100%|██████████| 42/42 [00:00<00:00, 32798.50it/s]\n"
     ]
    },
    {
     "name": "stdout",
     "output_type": "stream",
     "text": [
      "Image_path: ../images-115-max-keys-400/images/Ace_Tablet/Ace_Tablet0_rotated.jpg\n",
      "Dir name: Ace_Tablet\n",
      "Outpath: metaanalysis/Ace_Tablet/Ace_Tablet_8.json\n"
     ]
    },
    {
     "name": "stderr",
     "output_type": "stream",
     "text": [
      "100%|██████████| 7/7 [00:00<00:00, 19905.17it/s]\n"
     ]
    },
    {
     "name": "stdout",
     "output_type": "stream",
     "text": [
      "Image_path: ../images-115-max-keys-400/images/Ace_Tablet/Ace_Tablet1_rotated.jpg\n",
      "Dir name: Ace_Tablet\n",
      "Outpath: metaanalysis/Ace_Tablet/Ace_Tablet_9.json\n"
     ]
    },
    {
     "name": "stderr",
     "output_type": "stream",
     "text": [
      "100%|██████████| 62/62 [00:00<00:00, 29291.15it/s]\n"
     ]
    },
    {
     "name": "stdout",
     "output_type": "stream",
     "text": [
      "Image_path: ../images-115-max-keys-400/images/Ace_Tablet/Ace_Tablet2_rotated.jpg\n",
      "Dir name: Ace_Tablet\n",
      "Outpath: metaanalysis/Ace_Tablet/Ace_Tablet_10.json\n"
     ]
    },
    {
     "name": "stderr",
     "output_type": "stream",
     "text": [
      "100%|██████████| 33/33 [00:00<00:00, 12795.79it/s]\n"
     ]
    },
    {
     "name": "stdout",
     "output_type": "stream",
     "text": [
      "Image_path: ../images-115-max-keys-400/images/Ace_Tablet/Ace_Tablet1.jpg\n",
      "Dir name: Ace_Tablet\n",
      "Outpath: metaanalysis/Ace_Tablet/Ace_Tablet_11.json\n"
     ]
    },
    {
     "name": "stderr",
     "output_type": "stream",
     "text": [
      "100%|██████████| 95/95 [00:00<00:00, 34430.04it/s]\n"
     ]
    },
    {
     "name": "stdout",
     "output_type": "stream",
     "text": [
      "Image_path: ../images-115-max-keys-400/images/Ace_Tablet/Ace_Tablet0.jpg\n",
      "Dir name: Ace_Tablet\n",
      "Outpath: metaanalysis/Ace_Tablet/Ace_Tablet_12.json\n"
     ]
    },
    {
     "name": "stderr",
     "output_type": "stream",
     "text": [
      "100%|██████████| 8/8 [00:00<00:00, 7149.89it/s]\n"
     ]
    },
    {
     "name": "stdout",
     "output_type": "stream",
     "text": [
      "Dir: ../images-115-max-keys-400/images/Acenac-SR_Tablet\n",
      "Image_path: ../images-115-max-keys-400/images/Acenac-SR_Tablet/Acenac-SR_Tablet1.jpg\n",
      "Dir name: Acenac-SR_Tablet\n",
      "Outpath: metaanalysis/Acenac-SR_Tablet/Acenac-SR_Tablet_1.json\n"
     ]
    },
    {
     "name": "stderr",
     "output_type": "stream",
     "text": [
      "100%|██████████| 53/53 [00:00<00:00, 14295.70it/s]\n"
     ]
    },
    {
     "name": "stdout",
     "output_type": "stream",
     "text": [
      "Image_path: ../images-115-max-keys-400/images/Acenac-SR_Tablet/Acenac-SR_Tablet1_blur.jpg\n",
      "Dir name: Acenac-SR_Tablet\n",
      "Outpath: metaanalysis/Acenac-SR_Tablet/Acenac-SR_Tablet_2.json\n"
     ]
    },
    {
     "name": "stderr",
     "output_type": "stream",
     "text": [
      "100%|██████████| 41/41 [00:00<00:00, 14006.06it/s]\n"
     ]
    },
    {
     "name": "stdout",
     "output_type": "stream",
     "text": [
      "Image_path: ../images-115-max-keys-400/images/Acenac-SR_Tablet/Acenac-SR_Tablet0_gaussian_noise.jpg\n",
      "Dir name: Acenac-SR_Tablet\n",
      "Outpath: metaanalysis/Acenac-SR_Tablet/Acenac-SR_Tablet_3.json\n"
     ]
    },
    {
     "name": "stderr",
     "output_type": "stream",
     "text": [
      "100%|██████████| 4/4 [00:00<00:00, 2132.34it/s]\n"
     ]
    },
    {
     "name": "stdout",
     "output_type": "stream",
     "text": [
      "Image_path: ../images-115-max-keys-400/images/Acenac-SR_Tablet/Acenac-SR_Tablet2.jpg\n",
      "Dir name: Acenac-SR_Tablet\n",
      "Outpath: metaanalysis/Acenac-SR_Tablet/Acenac-SR_Tablet_4.json\n"
     ]
    },
    {
     "name": "stderr",
     "output_type": "stream",
     "text": [
      "100%|██████████| 35/35 [00:00<00:00, 9441.16it/s]\n"
     ]
    },
    {
     "name": "stdout",
     "output_type": "stream",
     "text": [
      "Image_path: ../images-115-max-keys-400/images/Acenac-SR_Tablet/Acenac-SR_Tablet1_gaussian_noise.jpg\n",
      "Dir name: Acenac-SR_Tablet\n",
      "Outpath: metaanalysis/Acenac-SR_Tablet/Acenac-SR_Tablet_5.json\n"
     ]
    },
    {
     "name": "stderr",
     "output_type": "stream",
     "text": [
      "100%|██████████| 41/41 [00:00<00:00, 32251.77it/s]\n"
     ]
    },
    {
     "name": "stdout",
     "output_type": "stream",
     "text": [
      "Image_path: ../images-115-max-keys-400/images/Acenac-SR_Tablet/Acenac-SR_Tablet1_rotated.jpg\n",
      "Dir name: Acenac-SR_Tablet\n",
      "Outpath: metaanalysis/Acenac-SR_Tablet/Acenac-SR_Tablet_6.json\n"
     ]
    },
    {
     "name": "stderr",
     "output_type": "stream",
     "text": [
      "100%|██████████| 47/47 [00:00<00:00, 17119.61it/s]\n"
     ]
    },
    {
     "name": "stdout",
     "output_type": "stream",
     "text": [
      "Image_path: ../images-115-max-keys-400/images/Acenac-SR_Tablet/Acenac-SR_Tablet2_rotated.jpg\n",
      "Dir name: Acenac-SR_Tablet\n",
      "Outpath: metaanalysis/Acenac-SR_Tablet/Acenac-SR_Tablet_7.json\n"
     ]
    },
    {
     "name": "stderr",
     "output_type": "stream",
     "text": [
      "100%|██████████| 10/10 [00:00<00:00, 8022.77it/s]\n"
     ]
    },
    {
     "name": "stdout",
     "output_type": "stream",
     "text": [
      "Image_path: ../images-115-max-keys-400/images/Acenac-SR_Tablet/Acenac-SR_Tablet0_rotated.jpg\n",
      "Dir name: Acenac-SR_Tablet\n",
      "Outpath: metaanalysis/Acenac-SR_Tablet/Acenac-SR_Tablet_8.json\n"
     ]
    },
    {
     "name": "stderr",
     "output_type": "stream",
     "text": [
      "100%|██████████| 4/4 [00:00<00:00, 4708.73it/s]\n"
     ]
    },
    {
     "name": "stdout",
     "output_type": "stream",
     "text": [
      "Image_path: ../images-115-max-keys-400/images/Acenac-SR_Tablet/Acenac-SR_Tablet2_gaussian_noise.jpg\n",
      "Dir name: Acenac-SR_Tablet\n",
      "Outpath: metaanalysis/Acenac-SR_Tablet/Acenac-SR_Tablet_9.json\n"
     ]
    },
    {
     "name": "stderr",
     "output_type": "stream",
     "text": [
      "100%|██████████| 6/6 [00:00<00:00, 3444.07it/s]\n"
     ]
    },
    {
     "name": "stdout",
     "output_type": "stream",
     "text": [
      "Image_path: ../images-115-max-keys-400/images/Acenac-SR_Tablet/Acenac-SR_Tablet0.jpg\n",
      "Dir name: Acenac-SR_Tablet\n",
      "Outpath: metaanalysis/Acenac-SR_Tablet/Acenac-SR_Tablet_10.json\n"
     ]
    },
    {
     "name": "stderr",
     "output_type": "stream",
     "text": [
      "100%|██████████| 4/4 [00:00<00:00, 4447.83it/s]\n"
     ]
    },
    {
     "name": "stdout",
     "output_type": "stream",
     "text": [
      "Image_path: ../images-115-max-keys-400/images/Acenac-SR_Tablet/Acenac-SR_Tablet0_blur.jpg\n",
      "Dir name: Acenac-SR_Tablet\n",
      "Outpath: metaanalysis/Acenac-SR_Tablet/Acenac-SR_Tablet_11.json\n"
     ]
    },
    {
     "name": "stderr",
     "output_type": "stream",
     "text": [
      "100%|██████████| 4/4 [00:00<00:00, 3379.10it/s]\n"
     ]
    },
    {
     "name": "stdout",
     "output_type": "stream",
     "text": [
      "Image_path: ../images-115-max-keys-400/images/Acenac-SR_Tablet/Acenac-SR_Tablet2_blur.jpg\n",
      "Dir name: Acenac-SR_Tablet\n",
      "Outpath: metaanalysis/Acenac-SR_Tablet/Acenac-SR_Tablet_12.json\n"
     ]
    },
    {
     "name": "stderr",
     "output_type": "stream",
     "text": [
      "100%|██████████| 8/8 [00:00<00:00, 2517.97it/s]\n"
     ]
    },
    {
     "name": "stdout",
     "output_type": "stream",
     "text": [
      "Dir: ../images-115-max-keys-400/images/AC_625_Tablet\n",
      "Image_path: ../images-115-max-keys-400/images/AC_625_Tablet/AC_625_Tablet1_blur.jpg\n",
      "Dir name: AC_625_Tablet\n",
      "Outpath: metaanalysis/AC_625_Tablet/AC_625_Tablet_1.json\n"
     ]
    },
    {
     "name": "stderr",
     "output_type": "stream",
     "text": [
      "100%|██████████| 54/54 [00:00<00:00, 51382.13it/s]\n"
     ]
    },
    {
     "name": "stdout",
     "output_type": "stream",
     "text": [
      "Image_path: ../images-115-max-keys-400/images/AC_625_Tablet/AC_625_Tablet2_rotated.jpg\n",
      "Dir name: AC_625_Tablet\n",
      "Outpath: metaanalysis/AC_625_Tablet/AC_625_Tablet_2.json\n"
     ]
    },
    {
     "name": "stderr",
     "output_type": "stream",
     "text": [
      "100%|██████████| 52/52 [00:00<00:00, 19858.31it/s]\n"
     ]
    },
    {
     "name": "stdout",
     "output_type": "stream",
     "text": [
      "Image_path: ../images-115-max-keys-400/images/AC_625_Tablet/AC_625_Tablet1_rotated.jpg\n",
      "Dir name: AC_625_Tablet\n",
      "Outpath: metaanalysis/AC_625_Tablet/AC_625_Tablet_3.json\n"
     ]
    },
    {
     "name": "stderr",
     "output_type": "stream",
     "text": [
      "100%|██████████| 70/70 [00:00<00:00, 32292.27it/s]\n"
     ]
    },
    {
     "name": "stdout",
     "output_type": "stream",
     "text": [
      "Image_path: ../images-115-max-keys-400/images/AC_625_Tablet/AC_625_Tablet2.jpg\n",
      "Dir name: AC_625_Tablet\n",
      "Outpath: metaanalysis/AC_625_Tablet/AC_625_Tablet_4.json\n"
     ]
    },
    {
     "name": "stderr",
     "output_type": "stream",
     "text": [
      "100%|██████████| 58/58 [00:00<00:00, 39117.16it/s]\n"
     ]
    },
    {
     "name": "stdout",
     "output_type": "stream",
     "text": [
      "Image_path: ../images-115-max-keys-400/images/AC_625_Tablet/AC_625_Tablet1_gaussian_noise.jpg\n",
      "Dir name: AC_625_Tablet\n",
      "Outpath: metaanalysis/AC_625_Tablet/AC_625_Tablet_5.json\n"
     ]
    },
    {
     "name": "stderr",
     "output_type": "stream",
     "text": [
      "100%|██████████| 51/51 [00:00<00:00, 22659.91it/s]\n"
     ]
    },
    {
     "name": "stdout",
     "output_type": "stream",
     "text": [
      "Image_path: ../images-115-max-keys-400/images/AC_625_Tablet/AC_625_Tablet2_gaussian_noise.jpg\n",
      "Dir name: AC_625_Tablet\n",
      "Outpath: metaanalysis/AC_625_Tablet/AC_625_Tablet_6.json\n"
     ]
    },
    {
     "name": "stderr",
     "output_type": "stream",
     "text": [
      "100%|██████████| 52/52 [00:00<00:00, 14252.36it/s]\n"
     ]
    },
    {
     "name": "stdout",
     "output_type": "stream",
     "text": [
      "Image_path: ../images-115-max-keys-400/images/AC_625_Tablet/AC_625_Tablet2_blur.jpg\n",
      "Dir name: AC_625_Tablet\n",
      "Outpath: metaanalysis/AC_625_Tablet/AC_625_Tablet_7.json\n"
     ]
    },
    {
     "name": "stderr",
     "output_type": "stream",
     "text": [
      "100%|██████████| 50/50 [00:00<00:00, 16303.75it/s]\n"
     ]
    },
    {
     "name": "stdout",
     "output_type": "stream",
     "text": [
      "Image_path: ../images-115-max-keys-400/images/AC_625_Tablet/AC_625_Tablet0.jpg\n",
      "Dir name: AC_625_Tablet\n",
      "Outpath: metaanalysis/AC_625_Tablet/AC_625_Tablet_8.json\n"
     ]
    },
    {
     "name": "stderr",
     "output_type": "stream",
     "text": [
      "100%|██████████| 12/12 [00:00<00:00, 21988.49it/s]\n"
     ]
    },
    {
     "name": "stdout",
     "output_type": "stream",
     "text": [
      "Image_path: ../images-115-max-keys-400/images/AC_625_Tablet/AC_625_Tablet1.jpg\n",
      "Dir name: AC_625_Tablet\n",
      "Outpath: metaanalysis/AC_625_Tablet/AC_625_Tablet_9.json\n"
     ]
    },
    {
     "name": "stderr",
     "output_type": "stream",
     "text": [
      "100%|██████████| 71/71 [00:00<00:00, 34451.13it/s]\n"
     ]
    },
    {
     "name": "stdout",
     "output_type": "stream",
     "text": [
      "Image_path: ../images-115-max-keys-400/images/AC_625_Tablet/AC_625_Tablet0_blur.jpg\n",
      "Dir name: AC_625_Tablet\n",
      "Outpath: metaanalysis/AC_625_Tablet/AC_625_Tablet_10.json\n"
     ]
    },
    {
     "name": "stderr",
     "output_type": "stream",
     "text": [
      "100%|██████████| 9/9 [00:00<00:00, 5555.37it/s]\n"
     ]
    },
    {
     "name": "stdout",
     "output_type": "stream",
     "text": [
      "Image_path: ../images-115-max-keys-400/images/AC_625_Tablet/AC_625_Tablet0_rotated.jpg\n",
      "Dir name: AC_625_Tablet\n",
      "Outpath: metaanalysis/AC_625_Tablet/AC_625_Tablet_11.json\n"
     ]
    },
    {
     "name": "stderr",
     "output_type": "stream",
     "text": [
      "100%|██████████| 10/10 [00:00<00:00, 7115.02it/s]\n"
     ]
    },
    {
     "name": "stdout",
     "output_type": "stream",
     "text": [
      "Image_path: ../images-115-max-keys-400/images/AC_625_Tablet/AC_625_Tablet0_gaussian_noise.jpg\n",
      "Dir name: AC_625_Tablet\n",
      "Outpath: metaanalysis/AC_625_Tablet/AC_625_Tablet_12.json\n"
     ]
    },
    {
     "name": "stderr",
     "output_type": "stream",
     "text": [
      "100%|██████████| 9/9 [00:00<00:00, 2455.04it/s]\n"
     ]
    },
    {
     "name": "stdout",
     "output_type": "stream",
     "text": [
      "Dir: ../images-115-max-keys-400/images/Acamprol_Tablet\n",
      "Image_path: ../images-115-max-keys-400/images/Acamprol_Tablet/Acamprol_Tablet0_rotated.jpg\n",
      "Dir name: Acamprol_Tablet\n",
      "Outpath: metaanalysis/Acamprol_Tablet/Acamprol_Tablet_1.json\n"
     ]
    },
    {
     "name": "stderr",
     "output_type": "stream",
     "text": [
      "100%|██████████| 7/7 [00:00<00:00, 11314.11it/s]\n"
     ]
    },
    {
     "name": "stdout",
     "output_type": "stream",
     "text": [
      "Image_path: ../images-115-max-keys-400/images/Acamprol_Tablet/Acamprol_Tablet2_blur.jpg\n",
      "Dir name: Acamprol_Tablet\n",
      "Outpath: metaanalysis/Acamprol_Tablet/Acamprol_Tablet_2.json\n"
     ]
    },
    {
     "name": "stderr",
     "output_type": "stream",
     "text": [
      "100%|██████████| 17/17 [00:00<00:00, 7213.27it/s]\n"
     ]
    },
    {
     "name": "stdout",
     "output_type": "stream",
     "text": [
      "Image_path: ../images-115-max-keys-400/images/Acamprol_Tablet/Acamprol_Tablet1.jpg\n",
      "Dir name: Acamprol_Tablet\n",
      "Outpath: metaanalysis/Acamprol_Tablet/Acamprol_Tablet_3.json\n"
     ]
    },
    {
     "name": "stderr",
     "output_type": "stream",
     "text": [
      "100%|██████████| 35/35 [00:00<00:00, 13022.32it/s]\n"
     ]
    },
    {
     "name": "stdout",
     "output_type": "stream",
     "text": [
      "Image_path: ../images-115-max-keys-400/images/Acamprol_Tablet/Acamprol_Tablet1_rotated.jpg\n",
      "Dir name: Acamprol_Tablet\n",
      "Outpath: metaanalysis/Acamprol_Tablet/Acamprol_Tablet_4.json\n"
     ]
    },
    {
     "name": "stderr",
     "output_type": "stream",
     "text": [
      "100%|██████████| 33/33 [00:00<00:00, 14911.88it/s]\n"
     ]
    },
    {
     "name": "stdout",
     "output_type": "stream",
     "text": [
      "Image_path: ../images-115-max-keys-400/images/Acamprol_Tablet/Acamprol_Tablet0_blur.jpg\n",
      "Dir name: Acamprol_Tablet\n",
      "Outpath: metaanalysis/Acamprol_Tablet/Acamprol_Tablet_5.json\n"
     ]
    },
    {
     "name": "stderr",
     "output_type": "stream",
     "text": [
      "100%|██████████| 6/6 [00:00<00:00, 14538.32it/s]\n"
     ]
    },
    {
     "name": "stdout",
     "output_type": "stream",
     "text": [
      "Image_path: ../images-115-max-keys-400/images/Acamprol_Tablet/Acamprol_Tablet2_rotated.jpg\n",
      "Dir name: Acamprol_Tablet\n",
      "Outpath: metaanalysis/Acamprol_Tablet/Acamprol_Tablet_6.json\n"
     ]
    },
    {
     "name": "stderr",
     "output_type": "stream",
     "text": [
      "100%|██████████| 44/44 [00:00<00:00, 61088.84it/s]\n"
     ]
    },
    {
     "name": "stdout",
     "output_type": "stream",
     "text": [
      "Image_path: ../images-115-max-keys-400/images/Acamprol_Tablet/Acamprol_Tablet0_gaussian_noise.jpg\n",
      "Dir name: Acamprol_Tablet\n",
      "Outpath: metaanalysis/Acamprol_Tablet/Acamprol_Tablet_7.json\n"
     ]
    },
    {
     "name": "stderr",
     "output_type": "stream",
     "text": [
      "100%|██████████| 5/5 [00:00<00:00, 9404.27it/s]\n"
     ]
    },
    {
     "name": "stdout",
     "output_type": "stream",
     "text": [
      "Image_path: ../images-115-max-keys-400/images/Acamprol_Tablet/Acamprol_Tablet2.jpg\n",
      "Dir name: Acamprol_Tablet\n",
      "Outpath: metaanalysis/Acamprol_Tablet/Acamprol_Tablet_8.json\n"
     ]
    },
    {
     "name": "stderr",
     "output_type": "stream",
     "text": [
      "100%|██████████| 58/58 [00:00<00:00, 39665.68it/s]\n"
     ]
    },
    {
     "name": "stdout",
     "output_type": "stream",
     "text": [
      "Image_path: ../images-115-max-keys-400/images/Acamprol_Tablet/Acamprol_Tablet0.jpg\n",
      "Dir name: Acamprol_Tablet\n",
      "Outpath: metaanalysis/Acamprol_Tablet/Acamprol_Tablet_9.json\n"
     ]
    },
    {
     "name": "stderr",
     "output_type": "stream",
     "text": [
      "100%|██████████| 6/6 [00:00<00:00, 4155.52it/s]\n"
     ]
    },
    {
     "name": "stdout",
     "output_type": "stream",
     "text": [
      "Image_path: ../images-115-max-keys-400/images/Acamprol_Tablet/Acamprol_Tablet1_gaussian_noise.jpg\n",
      "Dir name: Acamprol_Tablet\n",
      "Outpath: metaanalysis/Acamprol_Tablet/Acamprol_Tablet_10.json\n"
     ]
    },
    {
     "name": "stderr",
     "output_type": "stream",
     "text": [
      "100%|██████████| 12/12 [00:00<00:00, 21121.13it/s]\n"
     ]
    },
    {
     "name": "stdout",
     "output_type": "stream",
     "text": [
      "Image_path: ../images-115-max-keys-400/images/Acamprol_Tablet/Acamprol_Tablet1_blur.jpg\n",
      "Dir name: Acamprol_Tablet\n",
      "Outpath: metaanalysis/Acamprol_Tablet/Acamprol_Tablet_11.json\n"
     ]
    },
    {
     "name": "stderr",
     "output_type": "stream",
     "text": [
      "100%|██████████| 15/15 [00:00<00:00, 7041.36it/s]\n"
     ]
    },
    {
     "name": "stdout",
     "output_type": "stream",
     "text": [
      "Image_path: ../images-115-max-keys-400/images/Acamprol_Tablet/Acamprol_Tablet2_gaussian_noise.jpg\n",
      "Dir name: Acamprol_Tablet\n",
      "Outpath: metaanalysis/Acamprol_Tablet/Acamprol_Tablet_12.json\n"
     ]
    },
    {
     "name": "stderr",
     "output_type": "stream",
     "text": [
      "100%|██████████| 11/11 [00:00<00:00, 31068.92it/s]\n"
     ]
    },
    {
     "name": "stdout",
     "output_type": "stream",
     "text": [
      "Dir: ../images-115-max-keys-400/images/Ablung_100mg_Capsule\n",
      "Image_path: ../images-115-max-keys-400/images/Ablung_100mg_Capsule/Ablung_100mg_Capsule1.jpg\n",
      "Dir name: Ablung_100mg_Capsule\n",
      "Outpath: metaanalysis/Ablung_100mg_Capsule/Ablung_100mg_Capsule_1.json\n"
     ]
    },
    {
     "name": "stderr",
     "output_type": "stream",
     "text": [
      "100%|██████████| 12/12 [00:00<00:00, 28228.63it/s]\n"
     ]
    },
    {
     "name": "stdout",
     "output_type": "stream",
     "text": [
      "Image_path: ../images-115-max-keys-400/images/Ablung_100mg_Capsule/Ablung_100mg_Capsule2.jpg\n",
      "Dir name: Ablung_100mg_Capsule\n",
      "Outpath: metaanalysis/Ablung_100mg_Capsule/Ablung_100mg_Capsule_2.json\n"
     ]
    },
    {
     "name": "stderr",
     "output_type": "stream",
     "text": [
      "100%|██████████| 43/43 [00:00<00:00, 14783.20it/s]\n"
     ]
    },
    {
     "name": "stdout",
     "output_type": "stream",
     "text": [
      "Image_path: ../images-115-max-keys-400/images/Ablung_100mg_Capsule/Ablung_100mg_Capsule2_gaussian_noise.jpg\n",
      "Dir name: Ablung_100mg_Capsule\n",
      "Outpath: metaanalysis/Ablung_100mg_Capsule/Ablung_100mg_Capsule_3.json\n"
     ]
    },
    {
     "name": "stderr",
     "output_type": "stream",
     "text": [
      "100%|██████████| 34/34 [00:00<00:00, 11449.73it/s]\n"
     ]
    },
    {
     "name": "stdout",
     "output_type": "stream",
     "text": [
      "Image_path: ../images-115-max-keys-400/images/Ablung_100mg_Capsule/Ablung_100mg_Capsule2_rotated.jpg\n",
      "Dir name: Ablung_100mg_Capsule\n",
      "Outpath: metaanalysis/Ablung_100mg_Capsule/Ablung_100mg_Capsule_4.json\n"
     ]
    },
    {
     "name": "stderr",
     "output_type": "stream",
     "text": [
      "100%|██████████| 43/43 [00:00<00:00, 49196.69it/s]\n"
     ]
    },
    {
     "name": "stdout",
     "output_type": "stream",
     "text": [
      "Image_path: ../images-115-max-keys-400/images/Ablung_100mg_Capsule/Ablung_100mg_Capsule0_blur.jpg\n",
      "Dir name: Ablung_100mg_Capsule\n",
      "Outpath: metaanalysis/Ablung_100mg_Capsule/Ablung_100mg_Capsule_5.json\n"
     ]
    },
    {
     "name": "stderr",
     "output_type": "stream",
     "text": [
      "100%|██████████| 9/9 [00:00<00:00, 6878.41it/s]\n"
     ]
    },
    {
     "name": "stdout",
     "output_type": "stream",
     "text": [
      "Image_path: ../images-115-max-keys-400/images/Ablung_100mg_Capsule/Ablung_100mg_Capsule1_blur.jpg\n",
      "Dir name: Ablung_100mg_Capsule\n",
      "Outpath: metaanalysis/Ablung_100mg_Capsule/Ablung_100mg_Capsule_6.json\n"
     ]
    },
    {
     "name": "stderr",
     "output_type": "stream",
     "text": [
      "100%|██████████| 10/10 [00:00<00:00, 17008.53it/s]\n"
     ]
    },
    {
     "name": "stdout",
     "output_type": "stream",
     "text": [
      "Image_path: ../images-115-max-keys-400/images/Ablung_100mg_Capsule/Ablung_100mg_Capsule1_rotated.jpg\n",
      "Dir name: Ablung_100mg_Capsule\n",
      "Outpath: metaanalysis/Ablung_100mg_Capsule/Ablung_100mg_Capsule_7.json\n"
     ]
    },
    {
     "name": "stderr",
     "output_type": "stream",
     "text": [
      "100%|██████████| 11/11 [00:00<00:00, 37058.11it/s]\n"
     ]
    },
    {
     "name": "stdout",
     "output_type": "stream",
     "text": [
      "Image_path: ../images-115-max-keys-400/images/Ablung_100mg_Capsule/Ablung_100mg_Capsule2_blur.jpg\n",
      "Dir name: Ablung_100mg_Capsule\n",
      "Outpath: metaanalysis/Ablung_100mg_Capsule/Ablung_100mg_Capsule_8.json\n"
     ]
    },
    {
     "name": "stderr",
     "output_type": "stream",
     "text": [
      "100%|██████████| 23/23 [00:00<00:00, 24818.37it/s]\n"
     ]
    },
    {
     "name": "stdout",
     "output_type": "stream",
     "text": [
      "Image_path: ../images-115-max-keys-400/images/Ablung_100mg_Capsule/Ablung_100mg_Capsule0_gaussian_noise.jpg\n",
      "Dir name: Ablung_100mg_Capsule\n",
      "Outpath: metaanalysis/Ablung_100mg_Capsule/Ablung_100mg_Capsule_9.json\n"
     ]
    },
    {
     "name": "stderr",
     "output_type": "stream",
     "text": [
      "100%|██████████| 9/9 [00:00<00:00, 10044.90it/s]\n"
     ]
    },
    {
     "name": "stdout",
     "output_type": "stream",
     "text": [
      "Image_path: ../images-115-max-keys-400/images/Ablung_100mg_Capsule/Ablung_100mg_Capsule0.jpg\n",
      "Dir name: Ablung_100mg_Capsule\n",
      "Outpath: metaanalysis/Ablung_100mg_Capsule/Ablung_100mg_Capsule_10.json\n"
     ]
    },
    {
     "name": "stderr",
     "output_type": "stream",
     "text": [
      "100%|██████████| 13/13 [00:00<00:00, 3858.88it/s]\n"
     ]
    },
    {
     "name": "stdout",
     "output_type": "stream",
     "text": [
      "Image_path: ../images-115-max-keys-400/images/Ablung_100mg_Capsule/Ablung_100mg_Capsule1_gaussian_noise.jpg\n",
      "Dir name: Ablung_100mg_Capsule\n",
      "Outpath: metaanalysis/Ablung_100mg_Capsule/Ablung_100mg_Capsule_11.json\n"
     ]
    },
    {
     "name": "stderr",
     "output_type": "stream",
     "text": [
      "100%|██████████| 9/9 [00:00<00:00, 11679.68it/s]\n"
     ]
    },
    {
     "name": "stdout",
     "output_type": "stream",
     "text": [
      "Image_path: ../images-115-max-keys-400/images/Ablung_100mg_Capsule/Ablung_100mg_Capsule0_rotated.jpg\n",
      "Dir name: Ablung_100mg_Capsule\n",
      "Outpath: metaanalysis/Ablung_100mg_Capsule/Ablung_100mg_Capsule_12.json\n"
     ]
    },
    {
     "name": "stderr",
     "output_type": "stream",
     "text": [
      "100%|██████████| 9/9 [00:00<00:00, 13924.28it/s]\n"
     ]
    },
    {
     "name": "stdout",
     "output_type": "stream",
     "text": [
      "Dir: ../images-115-max-keys-400/images/Aceran-SP_Tablet\n",
      "Image_path: ../images-115-max-keys-400/images/Aceran-SP_Tablet/Aceran-SP_Tablet0_blur.jpg\n",
      "Dir name: Aceran-SP_Tablet\n",
      "Outpath: metaanalysis/Aceran-SP_Tablet/Aceran-SP_Tablet_1.json\n"
     ]
    },
    {
     "name": "stderr",
     "output_type": "stream",
     "text": [
      "100%|██████████| 6/6 [00:00<00:00, 6779.59it/s]\n"
     ]
    },
    {
     "name": "stdout",
     "output_type": "stream",
     "text": [
      "Image_path: ../images-115-max-keys-400/images/Aceran-SP_Tablet/Aceran-SP_Tablet1.jpg\n",
      "Dir name: Aceran-SP_Tablet\n",
      "Outpath: metaanalysis/Aceran-SP_Tablet/Aceran-SP_Tablet_2.json\n"
     ]
    },
    {
     "name": "stderr",
     "output_type": "stream",
     "text": [
      "100%|██████████| 49/49 [00:00<00:00, 6363.66it/s]\n"
     ]
    },
    {
     "name": "stdout",
     "output_type": "stream",
     "text": [
      "Image_path: ../images-115-max-keys-400/images/Aceran-SP_Tablet/Aceran-SP_Tablet0_gaussian_noise.jpg\n",
      "Dir name: Aceran-SP_Tablet\n",
      "Outpath: metaanalysis/Aceran-SP_Tablet/Aceran-SP_Tablet_3.json\n"
     ]
    },
    {
     "name": "stderr",
     "output_type": "stream",
     "text": [
      "100%|██████████| 6/6 [00:00<00:00, 5726.01it/s]\n"
     ]
    },
    {
     "name": "stdout",
     "output_type": "stream",
     "text": [
      "Image_path: ../images-115-max-keys-400/images/Aceran-SP_Tablet/Aceran-SP_Tablet2_gaussian_noise.jpg\n",
      "Dir name: Aceran-SP_Tablet\n",
      "Outpath: metaanalysis/Aceran-SP_Tablet/Aceran-SP_Tablet_4.json\n"
     ]
    },
    {
     "name": "stderr",
     "output_type": "stream",
     "text": [
      "100%|██████████| 1/1 [00:00<00:00, 1991.60it/s]\n"
     ]
    },
    {
     "name": "stdout",
     "output_type": "stream",
     "text": [
      "Image_path: ../images-115-max-keys-400/images/Aceran-SP_Tablet/Aceran-SP_Tablet0.jpg\n",
      "Dir name: Aceran-SP_Tablet\n",
      "Outpath: metaanalysis/Aceran-SP_Tablet/Aceran-SP_Tablet_5.json\n"
     ]
    },
    {
     "name": "stderr",
     "output_type": "stream",
     "text": [
      "100%|██████████| 6/6 [00:00<00:00, 2016.49it/s]\n"
     ]
    },
    {
     "name": "stdout",
     "output_type": "stream",
     "text": [
      "Image_path: ../images-115-max-keys-400/images/Aceran-SP_Tablet/Aceran-SP_Tablet2_rotated.jpg\n",
      "Dir name: Aceran-SP_Tablet\n",
      "Outpath: metaanalysis/Aceran-SP_Tablet/Aceran-SP_Tablet_6.json\n",
      "Image_path: ../images-115-max-keys-400/images/Aceran-SP_Tablet/Aceran-SP_Tablet1_gaussian_noise.jpg\n",
      "Dir name: Aceran-SP_Tablet\n",
      "Outpath: metaanalysis/Aceran-SP_Tablet/Aceran-SP_Tablet_7.json\n"
     ]
    },
    {
     "name": "stderr",
     "output_type": "stream",
     "text": [
      "100%|██████████| 8/8 [00:00<00:00, 10273.86it/s]\n"
     ]
    },
    {
     "name": "stdout",
     "output_type": "stream",
     "text": [
      "Image_path: ../images-115-max-keys-400/images/Aceran-SP_Tablet/Aceran-SP_Tablet0_rotated.jpg\n",
      "Dir name: Aceran-SP_Tablet\n",
      "Outpath: metaanalysis/Aceran-SP_Tablet/Aceran-SP_Tablet_8.json\n"
     ]
    },
    {
     "name": "stderr",
     "output_type": "stream",
     "text": [
      "100%|██████████| 6/6 [00:00<00:00, 11754.24it/s]\n"
     ]
    },
    {
     "name": "stdout",
     "output_type": "stream",
     "text": [
      "Image_path: ../images-115-max-keys-400/images/Aceran-SP_Tablet/Aceran-SP_Tablet2_blur.jpg\n",
      "Dir name: Aceran-SP_Tablet\n",
      "Outpath: metaanalysis/Aceran-SP_Tablet/Aceran-SP_Tablet_9.json\n"
     ]
    },
    {
     "name": "stderr",
     "output_type": "stream",
     "text": [
      "100%|██████████| 1/1 [00:00<00:00, 5236.33it/s]\n"
     ]
    },
    {
     "name": "stdout",
     "output_type": "stream",
     "text": [
      "Image_path: ../images-115-max-keys-400/images/Aceran-SP_Tablet/Aceran-SP_Tablet2.jpg\n",
      "Dir name: Aceran-SP_Tablet\n",
      "Outpath: metaanalysis/Aceran-SP_Tablet/Aceran-SP_Tablet_10.json\n"
     ]
    },
    {
     "name": "stderr",
     "output_type": "stream",
     "text": [
      "100%|██████████| 2/2 [00:00<00:00, 1567.09it/s]\n"
     ]
    },
    {
     "name": "stdout",
     "output_type": "stream",
     "text": [
      "Image_path: ../images-115-max-keys-400/images/Aceran-SP_Tablet/Aceran-SP_Tablet1_rotated.jpg\n",
      "Dir name: Aceran-SP_Tablet\n",
      "Outpath: metaanalysis/Aceran-SP_Tablet/Aceran-SP_Tablet_11.json\n"
     ]
    },
    {
     "name": "stderr",
     "output_type": "stream",
     "text": [
      "100%|██████████| 28/28 [00:00<00:00, 21267.75it/s]\n"
     ]
    },
    {
     "name": "stdout",
     "output_type": "stream",
     "text": [
      "Image_path: ../images-115-max-keys-400/images/Aceran-SP_Tablet/Aceran-SP_Tablet1_blur.jpg\n",
      "Dir name: Aceran-SP_Tablet\n",
      "Outpath: metaanalysis/Aceran-SP_Tablet/Aceran-SP_Tablet_12.json\n"
     ]
    },
    {
     "name": "stderr",
     "output_type": "stream",
     "text": [
      "100%|██████████| 23/23 [00:00<00:00, 16320.25it/s]\n"
     ]
    },
    {
     "name": "stdout",
     "output_type": "stream",
     "text": [
      "Dir: ../images-115-max-keys-400/images/Ace-Proxyvon_CR_Tablet\n",
      "Image_path: ../images-115-max-keys-400/images/Ace-Proxyvon_CR_Tablet/Ace-Proxyvon_CR_Tablet0.jpg\n",
      "Dir name: Ace-Proxyvon_CR_Tablet\n",
      "Outpath: metaanalysis/Ace-Proxyvon_CR_Tablet/Ace-Proxyvon_CR_Tablet_1.json\n"
     ]
    },
    {
     "name": "stderr",
     "output_type": "stream",
     "text": [
      "100%|██████████| 7/7 [00:00<00:00, 6550.68it/s]\n"
     ]
    },
    {
     "name": "stdout",
     "output_type": "stream",
     "text": [
      "Image_path: ../images-115-max-keys-400/images/Ace-Proxyvon_CR_Tablet/Ace-Proxyvon_CR_Tablet0_blur.jpg\n",
      "Dir name: Ace-Proxyvon_CR_Tablet\n",
      "Outpath: metaanalysis/Ace-Proxyvon_CR_Tablet/Ace-Proxyvon_CR_Tablet_2.json\n"
     ]
    },
    {
     "name": "stderr",
     "output_type": "stream",
     "text": [
      "100%|██████████| 4/4 [00:00<00:00, 4326.25it/s]\n"
     ]
    },
    {
     "name": "stdout",
     "output_type": "stream",
     "text": [
      "Image_path: ../images-115-max-keys-400/images/Ace-Proxyvon_CR_Tablet/Ace-Proxyvon_CR_Tablet0_gaussian_noise.jpg\n",
      "Dir name: Ace-Proxyvon_CR_Tablet\n",
      "Outpath: metaanalysis/Ace-Proxyvon_CR_Tablet/Ace-Proxyvon_CR_Tablet_3.json\n"
     ]
    },
    {
     "name": "stderr",
     "output_type": "stream",
     "text": [
      "100%|██████████| 4/4 [00:00<00:00, 2937.19it/s]\n"
     ]
    },
    {
     "name": "stdout",
     "output_type": "stream",
     "text": [
      "Image_path: ../images-115-max-keys-400/images/Ace-Proxyvon_CR_Tablet/Ace-Proxyvon_CR_Tablet2.jpg\n",
      "Dir name: Ace-Proxyvon_CR_Tablet\n",
      "Outpath: metaanalysis/Ace-Proxyvon_CR_Tablet/Ace-Proxyvon_CR_Tablet_4.json\n"
     ]
    },
    {
     "name": "stderr",
     "output_type": "stream",
     "text": [
      "100%|██████████| 54/54 [00:00<00:00, 72062.49it/s]\n"
     ]
    },
    {
     "name": "stdout",
     "output_type": "stream",
     "text": [
      "Image_path: ../images-115-max-keys-400/images/Ace-Proxyvon_CR_Tablet/Ace-Proxyvon_CR_Tablet2_rotated.jpg\n",
      "Dir name: Ace-Proxyvon_CR_Tablet\n",
      "Outpath: metaanalysis/Ace-Proxyvon_CR_Tablet/Ace-Proxyvon_CR_Tablet_5.json\n"
     ]
    },
    {
     "name": "stderr",
     "output_type": "stream",
     "text": [
      "100%|██████████| 34/34 [00:00<00:00, 40663.34it/s]\n"
     ]
    },
    {
     "name": "stdout",
     "output_type": "stream",
     "text": [
      "Image_path: ../images-115-max-keys-400/images/Ace-Proxyvon_CR_Tablet/Ace-Proxyvon_CR_Tablet1_rotated.jpg\n",
      "Dir name: Ace-Proxyvon_CR_Tablet\n",
      "Outpath: metaanalysis/Ace-Proxyvon_CR_Tablet/Ace-Proxyvon_CR_Tablet_6.json\n"
     ]
    },
    {
     "name": "stderr",
     "output_type": "stream",
     "text": [
      "100%|██████████| 9/9 [00:00<00:00, 20186.49it/s]\n"
     ]
    },
    {
     "name": "stdout",
     "output_type": "stream",
     "text": [
      "Image_path: ../images-115-max-keys-400/images/Ace-Proxyvon_CR_Tablet/Ace-Proxyvon_CR_Tablet2_gaussian_noise.jpg\n",
      "Dir name: Ace-Proxyvon_CR_Tablet\n",
      "Outpath: metaanalysis/Ace-Proxyvon_CR_Tablet/Ace-Proxyvon_CR_Tablet_7.json\n"
     ]
    },
    {
     "name": "stderr",
     "output_type": "stream",
     "text": [
      "100%|██████████| 5/5 [00:00<00:00, 14768.68it/s]\n"
     ]
    },
    {
     "name": "stdout",
     "output_type": "stream",
     "text": [
      "Image_path: ../images-115-max-keys-400/images/Ace-Proxyvon_CR_Tablet/Ace-Proxyvon_CR_Tablet0_rotated.jpg\n",
      "Dir name: Ace-Proxyvon_CR_Tablet\n",
      "Outpath: metaanalysis/Ace-Proxyvon_CR_Tablet/Ace-Proxyvon_CR_Tablet_8.json\n"
     ]
    },
    {
     "name": "stderr",
     "output_type": "stream",
     "text": [
      "100%|██████████| 3/3 [00:00<00:00, 2291.55it/s]\n"
     ]
    },
    {
     "name": "stdout",
     "output_type": "stream",
     "text": [
      "Image_path: ../images-115-max-keys-400/images/Ace-Proxyvon_CR_Tablet/Ace-Proxyvon_CR_Tablet2_blur.jpg\n",
      "Dir name: Ace-Proxyvon_CR_Tablet\n",
      "Outpath: metaanalysis/Ace-Proxyvon_CR_Tablet/Ace-Proxyvon_CR_Tablet_9.json\n"
     ]
    },
    {
     "name": "stderr",
     "output_type": "stream",
     "text": [
      "100%|██████████| 5/5 [00:00<00:00, 3942.76it/s]\n"
     ]
    },
    {
     "name": "stdout",
     "output_type": "stream",
     "text": [
      "Image_path: ../images-115-max-keys-400/images/Ace-Proxyvon_CR_Tablet/Ace-Proxyvon_CR_Tablet1_gaussian_noise.jpg\n",
      "Dir name: Ace-Proxyvon_CR_Tablet\n",
      "Outpath: metaanalysis/Ace-Proxyvon_CR_Tablet/Ace-Proxyvon_CR_Tablet_10.json\n"
     ]
    },
    {
     "name": "stderr",
     "output_type": "stream",
     "text": [
      "100%|██████████| 3/3 [00:00<00:00, 5334.00it/s]\n"
     ]
    },
    {
     "name": "stdout",
     "output_type": "stream",
     "text": [
      "Image_path: ../images-115-max-keys-400/images/Ace-Proxyvon_CR_Tablet/Ace-Proxyvon_CR_Tablet1_blur.jpg\n",
      "Dir name: Ace-Proxyvon_CR_Tablet\n",
      "Outpath: metaanalysis/Ace-Proxyvon_CR_Tablet/Ace-Proxyvon_CR_Tablet_11.json\n"
     ]
    },
    {
     "name": "stderr",
     "output_type": "stream",
     "text": [
      "100%|██████████| 8/8 [00:00<00:00, 13257.38it/s]\n"
     ]
    },
    {
     "name": "stdout",
     "output_type": "stream",
     "text": [
      "Image_path: ../images-115-max-keys-400/images/Ace-Proxyvon_CR_Tablet/Ace-Proxyvon_CR_Tablet1.jpg\n",
      "Dir name: Ace-Proxyvon_CR_Tablet\n",
      "Outpath: metaanalysis/Ace-Proxyvon_CR_Tablet/Ace-Proxyvon_CR_Tablet_12.json\n"
     ]
    },
    {
     "name": "stderr",
     "output_type": "stream",
     "text": [
      "100%|██████████| 9/9 [00:00<00:00, 3876.44it/s]\n"
     ]
    },
    {
     "name": "stdout",
     "output_type": "stream",
     "text": [
      "Dir: ../images-115-max-keys-400/images/AF_Kit_Tablet\n",
      "Image_path: ../images-115-max-keys-400/images/AF_Kit_Tablet/AF_Kit_Tablet2_gaussian_noise.jpg\n",
      "Dir name: AF_Kit_Tablet\n",
      "Outpath: metaanalysis/AF_Kit_Tablet/AF_Kit_Tablet_1.json\n"
     ]
    },
    {
     "name": "stderr",
     "output_type": "stream",
     "text": [
      "100%|██████████| 13/13 [00:00<00:00, 13556.92it/s]\n"
     ]
    },
    {
     "name": "stdout",
     "output_type": "stream",
     "text": [
      "Image_path: ../images-115-max-keys-400/images/AF_Kit_Tablet/AF_Kit_Tablet2_blur.jpg\n",
      "Dir name: AF_Kit_Tablet\n",
      "Outpath: metaanalysis/AF_Kit_Tablet/AF_Kit_Tablet_2.json\n"
     ]
    },
    {
     "name": "stderr",
     "output_type": "stream",
     "text": [
      "100%|██████████| 19/19 [00:00<00:00, 12218.92it/s]\n"
     ]
    },
    {
     "name": "stdout",
     "output_type": "stream",
     "text": [
      "Image_path: ../images-115-max-keys-400/images/AF_Kit_Tablet/AF_Kit_Tablet0_blur.jpg\n",
      "Dir name: AF_Kit_Tablet\n",
      "Outpath: metaanalysis/AF_Kit_Tablet/AF_Kit_Tablet_3.json\n"
     ]
    },
    {
     "name": "stderr",
     "output_type": "stream",
     "text": [
      "100%|██████████| 14/14 [00:00<00:00, 7295.35it/s]\n"
     ]
    },
    {
     "name": "stdout",
     "output_type": "stream",
     "text": [
      "Image_path: ../images-115-max-keys-400/images/AF_Kit_Tablet/AF_Kit_Tablet0_gaussian_noise.jpg\n",
      "Dir name: AF_Kit_Tablet\n",
      "Outpath: metaanalysis/AF_Kit_Tablet/AF_Kit_Tablet_4.json\n"
     ]
    },
    {
     "name": "stderr",
     "output_type": "stream",
     "text": [
      "100%|██████████| 5/5 [00:00<00:00, 3971.13it/s]\n"
     ]
    },
    {
     "name": "stdout",
     "output_type": "stream",
     "text": [
      "Image_path: ../images-115-max-keys-400/images/AF_Kit_Tablet/AF_Kit_Tablet1_blur.jpg\n",
      "Dir name: AF_Kit_Tablet\n",
      "Outpath: metaanalysis/AF_Kit_Tablet/AF_Kit_Tablet_5.json\n"
     ]
    },
    {
     "name": "stderr",
     "output_type": "stream",
     "text": [
      "100%|██████████| 15/15 [00:00<00:00, 19928.59it/s]\n"
     ]
    },
    {
     "name": "stdout",
     "output_type": "stream",
     "text": [
      "Image_path: ../images-115-max-keys-400/images/AF_Kit_Tablet/AF_Kit_Tablet1_rotated.jpg\n",
      "Dir name: AF_Kit_Tablet\n",
      "Outpath: metaanalysis/AF_Kit_Tablet/AF_Kit_Tablet_6.json\n"
     ]
    },
    {
     "name": "stderr",
     "output_type": "stream",
     "text": [
      "100%|██████████| 13/13 [00:00<00:00, 6854.30it/s]\n"
     ]
    },
    {
     "name": "stdout",
     "output_type": "stream",
     "text": [
      "Image_path: ../images-115-max-keys-400/images/AF_Kit_Tablet/AF_Kit_Tablet0.jpg\n",
      "Dir name: AF_Kit_Tablet\n",
      "Outpath: metaanalysis/AF_Kit_Tablet/AF_Kit_Tablet_7.json\n"
     ]
    },
    {
     "name": "stderr",
     "output_type": "stream",
     "text": [
      "100%|██████████| 15/15 [00:00<00:00, 21020.57it/s]\n"
     ]
    },
    {
     "name": "stdout",
     "output_type": "stream",
     "text": [
      "Image_path: ../images-115-max-keys-400/images/AF_Kit_Tablet/AF_Kit_Tablet1.jpg\n",
      "Dir name: AF_Kit_Tablet\n",
      "Outpath: metaanalysis/AF_Kit_Tablet/AF_Kit_Tablet_8.json\n"
     ]
    },
    {
     "name": "stderr",
     "output_type": "stream",
     "text": [
      "100%|██████████| 18/18 [00:00<00:00, 9960.09it/s]\n"
     ]
    },
    {
     "name": "stdout",
     "output_type": "stream",
     "text": [
      "Image_path: ../images-115-max-keys-400/images/AF_Kit_Tablet/AF_Kit_Tablet2_rotated.jpg\n",
      "Dir name: AF_Kit_Tablet\n",
      "Outpath: metaanalysis/AF_Kit_Tablet/AF_Kit_Tablet_9.json\n"
     ]
    },
    {
     "name": "stderr",
     "output_type": "stream",
     "text": [
      "100%|██████████| 28/28 [00:00<00:00, 12873.01it/s]\n"
     ]
    },
    {
     "name": "stdout",
     "output_type": "stream",
     "text": [
      "Image_path: ../images-115-max-keys-400/images/AF_Kit_Tablet/AF_Kit_Tablet1_gaussian_noise.jpg\n",
      "Dir name: AF_Kit_Tablet\n",
      "Outpath: metaanalysis/AF_Kit_Tablet/AF_Kit_Tablet_10.json\n"
     ]
    },
    {
     "name": "stderr",
     "output_type": "stream",
     "text": [
      "100%|██████████| 15/15 [00:00<00:00, 6552.23it/s]\n"
     ]
    },
    {
     "name": "stdout",
     "output_type": "stream",
     "text": [
      "Image_path: ../images-115-max-keys-400/images/AF_Kit_Tablet/AF_Kit_Tablet0_rotated.jpg\n",
      "Dir name: AF_Kit_Tablet\n",
      "Outpath: metaanalysis/AF_Kit_Tablet/AF_Kit_Tablet_11.json\n"
     ]
    },
    {
     "name": "stderr",
     "output_type": "stream",
     "text": [
      "100%|██████████| 15/15 [00:00<00:00, 32017.59it/s]\n"
     ]
    },
    {
     "name": "stdout",
     "output_type": "stream",
     "text": [
      "Image_path: ../images-115-max-keys-400/images/AF_Kit_Tablet/AF_Kit_Tablet2.jpg\n",
      "Dir name: AF_Kit_Tablet\n",
      "Outpath: metaanalysis/AF_Kit_Tablet/AF_Kit_Tablet_12.json\n"
     ]
    },
    {
     "name": "stderr",
     "output_type": "stream",
     "text": [
      "100%|██████████| 75/75 [00:00<00:00, 53966.86it/s]\n"
     ]
    },
    {
     "name": "stdout",
     "output_type": "stream",
     "text": [
      "Dir: ../images-115-max-keys-400/images/Acegaba_100_Capsule\n",
      "Image_path: ../images-115-max-keys-400/images/Acegaba_100_Capsule/Acegaba_100_Capsule2_gaussian_noise.jpg\n",
      "Dir name: Acegaba_100_Capsule\n",
      "Outpath: metaanalysis/Acegaba_100_Capsule/Acegaba_100_Capsule_1.json\n"
     ]
    },
    {
     "name": "stderr",
     "output_type": "stream",
     "text": [
      "100%|██████████| 33/33 [00:00<00:00, 56402.62it/s]\n"
     ]
    },
    {
     "name": "stdout",
     "output_type": "stream",
     "text": [
      "Image_path: ../images-115-max-keys-400/images/Acegaba_100_Capsule/Acegaba_100_Capsule0.jpg\n",
      "Dir name: Acegaba_100_Capsule\n",
      "Outpath: metaanalysis/Acegaba_100_Capsule/Acegaba_100_Capsule_2.json\n"
     ]
    },
    {
     "name": "stderr",
     "output_type": "stream",
     "text": [
      "100%|██████████| 23/23 [00:00<00:00, 15449.87it/s]\n"
     ]
    },
    {
     "name": "stdout",
     "output_type": "stream",
     "text": [
      "Image_path: ../images-115-max-keys-400/images/Acegaba_100_Capsule/Acegaba_100_Capsule0_blur.jpg\n",
      "Dir name: Acegaba_100_Capsule\n",
      "Outpath: metaanalysis/Acegaba_100_Capsule/Acegaba_100_Capsule_3.json\n"
     ]
    },
    {
     "name": "stderr",
     "output_type": "stream",
     "text": [
      "100%|██████████| 9/9 [00:00<00:00, 10002.31it/s]\n"
     ]
    },
    {
     "name": "stdout",
     "output_type": "stream",
     "text": [
      "Image_path: ../images-115-max-keys-400/images/Acegaba_100_Capsule/Acegaba_100_Capsule2.jpg\n",
      "Dir name: Acegaba_100_Capsule\n",
      "Outpath: metaanalysis/Acegaba_100_Capsule/Acegaba_100_Capsule_4.json\n"
     ]
    },
    {
     "name": "stderr",
     "output_type": "stream",
     "text": [
      "100%|██████████| 89/89 [00:00<00:00, 51290.61it/s]\n"
     ]
    },
    {
     "name": "stdout",
     "output_type": "stream",
     "text": [
      "Image_path: ../images-115-max-keys-400/images/Acegaba_100_Capsule/Acegaba_100_Capsule1.jpg\n",
      "Dir name: Acegaba_100_Capsule\n",
      "Outpath: metaanalysis/Acegaba_100_Capsule/Acegaba_100_Capsule_5.json\n"
     ]
    },
    {
     "name": "stderr",
     "output_type": "stream",
     "text": [
      "100%|██████████| 2/2 [00:00<00:00, 2173.21it/s]\n"
     ]
    },
    {
     "name": "stdout",
     "output_type": "stream",
     "text": [
      "Image_path: ../images-115-max-keys-400/images/Acegaba_100_Capsule/Acegaba_100_Capsule2_blur.jpg\n",
      "Dir name: Acegaba_100_Capsule\n",
      "Outpath: metaanalysis/Acegaba_100_Capsule/Acegaba_100_Capsule_6.json\n"
     ]
    },
    {
     "name": "stderr",
     "output_type": "stream",
     "text": [
      "100%|██████████| 21/21 [00:00<00:00, 11835.58it/s]\n"
     ]
    },
    {
     "name": "stdout",
     "output_type": "stream",
     "text": [
      "Image_path: ../images-115-max-keys-400/images/Acegaba_100_Capsule/Acegaba_100_Capsule1_gaussian_noise.jpg\n",
      "Dir name: Acegaba_100_Capsule\n",
      "Outpath: metaanalysis/Acegaba_100_Capsule/Acegaba_100_Capsule_7.json\n"
     ]
    },
    {
     "name": "stderr",
     "output_type": "stream",
     "text": [
      "100%|██████████| 2/2 [00:00<00:00, 7108.99it/s]\n"
     ]
    },
    {
     "name": "stdout",
     "output_type": "stream",
     "text": [
      "Image_path: ../images-115-max-keys-400/images/Acegaba_100_Capsule/Acegaba_100_Capsule1_rotated.jpg\n",
      "Dir name: Acegaba_100_Capsule\n",
      "Outpath: metaanalysis/Acegaba_100_Capsule/Acegaba_100_Capsule_8.json\n"
     ]
    },
    {
     "name": "stderr",
     "output_type": "stream",
     "text": [
      "100%|██████████| 2/2 [00:00<00:00, 1581.86it/s]\n"
     ]
    },
    {
     "name": "stdout",
     "output_type": "stream",
     "text": [
      "Image_path: ../images-115-max-keys-400/images/Acegaba_100_Capsule/Acegaba_100_Capsule0_gaussian_noise.jpg\n",
      "Dir name: Acegaba_100_Capsule\n",
      "Outpath: metaanalysis/Acegaba_100_Capsule/Acegaba_100_Capsule_9.json\n"
     ]
    },
    {
     "name": "stderr",
     "output_type": "stream",
     "text": [
      "100%|██████████| 7/7 [00:00<00:00, 4591.11it/s]\n"
     ]
    },
    {
     "name": "stdout",
     "output_type": "stream",
     "text": [
      "Image_path: ../images-115-max-keys-400/images/Acegaba_100_Capsule/Acegaba_100_Capsule0_rotated.jpg\n",
      "Dir name: Acegaba_100_Capsule\n",
      "Outpath: metaanalysis/Acegaba_100_Capsule/Acegaba_100_Capsule_10.json\n"
     ]
    },
    {
     "name": "stderr",
     "output_type": "stream",
     "text": [
      "100%|██████████| 16/16 [00:00<00:00, 11316.84it/s]\n"
     ]
    },
    {
     "name": "stdout",
     "output_type": "stream",
     "text": [
      "Image_path: ../images-115-max-keys-400/images/Acegaba_100_Capsule/Acegaba_100_Capsule1_blur.jpg\n",
      "Dir name: Acegaba_100_Capsule\n",
      "Outpath: metaanalysis/Acegaba_100_Capsule/Acegaba_100_Capsule_11.json\n"
     ]
    },
    {
     "name": "stderr",
     "output_type": "stream",
     "text": [
      "100%|██████████| 2/2 [00:00<00:00, 2216.86it/s]\n"
     ]
    },
    {
     "name": "stdout",
     "output_type": "stream",
     "text": [
      "Image_path: ../images-115-max-keys-400/images/Acegaba_100_Capsule/Acegaba_100_Capsule2_rotated.jpg\n",
      "Dir name: Acegaba_100_Capsule\n",
      "Outpath: metaanalysis/Acegaba_100_Capsule/Acegaba_100_Capsule_12.json\n"
     ]
    },
    {
     "name": "stderr",
     "output_type": "stream",
     "text": [
      "100%|██████████| 47/47 [00:00<00:00, 6603.88it/s]\n"
     ]
    },
    {
     "name": "stdout",
     "output_type": "stream",
     "text": [
      "Dir: ../images-115-max-keys-400/images/AB_Phylline_SR_200_Tablet\n",
      "Image_path: ../images-115-max-keys-400/images/AB_Phylline_SR_200_Tablet/AB_Phylline_SR_200_Tablet0_rotated.jpg\n",
      "Dir name: AB_Phylline_SR_200_Tablet\n",
      "Outpath: metaanalysis/AB_Phylline_SR_200_Tablet/AB_Phylline_SR_200_Tablet_1.json\n"
     ]
    },
    {
     "name": "stderr",
     "output_type": "stream",
     "text": [
      "100%|██████████| 9/9 [00:00<00:00, 5468.45it/s]\n"
     ]
    },
    {
     "name": "stdout",
     "output_type": "stream",
     "text": [
      "Image_path: ../images-115-max-keys-400/images/AB_Phylline_SR_200_Tablet/AB_Phylline_SR_200_Tablet2_gaussian_noise.jpg\n",
      "Dir name: AB_Phylline_SR_200_Tablet\n",
      "Outpath: metaanalysis/AB_Phylline_SR_200_Tablet/AB_Phylline_SR_200_Tablet_2.json\n"
     ]
    },
    {
     "name": "stderr",
     "output_type": "stream",
     "text": [
      "100%|██████████| 6/6 [00:00<00:00, 8467.64it/s]\n"
     ]
    },
    {
     "name": "stdout",
     "output_type": "stream",
     "text": [
      "Image_path: ../images-115-max-keys-400/images/AB_Phylline_SR_200_Tablet/AB_Phylline_SR_200_Tablet1_blur.jpg\n",
      "Dir name: AB_Phylline_SR_200_Tablet\n",
      "Outpath: metaanalysis/AB_Phylline_SR_200_Tablet/AB_Phylline_SR_200_Tablet_3.json\n"
     ]
    },
    {
     "name": "stderr",
     "output_type": "stream",
     "text": [
      "100%|██████████| 12/12 [00:00<00:00, 9353.59it/s]\n"
     ]
    },
    {
     "name": "stdout",
     "output_type": "stream",
     "text": [
      "Image_path: ../images-115-max-keys-400/images/AB_Phylline_SR_200_Tablet/AB_Phylline_SR_200_Tablet1.jpg\n",
      "Dir name: AB_Phylline_SR_200_Tablet\n",
      "Outpath: metaanalysis/AB_Phylline_SR_200_Tablet/AB_Phylline_SR_200_Tablet_4.json\n"
     ]
    },
    {
     "name": "stderr",
     "output_type": "stream",
     "text": [
      "100%|██████████| 11/11 [00:00<00:00, 8922.33it/s]\n"
     ]
    },
    {
     "name": "stdout",
     "output_type": "stream",
     "text": [
      "Image_path: ../images-115-max-keys-400/images/AB_Phylline_SR_200_Tablet/AB_Phylline_SR_200_Tablet1_rotated.jpg\n",
      "Dir name: AB_Phylline_SR_200_Tablet\n",
      "Outpath: metaanalysis/AB_Phylline_SR_200_Tablet/AB_Phylline_SR_200_Tablet_5.json\n"
     ]
    },
    {
     "name": "stderr",
     "output_type": "stream",
     "text": [
      "100%|██████████| 12/12 [00:00<00:00, 4733.98it/s]\n"
     ]
    },
    {
     "name": "stdout",
     "output_type": "stream",
     "text": [
      "Image_path: ../images-115-max-keys-400/images/AB_Phylline_SR_200_Tablet/AB_Phylline_SR_200_Tablet0_blur.jpg\n",
      "Dir name: AB_Phylline_SR_200_Tablet\n",
      "Outpath: metaanalysis/AB_Phylline_SR_200_Tablet/AB_Phylline_SR_200_Tablet_6.json\n"
     ]
    },
    {
     "name": "stderr",
     "output_type": "stream",
     "text": [
      "100%|██████████| 8/8 [00:00<00:00, 7316.71it/s]\n"
     ]
    },
    {
     "name": "stdout",
     "output_type": "stream",
     "text": [
      "Image_path: ../images-115-max-keys-400/images/AB_Phylline_SR_200_Tablet/AB_Phylline_SR_200_Tablet2.jpg\n",
      "Dir name: AB_Phylline_SR_200_Tablet\n",
      "Outpath: metaanalysis/AB_Phylline_SR_200_Tablet/AB_Phylline_SR_200_Tablet_7.json\n"
     ]
    },
    {
     "name": "stderr",
     "output_type": "stream",
     "text": [
      "100%|██████████| 59/59 [00:00<00:00, 22809.84it/s]\n"
     ]
    },
    {
     "name": "stdout",
     "output_type": "stream",
     "text": [
      "Image_path: ../images-115-max-keys-400/images/AB_Phylline_SR_200_Tablet/AB_Phylline_SR_200_Tablet1_gaussian_noise.jpg\n",
      "Dir name: AB_Phylline_SR_200_Tablet\n",
      "Outpath: metaanalysis/AB_Phylline_SR_200_Tablet/AB_Phylline_SR_200_Tablet_8.json\n"
     ]
    },
    {
     "name": "stderr",
     "output_type": "stream",
     "text": [
      "100%|██████████| 10/10 [00:00<00:00, 16637.46it/s]\n"
     ]
    },
    {
     "name": "stdout",
     "output_type": "stream",
     "text": [
      "Image_path: ../images-115-max-keys-400/images/AB_Phylline_SR_200_Tablet/AB_Phylline_SR_200_Tablet2_rotated.jpg\n",
      "Dir name: AB_Phylline_SR_200_Tablet\n",
      "Outpath: metaanalysis/AB_Phylline_SR_200_Tablet/AB_Phylline_SR_200_Tablet_9.json\n"
     ]
    },
    {
     "name": "stderr",
     "output_type": "stream",
     "text": [
      "100%|██████████| 41/41 [00:00<00:00, 24337.17it/s]\n"
     ]
    },
    {
     "name": "stdout",
     "output_type": "stream",
     "text": [
      "Image_path: ../images-115-max-keys-400/images/AB_Phylline_SR_200_Tablet/AB_Phylline_SR_200_Tablet2_blur.jpg\n",
      "Dir name: AB_Phylline_SR_200_Tablet\n",
      "Outpath: metaanalysis/AB_Phylline_SR_200_Tablet/AB_Phylline_SR_200_Tablet_10.json\n"
     ]
    },
    {
     "name": "stderr",
     "output_type": "stream",
     "text": [
      "100%|██████████| 14/14 [00:00<00:00, 9814.52it/s]\n"
     ]
    },
    {
     "name": "stdout",
     "output_type": "stream",
     "text": [
      "Image_path: ../images-115-max-keys-400/images/AB_Phylline_SR_200_Tablet/AB_Phylline_SR_200_Tablet0_gaussian_noise.jpg\n",
      "Dir name: AB_Phylline_SR_200_Tablet\n",
      "Outpath: metaanalysis/AB_Phylline_SR_200_Tablet/AB_Phylline_SR_200_Tablet_11.json\n"
     ]
    },
    {
     "name": "stderr",
     "output_type": "stream",
     "text": [
      "100%|██████████| 9/9 [00:00<00:00, 10872.33it/s]\n"
     ]
    },
    {
     "name": "stdout",
     "output_type": "stream",
     "text": [
      "Image_path: ../images-115-max-keys-400/images/AB_Phylline_SR_200_Tablet/AB_Phylline_SR_200_Tablet0.jpg\n",
      "Dir name: AB_Phylline_SR_200_Tablet\n",
      "Outpath: metaanalysis/AB_Phylline_SR_200_Tablet/AB_Phylline_SR_200_Tablet_12.json\n"
     ]
    },
    {
     "name": "stderr",
     "output_type": "stream",
     "text": [
      "100%|██████████| 10/10 [00:00<00:00, 4814.40it/s]\n"
     ]
    },
    {
     "name": "stdout",
     "output_type": "stream",
     "text": [
      "Dir: ../images-115-max-keys-400/images/AGA_Tablet\n",
      "Image_path: ../images-115-max-keys-400/images/AGA_Tablet/AGA_Tablet1_rotated.jpg\n",
      "Dir name: AGA_Tablet\n",
      "Outpath: metaanalysis/AGA_Tablet/AGA_Tablet_1.json\n"
     ]
    },
    {
     "name": "stderr",
     "output_type": "stream",
     "text": [
      "100%|██████████| 53/53 [00:00<00:00, 15462.07it/s]\n"
     ]
    },
    {
     "name": "stdout",
     "output_type": "stream",
     "text": [
      "Image_path: ../images-115-max-keys-400/images/AGA_Tablet/AGA_Tablet2.jpg\n",
      "Dir name: AGA_Tablet\n",
      "Outpath: metaanalysis/AGA_Tablet/AGA_Tablet_2.json\n"
     ]
    },
    {
     "name": "stderr",
     "output_type": "stream",
     "text": [
      "100%|██████████| 31/31 [00:00<00:00, 15409.27it/s]\n"
     ]
    },
    {
     "name": "stdout",
     "output_type": "stream",
     "text": [
      "Image_path: ../images-115-max-keys-400/images/AGA_Tablet/AGA_Tablet1.jpg\n",
      "Dir name: AGA_Tablet\n",
      "Outpath: metaanalysis/AGA_Tablet/AGA_Tablet_3.json\n"
     ]
    },
    {
     "name": "stderr",
     "output_type": "stream",
     "text": [
      "100%|██████████| 62/62 [00:00<00:00, 50406.44it/s]\n"
     ]
    },
    {
     "name": "stdout",
     "output_type": "stream",
     "text": [
      "Image_path: ../images-115-max-keys-400/images/AGA_Tablet/AGA_Tablet0_blur.jpg\n",
      "Dir name: AGA_Tablet\n",
      "Outpath: metaanalysis/AGA_Tablet/AGA_Tablet_4.json\n"
     ]
    },
    {
     "name": "stderr",
     "output_type": "stream",
     "text": [
      "100%|██████████| 8/8 [00:00<00:00, 6828.33it/s]\n"
     ]
    },
    {
     "name": "stdout",
     "output_type": "stream",
     "text": [
      "Image_path: ../images-115-max-keys-400/images/AGA_Tablet/AGA_Tablet0.jpg\n",
      "Dir name: AGA_Tablet\n",
      "Outpath: metaanalysis/AGA_Tablet/AGA_Tablet_5.json\n"
     ]
    },
    {
     "name": "stderr",
     "output_type": "stream",
     "text": [
      "100%|██████████| 15/15 [00:00<00:00, 11482.85it/s]\n"
     ]
    },
    {
     "name": "stdout",
     "output_type": "stream",
     "text": [
      "Image_path: ../images-115-max-keys-400/images/AGA_Tablet/AGA_Tablet2_gaussian_noise.jpg\n",
      "Dir name: AGA_Tablet\n",
      "Outpath: metaanalysis/AGA_Tablet/AGA_Tablet_6.json\n"
     ]
    },
    {
     "name": "stderr",
     "output_type": "stream",
     "text": [
      "100%|██████████| 18/18 [00:00<00:00, 16125.05it/s]\n"
     ]
    },
    {
     "name": "stdout",
     "output_type": "stream",
     "text": [
      "Image_path: ../images-115-max-keys-400/images/AGA_Tablet/AGA_Tablet1_gaussian_noise.jpg\n",
      "Dir name: AGA_Tablet\n",
      "Outpath: metaanalysis/AGA_Tablet/AGA_Tablet_7.json\n"
     ]
    },
    {
     "name": "stderr",
     "output_type": "stream",
     "text": [
      "100%|██████████| 50/50 [00:00<00:00, 10951.19it/s]\n"
     ]
    },
    {
     "name": "stdout",
     "output_type": "stream",
     "text": [
      "Image_path: ../images-115-max-keys-400/images/AGA_Tablet/AGA_Tablet1_blur.jpg\n",
      "Dir name: AGA_Tablet\n",
      "Outpath: metaanalysis/AGA_Tablet/AGA_Tablet_8.json\n"
     ]
    },
    {
     "name": "stderr",
     "output_type": "stream",
     "text": [
      "100%|██████████| 34/34 [00:00<00:00, 14267.77it/s]\n"
     ]
    },
    {
     "name": "stdout",
     "output_type": "stream",
     "text": [
      "Image_path: ../images-115-max-keys-400/images/AGA_Tablet/AGA_Tablet2_rotated.jpg\n",
      "Dir name: AGA_Tablet\n",
      "Outpath: metaanalysis/AGA_Tablet/AGA_Tablet_9.json\n"
     ]
    },
    {
     "name": "stderr",
     "output_type": "stream",
     "text": [
      "100%|██████████| 17/17 [00:00<00:00, 44041.49it/s]\n"
     ]
    },
    {
     "name": "stdout",
     "output_type": "stream",
     "text": [
      "Image_path: ../images-115-max-keys-400/images/AGA_Tablet/AGA_Tablet0_gaussian_noise.jpg\n",
      "Dir name: AGA_Tablet\n",
      "Outpath: metaanalysis/AGA_Tablet/AGA_Tablet_10.json\n"
     ]
    },
    {
     "name": "stderr",
     "output_type": "stream",
     "text": [
      "100%|██████████| 11/11 [00:00<00:00, 9268.25it/s]\n"
     ]
    },
    {
     "name": "stdout",
     "output_type": "stream",
     "text": [
      "Image_path: ../images-115-max-keys-400/images/AGA_Tablet/AGA_Tablet0_rotated.jpg\n",
      "Dir name: AGA_Tablet\n",
      "Outpath: metaanalysis/AGA_Tablet/AGA_Tablet_11.json\n"
     ]
    },
    {
     "name": "stderr",
     "output_type": "stream",
     "text": [
      "100%|██████████| 9/9 [00:00<00:00, 12308.03it/s]\n"
     ]
    },
    {
     "name": "stdout",
     "output_type": "stream",
     "text": [
      "Image_path: ../images-115-max-keys-400/images/AGA_Tablet/AGA_Tablet2_blur.jpg\n",
      "Dir name: AGA_Tablet\n",
      "Outpath: metaanalysis/AGA_Tablet/AGA_Tablet_12.json\n"
     ]
    },
    {
     "name": "stderr",
     "output_type": "stream",
     "text": [
      "100%|██████████| 11/11 [00:00<00:00, 8293.61it/s]\n"
     ]
    },
    {
     "name": "stdout",
     "output_type": "stream",
     "text": [
      "Dir: ../images-115-max-keys-400/images/Aceron_TC_Tablet\n",
      "Image_path: ../images-115-max-keys-400/images/Aceron_TC_Tablet/Aceron_TC_Tablet1.jpg\n",
      "Dir name: Aceron_TC_Tablet\n",
      "Outpath: metaanalysis/Aceron_TC_Tablet/Aceron_TC_Tablet_1.json\n"
     ]
    },
    {
     "name": "stderr",
     "output_type": "stream",
     "text": [
      "100%|██████████| 17/17 [00:00<00:00, 35107.42it/s]\n"
     ]
    },
    {
     "name": "stdout",
     "output_type": "stream",
     "text": [
      "Image_path: ../images-115-max-keys-400/images/Aceron_TC_Tablet/Aceron_TC_Tablet0_blur.jpg\n",
      "Dir name: Aceron_TC_Tablet\n",
      "Outpath: metaanalysis/Aceron_TC_Tablet/Aceron_TC_Tablet_2.json\n"
     ]
    },
    {
     "name": "stderr",
     "output_type": "stream",
     "text": [
      "100%|██████████| 3/3 [00:00<00:00, 13120.87it/s]\n"
     ]
    },
    {
     "name": "stdout",
     "output_type": "stream",
     "text": [
      "Image_path: ../images-115-max-keys-400/images/Aceron_TC_Tablet/Aceron_TC_Tablet0.jpg\n",
      "Dir name: Aceron_TC_Tablet\n",
      "Outpath: metaanalysis/Aceron_TC_Tablet/Aceron_TC_Tablet_3.json\n"
     ]
    },
    {
     "name": "stderr",
     "output_type": "stream",
     "text": [
      "100%|██████████| 9/9 [00:00<00:00, 12095.08it/s]\n"
     ]
    },
    {
     "name": "stdout",
     "output_type": "stream",
     "text": [
      "Image_path: ../images-115-max-keys-400/images/Aceron_TC_Tablet/Aceron_TC_Tablet0_rotated.jpg\n",
      "Dir name: Aceron_TC_Tablet\n",
      "Outpath: metaanalysis/Aceron_TC_Tablet/Aceron_TC_Tablet_4.json\n"
     ]
    },
    {
     "name": "stderr",
     "output_type": "stream",
     "text": [
      "100%|██████████| 11/11 [00:00<00:00, 13646.06it/s]\n"
     ]
    },
    {
     "name": "stdout",
     "output_type": "stream",
     "text": [
      "Image_path: ../images-115-max-keys-400/images/Aceron_TC_Tablet/Aceron_TC_Tablet2_gaussian_noise.jpg\n",
      "Dir name: Aceron_TC_Tablet\n",
      "Outpath: metaanalysis/Aceron_TC_Tablet/Aceron_TC_Tablet_5.json\n"
     ]
    },
    {
     "name": "stderr",
     "output_type": "stream",
     "text": [
      "100%|██████████| 10/10 [00:00<00:00, 9364.38it/s]\n"
     ]
    },
    {
     "name": "stdout",
     "output_type": "stream",
     "text": [
      "Image_path: ../images-115-max-keys-400/images/Aceron_TC_Tablet/Aceron_TC_Tablet1_blur.jpg\n",
      "Dir name: Aceron_TC_Tablet\n",
      "Outpath: metaanalysis/Aceron_TC_Tablet/Aceron_TC_Tablet_6.json\n"
     ]
    },
    {
     "name": "stderr",
     "output_type": "stream",
     "text": [
      "100%|██████████| 15/15 [00:00<00:00, 6981.97it/s]\n"
     ]
    },
    {
     "name": "stdout",
     "output_type": "stream",
     "text": [
      "Image_path: ../images-115-max-keys-400/images/Aceron_TC_Tablet/Aceron_TC_Tablet0_gaussian_noise.jpg\n",
      "Dir name: Aceron_TC_Tablet\n",
      "Outpath: metaanalysis/Aceron_TC_Tablet/Aceron_TC_Tablet_7.json\n"
     ]
    },
    {
     "name": "stderr",
     "output_type": "stream",
     "text": [
      "100%|██████████| 1/1 [00:00<00:00, 1363.56it/s]\n"
     ]
    },
    {
     "name": "stdout",
     "output_type": "stream",
     "text": [
      "Image_path: ../images-115-max-keys-400/images/Aceron_TC_Tablet/Aceron_TC_Tablet2_rotated.jpg\n",
      "Dir name: Aceron_TC_Tablet\n",
      "Outpath: metaanalysis/Aceron_TC_Tablet/Aceron_TC_Tablet_8.json\n"
     ]
    },
    {
     "name": "stderr",
     "output_type": "stream",
     "text": [
      "100%|██████████| 51/51 [00:00<00:00, 23035.70it/s]\n"
     ]
    },
    {
     "name": "stdout",
     "output_type": "stream",
     "text": [
      "Image_path: ../images-115-max-keys-400/images/Aceron_TC_Tablet/Aceron_TC_Tablet2.jpg\n",
      "Dir name: Aceron_TC_Tablet\n",
      "Outpath: metaanalysis/Aceron_TC_Tablet/Aceron_TC_Tablet_9.json\n"
     ]
    },
    {
     "name": "stderr",
     "output_type": "stream",
     "text": [
      "100%|██████████| 110/110 [00:00<00:00, 34221.44it/s]\n"
     ]
    },
    {
     "name": "stdout",
     "output_type": "stream",
     "text": [
      "Image_path: ../images-115-max-keys-400/images/Aceron_TC_Tablet/Aceron_TC_Tablet2_blur.jpg\n",
      "Dir name: Aceron_TC_Tablet\n",
      "Outpath: metaanalysis/Aceron_TC_Tablet/Aceron_TC_Tablet_10.json\n"
     ]
    },
    {
     "name": "stderr",
     "output_type": "stream",
     "text": [
      "100%|██████████| 6/6 [00:00<00:00, 6608.67it/s]\n"
     ]
    },
    {
     "name": "stdout",
     "output_type": "stream",
     "text": [
      "Image_path: ../images-115-max-keys-400/images/Aceron_TC_Tablet/Aceron_TC_Tablet1_gaussian_noise.jpg\n",
      "Dir name: Aceron_TC_Tablet\n",
      "Outpath: metaanalysis/Aceron_TC_Tablet/Aceron_TC_Tablet_11.json\n"
     ]
    },
    {
     "name": "stderr",
     "output_type": "stream",
     "text": [
      "100%|██████████| 4/4 [00:00<00:00, 5181.35it/s]\n"
     ]
    },
    {
     "name": "stdout",
     "output_type": "stream",
     "text": [
      "Image_path: ../images-115-max-keys-400/images/Aceron_TC_Tablet/Aceron_TC_Tablet1_rotated.jpg\n",
      "Dir name: Aceron_TC_Tablet\n",
      "Outpath: metaanalysis/Aceron_TC_Tablet/Aceron_TC_Tablet_12.json\n"
     ]
    },
    {
     "name": "stderr",
     "output_type": "stream",
     "text": [
      "100%|██████████| 16/16 [00:00<00:00, 7253.44it/s]\n"
     ]
    },
    {
     "name": "stdout",
     "output_type": "stream",
     "text": [
      "Dir: ../images-115-max-keys-400/images/AB-Flo-N_Tablet\n",
      "Image_path: ../images-115-max-keys-400/images/AB-Flo-N_Tablet/AB-Flo-N_Tablet0_blur.jpg\n",
      "Dir name: AB-Flo-N_Tablet\n",
      "Outpath: metaanalysis/AB-Flo-N_Tablet/AB-Flo-N_Tablet_1.json\n"
     ]
    },
    {
     "name": "stderr",
     "output_type": "stream",
     "text": [
      "100%|██████████| 12/12 [00:00<00:00, 4959.76it/s]\n"
     ]
    },
    {
     "name": "stdout",
     "output_type": "stream",
     "text": [
      "Image_path: ../images-115-max-keys-400/images/AB-Flo-N_Tablet/AB-Flo-N_Tablet0_rotated.jpg\n",
      "Dir name: AB-Flo-N_Tablet\n",
      "Outpath: metaanalysis/AB-Flo-N_Tablet/AB-Flo-N_Tablet_2.json\n"
     ]
    },
    {
     "name": "stderr",
     "output_type": "stream",
     "text": [
      "100%|██████████| 11/11 [00:00<00:00, 7851.83it/s]\n"
     ]
    },
    {
     "name": "stdout",
     "output_type": "stream",
     "text": [
      "Image_path: ../images-115-max-keys-400/images/AB-Flo-N_Tablet/AB-Flo-N_Tablet2.jpg\n",
      "Dir name: AB-Flo-N_Tablet\n",
      "Outpath: metaanalysis/AB-Flo-N_Tablet/AB-Flo-N_Tablet_3.json\n"
     ]
    },
    {
     "name": "stderr",
     "output_type": "stream",
     "text": [
      "100%|██████████| 58/58 [00:00<00:00, 26347.84it/s]\n"
     ]
    },
    {
     "name": "stdout",
     "output_type": "stream",
     "text": [
      "Image_path: ../images-115-max-keys-400/images/AB-Flo-N_Tablet/AB-Flo-N_Tablet0_gaussian_noise.jpg\n",
      "Dir name: AB-Flo-N_Tablet\n",
      "Outpath: metaanalysis/AB-Flo-N_Tablet/AB-Flo-N_Tablet_4.json\n"
     ]
    },
    {
     "name": "stderr",
     "output_type": "stream",
     "text": [
      "100%|██████████| 11/11 [00:00<00:00, 6069.11it/s]\n"
     ]
    },
    {
     "name": "stdout",
     "output_type": "stream",
     "text": [
      "Image_path: ../images-115-max-keys-400/images/AB-Flo-N_Tablet/AB-Flo-N_Tablet2_blur.jpg\n",
      "Dir name: AB-Flo-N_Tablet\n",
      "Outpath: metaanalysis/AB-Flo-N_Tablet/AB-Flo-N_Tablet_5.json\n"
     ]
    },
    {
     "name": "stderr",
     "output_type": "stream",
     "text": [
      "100%|██████████| 58/58 [00:00<00:00, 36104.13it/s]\n"
     ]
    },
    {
     "name": "stdout",
     "output_type": "stream",
     "text": [
      "Image_path: ../images-115-max-keys-400/images/AB-Flo-N_Tablet/AB-Flo-N_Tablet2_gaussian_noise.jpg\n",
      "Dir name: AB-Flo-N_Tablet\n",
      "Outpath: metaanalysis/AB-Flo-N_Tablet/AB-Flo-N_Tablet_6.json\n"
     ]
    },
    {
     "name": "stderr",
     "output_type": "stream",
     "text": [
      "100%|██████████| 59/59 [00:00<00:00, 36645.04it/s]\n"
     ]
    },
    {
     "name": "stdout",
     "output_type": "stream",
     "text": [
      "Image_path: ../images-115-max-keys-400/images/AB-Flo-N_Tablet/AB-Flo-N_Tablet0.jpg\n",
      "Dir name: AB-Flo-N_Tablet\n",
      "Outpath: metaanalysis/AB-Flo-N_Tablet/AB-Flo-N_Tablet_7.json\n"
     ]
    },
    {
     "name": "stderr",
     "output_type": "stream",
     "text": [
      "100%|██████████| 14/14 [00:00<00:00, 3811.77it/s]\n"
     ]
    },
    {
     "name": "stdout",
     "output_type": "stream",
     "text": [
      "Image_path: ../images-115-max-keys-400/images/AB-Flo-N_Tablet/AB-Flo-N_Tablet1_gaussian_noise.jpg\n",
      "Dir name: AB-Flo-N_Tablet\n",
      "Outpath: metaanalysis/AB-Flo-N_Tablet/AB-Flo-N_Tablet_8.json\n"
     ]
    },
    {
     "name": "stderr",
     "output_type": "stream",
     "text": [
      "100%|██████████| 13/13 [00:00<00:00, 28033.91it/s]\n"
     ]
    },
    {
     "name": "stdout",
     "output_type": "stream",
     "text": [
      "Image_path: ../images-115-max-keys-400/images/AB-Flo-N_Tablet/AB-Flo-N_Tablet1_blur.jpg\n",
      "Dir name: AB-Flo-N_Tablet\n",
      "Outpath: metaanalysis/AB-Flo-N_Tablet/AB-Flo-N_Tablet_9.json\n"
     ]
    },
    {
     "name": "stderr",
     "output_type": "stream",
     "text": [
      "100%|██████████| 13/13 [00:00<00:00, 29601.49it/s]\n"
     ]
    },
    {
     "name": "stdout",
     "output_type": "stream",
     "text": [
      "Image_path: ../images-115-max-keys-400/images/AB-Flo-N_Tablet/AB-Flo-N_Tablet1_rotated.jpg\n",
      "Dir name: AB-Flo-N_Tablet\n",
      "Outpath: metaanalysis/AB-Flo-N_Tablet/AB-Flo-N_Tablet_10.json\n"
     ]
    },
    {
     "name": "stderr",
     "output_type": "stream",
     "text": [
      "100%|██████████| 12/12 [00:00<00:00, 6656.74it/s]\n"
     ]
    },
    {
     "name": "stdout",
     "output_type": "stream",
     "text": [
      "Image_path: ../images-115-max-keys-400/images/AB-Flo-N_Tablet/AB-Flo-N_Tablet2_rotated.jpg\n",
      "Dir name: AB-Flo-N_Tablet\n",
      "Outpath: metaanalysis/AB-Flo-N_Tablet/AB-Flo-N_Tablet_11.json\n"
     ]
    },
    {
     "name": "stderr",
     "output_type": "stream",
     "text": [
      "100%|██████████| 59/59 [00:00<00:00, 53001.49it/s]\n"
     ]
    },
    {
     "name": "stdout",
     "output_type": "stream",
     "text": [
      "Image_path: ../images-115-max-keys-400/images/AB-Flo-N_Tablet/AB-Flo-N_Tablet1.jpg\n",
      "Dir name: AB-Flo-N_Tablet\n",
      "Outpath: metaanalysis/AB-Flo-N_Tablet/AB-Flo-N_Tablet_12.json\n"
     ]
    },
    {
     "name": "stderr",
     "output_type": "stream",
     "text": [
      "100%|██████████| 15/15 [00:00<00:00, 10916.98it/s]\n"
     ]
    },
    {
     "name": "stdout",
     "output_type": "stream",
     "text": [
      "Dir: ../images-115-max-keys-400/images/Absopan_40mg_Tablet\n",
      "Image_path: ../images-115-max-keys-400/images/Absopan_40mg_Tablet/Absopan_40mg_Tablet0_gaussian_noise.jpg\n",
      "Dir name: Absopan_40mg_Tablet\n",
      "Outpath: metaanalysis/Absopan_40mg_Tablet/Absopan_40mg_Tablet_1.json\n"
     ]
    },
    {
     "name": "stderr",
     "output_type": "stream",
     "text": [
      "100%|██████████| 1/1 [00:00<00:00, 1233.98it/s]\n"
     ]
    },
    {
     "name": "stdout",
     "output_type": "stream",
     "text": [
      "Image_path: ../images-115-max-keys-400/images/Absopan_40mg_Tablet/Absopan_40mg_Tablet1_gaussian_noise.jpg\n",
      "Dir name: Absopan_40mg_Tablet\n",
      "Outpath: metaanalysis/Absopan_40mg_Tablet/Absopan_40mg_Tablet_2.json\n",
      "Image_path: ../images-115-max-keys-400/images/Absopan_40mg_Tablet/Absopan_40mg_Tablet1_blur.jpg\n",
      "Dir name: Absopan_40mg_Tablet\n",
      "Outpath: metaanalysis/Absopan_40mg_Tablet/Absopan_40mg_Tablet_3.json\n",
      "Image_path: ../images-115-max-keys-400/images/Absopan_40mg_Tablet/Absopan_40mg_Tablet1_rotated.jpg\n",
      "Dir name: Absopan_40mg_Tablet\n",
      "Outpath: metaanalysis/Absopan_40mg_Tablet/Absopan_40mg_Tablet_4.json\n",
      "Image_path: ../images-115-max-keys-400/images/Absopan_40mg_Tablet/Absopan_40mg_Tablet1.jpg\n",
      "Dir name: Absopan_40mg_Tablet\n",
      "Outpath: metaanalysis/Absopan_40mg_Tablet/Absopan_40mg_Tablet_5.json\n",
      "Image_path: ../images-115-max-keys-400/images/Absopan_40mg_Tablet/Absopan_40mg_Tablet2.jpg\n",
      "Dir name: Absopan_40mg_Tablet\n",
      "Outpath: metaanalysis/Absopan_40mg_Tablet/Absopan_40mg_Tablet_6.json\n"
     ]
    },
    {
     "name": "stderr",
     "output_type": "stream",
     "text": [
      "100%|██████████| 41/41 [00:00<00:00, 10423.47it/s]\n"
     ]
    },
    {
     "name": "stdout",
     "output_type": "stream",
     "text": [
      "Image_path: ../images-115-max-keys-400/images/Absopan_40mg_Tablet/Absopan_40mg_Tablet2_rotated.jpg\n",
      "Dir name: Absopan_40mg_Tablet\n",
      "Outpath: metaanalysis/Absopan_40mg_Tablet/Absopan_40mg_Tablet_7.json\n"
     ]
    },
    {
     "name": "stderr",
     "output_type": "stream",
     "text": [
      "100%|██████████| 15/15 [00:00<00:00, 16652.87it/s]\n"
     ]
    },
    {
     "name": "stdout",
     "output_type": "stream",
     "text": [
      "Image_path: ../images-115-max-keys-400/images/Absopan_40mg_Tablet/Absopan_40mg_Tablet0_blur.jpg\n",
      "Dir name: Absopan_40mg_Tablet\n",
      "Outpath: metaanalysis/Absopan_40mg_Tablet/Absopan_40mg_Tablet_8.json\n"
     ]
    },
    {
     "name": "stderr",
     "output_type": "stream",
     "text": [
      "100%|██████████| 2/2 [00:00<00:00, 9776.93it/s]\n"
     ]
    },
    {
     "name": "stdout",
     "output_type": "stream",
     "text": [
      "Image_path: ../images-115-max-keys-400/images/Absopan_40mg_Tablet/Absopan_40mg_Tablet0.jpg\n",
      "Dir name: Absopan_40mg_Tablet\n",
      "Outpath: metaanalysis/Absopan_40mg_Tablet/Absopan_40mg_Tablet_9.json\n"
     ]
    },
    {
     "name": "stderr",
     "output_type": "stream",
     "text": [
      "100%|██████████| 9/9 [00:00<00:00, 8823.92it/s]\n"
     ]
    },
    {
     "name": "stdout",
     "output_type": "stream",
     "text": [
      "Image_path: ../images-115-max-keys-400/images/Absopan_40mg_Tablet/Absopan_40mg_Tablet0_rotated.jpg\n",
      "Dir name: Absopan_40mg_Tablet\n",
      "Outpath: metaanalysis/Absopan_40mg_Tablet/Absopan_40mg_Tablet_10.json\n"
     ]
    },
    {
     "name": "stderr",
     "output_type": "stream",
     "text": [
      "100%|██████████| 6/6 [00:00<00:00, 6976.94it/s]\n"
     ]
    },
    {
     "name": "stdout",
     "output_type": "stream",
     "text": [
      "Image_path: ../images-115-max-keys-400/images/Absopan_40mg_Tablet/Absopan_40mg_Tablet2_blur.jpg\n",
      "Dir name: Absopan_40mg_Tablet\n",
      "Outpath: metaanalysis/Absopan_40mg_Tablet/Absopan_40mg_Tablet_11.json\n"
     ]
    },
    {
     "name": "stderr",
     "output_type": "stream",
     "text": [
      "100%|██████████| 8/8 [00:00<00:00, 4814.12it/s]\n"
     ]
    },
    {
     "name": "stdout",
     "output_type": "stream",
     "text": [
      "Image_path: ../images-115-max-keys-400/images/Absopan_40mg_Tablet/Absopan_40mg_Tablet2_gaussian_noise.jpg\n",
      "Dir name: Absopan_40mg_Tablet\n",
      "Outpath: metaanalysis/Absopan_40mg_Tablet/Absopan_40mg_Tablet_12.json\n"
     ]
    },
    {
     "name": "stderr",
     "output_type": "stream",
     "text": [
      "100%|██████████| 9/9 [00:00<00:00, 15643.90it/s]\n"
     ]
    },
    {
     "name": "stdout",
     "output_type": "stream",
     "text": [
      "Dir: ../images-115-max-keys-400/images/Acegrow-SR_Tablet\n",
      "Image_path: ../images-115-max-keys-400/images/Acegrow-SR_Tablet/Acegrow-SR_Tablet0.jpg\n",
      "Dir name: Acegrow-SR_Tablet\n",
      "Outpath: metaanalysis/Acegrow-SR_Tablet/Acegrow-SR_Tablet_1.json\n"
     ]
    },
    {
     "name": "stderr",
     "output_type": "stream",
     "text": [
      "100%|██████████| 7/7 [00:00<00:00, 6018.89it/s]\n"
     ]
    },
    {
     "name": "stdout",
     "output_type": "stream",
     "text": [
      "Image_path: ../images-115-max-keys-400/images/Acegrow-SR_Tablet/Acegrow-SR_Tablet2_blur.jpg\n",
      "Dir name: Acegrow-SR_Tablet\n",
      "Outpath: metaanalysis/Acegrow-SR_Tablet/Acegrow-SR_Tablet_2.json\n"
     ]
    },
    {
     "name": "stderr",
     "output_type": "stream",
     "text": [
      "100%|██████████| 57/57 [00:00<00:00, 18507.15it/s]\n"
     ]
    },
    {
     "name": "stdout",
     "output_type": "stream",
     "text": [
      "Image_path: ../images-115-max-keys-400/images/Acegrow-SR_Tablet/Acegrow-SR_Tablet2_gaussian_noise.jpg\n",
      "Dir name: Acegrow-SR_Tablet\n",
      "Outpath: metaanalysis/Acegrow-SR_Tablet/Acegrow-SR_Tablet_3.json\n"
     ]
    },
    {
     "name": "stderr",
     "output_type": "stream",
     "text": [
      "100%|██████████| 47/47 [00:00<00:00, 57759.24it/s]\n"
     ]
    },
    {
     "name": "stdout",
     "output_type": "stream",
     "text": [
      "Image_path: ../images-115-max-keys-400/images/Acegrow-SR_Tablet/Acegrow-SR_Tablet2.jpg\n",
      "Dir name: Acegrow-SR_Tablet\n",
      "Outpath: metaanalysis/Acegrow-SR_Tablet/Acegrow-SR_Tablet_4.json\n"
     ]
    },
    {
     "name": "stderr",
     "output_type": "stream",
     "text": [
      "100%|██████████| 76/76 [00:00<00:00, 15261.51it/s]\n"
     ]
    },
    {
     "name": "stdout",
     "output_type": "stream",
     "text": [
      "Image_path: ../images-115-max-keys-400/images/Acegrow-SR_Tablet/Acegrow-SR_Tablet0_gaussian_noise.jpg\n",
      "Dir name: Acegrow-SR_Tablet\n",
      "Outpath: metaanalysis/Acegrow-SR_Tablet/Acegrow-SR_Tablet_5.json\n"
     ]
    },
    {
     "name": "stderr",
     "output_type": "stream",
     "text": [
      "100%|██████████| 4/4 [00:00<00:00, 3308.46it/s]\n"
     ]
    },
    {
     "name": "stdout",
     "output_type": "stream",
     "text": [
      "Image_path: ../images-115-max-keys-400/images/Acegrow-SR_Tablet/Acegrow-SR_Tablet0_rotated.jpg\n",
      "Dir name: Acegrow-SR_Tablet\n",
      "Outpath: metaanalysis/Acegrow-SR_Tablet/Acegrow-SR_Tablet_6.json\n"
     ]
    },
    {
     "name": "stderr",
     "output_type": "stream",
     "text": [
      "100%|██████████| 5/5 [00:00<00:00, 4932.15it/s]\n"
     ]
    },
    {
     "name": "stdout",
     "output_type": "stream",
     "text": [
      "Image_path: ../images-115-max-keys-400/images/Acegrow-SR_Tablet/Acegrow-SR_Tablet1_rotated.jpg\n",
      "Dir name: Acegrow-SR_Tablet\n",
      "Outpath: metaanalysis/Acegrow-SR_Tablet/Acegrow-SR_Tablet_7.json\n"
     ]
    },
    {
     "name": "stderr",
     "output_type": "stream",
     "text": [
      "100%|██████████| 10/10 [00:00<00:00, 8336.92it/s]\n"
     ]
    },
    {
     "name": "stdout",
     "output_type": "stream",
     "text": [
      "Image_path: ../images-115-max-keys-400/images/Acegrow-SR_Tablet/Acegrow-SR_Tablet1_blur.jpg\n",
      "Dir name: Acegrow-SR_Tablet\n",
      "Outpath: metaanalysis/Acegrow-SR_Tablet/Acegrow-SR_Tablet_8.json\n"
     ]
    },
    {
     "name": "stderr",
     "output_type": "stream",
     "text": [
      "100%|██████████| 8/8 [00:00<00:00, 17260.51it/s]\n"
     ]
    },
    {
     "name": "stdout",
     "output_type": "stream",
     "text": [
      "Image_path: ../images-115-max-keys-400/images/Acegrow-SR_Tablet/Acegrow-SR_Tablet2_rotated.jpg\n",
      "Dir name: Acegrow-SR_Tablet\n",
      "Outpath: metaanalysis/Acegrow-SR_Tablet/Acegrow-SR_Tablet_9.json\n"
     ]
    },
    {
     "name": "stderr",
     "output_type": "stream",
     "text": [
      "100%|██████████| 74/74 [00:00<00:00, 25778.94it/s]\n"
     ]
    },
    {
     "name": "stdout",
     "output_type": "stream",
     "text": [
      "Image_path: ../images-115-max-keys-400/images/Acegrow-SR_Tablet/Acegrow-SR_Tablet1.jpg\n",
      "Dir name: Acegrow-SR_Tablet\n",
      "Outpath: metaanalysis/Acegrow-SR_Tablet/Acegrow-SR_Tablet_10.json\n"
     ]
    },
    {
     "name": "stderr",
     "output_type": "stream",
     "text": [
      "100%|██████████| 11/11 [00:00<00:00, 7315.26it/s]\n"
     ]
    },
    {
     "name": "stdout",
     "output_type": "stream",
     "text": [
      "Image_path: ../images-115-max-keys-400/images/Acegrow-SR_Tablet/Acegrow-SR_Tablet1_gaussian_noise.jpg\n",
      "Dir name: Acegrow-SR_Tablet\n",
      "Outpath: metaanalysis/Acegrow-SR_Tablet/Acegrow-SR_Tablet_11.json\n"
     ]
    },
    {
     "name": "stderr",
     "output_type": "stream",
     "text": [
      "100%|██████████| 9/9 [00:00<00:00, 7143.97it/s]\n"
     ]
    },
    {
     "name": "stdout",
     "output_type": "stream",
     "text": [
      "Image_path: ../images-115-max-keys-400/images/Acegrow-SR_Tablet/Acegrow-SR_Tablet0_blur.jpg\n",
      "Dir name: Acegrow-SR_Tablet\n",
      "Outpath: metaanalysis/Acegrow-SR_Tablet/Acegrow-SR_Tablet_12.json\n"
     ]
    },
    {
     "name": "stderr",
     "output_type": "stream",
     "text": [
      "100%|██████████| 5/5 [00:00<00:00, 5640.54it/s]\n"
     ]
    },
    {
     "name": "stdout",
     "output_type": "stream",
     "text": [
      "Dir: ../images-115-max-keys-400/images/ATM_500_Tablet\n",
      "Image_path: ../images-115-max-keys-400/images/ATM_500_Tablet/ATM_500_Tablet0_gaussian_noise.jpg\n",
      "Dir name: ATM_500_Tablet\n",
      "Outpath: metaanalysis/ATM_500_Tablet/ATM_500_Tablet_1.json\n"
     ]
    },
    {
     "name": "stderr",
     "output_type": "stream",
     "text": [
      "100%|██████████| 2/2 [00:00<00:00, 4556.55it/s]\n"
     ]
    },
    {
     "name": "stdout",
     "output_type": "stream",
     "text": [
      "Image_path: ../images-115-max-keys-400/images/ATM_500_Tablet/ATM_500_Tablet0.jpg\n",
      "Dir name: ATM_500_Tablet\n",
      "Outpath: metaanalysis/ATM_500_Tablet/ATM_500_Tablet_2.json\n"
     ]
    },
    {
     "name": "stderr",
     "output_type": "stream",
     "text": [
      "100%|██████████| 1/1 [00:00<00:00, 1584.55it/s]\n"
     ]
    },
    {
     "name": "stdout",
     "output_type": "stream",
     "text": [
      "Image_path: ../images-115-max-keys-400/images/ATM_500_Tablet/ATM_500_Tablet0_rotated.jpg\n",
      "Dir name: ATM_500_Tablet\n",
      "Outpath: metaanalysis/ATM_500_Tablet/ATM_500_Tablet_3.json\n",
      "Image_path: ../images-115-max-keys-400/images/ATM_500_Tablet/ATM_500_Tablet0_blur.jpg\n",
      "Dir name: ATM_500_Tablet\n",
      "Outpath: metaanalysis/ATM_500_Tablet/ATM_500_Tablet_4.json\n",
      "Dir: ../images-115-max-keys-400/images/Abevia-N_Tablet\n",
      "Image_path: ../images-115-max-keys-400/images/Abevia-N_Tablet/Abevia-N_Tablet0_gaussian_noise.jpg\n",
      "Dir name: Abevia-N_Tablet\n",
      "Outpath: metaanalysis/Abevia-N_Tablet/Abevia-N_Tablet_1.json\n"
     ]
    },
    {
     "name": "stderr",
     "output_type": "stream",
     "text": [
      "100%|██████████| 5/5 [00:00<00:00, 5488.49it/s]\n"
     ]
    },
    {
     "name": "stdout",
     "output_type": "stream",
     "text": [
      "Image_path: ../images-115-max-keys-400/images/Abevia-N_Tablet/Abevia-N_Tablet1_rotated.jpg\n",
      "Dir name: Abevia-N_Tablet\n",
      "Outpath: metaanalysis/Abevia-N_Tablet/Abevia-N_Tablet_2.json\n"
     ]
    },
    {
     "name": "stderr",
     "output_type": "stream",
     "text": [
      "100%|██████████| 7/7 [00:00<00:00, 4623.64it/s]\n"
     ]
    },
    {
     "name": "stdout",
     "output_type": "stream",
     "text": [
      "Image_path: ../images-115-max-keys-400/images/Abevia-N_Tablet/Abevia-N_Tablet0.jpg\n",
      "Dir name: Abevia-N_Tablet\n",
      "Outpath: metaanalysis/Abevia-N_Tablet/Abevia-N_Tablet_3.json\n"
     ]
    },
    {
     "name": "stderr",
     "output_type": "stream",
     "text": [
      "100%|██████████| 14/14 [00:00<00:00, 15033.35it/s]\n"
     ]
    },
    {
     "name": "stdout",
     "output_type": "stream",
     "text": [
      "Image_path: ../images-115-max-keys-400/images/Abevia-N_Tablet/Abevia-N_Tablet0_rotated.jpg\n",
      "Dir name: Abevia-N_Tablet\n",
      "Outpath: metaanalysis/Abevia-N_Tablet/Abevia-N_Tablet_4.json\n"
     ]
    },
    {
     "name": "stderr",
     "output_type": "stream",
     "text": [
      "100%|██████████| 8/8 [00:00<00:00, 19796.13it/s]\n"
     ]
    },
    {
     "name": "stdout",
     "output_type": "stream",
     "text": [
      "Image_path: ../images-115-max-keys-400/images/Abevia-N_Tablet/Abevia-N_Tablet1_gaussian_noise.jpg\n",
      "Dir name: Abevia-N_Tablet\n",
      "Outpath: metaanalysis/Abevia-N_Tablet/Abevia-N_Tablet_5.json\n"
     ]
    },
    {
     "name": "stderr",
     "output_type": "stream",
     "text": [
      "100%|██████████| 7/7 [00:00<00:00, 12726.54it/s]\n"
     ]
    },
    {
     "name": "stdout",
     "output_type": "stream",
     "text": [
      "Image_path: ../images-115-max-keys-400/images/Abevia-N_Tablet/Abevia-N_Tablet2_blur.jpg\n",
      "Dir name: Abevia-N_Tablet\n",
      "Outpath: metaanalysis/Abevia-N_Tablet/Abevia-N_Tablet_6.json\n",
      "Image_path: ../images-115-max-keys-400/images/Abevia-N_Tablet/Abevia-N_Tablet1.jpg\n",
      "Dir name: Abevia-N_Tablet\n",
      "Outpath: metaanalysis/Abevia-N_Tablet/Abevia-N_Tablet_7.json\n"
     ]
    },
    {
     "name": "stderr",
     "output_type": "stream",
     "text": [
      "100%|██████████| 11/11 [00:00<00:00, 11277.77it/s]\n"
     ]
    },
    {
     "name": "stdout",
     "output_type": "stream",
     "text": [
      "Image_path: ../images-115-max-keys-400/images/Abevia-N_Tablet/Abevia-N_Tablet2_gaussian_noise.jpg\n",
      "Dir name: Abevia-N_Tablet\n",
      "Outpath: metaanalysis/Abevia-N_Tablet/Abevia-N_Tablet_8.json\n"
     ]
    },
    {
     "name": "stderr",
     "output_type": "stream",
     "text": [
      "100%|██████████| 20/20 [00:00<00:00, 19608.71it/s]\n"
     ]
    },
    {
     "name": "stdout",
     "output_type": "stream",
     "text": [
      "Image_path: ../images-115-max-keys-400/images/Abevia-N_Tablet/Abevia-N_Tablet2.jpg\n",
      "Dir name: Abevia-N_Tablet\n",
      "Outpath: metaanalysis/Abevia-N_Tablet/Abevia-N_Tablet_9.json\n"
     ]
    },
    {
     "name": "stderr",
     "output_type": "stream",
     "text": [
      "100%|██████████| 58/58 [00:00<00:00, 19596.39it/s]\n"
     ]
    },
    {
     "name": "stdout",
     "output_type": "stream",
     "text": [
      "Image_path: ../images-115-max-keys-400/images/Abevia-N_Tablet/Abevia-N_Tablet1_blur.jpg\n",
      "Dir name: Abevia-N_Tablet\n",
      "Outpath: metaanalysis/Abevia-N_Tablet/Abevia-N_Tablet_10.json\n"
     ]
    },
    {
     "name": "stderr",
     "output_type": "stream",
     "text": [
      "100%|██████████| 8/8 [00:00<00:00, 19831.22it/s]\n"
     ]
    },
    {
     "name": "stdout",
     "output_type": "stream",
     "text": [
      "Image_path: ../images-115-max-keys-400/images/Abevia-N_Tablet/Abevia-N_Tablet2_rotated.jpg\n",
      "Dir name: Abevia-N_Tablet\n",
      "Outpath: metaanalysis/Abevia-N_Tablet/Abevia-N_Tablet_11.json\n"
     ]
    },
    {
     "name": "stderr",
     "output_type": "stream",
     "text": [
      "100%|██████████| 19/19 [00:00<00:00, 13297.48it/s]\n"
     ]
    },
    {
     "name": "stdout",
     "output_type": "stream",
     "text": [
      "Image_path: ../images-115-max-keys-400/images/Abevia-N_Tablet/Abevia-N_Tablet0_blur.jpg\n",
      "Dir name: Abevia-N_Tablet\n",
      "Outpath: metaanalysis/Abevia-N_Tablet/Abevia-N_Tablet_12.json\n"
     ]
    },
    {
     "name": "stderr",
     "output_type": "stream",
     "text": [
      "100%|██████████| 7/7 [00:00<00:00, 22584.71it/s]\n"
     ]
    },
    {
     "name": "stdout",
     "output_type": "stream",
     "text": [
      "Dir: ../images-115-max-keys-400/images/Aceprime-P_Tablet\n",
      "Image_path: ../images-115-max-keys-400/images/Aceprime-P_Tablet/Aceprime-P_Tablet0_blur.jpg\n",
      "Dir name: Aceprime-P_Tablet\n",
      "Outpath: metaanalysis/Aceprime-P_Tablet/Aceprime-P_Tablet_1.json\n"
     ]
    },
    {
     "name": "stderr",
     "output_type": "stream",
     "text": [
      "100%|██████████| 8/8 [00:00<00:00, 5082.46it/s]\n"
     ]
    },
    {
     "name": "stdout",
     "output_type": "stream",
     "text": [
      "Image_path: ../images-115-max-keys-400/images/Aceprime-P_Tablet/Aceprime-P_Tablet0_gaussian_noise.jpg\n",
      "Dir name: Aceprime-P_Tablet\n",
      "Outpath: metaanalysis/Aceprime-P_Tablet/Aceprime-P_Tablet_2.json\n"
     ]
    },
    {
     "name": "stderr",
     "output_type": "stream",
     "text": [
      "100%|██████████| 11/11 [00:00<00:00, 9576.04it/s]\n"
     ]
    },
    {
     "name": "stdout",
     "output_type": "stream",
     "text": [
      "Image_path: ../images-115-max-keys-400/images/Aceprime-P_Tablet/Aceprime-P_Tablet1_gaussian_noise.jpg\n",
      "Dir name: Aceprime-P_Tablet\n",
      "Outpath: metaanalysis/Aceprime-P_Tablet/Aceprime-P_Tablet_3.json\n"
     ]
    },
    {
     "name": "stderr",
     "output_type": "stream",
     "text": [
      "100%|██████████| 2/2 [00:00<00:00, 3910.77it/s]\n"
     ]
    },
    {
     "name": "stdout",
     "output_type": "stream",
     "text": [
      "Image_path: ../images-115-max-keys-400/images/Aceprime-P_Tablet/Aceprime-P_Tablet0_rotated.jpg\n",
      "Dir name: Aceprime-P_Tablet\n",
      "Outpath: metaanalysis/Aceprime-P_Tablet/Aceprime-P_Tablet_4.json\n"
     ]
    },
    {
     "name": "stderr",
     "output_type": "stream",
     "text": [
      "100%|██████████| 14/14 [00:00<00:00, 9605.80it/s]\n"
     ]
    },
    {
     "name": "stdout",
     "output_type": "stream",
     "text": [
      "Image_path: ../images-115-max-keys-400/images/Aceprime-P_Tablet/Aceprime-P_Tablet0.jpg\n",
      "Dir name: Aceprime-P_Tablet\n",
      "Outpath: metaanalysis/Aceprime-P_Tablet/Aceprime-P_Tablet_5.json\n"
     ]
    },
    {
     "name": "stderr",
     "output_type": "stream",
     "text": [
      "100%|██████████| 25/25 [00:00<00:00, 48254.76it/s]\n"
     ]
    },
    {
     "name": "stdout",
     "output_type": "stream",
     "text": [
      "Image_path: ../images-115-max-keys-400/images/Aceprime-P_Tablet/Aceprime-P_Tablet1.jpg\n",
      "Dir name: Aceprime-P_Tablet\n",
      "Outpath: metaanalysis/Aceprime-P_Tablet/Aceprime-P_Tablet_6.json\n"
     ]
    },
    {
     "name": "stderr",
     "output_type": "stream",
     "text": [
      "100%|██████████| 2/2 [00:00<00:00, 2505.56it/s]\n"
     ]
    },
    {
     "name": "stdout",
     "output_type": "stream",
     "text": [
      "Image_path: ../images-115-max-keys-400/images/Aceprime-P_Tablet/Aceprime-P_Tablet1_rotated.jpg\n",
      "Dir name: Aceprime-P_Tablet\n",
      "Outpath: metaanalysis/Aceprime-P_Tablet/Aceprime-P_Tablet_7.json\n"
     ]
    },
    {
     "name": "stderr",
     "output_type": "stream",
     "text": [
      "100%|██████████| 2/2 [00:00<00:00, 6105.25it/s]\n"
     ]
    },
    {
     "name": "stdout",
     "output_type": "stream",
     "text": [
      "Image_path: ../images-115-max-keys-400/images/Aceprime-P_Tablet/Aceprime-P_Tablet1_blur.jpg\n",
      "Dir name: Aceprime-P_Tablet\n",
      "Outpath: metaanalysis/Aceprime-P_Tablet/Aceprime-P_Tablet_8.json\n"
     ]
    },
    {
     "name": "stderr",
     "output_type": "stream",
     "text": [
      "100%|██████████| 2/2 [00:00<00:00, 3095.43it/s]\n"
     ]
    },
    {
     "name": "stdout",
     "output_type": "stream",
     "text": [
      "Dir: ../images-115-max-keys-400/images/Ace-KS_Tablet\n",
      "Image_path: ../images-115-max-keys-400/images/Ace-KS_Tablet/Ace-KS_Tablet1_gaussian_noise.jpg\n",
      "Dir name: Ace-KS_Tablet\n",
      "Outpath: metaanalysis/Ace-KS_Tablet/Ace-KS_Tablet_1.json\n"
     ]
    },
    {
     "name": "stderr",
     "output_type": "stream",
     "text": [
      "100%|██████████| 11/11 [00:00<00:00, 29443.10it/s]\n"
     ]
    },
    {
     "name": "stdout",
     "output_type": "stream",
     "text": [
      "Image_path: ../images-115-max-keys-400/images/Ace-KS_Tablet/Ace-KS_Tablet0_gaussian_noise.jpg\n",
      "Dir name: Ace-KS_Tablet\n",
      "Outpath: metaanalysis/Ace-KS_Tablet/Ace-KS_Tablet_2.json\n"
     ]
    },
    {
     "name": "stderr",
     "output_type": "stream",
     "text": [
      "100%|██████████| 8/8 [00:00<00:00, 10983.45it/s]\n"
     ]
    },
    {
     "name": "stdout",
     "output_type": "stream",
     "text": [
      "Image_path: ../images-115-max-keys-400/images/Ace-KS_Tablet/Ace-KS_Tablet0_blur.jpg\n",
      "Dir name: Ace-KS_Tablet\n",
      "Outpath: metaanalysis/Ace-KS_Tablet/Ace-KS_Tablet_3.json\n"
     ]
    },
    {
     "name": "stderr",
     "output_type": "stream",
     "text": [
      "100%|██████████| 8/8 [00:00<00:00, 11654.89it/s]\n"
     ]
    },
    {
     "name": "stdout",
     "output_type": "stream",
     "text": [
      "Image_path: ../images-115-max-keys-400/images/Ace-KS_Tablet/Ace-KS_Tablet1_blur.jpg\n",
      "Dir name: Ace-KS_Tablet\n",
      "Outpath: metaanalysis/Ace-KS_Tablet/Ace-KS_Tablet_4.json\n"
     ]
    },
    {
     "name": "stderr",
     "output_type": "stream",
     "text": [
      "100%|██████████| 12/12 [00:00<00:00, 8093.21it/s]\n"
     ]
    },
    {
     "name": "stdout",
     "output_type": "stream",
     "text": [
      "Image_path: ../images-115-max-keys-400/images/Ace-KS_Tablet/Ace-KS_Tablet0_rotated.jpg\n",
      "Dir name: Ace-KS_Tablet\n",
      "Outpath: metaanalysis/Ace-KS_Tablet/Ace-KS_Tablet_5.json\n"
     ]
    },
    {
     "name": "stderr",
     "output_type": "stream",
     "text": [
      "100%|██████████| 7/7 [00:00<00:00, 4349.65it/s]\n"
     ]
    },
    {
     "name": "stdout",
     "output_type": "stream",
     "text": [
      "Image_path: ../images-115-max-keys-400/images/Ace-KS_Tablet/Ace-KS_Tablet1.jpg\n",
      "Dir name: Ace-KS_Tablet\n",
      "Outpath: metaanalysis/Ace-KS_Tablet/Ace-KS_Tablet_6.json\n"
     ]
    },
    {
     "name": "stderr",
     "output_type": "stream",
     "text": [
      "100%|██████████| 20/20 [00:00<00:00, 20505.03it/s]\n"
     ]
    },
    {
     "name": "stdout",
     "output_type": "stream",
     "text": [
      "Image_path: ../images-115-max-keys-400/images/Ace-KS_Tablet/Ace-KS_Tablet0.jpg\n",
      "Dir name: Ace-KS_Tablet\n",
      "Outpath: metaanalysis/Ace-KS_Tablet/Ace-KS_Tablet_7.json\n"
     ]
    },
    {
     "name": "stderr",
     "output_type": "stream",
     "text": [
      "100%|██████████| 9/9 [00:00<00:00, 5064.90it/s]\n"
     ]
    },
    {
     "name": "stdout",
     "output_type": "stream",
     "text": [
      "Image_path: ../images-115-max-keys-400/images/Ace-KS_Tablet/Ace-KS_Tablet1_rotated.jpg\n",
      "Dir name: Ace-KS_Tablet\n",
      "Outpath: metaanalysis/Ace-KS_Tablet/Ace-KS_Tablet_8.json\n"
     ]
    },
    {
     "name": "stderr",
     "output_type": "stream",
     "text": [
      "100%|██████████| 11/11 [00:00<00:00, 21449.25it/s]\n"
     ]
    },
    {
     "name": "stdout",
     "output_type": "stream",
     "text": [
      "Dir: ../images-115-max-keys-400/images/Acekar-SP_Tablet\n",
      "Image_path: ../images-115-max-keys-400/images/Acekar-SP_Tablet/Acekar-SP_Tablet0.jpg\n",
      "Dir name: Acekar-SP_Tablet\n",
      "Outpath: metaanalysis/Acekar-SP_Tablet/Acekar-SP_Tablet_1.json\n"
     ]
    },
    {
     "name": "stderr",
     "output_type": "stream",
     "text": [
      "100%|██████████| 9/9 [00:00<00:00, 7280.37it/s]\n"
     ]
    },
    {
     "name": "stdout",
     "output_type": "stream",
     "text": [
      "Image_path: ../images-115-max-keys-400/images/Acekar-SP_Tablet/Acekar-SP_Tablet0_rotated.jpg\n",
      "Dir name: Acekar-SP_Tablet\n",
      "Outpath: metaanalysis/Acekar-SP_Tablet/Acekar-SP_Tablet_2.json\n"
     ]
    },
    {
     "name": "stderr",
     "output_type": "stream",
     "text": [
      "100%|██████████| 7/7 [00:00<00:00, 11029.35it/s]\n"
     ]
    },
    {
     "name": "stdout",
     "output_type": "stream",
     "text": [
      "Image_path: ../images-115-max-keys-400/images/Acekar-SP_Tablet/Acekar-SP_Tablet0_blur.jpg\n",
      "Dir name: Acekar-SP_Tablet\n",
      "Outpath: metaanalysis/Acekar-SP_Tablet/Acekar-SP_Tablet_3.json\n"
     ]
    },
    {
     "name": "stderr",
     "output_type": "stream",
     "text": [
      "100%|██████████| 9/9 [00:00<00:00, 6245.65it/s]\n"
     ]
    },
    {
     "name": "stdout",
     "output_type": "stream",
     "text": [
      "Image_path: ../images-115-max-keys-400/images/Acekar-SP_Tablet/Acekar-SP_Tablet0_gaussian_noise.jpg\n",
      "Dir name: Acekar-SP_Tablet\n",
      "Outpath: metaanalysis/Acekar-SP_Tablet/Acekar-SP_Tablet_4.json\n"
     ]
    },
    {
     "name": "stderr",
     "output_type": "stream",
     "text": [
      "100%|██████████| 8/8 [00:00<00:00, 4607.86it/s]\n"
     ]
    },
    {
     "name": "stdout",
     "output_type": "stream",
     "text": [
      "Dir: ../images-115-max-keys-400/images/Acemol-SP_Tablet\n",
      "Image_path: ../images-115-max-keys-400/images/Acemol-SP_Tablet/Acemol-SP_Tablet0_rotated.jpg\n",
      "Dir name: Acemol-SP_Tablet\n",
      "Outpath: metaanalysis/Acemol-SP_Tablet/Acemol-SP_Tablet_1.json\n"
     ]
    },
    {
     "name": "stderr",
     "output_type": "stream",
     "text": [
      "100%|██████████| 9/9 [00:00<00:00, 13929.42it/s]\n"
     ]
    },
    {
     "name": "stdout",
     "output_type": "stream",
     "text": [
      "Image_path: ../images-115-max-keys-400/images/Acemol-SP_Tablet/Acemol-SP_Tablet0_blur.jpg\n",
      "Dir name: Acemol-SP_Tablet\n",
      "Outpath: metaanalysis/Acemol-SP_Tablet/Acemol-SP_Tablet_2.json\n"
     ]
    },
    {
     "name": "stderr",
     "output_type": "stream",
     "text": [
      "100%|██████████| 8/8 [00:00<00:00, 11765.23it/s]\n"
     ]
    },
    {
     "name": "stdout",
     "output_type": "stream",
     "text": [
      "Image_path: ../images-115-max-keys-400/images/Acemol-SP_Tablet/Acemol-SP_Tablet0.jpg\n",
      "Dir name: Acemol-SP_Tablet\n",
      "Outpath: metaanalysis/Acemol-SP_Tablet/Acemol-SP_Tablet_3.json\n"
     ]
    },
    {
     "name": "stderr",
     "output_type": "stream",
     "text": [
      "100%|██████████| 14/14 [00:00<00:00, 32841.31it/s]\n"
     ]
    },
    {
     "name": "stdout",
     "output_type": "stream",
     "text": [
      "Image_path: ../images-115-max-keys-400/images/Acemol-SP_Tablet/Acemol-SP_Tablet0_gaussian_noise.jpg\n",
      "Dir name: Acemol-SP_Tablet\n",
      "Outpath: metaanalysis/Acemol-SP_Tablet/Acemol-SP_Tablet_4.json\n"
     ]
    },
    {
     "name": "stderr",
     "output_type": "stream",
     "text": [
      "100%|██████████| 10/10 [00:00<00:00, 5763.78it/s]\n"
     ]
    },
    {
     "name": "stdout",
     "output_type": "stream",
     "text": [
      "Dir: ../images-115-max-keys-400/images/Acemiz_-MR_Tablet\n",
      "Image_path: ../images-115-max-keys-400/images/Acemiz_-MR_Tablet/Acemiz_-MR_Tablet0_blur.jpg\n",
      "Dir name: Acemiz_-MR_Tablet\n",
      "Outpath: metaanalysis/Acemiz_-MR_Tablet/Acemiz_-MR_Tablet_1.json\n"
     ]
    },
    {
     "name": "stderr",
     "output_type": "stream",
     "text": [
      "100%|██████████| 6/6 [00:00<00:00, 5691.05it/s]\n"
     ]
    },
    {
     "name": "stdout",
     "output_type": "stream",
     "text": [
      "Image_path: ../images-115-max-keys-400/images/Acemiz_-MR_Tablet/Acemiz_-MR_Tablet1.jpg\n",
      "Dir name: Acemiz_-MR_Tablet\n",
      "Outpath: metaanalysis/Acemiz_-MR_Tablet/Acemiz_-MR_Tablet_2.json\n"
     ]
    },
    {
     "name": "stderr",
     "output_type": "stream",
     "text": [
      "100%|██████████| 107/107 [00:00<00:00, 21173.36it/s]\n"
     ]
    },
    {
     "name": "stdout",
     "output_type": "stream",
     "text": [
      "Image_path: ../images-115-max-keys-400/images/Acemiz_-MR_Tablet/Acemiz_-MR_Tablet0.jpg\n",
      "Dir name: Acemiz_-MR_Tablet\n",
      "Outpath: metaanalysis/Acemiz_-MR_Tablet/Acemiz_-MR_Tablet_3.json\n"
     ]
    },
    {
     "name": "stderr",
     "output_type": "stream",
     "text": [
      "100%|██████████| 7/7 [00:00<00:00, 5460.32it/s]\n"
     ]
    },
    {
     "name": "stdout",
     "output_type": "stream",
     "text": [
      "Image_path: ../images-115-max-keys-400/images/Acemiz_-MR_Tablet/Acemiz_-MR_Tablet2_blur.jpg\n",
      "Dir name: Acemiz_-MR_Tablet\n",
      "Outpath: metaanalysis/Acemiz_-MR_Tablet/Acemiz_-MR_Tablet_4.json\n"
     ]
    },
    {
     "name": "stderr",
     "output_type": "stream",
     "text": [
      "100%|██████████| 10/10 [00:00<00:00, 33770.56it/s]\n"
     ]
    },
    {
     "name": "stdout",
     "output_type": "stream",
     "text": [
      "Image_path: ../images-115-max-keys-400/images/Acemiz_-MR_Tablet/Acemiz_-MR_Tablet1_blur.jpg\n",
      "Dir name: Acemiz_-MR_Tablet\n",
      "Outpath: metaanalysis/Acemiz_-MR_Tablet/Acemiz_-MR_Tablet_5.json\n"
     ]
    },
    {
     "name": "stderr",
     "output_type": "stream",
     "text": [
      "100%|██████████| 16/16 [00:00<00:00, 10046.24it/s]\n"
     ]
    },
    {
     "name": "stdout",
     "output_type": "stream",
     "text": [
      "Image_path: ../images-115-max-keys-400/images/Acemiz_-MR_Tablet/Acemiz_-MR_Tablet1_gaussian_noise.jpg\n",
      "Dir name: Acemiz_-MR_Tablet\n",
      "Outpath: metaanalysis/Acemiz_-MR_Tablet/Acemiz_-MR_Tablet_6.json\n",
      "Image_path: ../images-115-max-keys-400/images/Acemiz_-MR_Tablet/Acemiz_-MR_Tablet2_rotated.jpg\n",
      "Dir name: Acemiz_-MR_Tablet\n",
      "Outpath: metaanalysis/Acemiz_-MR_Tablet/Acemiz_-MR_Tablet_7.json\n"
     ]
    },
    {
     "name": "stderr",
     "output_type": "stream",
     "text": [
      "100%|██████████| 29/29 [00:00<00:00, 11896.99it/s]\n"
     ]
    },
    {
     "name": "stdout",
     "output_type": "stream",
     "text": [
      "Image_path: ../images-115-max-keys-400/images/Acemiz_-MR_Tablet/Acemiz_-MR_Tablet0_gaussian_noise.jpg\n",
      "Dir name: Acemiz_-MR_Tablet\n",
      "Outpath: metaanalysis/Acemiz_-MR_Tablet/Acemiz_-MR_Tablet_8.json\n"
     ]
    },
    {
     "name": "stderr",
     "output_type": "stream",
     "text": [
      "100%|██████████| 1/1 [00:00<00:00, 1529.65it/s]\n"
     ]
    },
    {
     "name": "stdout",
     "output_type": "stream",
     "text": [
      "Image_path: ../images-115-max-keys-400/images/Acemiz_-MR_Tablet/Acemiz_-MR_Tablet2.jpg\n",
      "Dir name: Acemiz_-MR_Tablet\n",
      "Outpath: metaanalysis/Acemiz_-MR_Tablet/Acemiz_-MR_Tablet_9.json\n"
     ]
    },
    {
     "name": "stderr",
     "output_type": "stream",
     "text": [
      "100%|██████████| 52/52 [00:00<00:00, 12549.13it/s]\n"
     ]
    },
    {
     "name": "stdout",
     "output_type": "stream",
     "text": [
      "Image_path: ../images-115-max-keys-400/images/Acemiz_-MR_Tablet/Acemiz_-MR_Tablet2_gaussian_noise.jpg\n",
      "Dir name: Acemiz_-MR_Tablet\n",
      "Outpath: metaanalysis/Acemiz_-MR_Tablet/Acemiz_-MR_Tablet_10.json\n"
     ]
    },
    {
     "name": "stderr",
     "output_type": "stream",
     "text": [
      "100%|██████████| 1/1 [00:00<00:00, 1046.74it/s]\n"
     ]
    },
    {
     "name": "stdout",
     "output_type": "stream",
     "text": [
      "Image_path: ../images-115-max-keys-400/images/Acemiz_-MR_Tablet/Acemiz_-MR_Tablet0_rotated.jpg\n",
      "Dir name: Acemiz_-MR_Tablet\n",
      "Outpath: metaanalysis/Acemiz_-MR_Tablet/Acemiz_-MR_Tablet_11.json\n"
     ]
    },
    {
     "name": "stderr",
     "output_type": "stream",
     "text": [
      "100%|██████████| 6/6 [00:00<00:00, 4146.62it/s]\n"
     ]
    },
    {
     "name": "stdout",
     "output_type": "stream",
     "text": [
      "Image_path: ../images-115-max-keys-400/images/Acemiz_-MR_Tablet/Acemiz_-MR_Tablet1_rotated.jpg\n",
      "Dir name: Acemiz_-MR_Tablet\n",
      "Outpath: metaanalysis/Acemiz_-MR_Tablet/Acemiz_-MR_Tablet_12.json\n"
     ]
    },
    {
     "name": "stderr",
     "output_type": "stream",
     "text": [
      "100%|██████████| 72/72 [00:00<00:00, 45052.94it/s]\n"
     ]
    },
    {
     "name": "stdout",
     "output_type": "stream",
     "text": [
      "Dir: ../images-115-max-keys-400/images/AB-Flo_SR_Tablet\n",
      "Image_path: ../images-115-max-keys-400/images/AB-Flo_SR_Tablet/AB-Flo_SR_Tablet0_gaussian_noise.jpg\n",
      "Dir name: AB-Flo_SR_Tablet\n",
      "Outpath: metaanalysis/AB-Flo_SR_Tablet/AB-Flo_SR_Tablet_1.json\n"
     ]
    },
    {
     "name": "stderr",
     "output_type": "stream",
     "text": [
      "100%|██████████| 6/6 [00:00<00:00, 4214.67it/s]\n"
     ]
    },
    {
     "name": "stdout",
     "output_type": "stream",
     "text": [
      "Image_path: ../images-115-max-keys-400/images/AB-Flo_SR_Tablet/AB-Flo_SR_Tablet1_rotated.jpg\n",
      "Dir name: AB-Flo_SR_Tablet\n",
      "Outpath: metaanalysis/AB-Flo_SR_Tablet/AB-Flo_SR_Tablet_2.json\n"
     ]
    },
    {
     "name": "stderr",
     "output_type": "stream",
     "text": [
      "100%|██████████| 11/11 [00:00<00:00, 19183.93it/s]\n"
     ]
    },
    {
     "name": "stdout",
     "output_type": "stream",
     "text": [
      "Image_path: ../images-115-max-keys-400/images/AB-Flo_SR_Tablet/AB-Flo_SR_Tablet2_gaussian_noise.jpg\n",
      "Dir name: AB-Flo_SR_Tablet\n",
      "Outpath: metaanalysis/AB-Flo_SR_Tablet/AB-Flo_SR_Tablet_3.json\n"
     ]
    },
    {
     "name": "stderr",
     "output_type": "stream",
     "text": [
      "100%|██████████| 12/12 [00:00<00:00, 19065.02it/s]\n"
     ]
    },
    {
     "name": "stdout",
     "output_type": "stream",
     "text": [
      "Image_path: ../images-115-max-keys-400/images/AB-Flo_SR_Tablet/AB-Flo_SR_Tablet2_rotated.jpg\n",
      "Dir name: AB-Flo_SR_Tablet\n",
      "Outpath: metaanalysis/AB-Flo_SR_Tablet/AB-Flo_SR_Tablet_4.json\n"
     ]
    },
    {
     "name": "stderr",
     "output_type": "stream",
     "text": [
      "100%|██████████| 21/21 [00:00<00:00, 22197.68it/s]\n"
     ]
    },
    {
     "name": "stdout",
     "output_type": "stream",
     "text": [
      "Image_path: ../images-115-max-keys-400/images/AB-Flo_SR_Tablet/AB-Flo_SR_Tablet2.jpg\n",
      "Dir name: AB-Flo_SR_Tablet\n",
      "Outpath: metaanalysis/AB-Flo_SR_Tablet/AB-Flo_SR_Tablet_5.json\n"
     ]
    },
    {
     "name": "stderr",
     "output_type": "stream",
     "text": [
      "100%|██████████| 24/24 [00:00<00:00, 11296.52it/s]\n"
     ]
    },
    {
     "name": "stdout",
     "output_type": "stream",
     "text": [
      "Image_path: ../images-115-max-keys-400/images/AB-Flo_SR_Tablet/AB-Flo_SR_Tablet0_rotated.jpg\n",
      "Dir name: AB-Flo_SR_Tablet\n",
      "Outpath: metaanalysis/AB-Flo_SR_Tablet/AB-Flo_SR_Tablet_6.json\n"
     ]
    },
    {
     "name": "stderr",
     "output_type": "stream",
     "text": [
      "100%|██████████| 8/8 [00:00<00:00, 23317.88it/s]\n"
     ]
    },
    {
     "name": "stdout",
     "output_type": "stream",
     "text": [
      "Image_path: ../images-115-max-keys-400/images/AB-Flo_SR_Tablet/AB-Flo_SR_Tablet1_blur.jpg\n",
      "Dir name: AB-Flo_SR_Tablet\n",
      "Outpath: metaanalysis/AB-Flo_SR_Tablet/AB-Flo_SR_Tablet_7.json\n"
     ]
    },
    {
     "name": "stderr",
     "output_type": "stream",
     "text": [
      "100%|██████████| 9/9 [00:00<00:00, 14885.15it/s]\n"
     ]
    },
    {
     "name": "stdout",
     "output_type": "stream",
     "text": [
      "Image_path: ../images-115-max-keys-400/images/AB-Flo_SR_Tablet/AB-Flo_SR_Tablet0_blur.jpg\n",
      "Dir name: AB-Flo_SR_Tablet\n",
      "Outpath: metaanalysis/AB-Flo_SR_Tablet/AB-Flo_SR_Tablet_8.json\n"
     ]
    },
    {
     "name": "stderr",
     "output_type": "stream",
     "text": [
      "100%|██████████| 6/6 [00:00<00:00, 8927.22it/s]\n"
     ]
    },
    {
     "name": "stdout",
     "output_type": "stream",
     "text": [
      "Image_path: ../images-115-max-keys-400/images/AB-Flo_SR_Tablet/AB-Flo_SR_Tablet0.jpg\n",
      "Dir name: AB-Flo_SR_Tablet\n",
      "Outpath: metaanalysis/AB-Flo_SR_Tablet/AB-Flo_SR_Tablet_9.json\n"
     ]
    },
    {
     "name": "stderr",
     "output_type": "stream",
     "text": [
      "100%|██████████| 9/9 [00:00<00:00, 18604.60it/s]\n"
     ]
    },
    {
     "name": "stdout",
     "output_type": "stream",
     "text": [
      "Image_path: ../images-115-max-keys-400/images/AB-Flo_SR_Tablet/AB-Flo_SR_Tablet1.jpg\n",
      "Dir name: AB-Flo_SR_Tablet\n",
      "Outpath: metaanalysis/AB-Flo_SR_Tablet/AB-Flo_SR_Tablet_10.json\n"
     ]
    },
    {
     "name": "stderr",
     "output_type": "stream",
     "text": [
      "100%|██████████| 11/11 [00:00<00:00, 4345.61it/s]\n"
     ]
    },
    {
     "name": "stdout",
     "output_type": "stream",
     "text": [
      "Image_path: ../images-115-max-keys-400/images/AB-Flo_SR_Tablet/AB-Flo_SR_Tablet2_blur.jpg\n",
      "Dir name: AB-Flo_SR_Tablet\n",
      "Outpath: metaanalysis/AB-Flo_SR_Tablet/AB-Flo_SR_Tablet_11.json\n"
     ]
    },
    {
     "name": "stderr",
     "output_type": "stream",
     "text": [
      "100%|██████████| 12/12 [00:00<00:00, 6405.96it/s]\n"
     ]
    },
    {
     "name": "stdout",
     "output_type": "stream",
     "text": [
      "Image_path: ../images-115-max-keys-400/images/AB-Flo_SR_Tablet/AB-Flo_SR_Tablet1_gaussian_noise.jpg\n",
      "Dir name: AB-Flo_SR_Tablet\n",
      "Outpath: metaanalysis/AB-Flo_SR_Tablet/AB-Flo_SR_Tablet_12.json\n"
     ]
    },
    {
     "name": "stderr",
     "output_type": "stream",
     "text": [
      "100%|██████████| 9/9 [00:00<00:00, 14138.10it/s]\n"
     ]
    },
    {
     "name": "stdout",
     "output_type": "stream",
     "text": [
      "Dir: ../images-115-max-keys-400/images/Acetamide_250mg_Tablet\n",
      "Image_path: ../images-115-max-keys-400/images/Acetamide_250mg_Tablet/Acetamide_250mg_Tablet0_rotated.jpg\n",
      "Dir name: Acetamide_250mg_Tablet\n",
      "Outpath: metaanalysis/Acetamide_250mg_Tablet/Acetamide_250mg_Tablet_1.json\n"
     ]
    },
    {
     "name": "stderr",
     "output_type": "stream",
     "text": [
      "100%|██████████| 10/10 [00:00<00:00, 16526.02it/s]\n"
     ]
    },
    {
     "name": "stdout",
     "output_type": "stream",
     "text": [
      "Image_path: ../images-115-max-keys-400/images/Acetamide_250mg_Tablet/Acetamide_250mg_Tablet0_gaussian_noise.jpg\n",
      "Dir name: Acetamide_250mg_Tablet\n",
      "Outpath: metaanalysis/Acetamide_250mg_Tablet/Acetamide_250mg_Tablet_2.json\n"
     ]
    },
    {
     "name": "stderr",
     "output_type": "stream",
     "text": [
      "100%|██████████| 11/11 [00:00<00:00, 5599.87it/s]\n"
     ]
    },
    {
     "name": "stdout",
     "output_type": "stream",
     "text": [
      "Image_path: ../images-115-max-keys-400/images/Acetamide_250mg_Tablet/Acetamide_250mg_Tablet2_blur.jpg\n",
      "Dir name: Acetamide_250mg_Tablet\n",
      "Outpath: metaanalysis/Acetamide_250mg_Tablet/Acetamide_250mg_Tablet_3.json\n"
     ]
    },
    {
     "name": "stderr",
     "output_type": "stream",
     "text": [
      "100%|██████████| 50/50 [00:00<00:00, 29359.54it/s]\n"
     ]
    },
    {
     "name": "stdout",
     "output_type": "stream",
     "text": [
      "Image_path: ../images-115-max-keys-400/images/Acetamide_250mg_Tablet/Acetamide_250mg_Tablet2_rotated.jpg\n",
      "Dir name: Acetamide_250mg_Tablet\n",
      "Outpath: metaanalysis/Acetamide_250mg_Tablet/Acetamide_250mg_Tablet_4.json\n"
     ]
    },
    {
     "name": "stderr",
     "output_type": "stream",
     "text": [
      "100%|██████████| 49/49 [00:00<00:00, 48817.31it/s]\n"
     ]
    },
    {
     "name": "stdout",
     "output_type": "stream",
     "text": [
      "Image_path: ../images-115-max-keys-400/images/Acetamide_250mg_Tablet/Acetamide_250mg_Tablet1.jpg\n",
      "Dir name: Acetamide_250mg_Tablet\n",
      "Outpath: metaanalysis/Acetamide_250mg_Tablet/Acetamide_250mg_Tablet_5.json\n"
     ]
    },
    {
     "name": "stderr",
     "output_type": "stream",
     "text": [
      "100%|██████████| 15/15 [00:00<00:00, 10029.42it/s]\n"
     ]
    },
    {
     "name": "stdout",
     "output_type": "stream",
     "text": [
      "Image_path: ../images-115-max-keys-400/images/Acetamide_250mg_Tablet/Acetamide_250mg_Tablet0_blur.jpg\n",
      "Dir name: Acetamide_250mg_Tablet\n",
      "Outpath: metaanalysis/Acetamide_250mg_Tablet/Acetamide_250mg_Tablet_6.json\n"
     ]
    },
    {
     "name": "stderr",
     "output_type": "stream",
     "text": [
      "100%|██████████| 9/9 [00:00<00:00, 6544.51it/s]\n"
     ]
    },
    {
     "name": "stdout",
     "output_type": "stream",
     "text": [
      "Image_path: ../images-115-max-keys-400/images/Acetamide_250mg_Tablet/Acetamide_250mg_Tablet2.jpg\n",
      "Dir name: Acetamide_250mg_Tablet\n",
      "Outpath: metaanalysis/Acetamide_250mg_Tablet/Acetamide_250mg_Tablet_7.json\n"
     ]
    },
    {
     "name": "stderr",
     "output_type": "stream",
     "text": [
      "100%|██████████| 50/50 [00:00<00:00, 18795.05it/s]\n"
     ]
    },
    {
     "name": "stdout",
     "output_type": "stream",
     "text": [
      "Image_path: ../images-115-max-keys-400/images/Acetamide_250mg_Tablet/Acetamide_250mg_Tablet1_rotated.jpg\n",
      "Dir name: Acetamide_250mg_Tablet\n",
      "Outpath: metaanalysis/Acetamide_250mg_Tablet/Acetamide_250mg_Tablet_8.json\n"
     ]
    },
    {
     "name": "stderr",
     "output_type": "stream",
     "text": [
      "100%|██████████| 10/10 [00:00<00:00, 8791.25it/s]\n"
     ]
    },
    {
     "name": "stdout",
     "output_type": "stream",
     "text": [
      "Image_path: ../images-115-max-keys-400/images/Acetamide_250mg_Tablet/Acetamide_250mg_Tablet0.jpg\n",
      "Dir name: Acetamide_250mg_Tablet\n",
      "Outpath: metaanalysis/Acetamide_250mg_Tablet/Acetamide_250mg_Tablet_9.json\n"
     ]
    },
    {
     "name": "stderr",
     "output_type": "stream",
     "text": [
      "100%|██████████| 16/16 [00:00<00:00, 10588.33it/s]\n"
     ]
    },
    {
     "name": "stdout",
     "output_type": "stream",
     "text": [
      "Image_path: ../images-115-max-keys-400/images/Acetamide_250mg_Tablet/Acetamide_250mg_Tablet1_gaussian_noise.jpg\n",
      "Dir name: Acetamide_250mg_Tablet\n",
      "Outpath: metaanalysis/Acetamide_250mg_Tablet/Acetamide_250mg_Tablet_10.json\n"
     ]
    },
    {
     "name": "stderr",
     "output_type": "stream",
     "text": [
      "100%|██████████| 15/15 [00:00<00:00, 16795.13it/s]\n"
     ]
    },
    {
     "name": "stdout",
     "output_type": "stream",
     "text": [
      "Image_path: ../images-115-max-keys-400/images/Acetamide_250mg_Tablet/Acetamide_250mg_Tablet1_blur.jpg\n",
      "Dir name: Acetamide_250mg_Tablet\n",
      "Outpath: metaanalysis/Acetamide_250mg_Tablet/Acetamide_250mg_Tablet_11.json\n"
     ]
    },
    {
     "name": "stderr",
     "output_type": "stream",
     "text": [
      "100%|██████████| 15/15 [00:00<00:00, 34933.13it/s]\n"
     ]
    },
    {
     "name": "stdout",
     "output_type": "stream",
     "text": [
      "Image_path: ../images-115-max-keys-400/images/Acetamide_250mg_Tablet/Acetamide_250mg_Tablet2_gaussian_noise.jpg\n",
      "Dir name: Acetamide_250mg_Tablet\n",
      "Outpath: metaanalysis/Acetamide_250mg_Tablet/Acetamide_250mg_Tablet_12.json\n"
     ]
    },
    {
     "name": "stderr",
     "output_type": "stream",
     "text": [
      "100%|██████████| 49/49 [00:00<00:00, 25841.93it/s]\n"
     ]
    },
    {
     "name": "stdout",
     "output_type": "stream",
     "text": [
      "Dir: ../images-115-max-keys-400/images/AF_150_Tablet_DT\n",
      "Image_path: ../images-115-max-keys-400/images/AF_150_Tablet_DT/AF_150_Tablet_DT0_rotated.jpg\n",
      "Dir name: AF_150_Tablet_DT\n",
      "Outpath: metaanalysis/AF_150_Tablet_DT/AF_150_Tablet_DT_1.json\n"
     ]
    },
    {
     "name": "stderr",
     "output_type": "stream",
     "text": [
      "100%|██████████| 10/10 [00:00<00:00, 6662.91it/s]\n"
     ]
    },
    {
     "name": "stdout",
     "output_type": "stream",
     "text": [
      "Image_path: ../images-115-max-keys-400/images/AF_150_Tablet_DT/AF_150_Tablet_DT2_blur.jpg\n",
      "Dir name: AF_150_Tablet_DT\n",
      "Outpath: metaanalysis/AF_150_Tablet_DT/AF_150_Tablet_DT_2.json\n"
     ]
    },
    {
     "name": "stderr",
     "output_type": "stream",
     "text": [
      "100%|██████████| 5/5 [00:00<00:00, 4510.00it/s]\n"
     ]
    },
    {
     "name": "stdout",
     "output_type": "stream",
     "text": [
      "Image_path: ../images-115-max-keys-400/images/AF_150_Tablet_DT/AF_150_Tablet_DT0_blur.jpg\n",
      "Dir name: AF_150_Tablet_DT\n",
      "Outpath: metaanalysis/AF_150_Tablet_DT/AF_150_Tablet_DT_3.json\n"
     ]
    },
    {
     "name": "stderr",
     "output_type": "stream",
     "text": [
      "100%|██████████| 10/10 [00:00<00:00, 9337.28it/s]\n"
     ]
    },
    {
     "name": "stdout",
     "output_type": "stream",
     "text": [
      "Image_path: ../images-115-max-keys-400/images/AF_150_Tablet_DT/AF_150_Tablet_DT2_gaussian_noise.jpg\n",
      "Dir name: AF_150_Tablet_DT\n",
      "Outpath: metaanalysis/AF_150_Tablet_DT/AF_150_Tablet_DT_4.json\n"
     ]
    },
    {
     "name": "stderr",
     "output_type": "stream",
     "text": [
      "100%|██████████| 4/4 [00:00<00:00, 3029.47it/s]\n"
     ]
    },
    {
     "name": "stdout",
     "output_type": "stream",
     "text": [
      "Image_path: ../images-115-max-keys-400/images/AF_150_Tablet_DT/AF_150_Tablet_DT0_gaussian_noise.jpg\n",
      "Dir name: AF_150_Tablet_DT\n",
      "Outpath: metaanalysis/AF_150_Tablet_DT/AF_150_Tablet_DT_5.json\n"
     ]
    },
    {
     "name": "stderr",
     "output_type": "stream",
     "text": [
      "100%|██████████| 12/12 [00:00<00:00, 7098.96it/s]\n"
     ]
    },
    {
     "name": "stdout",
     "output_type": "stream",
     "text": [
      "Image_path: ../images-115-max-keys-400/images/AF_150_Tablet_DT/AF_150_Tablet_DT1_gaussian_noise.jpg\n",
      "Dir name: AF_150_Tablet_DT\n",
      "Outpath: metaanalysis/AF_150_Tablet_DT/AF_150_Tablet_DT_6.json\n"
     ]
    },
    {
     "name": "stderr",
     "output_type": "stream",
     "text": [
      "100%|██████████| 8/8 [00:00<00:00, 18236.10it/s]\n"
     ]
    },
    {
     "name": "stdout",
     "output_type": "stream",
     "text": [
      "Image_path: ../images-115-max-keys-400/images/AF_150_Tablet_DT/AF_150_Tablet_DT1_rotated.jpg\n",
      "Dir name: AF_150_Tablet_DT\n",
      "Outpath: metaanalysis/AF_150_Tablet_DT/AF_150_Tablet_DT_7.json\n"
     ]
    },
    {
     "name": "stderr",
     "output_type": "stream",
     "text": [
      "100%|██████████| 8/8 [00:00<00:00, 6089.73it/s]\n"
     ]
    },
    {
     "name": "stdout",
     "output_type": "stream",
     "text": [
      "Image_path: ../images-115-max-keys-400/images/AF_150_Tablet_DT/AF_150_Tablet_DT0.jpg\n",
      "Dir name: AF_150_Tablet_DT\n",
      "Outpath: metaanalysis/AF_150_Tablet_DT/AF_150_Tablet_DT_8.json\n"
     ]
    },
    {
     "name": "stderr",
     "output_type": "stream",
     "text": [
      "100%|██████████| 11/11 [00:00<00:00, 33676.89it/s]\n"
     ]
    },
    {
     "name": "stdout",
     "output_type": "stream",
     "text": [
      "Image_path: ../images-115-max-keys-400/images/AF_150_Tablet_DT/AF_150_Tablet_DT2_rotated.jpg\n",
      "Dir name: AF_150_Tablet_DT\n",
      "Outpath: metaanalysis/AF_150_Tablet_DT/AF_150_Tablet_DT_9.json\n"
     ]
    },
    {
     "name": "stderr",
     "output_type": "stream",
     "text": [
      "100%|██████████| 10/10 [00:00<00:00, 16844.59it/s]\n"
     ]
    },
    {
     "name": "stdout",
     "output_type": "stream",
     "text": [
      "Image_path: ../images-115-max-keys-400/images/AF_150_Tablet_DT/AF_150_Tablet_DT2.jpg\n",
      "Dir name: AF_150_Tablet_DT\n",
      "Outpath: metaanalysis/AF_150_Tablet_DT/AF_150_Tablet_DT_10.json\n"
     ]
    },
    {
     "name": "stderr",
     "output_type": "stream",
     "text": [
      "100%|██████████| 29/29 [00:00<00:00, 15357.93it/s]\n"
     ]
    },
    {
     "name": "stdout",
     "output_type": "stream",
     "text": [
      "Image_path: ../images-115-max-keys-400/images/AF_150_Tablet_DT/AF_150_Tablet_DT1_blur.jpg\n",
      "Dir name: AF_150_Tablet_DT\n",
      "Outpath: metaanalysis/AF_150_Tablet_DT/AF_150_Tablet_DT_11.json\n"
     ]
    },
    {
     "name": "stderr",
     "output_type": "stream",
     "text": [
      "100%|██████████| 7/7 [00:00<00:00, 4364.52it/s]\n"
     ]
    },
    {
     "name": "stdout",
     "output_type": "stream",
     "text": [
      "Image_path: ../images-115-max-keys-400/images/AF_150_Tablet_DT/AF_150_Tablet_DT1.jpg\n",
      "Dir name: AF_150_Tablet_DT\n",
      "Outpath: metaanalysis/AF_150_Tablet_DT/AF_150_Tablet_DT_12.json\n"
     ]
    },
    {
     "name": "stderr",
     "output_type": "stream",
     "text": [
      "100%|██████████| 9/9 [00:00<00:00, 6663.50it/s]\n"
     ]
    },
    {
     "name": "stdout",
     "output_type": "stream",
     "text": [
      "Dir: ../images-115-max-keys-400/images/Acendol-CR_Tablet\n",
      "Image_path: ../images-115-max-keys-400/images/Acendol-CR_Tablet/Acendol-CR_Tablet0_blur.jpg\n",
      "Dir name: Acendol-CR_Tablet\n",
      "Outpath: metaanalysis/Acendol-CR_Tablet/Acendol-CR_Tablet_1.json\n"
     ]
    },
    {
     "name": "stderr",
     "output_type": "stream",
     "text": [
      "100%|██████████| 17/17 [00:00<00:00, 31466.53it/s]\n"
     ]
    },
    {
     "name": "stdout",
     "output_type": "stream",
     "text": [
      "Image_path: ../images-115-max-keys-400/images/Acendol-CR_Tablet/Acendol-CR_Tablet0_gaussian_noise.jpg\n",
      "Dir name: Acendol-CR_Tablet\n",
      "Outpath: metaanalysis/Acendol-CR_Tablet/Acendol-CR_Tablet_2.json\n"
     ]
    },
    {
     "name": "stderr",
     "output_type": "stream",
     "text": [
      "100%|██████████| 14/14 [00:00<00:00, 13133.58it/s]\n"
     ]
    },
    {
     "name": "stdout",
     "output_type": "stream",
     "text": [
      "Image_path: ../images-115-max-keys-400/images/Acendol-CR_Tablet/Acendol-CR_Tablet0.jpg\n",
      "Dir name: Acendol-CR_Tablet\n",
      "Outpath: metaanalysis/Acendol-CR_Tablet/Acendol-CR_Tablet_3.json\n"
     ]
    },
    {
     "name": "stderr",
     "output_type": "stream",
     "text": [
      "100%|██████████| 34/34 [00:00<00:00, 30047.69it/s]\n"
     ]
    },
    {
     "name": "stdout",
     "output_type": "stream",
     "text": [
      "Image_path: ../images-115-max-keys-400/images/Acendol-CR_Tablet/Acendol-CR_Tablet0_rotated.jpg\n",
      "Dir name: Acendol-CR_Tablet\n",
      "Outpath: metaanalysis/Acendol-CR_Tablet/Acendol-CR_Tablet_4.json\n"
     ]
    },
    {
     "name": "stderr",
     "output_type": "stream",
     "text": [
      "100%|██████████| 27/27 [00:00<00:00, 34578.99it/s]\n"
     ]
    },
    {
     "name": "stdout",
     "output_type": "stream",
     "text": [
      "Dir: ../images-115-max-keys-400/images/Aceclan-TH_Tablet\n",
      "Image_path: ../images-115-max-keys-400/images/Aceclan-TH_Tablet/Aceclan-TH_Tablet1.jpg\n",
      "Dir name: Aceclan-TH_Tablet\n",
      "Outpath: metaanalysis/Aceclan-TH_Tablet/Aceclan-TH_Tablet_1.json\n"
     ]
    },
    {
     "name": "stderr",
     "output_type": "stream",
     "text": [
      "100%|██████████| 78/78 [00:00<00:00, 19535.18it/s]\n"
     ]
    },
    {
     "name": "stdout",
     "output_type": "stream",
     "text": [
      "Image_path: ../images-115-max-keys-400/images/Aceclan-TH_Tablet/Aceclan-TH_Tablet0.jpg\n",
      "Dir name: Aceclan-TH_Tablet\n",
      "Outpath: metaanalysis/Aceclan-TH_Tablet/Aceclan-TH_Tablet_2.json\n"
     ]
    },
    {
     "name": "stderr",
     "output_type": "stream",
     "text": [
      "100%|██████████| 5/5 [00:00<00:00, 20620.96it/s]\n"
     ]
    },
    {
     "name": "stdout",
     "output_type": "stream",
     "text": [
      "Image_path: ../images-115-max-keys-400/images/Aceclan-TH_Tablet/Aceclan-TH_Tablet1_rotated.jpg\n",
      "Dir name: Aceclan-TH_Tablet\n",
      "Outpath: metaanalysis/Aceclan-TH_Tablet/Aceclan-TH_Tablet_3.json\n"
     ]
    },
    {
     "name": "stderr",
     "output_type": "stream",
     "text": [
      "100%|██████████| 59/59 [00:00<00:00, 30683.69it/s]\n"
     ]
    },
    {
     "name": "stdout",
     "output_type": "stream",
     "text": [
      "Image_path: ../images-115-max-keys-400/images/Aceclan-TH_Tablet/Aceclan-TH_Tablet0_blur.jpg\n",
      "Dir name: Aceclan-TH_Tablet\n",
      "Outpath: metaanalysis/Aceclan-TH_Tablet/Aceclan-TH_Tablet_4.json\n"
     ]
    },
    {
     "name": "stderr",
     "output_type": "stream",
     "text": [
      "100%|██████████| 4/4 [00:00<00:00, 19761.15it/s]\n"
     ]
    },
    {
     "name": "stdout",
     "output_type": "stream",
     "text": [
      "Image_path: ../images-115-max-keys-400/images/Aceclan-TH_Tablet/Aceclan-TH_Tablet0_rotated.jpg\n",
      "Dir name: Aceclan-TH_Tablet\n",
      "Outpath: metaanalysis/Aceclan-TH_Tablet/Aceclan-TH_Tablet_5.json\n"
     ]
    },
    {
     "name": "stderr",
     "output_type": "stream",
     "text": [
      "100%|██████████| 5/5 [00:00<00:00, 7032.70it/s]\n"
     ]
    },
    {
     "name": "stdout",
     "output_type": "stream",
     "text": [
      "Image_path: ../images-115-max-keys-400/images/Aceclan-TH_Tablet/Aceclan-TH_Tablet0_gaussian_noise.jpg\n",
      "Dir name: Aceclan-TH_Tablet\n",
      "Outpath: metaanalysis/Aceclan-TH_Tablet/Aceclan-TH_Tablet_6.json\n"
     ]
    },
    {
     "name": "stderr",
     "output_type": "stream",
     "text": [
      "100%|██████████| 5/5 [00:00<00:00, 2695.91it/s]\n"
     ]
    },
    {
     "name": "stdout",
     "output_type": "stream",
     "text": [
      "Image_path: ../images-115-max-keys-400/images/Aceclan-TH_Tablet/Aceclan-TH_Tablet1_blur.jpg\n",
      "Dir name: Aceclan-TH_Tablet\n",
      "Outpath: metaanalysis/Aceclan-TH_Tablet/Aceclan-TH_Tablet_7.json\n"
     ]
    },
    {
     "name": "stderr",
     "output_type": "stream",
     "text": [
      "100%|██████████| 22/22 [00:00<00:00, 43018.50it/s]\n"
     ]
    },
    {
     "name": "stdout",
     "output_type": "stream",
     "text": [
      "Image_path: ../images-115-max-keys-400/images/Aceclan-TH_Tablet/Aceclan-TH_Tablet1_gaussian_noise.jpg\n",
      "Dir name: Aceclan-TH_Tablet\n",
      "Outpath: metaanalysis/Aceclan-TH_Tablet/Aceclan-TH_Tablet_8.json\n"
     ]
    },
    {
     "name": "stderr",
     "output_type": "stream",
     "text": [
      "100%|██████████| 40/40 [00:00<00:00, 28004.03it/s]\n"
     ]
    },
    {
     "name": "stdout",
     "output_type": "stream",
     "text": [
      "Dir: ../images-115-max-keys-400/images/AZR_Tablet\n",
      "Image_path: ../images-115-max-keys-400/images/AZR_Tablet/AZR_Tablet1.jpg\n",
      "Dir name: AZR_Tablet\n",
      "Outpath: metaanalysis/AZR_Tablet/AZR_Tablet_1.json\n"
     ]
    },
    {
     "name": "stderr",
     "output_type": "stream",
     "text": [
      "100%|██████████| 41/41 [00:00<00:00, 51104.45it/s]\n"
     ]
    },
    {
     "name": "stdout",
     "output_type": "stream",
     "text": [
      "Image_path: ../images-115-max-keys-400/images/AZR_Tablet/AZR_Tablet2_blur.jpg\n",
      "Dir name: AZR_Tablet\n",
      "Outpath: metaanalysis/AZR_Tablet/AZR_Tablet_2.json\n"
     ]
    },
    {
     "name": "stderr",
     "output_type": "stream",
     "text": [
      "100%|██████████| 5/5 [00:00<00:00, 3603.35it/s]\n"
     ]
    },
    {
     "name": "stdout",
     "output_type": "stream",
     "text": [
      "Image_path: ../images-115-max-keys-400/images/AZR_Tablet/AZR_Tablet2_rotated.jpg\n",
      "Dir name: AZR_Tablet\n",
      "Outpath: metaanalysis/AZR_Tablet/AZR_Tablet_3.json\n"
     ]
    },
    {
     "name": "stderr",
     "output_type": "stream",
     "text": [
      "100%|██████████| 5/5 [00:00<00:00, 8153.78it/s]\n"
     ]
    },
    {
     "name": "stdout",
     "output_type": "stream",
     "text": [
      "Image_path: ../images-115-max-keys-400/images/AZR_Tablet/AZR_Tablet0_gaussian_noise.jpg\n",
      "Dir name: AZR_Tablet\n",
      "Outpath: metaanalysis/AZR_Tablet/AZR_Tablet_4.json\n"
     ]
    },
    {
     "name": "stderr",
     "output_type": "stream",
     "text": [
      "100%|██████████| 13/13 [00:00<00:00, 26189.22it/s]\n"
     ]
    },
    {
     "name": "stdout",
     "output_type": "stream",
     "text": [
      "Image_path: ../images-115-max-keys-400/images/AZR_Tablet/AZR_Tablet0_rotated.jpg\n",
      "Dir name: AZR_Tablet\n",
      "Outpath: metaanalysis/AZR_Tablet/AZR_Tablet_5.json\n"
     ]
    },
    {
     "name": "stderr",
     "output_type": "stream",
     "text": [
      "100%|██████████| 14/14 [00:00<00:00, 26630.50it/s]\n"
     ]
    },
    {
     "name": "stdout",
     "output_type": "stream",
     "text": [
      "Image_path: ../images-115-max-keys-400/images/AZR_Tablet/AZR_Tablet1_rotated.jpg\n",
      "Dir name: AZR_Tablet\n",
      "Outpath: metaanalysis/AZR_Tablet/AZR_Tablet_6.json\n"
     ]
    },
    {
     "name": "stderr",
     "output_type": "stream",
     "text": [
      "100%|██████████| 41/41 [00:00<00:00, 10176.13it/s]\n"
     ]
    },
    {
     "name": "stdout",
     "output_type": "stream",
     "text": [
      "Image_path: ../images-115-max-keys-400/images/AZR_Tablet/AZR_Tablet1_gaussian_noise.jpg\n",
      "Dir name: AZR_Tablet\n",
      "Outpath: metaanalysis/AZR_Tablet/AZR_Tablet_7.json\n"
     ]
    },
    {
     "name": "stderr",
     "output_type": "stream",
     "text": [
      "100%|██████████| 41/41 [00:00<00:00, 14986.18it/s]\n"
     ]
    },
    {
     "name": "stdout",
     "output_type": "stream",
     "text": [
      "Image_path: ../images-115-max-keys-400/images/AZR_Tablet/AZR_Tablet1_blur.jpg\n",
      "Dir name: AZR_Tablet\n",
      "Outpath: metaanalysis/AZR_Tablet/AZR_Tablet_8.json\n"
     ]
    },
    {
     "name": "stderr",
     "output_type": "stream",
     "text": [
      "100%|██████████| 41/41 [00:00<00:00, 17684.75it/s]\n"
     ]
    },
    {
     "name": "stdout",
     "output_type": "stream",
     "text": [
      "Image_path: ../images-115-max-keys-400/images/AZR_Tablet/AZR_Tablet2.jpg\n",
      "Dir name: AZR_Tablet\n",
      "Outpath: metaanalysis/AZR_Tablet/AZR_Tablet_9.json\n"
     ]
    },
    {
     "name": "stderr",
     "output_type": "stream",
     "text": [
      "100%|██████████| 5/5 [00:00<00:00, 21312.52it/s]\n"
     ]
    },
    {
     "name": "stdout",
     "output_type": "stream",
     "text": [
      "Image_path: ../images-115-max-keys-400/images/AZR_Tablet/AZR_Tablet0.jpg\n",
      "Dir name: AZR_Tablet\n",
      "Outpath: metaanalysis/AZR_Tablet/AZR_Tablet_10.json\n"
     ]
    },
    {
     "name": "stderr",
     "output_type": "stream",
     "text": [
      "100%|██████████| 14/14 [00:00<00:00, 20178.78it/s]\n"
     ]
    },
    {
     "name": "stdout",
     "output_type": "stream",
     "text": [
      "Image_path: ../images-115-max-keys-400/images/AZR_Tablet/AZR_Tablet2_gaussian_noise.jpg\n",
      "Dir name: AZR_Tablet\n",
      "Outpath: metaanalysis/AZR_Tablet/AZR_Tablet_11.json\n"
     ]
    },
    {
     "name": "stderr",
     "output_type": "stream",
     "text": [
      "100%|██████████| 4/4 [00:00<00:00, 4545.44it/s]\n"
     ]
    },
    {
     "name": "stdout",
     "output_type": "stream",
     "text": [
      "Image_path: ../images-115-max-keys-400/images/AZR_Tablet/AZR_Tablet0_blur.jpg\n",
      "Dir name: AZR_Tablet\n",
      "Outpath: metaanalysis/AZR_Tablet/AZR_Tablet_12.json\n"
     ]
    },
    {
     "name": "stderr",
     "output_type": "stream",
     "text": [
      "100%|██████████| 14/14 [00:00<00:00, 34890.23it/s]\n"
     ]
    },
    {
     "name": "stdout",
     "output_type": "stream",
     "text": [
      "Dir: ../images-115-max-keys-400/images/Above_5_Tablet\n",
      "Image_path: ../images-115-max-keys-400/images/Above_5_Tablet/Above_5_Tablet0.jpg\n",
      "Dir name: Above_5_Tablet\n",
      "Outpath: metaanalysis/Above_5_Tablet/Above_5_Tablet_1.json\n"
     ]
    },
    {
     "name": "stderr",
     "output_type": "stream",
     "text": [
      "100%|██████████| 7/7 [00:00<00:00, 4492.06it/s]\n"
     ]
    },
    {
     "name": "stdout",
     "output_type": "stream",
     "text": [
      "Image_path: ../images-115-max-keys-400/images/Above_5_Tablet/Above_5_Tablet0_rotated.jpg\n",
      "Dir name: Above_5_Tablet\n",
      "Outpath: metaanalysis/Above_5_Tablet/Above_5_Tablet_2.json\n"
     ]
    },
    {
     "name": "stderr",
     "output_type": "stream",
     "text": [
      "100%|██████████| 8/8 [00:00<00:00, 15731.10it/s]\n"
     ]
    },
    {
     "name": "stdout",
     "output_type": "stream",
     "text": [
      "Image_path: ../images-115-max-keys-400/images/Above_5_Tablet/Above_5_Tablet1_gaussian_noise.jpg\n",
      "Dir name: Above_5_Tablet\n",
      "Outpath: metaanalysis/Above_5_Tablet/Above_5_Tablet_3.json\n"
     ]
    },
    {
     "name": "stderr",
     "output_type": "stream",
     "text": [
      "100%|██████████| 13/13 [00:00<00:00, 5675.06it/s]\n"
     ]
    },
    {
     "name": "stdout",
     "output_type": "stream",
     "text": [
      "Image_path: ../images-115-max-keys-400/images/Above_5_Tablet/Above_5_Tablet0_blur.jpg\n",
      "Dir name: Above_5_Tablet\n",
      "Outpath: metaanalysis/Above_5_Tablet/Above_5_Tablet_4.json\n"
     ]
    },
    {
     "name": "stderr",
     "output_type": "stream",
     "text": [
      "100%|██████████| 5/5 [00:00<00:00, 5616.37it/s]\n"
     ]
    },
    {
     "name": "stdout",
     "output_type": "stream",
     "text": [
      "Image_path: ../images-115-max-keys-400/images/Above_5_Tablet/Above_5_Tablet2_rotated.jpg\n",
      "Dir name: Above_5_Tablet\n",
      "Outpath: metaanalysis/Above_5_Tablet/Above_5_Tablet_5.json\n"
     ]
    },
    {
     "name": "stderr",
     "output_type": "stream",
     "text": [
      "100%|██████████| 9/9 [00:00<00:00, 30715.00it/s]\n"
     ]
    },
    {
     "name": "stdout",
     "output_type": "stream",
     "text": [
      "Image_path: ../images-115-max-keys-400/images/Above_5_Tablet/Above_5_Tablet0_gaussian_noise.jpg\n",
      "Dir name: Above_5_Tablet\n",
      "Outpath: metaanalysis/Above_5_Tablet/Above_5_Tablet_6.json\n"
     ]
    },
    {
     "name": "stderr",
     "output_type": "stream",
     "text": [
      "100%|██████████| 4/4 [00:00<00:00, 9962.72it/s]\n"
     ]
    },
    {
     "name": "stdout",
     "output_type": "stream",
     "text": [
      "Image_path: ../images-115-max-keys-400/images/Above_5_Tablet/Above_5_Tablet2.jpg\n",
      "Dir name: Above_5_Tablet\n",
      "Outpath: metaanalysis/Above_5_Tablet/Above_5_Tablet_7.json\n"
     ]
    },
    {
     "name": "stderr",
     "output_type": "stream",
     "text": [
      "100%|██████████| 17/17 [00:00<00:00, 19116.13it/s]\n"
     ]
    },
    {
     "name": "stdout",
     "output_type": "stream",
     "text": [
      "Image_path: ../images-115-max-keys-400/images/Above_5_Tablet/Above_5_Tablet1_rotated.jpg\n",
      "Dir name: Above_5_Tablet\n",
      "Outpath: metaanalysis/Above_5_Tablet/Above_5_Tablet_8.json\n"
     ]
    },
    {
     "name": "stderr",
     "output_type": "stream",
     "text": [
      "100%|██████████| 13/13 [00:00<00:00, 33472.04it/s]\n"
     ]
    },
    {
     "name": "stdout",
     "output_type": "stream",
     "text": [
      "Image_path: ../images-115-max-keys-400/images/Above_5_Tablet/Above_5_Tablet1.jpg\n",
      "Dir name: Above_5_Tablet\n",
      "Outpath: metaanalysis/Above_5_Tablet/Above_5_Tablet_9.json\n"
     ]
    },
    {
     "name": "stderr",
     "output_type": "stream",
     "text": [
      "100%|██████████| 13/13 [00:00<00:00, 4802.36it/s]\n"
     ]
    },
    {
     "name": "stdout",
     "output_type": "stream",
     "text": [
      "Image_path: ../images-115-max-keys-400/images/Above_5_Tablet/Above_5_Tablet2_gaussian_noise.jpg\n",
      "Dir name: Above_5_Tablet\n",
      "Outpath: metaanalysis/Above_5_Tablet/Above_5_Tablet_10.json\n"
     ]
    },
    {
     "name": "stderr",
     "output_type": "stream",
     "text": [
      "100%|██████████| 2/2 [00:00<00:00, 971.47it/s]\n"
     ]
    },
    {
     "name": "stdout",
     "output_type": "stream",
     "text": [
      "Image_path: ../images-115-max-keys-400/images/Above_5_Tablet/Above_5_Tablet1_blur.jpg\n",
      "Dir name: Above_5_Tablet\n",
      "Outpath: metaanalysis/Above_5_Tablet/Above_5_Tablet_11.json\n"
     ]
    },
    {
     "name": "stderr",
     "output_type": "stream",
     "text": [
      "100%|██████████| 8/8 [00:00<00:00, 5500.73it/s]\n"
     ]
    },
    {
     "name": "stdout",
     "output_type": "stream",
     "text": [
      "Image_path: ../images-115-max-keys-400/images/Above_5_Tablet/Above_5_Tablet2_blur.jpg\n",
      "Dir name: Above_5_Tablet\n",
      "Outpath: metaanalysis/Above_5_Tablet/Above_5_Tablet_12.json\n"
     ]
    },
    {
     "name": "stderr",
     "output_type": "stream",
     "text": [
      "100%|██████████| 2/2 [00:00<00:00, 2973.63it/s]\n"
     ]
    },
    {
     "name": "stdout",
     "output_type": "stream",
     "text": [
      "Dir: ../images-115-max-keys-400/images/Acenac-P__Tablet\n",
      "Image_path: ../images-115-max-keys-400/images/Acenac-P__Tablet/Acenac-P__Tablet2.jpg\n",
      "Dir name: Acenac-P__Tablet\n",
      "Outpath: metaanalysis/Acenac-P__Tablet/Acenac-P__Tablet_1.json\n"
     ]
    },
    {
     "name": "stderr",
     "output_type": "stream",
     "text": [
      "100%|██████████| 64/64 [00:00<00:00, 34712.98it/s]\n"
     ]
    },
    {
     "name": "stdout",
     "output_type": "stream",
     "text": [
      "Image_path: ../images-115-max-keys-400/images/Acenac-P__Tablet/Acenac-P__Tablet0_blur.jpg\n",
      "Dir name: Acenac-P__Tablet\n",
      "Outpath: metaanalysis/Acenac-P__Tablet/Acenac-P__Tablet_2.json\n"
     ]
    },
    {
     "name": "stderr",
     "output_type": "stream",
     "text": [
      "100%|██████████| 16/16 [00:00<00:00, 38326.02it/s]\n"
     ]
    },
    {
     "name": "stdout",
     "output_type": "stream",
     "text": [
      "Image_path: ../images-115-max-keys-400/images/Acenac-P__Tablet/Acenac-P__Tablet0_rotated.jpg\n",
      "Dir name: Acenac-P__Tablet\n",
      "Outpath: metaanalysis/Acenac-P__Tablet/Acenac-P__Tablet_3.json\n"
     ]
    },
    {
     "name": "stderr",
     "output_type": "stream",
     "text": [
      "100%|██████████| 20/20 [00:00<00:00, 8028.14it/s]\n"
     ]
    },
    {
     "name": "stdout",
     "output_type": "stream",
     "text": [
      "Image_path: ../images-115-max-keys-400/images/Acenac-P__Tablet/Acenac-P__Tablet2_gaussian_noise.jpg\n",
      "Dir name: Acenac-P__Tablet\n",
      "Outpath: metaanalysis/Acenac-P__Tablet/Acenac-P__Tablet_4.json\n"
     ]
    },
    {
     "name": "stderr",
     "output_type": "stream",
     "text": [
      "100%|██████████| 12/12 [00:00<00:00, 6781.41it/s]\n"
     ]
    },
    {
     "name": "stdout",
     "output_type": "stream",
     "text": [
      "Image_path: ../images-115-max-keys-400/images/Acenac-P__Tablet/Acenac-P__Tablet0.jpg\n",
      "Dir name: Acenac-P__Tablet\n",
      "Outpath: metaanalysis/Acenac-P__Tablet/Acenac-P__Tablet_5.json\n"
     ]
    },
    {
     "name": "stderr",
     "output_type": "stream",
     "text": [
      "100%|██████████| 58/58 [00:00<00:00, 38910.69it/s]\n"
     ]
    },
    {
     "name": "stdout",
     "output_type": "stream",
     "text": [
      "Image_path: ../images-115-max-keys-400/images/Acenac-P__Tablet/Acenac-P__Tablet2_blur.jpg\n",
      "Dir name: Acenac-P__Tablet\n",
      "Outpath: metaanalysis/Acenac-P__Tablet/Acenac-P__Tablet_6.json\n"
     ]
    },
    {
     "name": "stderr",
     "output_type": "stream",
     "text": [
      "100%|██████████| 14/14 [00:00<00:00, 7724.32it/s]\n"
     ]
    },
    {
     "name": "stdout",
     "output_type": "stream",
     "text": [
      "Image_path: ../images-115-max-keys-400/images/Acenac-P__Tablet/Acenac-P__Tablet1_rotated.jpg\n",
      "Dir name: Acenac-P__Tablet\n",
      "Outpath: metaanalysis/Acenac-P__Tablet/Acenac-P__Tablet_7.json\n",
      "Image_path: ../images-115-max-keys-400/images/Acenac-P__Tablet/Acenac-P__Tablet1_blur.jpg\n",
      "Dir name: Acenac-P__Tablet\n",
      "Outpath: metaanalysis/Acenac-P__Tablet/Acenac-P__Tablet_8.json\n",
      "Image_path: ../images-115-max-keys-400/images/Acenac-P__Tablet/Acenac-P__Tablet1_gaussian_noise.jpg\n",
      "Dir name: Acenac-P__Tablet\n",
      "Outpath: metaanalysis/Acenac-P__Tablet/Acenac-P__Tablet_9.json\n",
      "Image_path: ../images-115-max-keys-400/images/Acenac-P__Tablet/Acenac-P__Tablet0_gaussian_noise.jpg\n",
      "Dir name: Acenac-P__Tablet\n",
      "Outpath: metaanalysis/Acenac-P__Tablet/Acenac-P__Tablet_10.json\n"
     ]
    },
    {
     "name": "stderr",
     "output_type": "stream",
     "text": [
      "100%|██████████| 9/9 [00:00<00:00, 7420.63it/s]\n"
     ]
    },
    {
     "name": "stdout",
     "output_type": "stream",
     "text": [
      "Image_path: ../images-115-max-keys-400/images/Acenac-P__Tablet/Acenac-P__Tablet2_rotated.jpg\n",
      "Dir name: Acenac-P__Tablet\n",
      "Outpath: metaanalysis/Acenac-P__Tablet/Acenac-P__Tablet_11.json\n"
     ]
    },
    {
     "name": "stderr",
     "output_type": "stream",
     "text": [
      "100%|██████████| 14/14 [00:00<00:00, 9211.02it/s]\n"
     ]
    },
    {
     "name": "stdout",
     "output_type": "stream",
     "text": [
      "Image_path: ../images-115-max-keys-400/images/Acenac-P__Tablet/Acenac-P__Tablet1.jpg\n",
      "Dir name: Acenac-P__Tablet\n",
      "Outpath: metaanalysis/Acenac-P__Tablet/Acenac-P__Tablet_12.json\n",
      "Dir: ../images-115-max-keys-400/images/Aceclo-MR_Tablet\n",
      "Image_path: ../images-115-max-keys-400/images/Aceclo-MR_Tablet/Aceclo-MR_Tablet0_gaussian_noise.jpg\n",
      "Dir name: Aceclo-MR_Tablet\n",
      "Outpath: metaanalysis/Aceclo-MR_Tablet/Aceclo-MR_Tablet_1.json\n"
     ]
    },
    {
     "name": "stderr",
     "output_type": "stream",
     "text": [
      "100%|██████████| 3/3 [00:00<00:00, 2448.99it/s]\n"
     ]
    },
    {
     "name": "stdout",
     "output_type": "stream",
     "text": [
      "Image_path: ../images-115-max-keys-400/images/Aceclo-MR_Tablet/Aceclo-MR_Tablet1_blur.jpg\n",
      "Dir name: Aceclo-MR_Tablet\n",
      "Outpath: metaanalysis/Aceclo-MR_Tablet/Aceclo-MR_Tablet_2.json\n"
     ]
    },
    {
     "name": "stderr",
     "output_type": "stream",
     "text": [
      "100%|██████████| 9/9 [00:00<00:00, 13924.28it/s]\n"
     ]
    },
    {
     "name": "stdout",
     "output_type": "stream",
     "text": [
      "Image_path: ../images-115-max-keys-400/images/Aceclo-MR_Tablet/Aceclo-MR_Tablet0_rotated.jpg\n",
      "Dir name: Aceclo-MR_Tablet\n",
      "Outpath: metaanalysis/Aceclo-MR_Tablet/Aceclo-MR_Tablet_3.json\n"
     ]
    },
    {
     "name": "stderr",
     "output_type": "stream",
     "text": [
      "100%|██████████| 7/7 [00:00<00:00, 10452.16it/s]\n"
     ]
    },
    {
     "name": "stdout",
     "output_type": "stream",
     "text": [
      "Image_path: ../images-115-max-keys-400/images/Aceclo-MR_Tablet/Aceclo-MR_Tablet0.jpg\n",
      "Dir name: Aceclo-MR_Tablet\n",
      "Outpath: metaanalysis/Aceclo-MR_Tablet/Aceclo-MR_Tablet_4.json\n"
     ]
    },
    {
     "name": "stderr",
     "output_type": "stream",
     "text": [
      "100%|██████████| 8/8 [00:00<00:00, 32388.45it/s]\n"
     ]
    },
    {
     "name": "stdout",
     "output_type": "stream",
     "text": [
      "Image_path: ../images-115-max-keys-400/images/Aceclo-MR_Tablet/Aceclo-MR_Tablet2_gaussian_noise.jpg\n",
      "Dir name: Aceclo-MR_Tablet\n",
      "Outpath: metaanalysis/Aceclo-MR_Tablet/Aceclo-MR_Tablet_5.json\n"
     ]
    },
    {
     "name": "stderr",
     "output_type": "stream",
     "text": [
      "100%|██████████| 52/52 [00:00<00:00, 14212.42it/s]\n"
     ]
    },
    {
     "name": "stdout",
     "output_type": "stream",
     "text": [
      "Image_path: ../images-115-max-keys-400/images/Aceclo-MR_Tablet/Aceclo-MR_Tablet2_rotated.jpg\n",
      "Dir name: Aceclo-MR_Tablet\n",
      "Outpath: metaanalysis/Aceclo-MR_Tablet/Aceclo-MR_Tablet_6.json\n"
     ]
    },
    {
     "name": "stderr",
     "output_type": "stream",
     "text": [
      "100%|██████████| 81/81 [00:00<00:00, 32175.27it/s]\n"
     ]
    },
    {
     "name": "stdout",
     "output_type": "stream",
     "text": [
      "Image_path: ../images-115-max-keys-400/images/Aceclo-MR_Tablet/Aceclo-MR_Tablet1_gaussian_noise.jpg\n",
      "Dir name: Aceclo-MR_Tablet\n",
      "Outpath: metaanalysis/Aceclo-MR_Tablet/Aceclo-MR_Tablet_7.json\n"
     ]
    },
    {
     "name": "stderr",
     "output_type": "stream",
     "text": [
      "100%|██████████| 8/8 [00:00<00:00, 29254.08it/s]\n"
     ]
    },
    {
     "name": "stdout",
     "output_type": "stream",
     "text": [
      "Image_path: ../images-115-max-keys-400/images/Aceclo-MR_Tablet/Aceclo-MR_Tablet0_blur.jpg\n",
      "Dir name: Aceclo-MR_Tablet\n",
      "Outpath: metaanalysis/Aceclo-MR_Tablet/Aceclo-MR_Tablet_8.json\n"
     ]
    },
    {
     "name": "stderr",
     "output_type": "stream",
     "text": [
      "100%|██████████| 8/8 [00:00<00:00, 6713.57it/s]\n"
     ]
    },
    {
     "name": "stdout",
     "output_type": "stream",
     "text": [
      "Image_path: ../images-115-max-keys-400/images/Aceclo-MR_Tablet/Aceclo-MR_Tablet2_blur.jpg\n",
      "Dir name: Aceclo-MR_Tablet\n",
      "Outpath: metaanalysis/Aceclo-MR_Tablet/Aceclo-MR_Tablet_9.json\n"
     ]
    },
    {
     "name": "stderr",
     "output_type": "stream",
     "text": [
      "100%|██████████| 38/38 [00:00<00:00, 16736.70it/s]\n"
     ]
    },
    {
     "name": "stdout",
     "output_type": "stream",
     "text": [
      "Image_path: ../images-115-max-keys-400/images/Aceclo-MR_Tablet/Aceclo-MR_Tablet2.jpg\n",
      "Dir name: Aceclo-MR_Tablet\n",
      "Outpath: metaanalysis/Aceclo-MR_Tablet/Aceclo-MR_Tablet_10.json\n"
     ]
    },
    {
     "name": "stderr",
     "output_type": "stream",
     "text": [
      "100%|██████████| 91/91 [00:00<00:00, 13393.28it/s]\n"
     ]
    },
    {
     "name": "stdout",
     "output_type": "stream",
     "text": [
      "Image_path: ../images-115-max-keys-400/images/Aceclo-MR_Tablet/Aceclo-MR_Tablet1_rotated.jpg\n",
      "Dir name: Aceclo-MR_Tablet\n",
      "Outpath: metaanalysis/Aceclo-MR_Tablet/Aceclo-MR_Tablet_11.json\n"
     ]
    },
    {
     "name": "stderr",
     "output_type": "stream",
     "text": [
      "100%|██████████| 11/11 [00:00<00:00, 21579.67it/s]\n"
     ]
    },
    {
     "name": "stdout",
     "output_type": "stream",
     "text": [
      "Image_path: ../images-115-max-keys-400/images/Aceclo-MR_Tablet/Aceclo-MR_Tablet1.jpg\n",
      "Dir name: Aceclo-MR_Tablet\n",
      "Outpath: metaanalysis/Aceclo-MR_Tablet/Aceclo-MR_Tablet_12.json\n"
     ]
    },
    {
     "name": "stderr",
     "output_type": "stream",
     "text": [
      "100%|██████████| 12/12 [00:00<00:00, 33420.75it/s]\n"
     ]
    },
    {
     "name": "stdout",
     "output_type": "stream",
     "text": [
      "Dir: ../images-115-max-keys-400/images/Aceclo_Plus_Tablet\n",
      "Image_path: ../images-115-max-keys-400/images/Aceclo_Plus_Tablet/Aceclo_Plus_Tablet1_gaussian_noise.jpg\n",
      "Dir name: Aceclo_Plus_Tablet\n",
      "Outpath: metaanalysis/Aceclo_Plus_Tablet/Aceclo_Plus_Tablet_1.json\n"
     ]
    },
    {
     "name": "stderr",
     "output_type": "stream",
     "text": [
      "100%|██████████| 7/7 [00:00<00:00, 5455.24it/s]\n"
     ]
    },
    {
     "name": "stdout",
     "output_type": "stream",
     "text": [
      "Image_path: ../images-115-max-keys-400/images/Aceclo_Plus_Tablet/Aceclo_Plus_Tablet1.jpg\n",
      "Dir name: Aceclo_Plus_Tablet\n",
      "Outpath: metaanalysis/Aceclo_Plus_Tablet/Aceclo_Plus_Tablet_2.json\n"
     ]
    },
    {
     "name": "stderr",
     "output_type": "stream",
     "text": [
      "100%|██████████| 14/14 [00:00<00:00, 13694.09it/s]\n"
     ]
    },
    {
     "name": "stdout",
     "output_type": "stream",
     "text": [
      "Image_path: ../images-115-max-keys-400/images/Aceclo_Plus_Tablet/Aceclo_Plus_Tablet1_rotated.jpg\n",
      "Dir name: Aceclo_Plus_Tablet\n",
      "Outpath: metaanalysis/Aceclo_Plus_Tablet/Aceclo_Plus_Tablet_3.json\n"
     ]
    },
    {
     "name": "stderr",
     "output_type": "stream",
     "text": [
      "100%|██████████| 7/7 [00:00<00:00, 14135.83it/s]\n"
     ]
    },
    {
     "name": "stdout",
     "output_type": "stream",
     "text": [
      "Image_path: ../images-115-max-keys-400/images/Aceclo_Plus_Tablet/Aceclo_Plus_Tablet0.jpg\n",
      "Dir name: Aceclo_Plus_Tablet\n",
      "Outpath: metaanalysis/Aceclo_Plus_Tablet/Aceclo_Plus_Tablet_4.json\n"
     ]
    },
    {
     "name": "stderr",
     "output_type": "stream",
     "text": [
      "100%|██████████| 7/7 [00:00<00:00, 5036.04it/s]\n"
     ]
    },
    {
     "name": "stdout",
     "output_type": "stream",
     "text": [
      "Image_path: ../images-115-max-keys-400/images/Aceclo_Plus_Tablet/Aceclo_Plus_Tablet2_rotated.jpg\n",
      "Dir name: Aceclo_Plus_Tablet\n",
      "Outpath: metaanalysis/Aceclo_Plus_Tablet/Aceclo_Plus_Tablet_5.json\n"
     ]
    },
    {
     "name": "stderr",
     "output_type": "stream",
     "text": [
      "100%|██████████| 87/87 [00:00<00:00, 77937.73it/s]\n"
     ]
    },
    {
     "name": "stdout",
     "output_type": "stream",
     "text": [
      "Image_path: ../images-115-max-keys-400/images/Aceclo_Plus_Tablet/Aceclo_Plus_Tablet0_blur.jpg\n",
      "Dir name: Aceclo_Plus_Tablet\n",
      "Outpath: metaanalysis/Aceclo_Plus_Tablet/Aceclo_Plus_Tablet_6.json\n"
     ]
    },
    {
     "name": "stderr",
     "output_type": "stream",
     "text": [
      "100%|██████████| 4/4 [00:00<00:00, 4373.62it/s]\n"
     ]
    },
    {
     "name": "stdout",
     "output_type": "stream",
     "text": [
      "Image_path: ../images-115-max-keys-400/images/Aceclo_Plus_Tablet/Aceclo_Plus_Tablet0_gaussian_noise.jpg\n",
      "Dir name: Aceclo_Plus_Tablet\n",
      "Outpath: metaanalysis/Aceclo_Plus_Tablet/Aceclo_Plus_Tablet_7.json\n"
     ]
    },
    {
     "name": "stderr",
     "output_type": "stream",
     "text": [
      "100%|██████████| 2/2 [00:00<00:00, 1358.70it/s]\n"
     ]
    },
    {
     "name": "stdout",
     "output_type": "stream",
     "text": [
      "Image_path: ../images-115-max-keys-400/images/Aceclo_Plus_Tablet/Aceclo_Plus_Tablet2_blur.jpg\n",
      "Dir name: Aceclo_Plus_Tablet\n",
      "Outpath: metaanalysis/Aceclo_Plus_Tablet/Aceclo_Plus_Tablet_8.json\n"
     ]
    },
    {
     "name": "stderr",
     "output_type": "stream",
     "text": [
      "100%|██████████| 90/90 [00:00<00:00, 19258.58it/s]\n"
     ]
    },
    {
     "name": "stdout",
     "output_type": "stream",
     "text": [
      "Image_path: ../images-115-max-keys-400/images/Aceclo_Plus_Tablet/Aceclo_Plus_Tablet0_rotated.jpg\n",
      "Dir name: Aceclo_Plus_Tablet\n",
      "Outpath: metaanalysis/Aceclo_Plus_Tablet/Aceclo_Plus_Tablet_9.json\n"
     ]
    },
    {
     "name": "stderr",
     "output_type": "stream",
     "text": [
      "100%|██████████| 3/3 [00:00<00:00, 3958.14it/s]\n"
     ]
    },
    {
     "name": "stdout",
     "output_type": "stream",
     "text": [
      "Image_path: ../images-115-max-keys-400/images/Aceclo_Plus_Tablet/Aceclo_Plus_Tablet1_blur.jpg\n",
      "Dir name: Aceclo_Plus_Tablet\n",
      "Outpath: metaanalysis/Aceclo_Plus_Tablet/Aceclo_Plus_Tablet_10.json\n"
     ]
    },
    {
     "name": "stderr",
     "output_type": "stream",
     "text": [
      "100%|██████████| 9/9 [00:00<00:00, 12450.11it/s]\n"
     ]
    },
    {
     "name": "stdout",
     "output_type": "stream",
     "text": [
      "Image_path: ../images-115-max-keys-400/images/Aceclo_Plus_Tablet/Aceclo_Plus_Tablet2_gaussian_noise.jpg\n",
      "Dir name: Aceclo_Plus_Tablet\n",
      "Outpath: metaanalysis/Aceclo_Plus_Tablet/Aceclo_Plus_Tablet_11.json\n"
     ]
    },
    {
     "name": "stderr",
     "output_type": "stream",
     "text": [
      "100%|██████████| 66/66 [00:00<00:00, 31775.03it/s]\n"
     ]
    },
    {
     "name": "stdout",
     "output_type": "stream",
     "text": [
      "Image_path: ../images-115-max-keys-400/images/Aceclo_Plus_Tablet/Aceclo_Plus_Tablet2.jpg\n",
      "Dir name: Aceclo_Plus_Tablet\n",
      "Outpath: metaanalysis/Aceclo_Plus_Tablet/Aceclo_Plus_Tablet_12.json\n"
     ]
    },
    {
     "name": "stderr",
     "output_type": "stream",
     "text": [
      "100%|██████████| 88/88 [00:00<00:00, 52213.72it/s]\n"
     ]
    },
    {
     "name": "stdout",
     "output_type": "stream",
     "text": [
      "Dir: ../images-115-max-keys-400/images/Aceret_25_Capsule\n",
      "Image_path: ../images-115-max-keys-400/images/Aceret_25_Capsule/Aceret_25_Capsule0_rotated.jpg\n",
      "Dir name: Aceret_25_Capsule\n",
      "Outpath: metaanalysis/Aceret_25_Capsule/Aceret_25_Capsule_1.json\n"
     ]
    },
    {
     "name": "stderr",
     "output_type": "stream",
     "text": [
      "100%|██████████| 10/10 [00:00<00:00, 10106.76it/s]\n"
     ]
    },
    {
     "name": "stdout",
     "output_type": "stream",
     "text": [
      "Image_path: ../images-115-max-keys-400/images/Aceret_25_Capsule/Aceret_25_Capsule2_rotated.jpg\n",
      "Dir name: Aceret_25_Capsule\n",
      "Outpath: metaanalysis/Aceret_25_Capsule/Aceret_25_Capsule_2.json\n"
     ]
    },
    {
     "name": "stderr",
     "output_type": "stream",
     "text": [
      "100%|██████████| 2/2 [00:00<00:00, 4385.05it/s]\n"
     ]
    },
    {
     "name": "stdout",
     "output_type": "stream",
     "text": [
      "Image_path: ../images-115-max-keys-400/images/Aceret_25_Capsule/Aceret_25_Capsule0_gaussian_noise.jpg\n",
      "Dir name: Aceret_25_Capsule\n",
      "Outpath: metaanalysis/Aceret_25_Capsule/Aceret_25_Capsule_3.json\n"
     ]
    },
    {
     "name": "stderr",
     "output_type": "stream",
     "text": [
      "100%|██████████| 10/10 [00:00<00:00, 14857.61it/s]\n"
     ]
    },
    {
     "name": "stdout",
     "output_type": "stream",
     "text": [
      "Image_path: ../images-115-max-keys-400/images/Aceret_25_Capsule/Aceret_25_Capsule1_rotated.jpg\n",
      "Dir name: Aceret_25_Capsule\n",
      "Outpath: metaanalysis/Aceret_25_Capsule/Aceret_25_Capsule_4.json\n"
     ]
    },
    {
     "name": "stderr",
     "output_type": "stream",
     "text": [
      "100%|██████████| 102/102 [00:00<00:00, 40182.12it/s]\n"
     ]
    },
    {
     "name": "stdout",
     "output_type": "stream",
     "text": [
      "Image_path: ../images-115-max-keys-400/images/Aceret_25_Capsule/Aceret_25_Capsule2_blur.jpg\n",
      "Dir name: Aceret_25_Capsule\n",
      "Outpath: metaanalysis/Aceret_25_Capsule/Aceret_25_Capsule_5.json\n"
     ]
    },
    {
     "name": "stderr",
     "output_type": "stream",
     "text": [
      "100%|██████████| 1/1 [00:00<00:00, 1548.86it/s]\n"
     ]
    },
    {
     "name": "stdout",
     "output_type": "stream",
     "text": [
      "Image_path: ../images-115-max-keys-400/images/Aceret_25_Capsule/Aceret_25_Capsule1_gaussian_noise.jpg\n",
      "Dir name: Aceret_25_Capsule\n",
      "Outpath: metaanalysis/Aceret_25_Capsule/Aceret_25_Capsule_6.json\n"
     ]
    },
    {
     "name": "stderr",
     "output_type": "stream",
     "text": [
      "100%|██████████| 99/99 [00:00<00:00, 15668.70it/s]\n"
     ]
    },
    {
     "name": "stdout",
     "output_type": "stream",
     "text": [
      "Image_path: ../images-115-max-keys-400/images/Aceret_25_Capsule/Aceret_25_Capsule1_blur.jpg\n",
      "Dir name: Aceret_25_Capsule\n",
      "Outpath: metaanalysis/Aceret_25_Capsule/Aceret_25_Capsule_7.json\n"
     ]
    },
    {
     "name": "stderr",
     "output_type": "stream",
     "text": [
      "100%|██████████| 69/69 [00:00<00:00, 25661.20it/s]\n"
     ]
    },
    {
     "name": "stdout",
     "output_type": "stream",
     "text": [
      "Image_path: ../images-115-max-keys-400/images/Aceret_25_Capsule/Aceret_25_Capsule2.jpg\n",
      "Dir name: Aceret_25_Capsule\n",
      "Outpath: metaanalysis/Aceret_25_Capsule/Aceret_25_Capsule_8.json\n"
     ]
    },
    {
     "name": "stderr",
     "output_type": "stream",
     "text": [
      "100%|██████████| 1/1 [00:00<00:00, 4025.24it/s]\n"
     ]
    },
    {
     "name": "stdout",
     "output_type": "stream",
     "text": [
      "Image_path: ../images-115-max-keys-400/images/Aceret_25_Capsule/Aceret_25_Capsule2_gaussian_noise.jpg\n",
      "Dir name: Aceret_25_Capsule\n",
      "Outpath: metaanalysis/Aceret_25_Capsule/Aceret_25_Capsule_9.json\n",
      "Image_path: ../images-115-max-keys-400/images/Aceret_25_Capsule/Aceret_25_Capsule0_blur.jpg\n",
      "Dir name: Aceret_25_Capsule\n",
      "Outpath: metaanalysis/Aceret_25_Capsule/Aceret_25_Capsule_10.json\n"
     ]
    },
    {
     "name": "stderr",
     "output_type": "stream",
     "text": [
      "100%|██████████| 10/10 [00:00<00:00, 8929.75it/s]\n"
     ]
    },
    {
     "name": "stdout",
     "output_type": "stream",
     "text": [
      "Image_path: ../images-115-max-keys-400/images/Aceret_25_Capsule/Aceret_25_Capsule0.jpg\n",
      "Dir name: Aceret_25_Capsule\n",
      "Outpath: metaanalysis/Aceret_25_Capsule/Aceret_25_Capsule_11.json\n"
     ]
    },
    {
     "name": "stderr",
     "output_type": "stream",
     "text": [
      "100%|██████████| 10/10 [00:00<00:00, 6081.35it/s]\n"
     ]
    },
    {
     "name": "stdout",
     "output_type": "stream",
     "text": [
      "Image_path: ../images-115-max-keys-400/images/Aceret_25_Capsule/Aceret_25_Capsule1.jpg\n",
      "Dir name: Aceret_25_Capsule\n",
      "Outpath: metaanalysis/Aceret_25_Capsule/Aceret_25_Capsule_12.json\n"
     ]
    },
    {
     "name": "stderr",
     "output_type": "stream",
     "text": [
      "100%|██████████| 110/110 [00:00<00:00, 16923.06it/s]\n"
     ]
    },
    {
     "name": "stdout",
     "output_type": "stream",
     "text": [
      "Dir: ../images-115-max-keys-400/images/ABfol_Tablet\n",
      "Image_path: ../images-115-max-keys-400/images/ABfol_Tablet/ABfol_Tablet1_gaussian_noise.jpg\n",
      "Dir name: ABfol_Tablet\n",
      "Outpath: metaanalysis/ABfol_Tablet/ABfol_Tablet_1.json\n"
     ]
    },
    {
     "name": "stderr",
     "output_type": "stream",
     "text": [
      "100%|██████████| 10/10 [00:00<00:00, 17924.38it/s]\n"
     ]
    },
    {
     "name": "stdout",
     "output_type": "stream",
     "text": [
      "Image_path: ../images-115-max-keys-400/images/ABfol_Tablet/ABfol_Tablet0.jpg\n",
      "Dir name: ABfol_Tablet\n",
      "Outpath: metaanalysis/ABfol_Tablet/ABfol_Tablet_2.json\n"
     ]
    },
    {
     "name": "stderr",
     "output_type": "stream",
     "text": [
      "100%|██████████| 7/7 [00:00<00:00, 13382.01it/s]\n"
     ]
    },
    {
     "name": "stdout",
     "output_type": "stream",
     "text": [
      "Image_path: ../images-115-max-keys-400/images/ABfol_Tablet/ABfol_Tablet1.jpg\n",
      "Dir name: ABfol_Tablet\n",
      "Outpath: metaanalysis/ABfol_Tablet/ABfol_Tablet_3.json\n"
     ]
    },
    {
     "name": "stderr",
     "output_type": "stream",
     "text": [
      "100%|██████████| 23/23 [00:00<00:00, 35041.41it/s]\n"
     ]
    },
    {
     "name": "stdout",
     "output_type": "stream",
     "text": [
      "Image_path: ../images-115-max-keys-400/images/ABfol_Tablet/ABfol_Tablet0_gaussian_noise.jpg\n",
      "Dir name: ABfol_Tablet\n",
      "Outpath: metaanalysis/ABfol_Tablet/ABfol_Tablet_4.json\n"
     ]
    },
    {
     "name": "stderr",
     "output_type": "stream",
     "text": [
      "100%|██████████| 6/6 [00:00<00:00, 7300.79it/s]\n"
     ]
    },
    {
     "name": "stdout",
     "output_type": "stream",
     "text": [
      "Image_path: ../images-115-max-keys-400/images/ABfol_Tablet/ABfol_Tablet0_blur.jpg\n",
      "Dir name: ABfol_Tablet\n",
      "Outpath: metaanalysis/ABfol_Tablet/ABfol_Tablet_5.json\n"
     ]
    },
    {
     "name": "stderr",
     "output_type": "stream",
     "text": [
      "100%|██████████| 7/7 [00:00<00:00, 21604.21it/s]\n"
     ]
    },
    {
     "name": "stdout",
     "output_type": "stream",
     "text": [
      "Image_path: ../images-115-max-keys-400/images/ABfol_Tablet/ABfol_Tablet1_blur.jpg\n",
      "Dir name: ABfol_Tablet\n",
      "Outpath: metaanalysis/ABfol_Tablet/ABfol_Tablet_6.json\n"
     ]
    },
    {
     "name": "stderr",
     "output_type": "stream",
     "text": [
      "100%|██████████| 4/4 [00:00<00:00, 10155.70it/s]\n"
     ]
    },
    {
     "name": "stdout",
     "output_type": "stream",
     "text": [
      "Image_path: ../images-115-max-keys-400/images/ABfol_Tablet/ABfol_Tablet0_rotated.jpg\n",
      "Dir name: ABfol_Tablet\n",
      "Outpath: metaanalysis/ABfol_Tablet/ABfol_Tablet_7.json\n"
     ]
    },
    {
     "name": "stderr",
     "output_type": "stream",
     "text": [
      "100%|██████████| 7/7 [00:00<00:00, 18582.36it/s]\n"
     ]
    },
    {
     "name": "stdout",
     "output_type": "stream",
     "text": [
      "Image_path: ../images-115-max-keys-400/images/ABfol_Tablet/ABfol_Tablet1_rotated.jpg\n",
      "Dir name: ABfol_Tablet\n",
      "Outpath: metaanalysis/ABfol_Tablet/ABfol_Tablet_8.json\n"
     ]
    },
    {
     "name": "stderr",
     "output_type": "stream",
     "text": [
      "100%|██████████| 7/7 [00:00<00:00, 11964.19it/s]\n"
     ]
    },
    {
     "name": "stdout",
     "output_type": "stream",
     "text": [
      "Dir: ../images-115-max-keys-400/images/Acenac-N_Tablet_PR\n",
      "Image_path: ../images-115-max-keys-400/images/Acenac-N_Tablet_PR/Acenac-N_Tablet_PR0_blur.jpg\n",
      "Dir name: Acenac-N_Tablet_PR\n",
      "Outpath: metaanalysis/Acenac-N_Tablet_PR/Acenac-N_Tablet_PR_1.json\n"
     ]
    },
    {
     "name": "stderr",
     "output_type": "stream",
     "text": [
      "100%|██████████| 3/3 [00:00<00:00, 5904.70it/s]\n"
     ]
    },
    {
     "name": "stdout",
     "output_type": "stream",
     "text": [
      "Image_path: ../images-115-max-keys-400/images/Acenac-N_Tablet_PR/Acenac-N_Tablet_PR0_gaussian_noise.jpg\n",
      "Dir name: Acenac-N_Tablet_PR\n",
      "Outpath: metaanalysis/Acenac-N_Tablet_PR/Acenac-N_Tablet_PR_2.json\n"
     ]
    },
    {
     "name": "stderr",
     "output_type": "stream",
     "text": [
      "100%|██████████| 1/1 [00:00<00:00, 1280.31it/s]\n"
     ]
    },
    {
     "name": "stdout",
     "output_type": "stream",
     "text": [
      "Image_path: ../images-115-max-keys-400/images/Acenac-N_Tablet_PR/Acenac-N_Tablet_PR2_rotated.jpg\n",
      "Dir name: Acenac-N_Tablet_PR\n",
      "Outpath: metaanalysis/Acenac-N_Tablet_PR/Acenac-N_Tablet_PR_3.json\n"
     ]
    },
    {
     "name": "stderr",
     "output_type": "stream",
     "text": [
      "100%|██████████| 83/83 [00:00<00:00, 35782.43it/s]\n"
     ]
    },
    {
     "name": "stdout",
     "output_type": "stream",
     "text": [
      "Image_path: ../images-115-max-keys-400/images/Acenac-N_Tablet_PR/Acenac-N_Tablet_PR2.jpg\n",
      "Dir name: Acenac-N_Tablet_PR\n",
      "Outpath: metaanalysis/Acenac-N_Tablet_PR/Acenac-N_Tablet_PR_4.json\n"
     ]
    },
    {
     "name": "stderr",
     "output_type": "stream",
     "text": [
      "100%|██████████| 92/92 [00:00<00:00, 14911.35it/s]\n"
     ]
    },
    {
     "name": "stdout",
     "output_type": "stream",
     "text": [
      "Image_path: ../images-115-max-keys-400/images/Acenac-N_Tablet_PR/Acenac-N_Tablet_PR0_rotated.jpg\n",
      "Dir name: Acenac-N_Tablet_PR\n",
      "Outpath: metaanalysis/Acenac-N_Tablet_PR/Acenac-N_Tablet_PR_5.json\n"
     ]
    },
    {
     "name": "stderr",
     "output_type": "stream",
     "text": [
      "100%|██████████| 4/4 [00:00<00:00, 5021.62it/s]\n"
     ]
    },
    {
     "name": "stdout",
     "output_type": "stream",
     "text": [
      "Image_path: ../images-115-max-keys-400/images/Acenac-N_Tablet_PR/Acenac-N_Tablet_PR2_gaussian_noise.jpg\n",
      "Dir name: Acenac-N_Tablet_PR\n",
      "Outpath: metaanalysis/Acenac-N_Tablet_PR/Acenac-N_Tablet_PR_6.json\n"
     ]
    },
    {
     "name": "stderr",
     "output_type": "stream",
     "text": [
      "100%|██████████| 74/74 [00:00<00:00, 56845.88it/s]\n"
     ]
    },
    {
     "name": "stdout",
     "output_type": "stream",
     "text": [
      "Image_path: ../images-115-max-keys-400/images/Acenac-N_Tablet_PR/Acenac-N_Tablet_PR0.jpg\n",
      "Dir name: Acenac-N_Tablet_PR\n",
      "Outpath: metaanalysis/Acenac-N_Tablet_PR/Acenac-N_Tablet_PR_7.json\n"
     ]
    },
    {
     "name": "stderr",
     "output_type": "stream",
     "text": [
      "100%|██████████| 4/4 [00:00<00:00, 9537.93it/s]\n"
     ]
    },
    {
     "name": "stdout",
     "output_type": "stream",
     "text": [
      "Image_path: ../images-115-max-keys-400/images/Acenac-N_Tablet_PR/Acenac-N_Tablet_PR1.jpg\n",
      "Dir name: Acenac-N_Tablet_PR\n",
      "Outpath: metaanalysis/Acenac-N_Tablet_PR/Acenac-N_Tablet_PR_8.json\n"
     ]
    },
    {
     "name": "stderr",
     "output_type": "stream",
     "text": [
      "100%|██████████| 5/5 [00:00<00:00, 4450.66it/s]\n"
     ]
    },
    {
     "name": "stdout",
     "output_type": "stream",
     "text": [
      "Image_path: ../images-115-max-keys-400/images/Acenac-N_Tablet_PR/Acenac-N_Tablet_PR1_rotated.jpg\n",
      "Dir name: Acenac-N_Tablet_PR\n",
      "Outpath: metaanalysis/Acenac-N_Tablet_PR/Acenac-N_Tablet_PR_9.json\n"
     ]
    },
    {
     "name": "stderr",
     "output_type": "stream",
     "text": [
      "100%|██████████| 3/3 [00:00<00:00, 9191.32it/s]\n"
     ]
    },
    {
     "name": "stdout",
     "output_type": "stream",
     "text": [
      "Image_path: ../images-115-max-keys-400/images/Acenac-N_Tablet_PR/Acenac-N_Tablet_PR2_blur.jpg\n",
      "Dir name: Acenac-N_Tablet_PR\n",
      "Outpath: metaanalysis/Acenac-N_Tablet_PR/Acenac-N_Tablet_PR_10.json\n"
     ]
    },
    {
     "name": "stderr",
     "output_type": "stream",
     "text": [
      "100%|██████████| 30/30 [00:00<00:00, 14604.12it/s]\n"
     ]
    },
    {
     "name": "stdout",
     "output_type": "stream",
     "text": [
      "Image_path: ../images-115-max-keys-400/images/Acenac-N_Tablet_PR/Acenac-N_Tablet_PR1_gaussian_noise.jpg\n",
      "Dir name: Acenac-N_Tablet_PR\n",
      "Outpath: metaanalysis/Acenac-N_Tablet_PR/Acenac-N_Tablet_PR_11.json\n"
     ]
    },
    {
     "name": "stderr",
     "output_type": "stream",
     "text": [
      "100%|██████████| 2/2 [00:00<00:00, 1789.76it/s]\n"
     ]
    },
    {
     "name": "stdout",
     "output_type": "stream",
     "text": [
      "Image_path: ../images-115-max-keys-400/images/Acenac-N_Tablet_PR/Acenac-N_Tablet_PR1_blur.jpg\n",
      "Dir name: Acenac-N_Tablet_PR\n",
      "Outpath: metaanalysis/Acenac-N_Tablet_PR/Acenac-N_Tablet_PR_12.json\n"
     ]
    },
    {
     "name": "stderr",
     "output_type": "stream",
     "text": [
      "100%|██████████| 4/4 [00:00<00:00, 9305.17it/s]\n"
     ]
    },
    {
     "name": "stdout",
     "output_type": "stream",
     "text": [
      "Dir: ../images-115-max-keys-400/images/Accept-XL_Tablet\n",
      "Image_path: ../images-115-max-keys-400/images/Accept-XL_Tablet/Accept-XL_Tablet0_blur.jpg\n",
      "Dir name: Accept-XL_Tablet\n",
      "Outpath: metaanalysis/Accept-XL_Tablet/Accept-XL_Tablet_1.json\n"
     ]
    },
    {
     "name": "stderr",
     "output_type": "stream",
     "text": [
      "100%|██████████| 8/8 [00:00<00:00, 18275.83it/s]\n"
     ]
    },
    {
     "name": "stdout",
     "output_type": "stream",
     "text": [
      "Image_path: ../images-115-max-keys-400/images/Accept-XL_Tablet/Accept-XL_Tablet1.jpg\n",
      "Dir name: Accept-XL_Tablet\n",
      "Outpath: metaanalysis/Accept-XL_Tablet/Accept-XL_Tablet_2.json\n"
     ]
    },
    {
     "name": "stderr",
     "output_type": "stream",
     "text": [
      "100%|██████████| 10/10 [00:00<00:00, 11250.82it/s]\n"
     ]
    },
    {
     "name": "stdout",
     "output_type": "stream",
     "text": [
      "Image_path: ../images-115-max-keys-400/images/Accept-XL_Tablet/Accept-XL_Tablet2_rotated.jpg\n",
      "Dir name: Accept-XL_Tablet\n",
      "Outpath: metaanalysis/Accept-XL_Tablet/Accept-XL_Tablet_3.json\n"
     ]
    },
    {
     "name": "stderr",
     "output_type": "stream",
     "text": [
      "100%|██████████| 45/45 [00:00<00:00, 29551.23it/s]\n"
     ]
    },
    {
     "name": "stdout",
     "output_type": "stream",
     "text": [
      "Image_path: ../images-115-max-keys-400/images/Accept-XL_Tablet/Accept-XL_Tablet2_gaussian_noise.jpg\n",
      "Dir name: Accept-XL_Tablet\n",
      "Outpath: metaanalysis/Accept-XL_Tablet/Accept-XL_Tablet_4.json\n"
     ]
    },
    {
     "name": "stderr",
     "output_type": "stream",
     "text": [
      "100%|██████████| 27/27 [00:00<00:00, 13048.30it/s]\n"
     ]
    },
    {
     "name": "stdout",
     "output_type": "stream",
     "text": [
      "Image_path: ../images-115-max-keys-400/images/Accept-XL_Tablet/Accept-XL_Tablet1_rotated.jpg\n",
      "Dir name: Accept-XL_Tablet\n",
      "Outpath: metaanalysis/Accept-XL_Tablet/Accept-XL_Tablet_5.json\n"
     ]
    },
    {
     "name": "stderr",
     "output_type": "stream",
     "text": [
      "100%|██████████| 12/12 [00:00<00:00, 19217.89it/s]\n"
     ]
    },
    {
     "name": "stdout",
     "output_type": "stream",
     "text": [
      "Image_path: ../images-115-max-keys-400/images/Accept-XL_Tablet/Accept-XL_Tablet1_gaussian_noise.jpg\n",
      "Dir name: Accept-XL_Tablet\n",
      "Outpath: metaanalysis/Accept-XL_Tablet/Accept-XL_Tablet_6.json\n"
     ]
    },
    {
     "name": "stderr",
     "output_type": "stream",
     "text": [
      "100%|██████████| 12/12 [00:00<00:00, 24696.59it/s]\n"
     ]
    },
    {
     "name": "stdout",
     "output_type": "stream",
     "text": [
      "Image_path: ../images-115-max-keys-400/images/Accept-XL_Tablet/Accept-XL_Tablet1_blur.jpg\n",
      "Dir name: Accept-XL_Tablet\n",
      "Outpath: metaanalysis/Accept-XL_Tablet/Accept-XL_Tablet_7.json\n"
     ]
    },
    {
     "name": "stderr",
     "output_type": "stream",
     "text": [
      "100%|██████████| 11/11 [00:00<00:00, 14323.92it/s]\n"
     ]
    },
    {
     "name": "stdout",
     "output_type": "stream",
     "text": [
      "Image_path: ../images-115-max-keys-400/images/Accept-XL_Tablet/Accept-XL_Tablet2.jpg\n",
      "Dir name: Accept-XL_Tablet\n",
      "Outpath: metaanalysis/Accept-XL_Tablet/Accept-XL_Tablet_8.json\n"
     ]
    },
    {
     "name": "stderr",
     "output_type": "stream",
     "text": [
      "100%|██████████| 82/82 [00:00<00:00, 54653.25it/s]\n"
     ]
    },
    {
     "name": "stdout",
     "output_type": "stream",
     "text": [
      "Image_path: ../images-115-max-keys-400/images/Accept-XL_Tablet/Accept-XL_Tablet0.jpg\n",
      "Dir name: Accept-XL_Tablet\n",
      "Outpath: metaanalysis/Accept-XL_Tablet/Accept-XL_Tablet_9.json\n"
     ]
    },
    {
     "name": "stderr",
     "output_type": "stream",
     "text": [
      "100%|██████████| 11/11 [00:00<00:00, 13597.80it/s]\n"
     ]
    },
    {
     "name": "stdout",
     "output_type": "stream",
     "text": [
      "Image_path: ../images-115-max-keys-400/images/Accept-XL_Tablet/Accept-XL_Tablet0_rotated.jpg\n",
      "Dir name: Accept-XL_Tablet\n",
      "Outpath: metaanalysis/Accept-XL_Tablet/Accept-XL_Tablet_10.json\n"
     ]
    },
    {
     "name": "stderr",
     "output_type": "stream",
     "text": [
      "100%|██████████| 9/9 [00:00<00:00, 7960.51it/s]\n"
     ]
    },
    {
     "name": "stdout",
     "output_type": "stream",
     "text": [
      "Image_path: ../images-115-max-keys-400/images/Accept-XL_Tablet/Accept-XL_Tablet0_gaussian_noise.jpg\n",
      "Dir name: Accept-XL_Tablet\n",
      "Outpath: metaanalysis/Accept-XL_Tablet/Accept-XL_Tablet_11.json\n"
     ]
    },
    {
     "name": "stderr",
     "output_type": "stream",
     "text": [
      "100%|██████████| 7/7 [00:00<00:00, 5631.02it/s]\n"
     ]
    },
    {
     "name": "stdout",
     "output_type": "stream",
     "text": [
      "Image_path: ../images-115-max-keys-400/images/Accept-XL_Tablet/Accept-XL_Tablet2_blur.jpg\n",
      "Dir name: Accept-XL_Tablet\n",
      "Outpath: metaanalysis/Accept-XL_Tablet/Accept-XL_Tablet_12.json\n"
     ]
    },
    {
     "name": "stderr",
     "output_type": "stream",
     "text": [
      "100%|██████████| 9/9 [00:00<00:00, 21934.19it/s]\n"
     ]
    },
    {
     "name": "stdout",
     "output_type": "stream",
     "text": [
      "Dir: ../images-115-max-keys-400/images/Acenomac_1_Tablet\n",
      "Image_path: ../images-115-max-keys-400/images/Acenomac_1_Tablet/Acenomac_1_Tablet0_gaussian_noise.jpg\n",
      "Dir name: Acenomac_1_Tablet\n",
      "Outpath: metaanalysis/Acenomac_1_Tablet/Acenomac_1_Tablet_1.json\n"
     ]
    },
    {
     "name": "stderr",
     "output_type": "stream",
     "text": [
      "100%|██████████| 4/4 [00:00<00:00, 3571.90it/s]\n"
     ]
    },
    {
     "name": "stdout",
     "output_type": "stream",
     "text": [
      "Image_path: ../images-115-max-keys-400/images/Acenomac_1_Tablet/Acenomac_1_Tablet0_blur.jpg\n",
      "Dir name: Acenomac_1_Tablet\n",
      "Outpath: metaanalysis/Acenomac_1_Tablet/Acenomac_1_Tablet_2.json\n"
     ]
    },
    {
     "name": "stderr",
     "output_type": "stream",
     "text": [
      "100%|██████████| 7/7 [00:00<00:00, 5299.66it/s]\n"
     ]
    },
    {
     "name": "stdout",
     "output_type": "stream",
     "text": [
      "Image_path: ../images-115-max-keys-400/images/Acenomac_1_Tablet/Acenomac_1_Tablet0_rotated.jpg\n",
      "Dir name: Acenomac_1_Tablet\n",
      "Outpath: metaanalysis/Acenomac_1_Tablet/Acenomac_1_Tablet_3.json\n"
     ]
    },
    {
     "name": "stderr",
     "output_type": "stream",
     "text": [
      "100%|██████████| 8/8 [00:00<00:00, 6331.02it/s]\n"
     ]
    },
    {
     "name": "stdout",
     "output_type": "stream",
     "text": [
      "Image_path: ../images-115-max-keys-400/images/Acenomac_1_Tablet/Acenomac_1_Tablet0.jpg\n",
      "Dir name: Acenomac_1_Tablet\n",
      "Outpath: metaanalysis/Acenomac_1_Tablet/Acenomac_1_Tablet_4.json\n"
     ]
    },
    {
     "name": "stderr",
     "output_type": "stream",
     "text": [
      "100%|██████████| 10/10 [00:00<00:00, 8250.01it/s]\n"
     ]
    },
    {
     "name": "stdout",
     "output_type": "stream",
     "text": [
      "Dir: ../images-115-max-keys-400/images/Acentio_P_Tablet\n",
      "Image_path: ../images-115-max-keys-400/images/Acentio_P_Tablet/Acentio_P_Tablet2_blur.jpg\n",
      "Dir name: Acentio_P_Tablet\n",
      "Outpath: metaanalysis/Acentio_P_Tablet/Acentio_P_Tablet_1.json\n"
     ]
    },
    {
     "name": "stderr",
     "output_type": "stream",
     "text": [
      "100%|██████████| 2/2 [00:00<00:00, 8330.30it/s]\n"
     ]
    },
    {
     "name": "stdout",
     "output_type": "stream",
     "text": [
      "Image_path: ../images-115-max-keys-400/images/Acentio_P_Tablet/Acentio_P_Tablet0_gaussian_noise.jpg\n",
      "Dir name: Acentio_P_Tablet\n",
      "Outpath: metaanalysis/Acentio_P_Tablet/Acentio_P_Tablet_2.json\n"
     ]
    },
    {
     "name": "stderr",
     "output_type": "stream",
     "text": [
      "100%|██████████| 8/8 [00:00<00:00, 8138.35it/s]\n"
     ]
    },
    {
     "name": "stdout",
     "output_type": "stream",
     "text": [
      "Image_path: ../images-115-max-keys-400/images/Acentio_P_Tablet/Acentio_P_Tablet1.jpg\n",
      "Dir name: Acentio_P_Tablet\n",
      "Outpath: metaanalysis/Acentio_P_Tablet/Acentio_P_Tablet_3.json\n"
     ]
    },
    {
     "name": "stderr",
     "output_type": "stream",
     "text": [
      "100%|██████████| 11/11 [00:00<00:00, 6701.14it/s]\n"
     ]
    },
    {
     "name": "stdout",
     "output_type": "stream",
     "text": [
      "Image_path: ../images-115-max-keys-400/images/Acentio_P_Tablet/Acentio_P_Tablet2_gaussian_noise.jpg\n",
      "Dir name: Acentio_P_Tablet\n",
      "Outpath: metaanalysis/Acentio_P_Tablet/Acentio_P_Tablet_4.json\n"
     ]
    },
    {
     "name": "stderr",
     "output_type": "stream",
     "text": [
      "100%|██████████| 5/5 [00:00<00:00, 16723.70it/s]\n"
     ]
    },
    {
     "name": "stdout",
     "output_type": "stream",
     "text": [
      "Image_path: ../images-115-max-keys-400/images/Acentio_P_Tablet/Acentio_P_Tablet2_rotated.jpg\n",
      "Dir name: Acentio_P_Tablet\n",
      "Outpath: metaanalysis/Acentio_P_Tablet/Acentio_P_Tablet_5.json\n"
     ]
    },
    {
     "name": "stderr",
     "output_type": "stream",
     "text": [
      "100%|██████████| 8/8 [00:00<00:00, 5501.63it/s]\n"
     ]
    },
    {
     "name": "stdout",
     "output_type": "stream",
     "text": [
      "Image_path: ../images-115-max-keys-400/images/Acentio_P_Tablet/Acentio_P_Tablet2.jpg\n",
      "Dir name: Acentio_P_Tablet\n",
      "Outpath: metaanalysis/Acentio_P_Tablet/Acentio_P_Tablet_6.json\n"
     ]
    },
    {
     "name": "stderr",
     "output_type": "stream",
     "text": [
      "100%|██████████| 14/14 [00:00<00:00, 22310.13it/s]\n"
     ]
    },
    {
     "name": "stdout",
     "output_type": "stream",
     "text": [
      "Image_path: ../images-115-max-keys-400/images/Acentio_P_Tablet/Acentio_P_Tablet1_rotated.jpg\n",
      "Dir name: Acentio_P_Tablet\n",
      "Outpath: metaanalysis/Acentio_P_Tablet/Acentio_P_Tablet_7.json\n"
     ]
    },
    {
     "name": "stderr",
     "output_type": "stream",
     "text": [
      "100%|██████████| 5/5 [00:00<00:00, 15580.62it/s]\n"
     ]
    },
    {
     "name": "stdout",
     "output_type": "stream",
     "text": [
      "Image_path: ../images-115-max-keys-400/images/Acentio_P_Tablet/Acentio_P_Tablet1_gaussian_noise.jpg\n",
      "Dir name: Acentio_P_Tablet\n",
      "Outpath: metaanalysis/Acentio_P_Tablet/Acentio_P_Tablet_8.json\n"
     ]
    },
    {
     "name": "stderr",
     "output_type": "stream",
     "text": [
      "100%|██████████| 4/4 [00:00<00:00, 12246.14it/s]\n"
     ]
    },
    {
     "name": "stdout",
     "output_type": "stream",
     "text": [
      "Image_path: ../images-115-max-keys-400/images/Acentio_P_Tablet/Acentio_P_Tablet1_blur.jpg\n",
      "Dir name: Acentio_P_Tablet\n",
      "Outpath: metaanalysis/Acentio_P_Tablet/Acentio_P_Tablet_9.json\n",
      "Image_path: ../images-115-max-keys-400/images/Acentio_P_Tablet/Acentio_P_Tablet0_blur.jpg\n",
      "Dir name: Acentio_P_Tablet\n",
      "Outpath: metaanalysis/Acentio_P_Tablet/Acentio_P_Tablet_10.json\n"
     ]
    },
    {
     "name": "stderr",
     "output_type": "stream",
     "text": [
      "100%|██████████| 9/9 [00:00<00:00, 11298.63it/s]\n"
     ]
    },
    {
     "name": "stdout",
     "output_type": "stream",
     "text": [
      "Image_path: ../images-115-max-keys-400/images/Acentio_P_Tablet/Acentio_P_Tablet0_rotated.jpg\n",
      "Dir name: Acentio_P_Tablet\n",
      "Outpath: metaanalysis/Acentio_P_Tablet/Acentio_P_Tablet_11.json\n"
     ]
    },
    {
     "name": "stderr",
     "output_type": "stream",
     "text": [
      "100%|██████████| 8/8 [00:00<00:00, 25040.62it/s]\n"
     ]
    },
    {
     "name": "stdout",
     "output_type": "stream",
     "text": [
      "Image_path: ../images-115-max-keys-400/images/Acentio_P_Tablet/Acentio_P_Tablet0.jpg\n",
      "Dir name: Acentio_P_Tablet\n",
      "Outpath: metaanalysis/Acentio_P_Tablet/Acentio_P_Tablet_12.json\n"
     ]
    },
    {
     "name": "stderr",
     "output_type": "stream",
     "text": [
      "100%|██████████| 9/9 [00:00<00:00, 25032.32it/s]\n"
     ]
    },
    {
     "name": "stdout",
     "output_type": "stream",
     "text": [
      "Dir: ../images-115-max-keys-400/images/Acegaba_300_Capsule\n",
      "Image_path: ../images-115-max-keys-400/images/Acegaba_300_Capsule/Acegaba_300_Capsule1.jpg\n",
      "Dir name: Acegaba_300_Capsule\n",
      "Outpath: metaanalysis/Acegaba_300_Capsule/Acegaba_300_Capsule_1.json\n"
     ]
    },
    {
     "name": "stderr",
     "output_type": "stream",
     "text": [
      "100%|██████████| 60/60 [00:00<00:00, 26993.27it/s]\n"
     ]
    },
    {
     "name": "stdout",
     "output_type": "stream",
     "text": [
      "Image_path: ../images-115-max-keys-400/images/Acegaba_300_Capsule/Acegaba_300_Capsule1_gaussian_noise.jpg\n",
      "Dir name: Acegaba_300_Capsule\n",
      "Outpath: metaanalysis/Acegaba_300_Capsule/Acegaba_300_Capsule_2.json\n"
     ]
    },
    {
     "name": "stderr",
     "output_type": "stream",
     "text": [
      "100%|██████████| 58/58 [00:00<00:00, 62265.07it/s]\n"
     ]
    },
    {
     "name": "stdout",
     "output_type": "stream",
     "text": [
      "Image_path: ../images-115-max-keys-400/images/Acegaba_300_Capsule/Acegaba_300_Capsule0_rotated.jpg\n",
      "Dir name: Acegaba_300_Capsule\n",
      "Outpath: metaanalysis/Acegaba_300_Capsule/Acegaba_300_Capsule_3.json\n"
     ]
    },
    {
     "name": "stderr",
     "output_type": "stream",
     "text": [
      "100%|██████████| 10/10 [00:00<00:00, 13477.84it/s]\n"
     ]
    },
    {
     "name": "stdout",
     "output_type": "stream",
     "text": [
      "Image_path: ../images-115-max-keys-400/images/Acegaba_300_Capsule/Acegaba_300_Capsule1_blur.jpg\n",
      "Dir name: Acegaba_300_Capsule\n",
      "Outpath: metaanalysis/Acegaba_300_Capsule/Acegaba_300_Capsule_4.json\n"
     ]
    },
    {
     "name": "stderr",
     "output_type": "stream",
     "text": [
      "100%|██████████| 59/59 [00:00<00:00, 38042.11it/s]\n"
     ]
    },
    {
     "name": "stdout",
     "output_type": "stream",
     "text": [
      "Image_path: ../images-115-max-keys-400/images/Acegaba_300_Capsule/Acegaba_300_Capsule0.jpg\n",
      "Dir name: Acegaba_300_Capsule\n",
      "Outpath: metaanalysis/Acegaba_300_Capsule/Acegaba_300_Capsule_5.json\n"
     ]
    },
    {
     "name": "stderr",
     "output_type": "stream",
     "text": [
      "100%|██████████| 9/9 [00:00<00:00, 12650.38it/s]\n"
     ]
    },
    {
     "name": "stdout",
     "output_type": "stream",
     "text": [
      "Image_path: ../images-115-max-keys-400/images/Acegaba_300_Capsule/Acegaba_300_Capsule0_gaussian_noise.jpg\n",
      "Dir name: Acegaba_300_Capsule\n",
      "Outpath: metaanalysis/Acegaba_300_Capsule/Acegaba_300_Capsule_6.json\n"
     ]
    },
    {
     "name": "stderr",
     "output_type": "stream",
     "text": [
      "100%|██████████| 5/5 [00:00<00:00, 9271.23it/s]\n"
     ]
    },
    {
     "name": "stdout",
     "output_type": "stream",
     "text": [
      "Image_path: ../images-115-max-keys-400/images/Acegaba_300_Capsule/Acegaba_300_Capsule1_rotated.jpg\n",
      "Dir name: Acegaba_300_Capsule\n",
      "Outpath: metaanalysis/Acegaba_300_Capsule/Acegaba_300_Capsule_7.json\n"
     ]
    },
    {
     "name": "stderr",
     "output_type": "stream",
     "text": [
      "100%|██████████| 60/60 [00:00<00:00, 55188.21it/s]\n"
     ]
    },
    {
     "name": "stdout",
     "output_type": "stream",
     "text": [
      "Image_path: ../images-115-max-keys-400/images/Acegaba_300_Capsule/Acegaba_300_Capsule0_blur.jpg\n",
      "Dir name: Acegaba_300_Capsule\n",
      "Outpath: metaanalysis/Acegaba_300_Capsule/Acegaba_300_Capsule_8.json\n"
     ]
    },
    {
     "name": "stderr",
     "output_type": "stream",
     "text": [
      "100%|██████████| 8/8 [00:00<00:00, 13288.88it/s]\n"
     ]
    },
    {
     "name": "stdout",
     "output_type": "stream",
     "text": [
      "Dir: ../images-115-max-keys-400/images/Abrophyll-DM_Tablet\n",
      "Image_path: ../images-115-max-keys-400/images/Abrophyll-DM_Tablet/Abrophyll-DM_Tablet0_blur.jpg\n",
      "Dir name: Abrophyll-DM_Tablet\n",
      "Outpath: metaanalysis/Abrophyll-DM_Tablet/Abrophyll-DM_Tablet_1.json\n"
     ]
    },
    {
     "name": "stderr",
     "output_type": "stream",
     "text": [
      "100%|██████████| 7/7 [00:00<00:00, 4614.92it/s]\n"
     ]
    },
    {
     "name": "stdout",
     "output_type": "stream",
     "text": [
      "Image_path: ../images-115-max-keys-400/images/Abrophyll-DM_Tablet/Abrophyll-DM_Tablet1_rotated.jpg\n",
      "Dir name: Abrophyll-DM_Tablet\n",
      "Outpath: metaanalysis/Abrophyll-DM_Tablet/Abrophyll-DM_Tablet_2.json\n"
     ]
    },
    {
     "name": "stderr",
     "output_type": "stream",
     "text": [
      "100%|██████████| 7/7 [00:00<00:00, 4667.75it/s]\n"
     ]
    },
    {
     "name": "stdout",
     "output_type": "stream",
     "text": [
      "Image_path: ../images-115-max-keys-400/images/Abrophyll-DM_Tablet/Abrophyll-DM_Tablet2.jpg\n",
      "Dir name: Abrophyll-DM_Tablet\n",
      "Outpath: metaanalysis/Abrophyll-DM_Tablet/Abrophyll-DM_Tablet_3.json\n"
     ]
    },
    {
     "name": "stderr",
     "output_type": "stream",
     "text": [
      "100%|██████████| 101/101 [00:00<00:00, 46252.29it/s]\n"
     ]
    },
    {
     "name": "stdout",
     "output_type": "stream",
     "text": [
      "Image_path: ../images-115-max-keys-400/images/Abrophyll-DM_Tablet/Abrophyll-DM_Tablet0.jpg\n",
      "Dir name: Abrophyll-DM_Tablet\n",
      "Outpath: metaanalysis/Abrophyll-DM_Tablet/Abrophyll-DM_Tablet_4.json\n"
     ]
    },
    {
     "name": "stderr",
     "output_type": "stream",
     "text": [
      "100%|██████████| 12/12 [00:00<00:00, 7052.21it/s]\n"
     ]
    },
    {
     "name": "stdout",
     "output_type": "stream",
     "text": [
      "Image_path: ../images-115-max-keys-400/images/Abrophyll-DM_Tablet/Abrophyll-DM_Tablet1_blur.jpg\n",
      "Dir name: Abrophyll-DM_Tablet\n",
      "Outpath: metaanalysis/Abrophyll-DM_Tablet/Abrophyll-DM_Tablet_5.json\n"
     ]
    },
    {
     "name": "stderr",
     "output_type": "stream",
     "text": [
      "100%|██████████| 7/7 [00:00<00:00, 13008.47it/s]\n"
     ]
    },
    {
     "name": "stdout",
     "output_type": "stream",
     "text": [
      "Image_path: ../images-115-max-keys-400/images/Abrophyll-DM_Tablet/Abrophyll-DM_Tablet2_blur.jpg\n",
      "Dir name: Abrophyll-DM_Tablet\n",
      "Outpath: metaanalysis/Abrophyll-DM_Tablet/Abrophyll-DM_Tablet_6.json\n"
     ]
    },
    {
     "name": "stderr",
     "output_type": "stream",
     "text": [
      "100%|██████████| 45/45 [00:00<00:00, 27247.54it/s]\n"
     ]
    },
    {
     "name": "stdout",
     "output_type": "stream",
     "text": [
      "Image_path: ../images-115-max-keys-400/images/Abrophyll-DM_Tablet/Abrophyll-DM_Tablet1_gaussian_noise.jpg\n",
      "Dir name: Abrophyll-DM_Tablet\n",
      "Outpath: metaanalysis/Abrophyll-DM_Tablet/Abrophyll-DM_Tablet_7.json\n"
     ]
    },
    {
     "name": "stderr",
     "output_type": "stream",
     "text": [
      "100%|██████████| 8/8 [00:00<00:00, 22857.24it/s]\n"
     ]
    },
    {
     "name": "stdout",
     "output_type": "stream",
     "text": [
      "Image_path: ../images-115-max-keys-400/images/Abrophyll-DM_Tablet/Abrophyll-DM_Tablet0_gaussian_noise.jpg\n",
      "Dir name: Abrophyll-DM_Tablet\n",
      "Outpath: metaanalysis/Abrophyll-DM_Tablet/Abrophyll-DM_Tablet_8.json\n"
     ]
    },
    {
     "name": "stderr",
     "output_type": "stream",
     "text": [
      "100%|██████████| 9/9 [00:00<00:00, 25979.86it/s]\n"
     ]
    },
    {
     "name": "stdout",
     "output_type": "stream",
     "text": [
      "Image_path: ../images-115-max-keys-400/images/Abrophyll-DM_Tablet/Abrophyll-DM_Tablet2_rotated.jpg\n",
      "Dir name: Abrophyll-DM_Tablet\n",
      "Outpath: metaanalysis/Abrophyll-DM_Tablet/Abrophyll-DM_Tablet_9.json\n"
     ]
    },
    {
     "name": "stderr",
     "output_type": "stream",
     "text": [
      "100%|██████████| 99/99 [00:00<00:00, 48868.55it/s]\n"
     ]
    },
    {
     "name": "stdout",
     "output_type": "stream",
     "text": [
      "Image_path: ../images-115-max-keys-400/images/Abrophyll-DM_Tablet/Abrophyll-DM_Tablet1.jpg\n",
      "Dir name: Abrophyll-DM_Tablet\n",
      "Outpath: metaanalysis/Abrophyll-DM_Tablet/Abrophyll-DM_Tablet_10.json\n"
     ]
    },
    {
     "name": "stderr",
     "output_type": "stream",
     "text": [
      "100%|██████████| 9/9 [00:00<00:00, 1855.70it/s]\n"
     ]
    },
    {
     "name": "stdout",
     "output_type": "stream",
     "text": [
      "Image_path: ../images-115-max-keys-400/images/Abrophyll-DM_Tablet/Abrophyll-DM_Tablet2_gaussian_noise.jpg\n",
      "Dir name: Abrophyll-DM_Tablet\n",
      "Outpath: metaanalysis/Abrophyll-DM_Tablet/Abrophyll-DM_Tablet_11.json\n"
     ]
    },
    {
     "name": "stderr",
     "output_type": "stream",
     "text": [
      "100%|██████████| 78/78 [00:00<00:00, 42665.06it/s]\n"
     ]
    },
    {
     "name": "stdout",
     "output_type": "stream",
     "text": [
      "Image_path: ../images-115-max-keys-400/images/Abrophyll-DM_Tablet/Abrophyll-DM_Tablet0_rotated.jpg\n",
      "Dir name: Abrophyll-DM_Tablet\n",
      "Outpath: metaanalysis/Abrophyll-DM_Tablet/Abrophyll-DM_Tablet_12.json\n"
     ]
    },
    {
     "name": "stderr",
     "output_type": "stream",
     "text": [
      "100%|██████████| 9/9 [00:00<00:00, 26867.43it/s]\n"
     ]
    },
    {
     "name": "stdout",
     "output_type": "stream",
     "text": [
      "Dir: ../images-115-max-keys-400/images/A-Phyl_100_Capsule\n",
      "Image_path: ../images-115-max-keys-400/images/A-Phyl_100_Capsule/A-Phyl_100_Capsule2.jpg\n",
      "Dir name: A-Phyl_100_Capsule\n",
      "Outpath: metaanalysis/A-Phyl_100_Capsule/A-Phyl_100_Capsule_1.json\n"
     ]
    },
    {
     "name": "stderr",
     "output_type": "stream",
     "text": [
      "100%|██████████| 16/16 [00:00<00:00, 6618.88it/s]\n"
     ]
    },
    {
     "name": "stdout",
     "output_type": "stream",
     "text": [
      "Image_path: ../images-115-max-keys-400/images/A-Phyl_100_Capsule/A-Phyl_100_Capsule1.jpg\n",
      "Dir name: A-Phyl_100_Capsule\n",
      "Outpath: metaanalysis/A-Phyl_100_Capsule/A-Phyl_100_Capsule_2.json\n"
     ]
    },
    {
     "name": "stderr",
     "output_type": "stream",
     "text": [
      "100%|██████████| 18/18 [00:00<00:00, 19671.05it/s]\n"
     ]
    },
    {
     "name": "stdout",
     "output_type": "stream",
     "text": [
      "Image_path: ../images-115-max-keys-400/images/A-Phyl_100_Capsule/A-Phyl_100_Capsule0.jpg\n",
      "Dir name: A-Phyl_100_Capsule\n",
      "Outpath: metaanalysis/A-Phyl_100_Capsule/A-Phyl_100_Capsule_3.json\n"
     ]
    },
    {
     "name": "stderr",
     "output_type": "stream",
     "text": [
      "100%|██████████| 9/9 [00:00<00:00, 10657.46it/s]\n"
     ]
    },
    {
     "name": "stdout",
     "output_type": "stream",
     "text": [
      "Image_path: ../images-115-max-keys-400/images/A-Phyl_100_Capsule/A-Phyl_100_Capsule0_gaussian_noise.jpg\n",
      "Dir name: A-Phyl_100_Capsule\n",
      "Outpath: metaanalysis/A-Phyl_100_Capsule/A-Phyl_100_Capsule_4.json\n"
     ]
    },
    {
     "name": "stderr",
     "output_type": "stream",
     "text": [
      "100%|██████████| 2/2 [00:00<00:00, 2350.41it/s]\n"
     ]
    },
    {
     "name": "stdout",
     "output_type": "stream",
     "text": [
      "Image_path: ../images-115-max-keys-400/images/A-Phyl_100_Capsule/A-Phyl_100_Capsule2_gaussian_noise.jpg\n",
      "Dir name: A-Phyl_100_Capsule\n",
      "Outpath: metaanalysis/A-Phyl_100_Capsule/A-Phyl_100_Capsule_5.json\n"
     ]
    },
    {
     "name": "stderr",
     "output_type": "stream",
     "text": [
      "100%|██████████| 5/5 [00:00<00:00, 12242.57it/s]\n"
     ]
    },
    {
     "name": "stdout",
     "output_type": "stream",
     "text": [
      "Image_path: ../images-115-max-keys-400/images/A-Phyl_100_Capsule/A-Phyl_100_Capsule0_rotated.jpg\n",
      "Dir name: A-Phyl_100_Capsule\n",
      "Outpath: metaanalysis/A-Phyl_100_Capsule/A-Phyl_100_Capsule_6.json\n"
     ]
    },
    {
     "name": "stderr",
     "output_type": "stream",
     "text": [
      "100%|██████████| 5/5 [00:00<00:00, 23353.59it/s]\n"
     ]
    },
    {
     "name": "stdout",
     "output_type": "stream",
     "text": [
      "Image_path: ../images-115-max-keys-400/images/A-Phyl_100_Capsule/A-Phyl_100_Capsule0_blur.jpg\n",
      "Dir name: A-Phyl_100_Capsule\n",
      "Outpath: metaanalysis/A-Phyl_100_Capsule/A-Phyl_100_Capsule_7.json\n"
     ]
    },
    {
     "name": "stderr",
     "output_type": "stream",
     "text": [
      "100%|██████████| 5/5 [00:00<00:00, 1365.07it/s]\n"
     ]
    },
    {
     "name": "stdout",
     "output_type": "stream",
     "text": [
      "Image_path: ../images-115-max-keys-400/images/A-Phyl_100_Capsule/A-Phyl_100_Capsule1_blur.jpg\n",
      "Dir name: A-Phyl_100_Capsule\n",
      "Outpath: metaanalysis/A-Phyl_100_Capsule/A-Phyl_100_Capsule_8.json\n"
     ]
    },
    {
     "name": "stderr",
     "output_type": "stream",
     "text": [
      "100%|██████████| 10/10 [00:00<00:00, 23405.71it/s]\n"
     ]
    },
    {
     "name": "stdout",
     "output_type": "stream",
     "text": [
      "Image_path: ../images-115-max-keys-400/images/A-Phyl_100_Capsule/A-Phyl_100_Capsule1_gaussian_noise.jpg\n",
      "Dir name: A-Phyl_100_Capsule\n",
      "Outpath: metaanalysis/A-Phyl_100_Capsule/A-Phyl_100_Capsule_9.json\n"
     ]
    },
    {
     "name": "stderr",
     "output_type": "stream",
     "text": [
      "100%|██████████| 6/6 [00:00<00:00, 4730.42it/s]\n"
     ]
    },
    {
     "name": "stdout",
     "output_type": "stream",
     "text": [
      "Image_path: ../images-115-max-keys-400/images/A-Phyl_100_Capsule/A-Phyl_100_Capsule1_rotated.jpg\n",
      "Dir name: A-Phyl_100_Capsule\n",
      "Outpath: metaanalysis/A-Phyl_100_Capsule/A-Phyl_100_Capsule_10.json\n"
     ]
    },
    {
     "name": "stderr",
     "output_type": "stream",
     "text": [
      "100%|██████████| 15/15 [00:00<00:00, 23096.39it/s]\n"
     ]
    },
    {
     "name": "stdout",
     "output_type": "stream",
     "text": [
      "Image_path: ../images-115-max-keys-400/images/A-Phyl_100_Capsule/A-Phyl_100_Capsule2_blur.jpg\n",
      "Dir name: A-Phyl_100_Capsule\n",
      "Outpath: metaanalysis/A-Phyl_100_Capsule/A-Phyl_100_Capsule_11.json\n"
     ]
    },
    {
     "name": "stderr",
     "output_type": "stream",
     "text": [
      "100%|██████████| 7/7 [00:00<00:00, 5968.72it/s]\n"
     ]
    },
    {
     "name": "stdout",
     "output_type": "stream",
     "text": [
      "Image_path: ../images-115-max-keys-400/images/A-Phyl_100_Capsule/A-Phyl_100_Capsule2_rotated.jpg\n",
      "Dir name: A-Phyl_100_Capsule\n",
      "Outpath: metaanalysis/A-Phyl_100_Capsule/A-Phyl_100_Capsule_12.json\n"
     ]
    },
    {
     "name": "stderr",
     "output_type": "stream",
     "text": [
      "100%|██████████| 12/12 [00:00<00:00, 10006.29it/s]\n"
     ]
    },
    {
     "name": "stdout",
     "output_type": "stream",
     "text": [
      "Dir: ../images-115-max-keys-400/images/Acenomac_2_Tablet\n",
      "Image_path: ../images-115-max-keys-400/images/Acenomac_2_Tablet/Acenomac_2_Tablet1_blur.jpg\n",
      "Dir name: Acenomac_2_Tablet\n",
      "Outpath: metaanalysis/Acenomac_2_Tablet/Acenomac_2_Tablet_1.json\n"
     ]
    },
    {
     "name": "stderr",
     "output_type": "stream",
     "text": [
      "100%|██████████| 3/3 [00:00<00:00, 11915.64it/s]\n"
     ]
    },
    {
     "name": "stdout",
     "output_type": "stream",
     "text": [
      "Image_path: ../images-115-max-keys-400/images/Acenomac_2_Tablet/Acenomac_2_Tablet1_gaussian_noise.jpg\n",
      "Dir name: Acenomac_2_Tablet\n",
      "Outpath: metaanalysis/Acenomac_2_Tablet/Acenomac_2_Tablet_2.json\n"
     ]
    },
    {
     "name": "stderr",
     "output_type": "stream",
     "text": [
      "100%|██████████| 22/22 [00:00<00:00, 8271.31it/s]\n"
     ]
    },
    {
     "name": "stdout",
     "output_type": "stream",
     "text": [
      "Image_path: ../images-115-max-keys-400/images/Acenomac_2_Tablet/Acenomac_2_Tablet1.jpg\n",
      "Dir name: Acenomac_2_Tablet\n",
      "Outpath: metaanalysis/Acenomac_2_Tablet/Acenomac_2_Tablet_3.json\n"
     ]
    },
    {
     "name": "stderr",
     "output_type": "stream",
     "text": [
      "100%|██████████| 47/47 [00:00<00:00, 55687.09it/s]\n"
     ]
    },
    {
     "name": "stdout",
     "output_type": "stream",
     "text": [
      "Image_path: ../images-115-max-keys-400/images/Acenomac_2_Tablet/Acenomac_2_Tablet0.jpg\n",
      "Dir name: Acenomac_2_Tablet\n",
      "Outpath: metaanalysis/Acenomac_2_Tablet/Acenomac_2_Tablet_4.json\n"
     ]
    },
    {
     "name": "stderr",
     "output_type": "stream",
     "text": [
      "100%|██████████| 9/9 [00:00<00:00, 7955.48it/s]\n"
     ]
    },
    {
     "name": "stdout",
     "output_type": "stream",
     "text": [
      "Image_path: ../images-115-max-keys-400/images/Acenomac_2_Tablet/Acenomac_2_Tablet0_rotated.jpg\n",
      "Dir name: Acenomac_2_Tablet\n",
      "Outpath: metaanalysis/Acenomac_2_Tablet/Acenomac_2_Tablet_5.json\n"
     ]
    },
    {
     "name": "stderr",
     "output_type": "stream",
     "text": [
      "100%|██████████| 8/8 [00:00<00:00, 6745.97it/s]\n"
     ]
    },
    {
     "name": "stdout",
     "output_type": "stream",
     "text": [
      "Image_path: ../images-115-max-keys-400/images/Acenomac_2_Tablet/Acenomac_2_Tablet1_rotated.jpg\n",
      "Dir name: Acenomac_2_Tablet\n",
      "Outpath: metaanalysis/Acenomac_2_Tablet/Acenomac_2_Tablet_6.json\n"
     ]
    },
    {
     "name": "stderr",
     "output_type": "stream",
     "text": [
      "100%|██████████| 38/38 [00:00<00:00, 10018.45it/s]\n"
     ]
    },
    {
     "name": "stdout",
     "output_type": "stream",
     "text": [
      "Image_path: ../images-115-max-keys-400/images/Acenomac_2_Tablet/Acenomac_2_Tablet0_gaussian_noise.jpg\n",
      "Dir name: Acenomac_2_Tablet\n",
      "Outpath: metaanalysis/Acenomac_2_Tablet/Acenomac_2_Tablet_7.json\n"
     ]
    },
    {
     "name": "stderr",
     "output_type": "stream",
     "text": [
      "100%|██████████| 8/8 [00:00<00:00, 10174.18it/s]\n"
     ]
    },
    {
     "name": "stdout",
     "output_type": "stream",
     "text": [
      "Image_path: ../images-115-max-keys-400/images/Acenomac_2_Tablet/Acenomac_2_Tablet0_blur.jpg\n",
      "Dir name: Acenomac_2_Tablet\n",
      "Outpath: metaanalysis/Acenomac_2_Tablet/Acenomac_2_Tablet_8.json\n"
     ]
    },
    {
     "name": "stderr",
     "output_type": "stream",
     "text": [
      "100%|██████████| 8/8 [00:00<00:00, 26800.66it/s]\n"
     ]
    },
    {
     "name": "stdout",
     "output_type": "stream",
     "text": [
      "Dir: ../images-115-max-keys-400/images/Acebull_100_Capsule\n",
      "Image_path: ../images-115-max-keys-400/images/Acebull_100_Capsule/Acebull_100_Capsule1_blur.jpg\n",
      "Dir name: Acebull_100_Capsule\n",
      "Outpath: metaanalysis/Acebull_100_Capsule/Acebull_100_Capsule_1.json\n"
     ]
    },
    {
     "name": "stderr",
     "output_type": "stream",
     "text": [
      "100%|██████████| 50/50 [00:00<00:00, 37322.51it/s]\n"
     ]
    },
    {
     "name": "stdout",
     "output_type": "stream",
     "text": [
      "Image_path: ../images-115-max-keys-400/images/Acebull_100_Capsule/Acebull_100_Capsule0_gaussian_noise.jpg\n",
      "Dir name: Acebull_100_Capsule\n",
      "Outpath: metaanalysis/Acebull_100_Capsule/Acebull_100_Capsule_2.json\n"
     ]
    },
    {
     "name": "stderr",
     "output_type": "stream",
     "text": [
      "100%|██████████| 12/12 [00:00<00:00, 7196.40it/s]\n"
     ]
    },
    {
     "name": "stdout",
     "output_type": "stream",
     "text": [
      "Image_path: ../images-115-max-keys-400/images/Acebull_100_Capsule/Acebull_100_Capsule0_rotated.jpg\n",
      "Dir name: Acebull_100_Capsule\n",
      "Outpath: metaanalysis/Acebull_100_Capsule/Acebull_100_Capsule_3.json\n"
     ]
    },
    {
     "name": "stderr",
     "output_type": "stream",
     "text": [
      "100%|██████████| 13/13 [00:00<00:00, 10863.91it/s]\n"
     ]
    },
    {
     "name": "stdout",
     "output_type": "stream",
     "text": [
      "Image_path: ../images-115-max-keys-400/images/Acebull_100_Capsule/Acebull_100_Capsule1_rotated.jpg\n",
      "Dir name: Acebull_100_Capsule\n",
      "Outpath: metaanalysis/Acebull_100_Capsule/Acebull_100_Capsule_4.json\n"
     ]
    },
    {
     "name": "stderr",
     "output_type": "stream",
     "text": [
      "100%|██████████| 55/55 [00:00<00:00, 60787.01it/s]\n"
     ]
    },
    {
     "name": "stdout",
     "output_type": "stream",
     "text": [
      "Image_path: ../images-115-max-keys-400/images/Acebull_100_Capsule/Acebull_100_Capsule0.jpg\n",
      "Dir name: Acebull_100_Capsule\n",
      "Outpath: metaanalysis/Acebull_100_Capsule/Acebull_100_Capsule_5.json\n"
     ]
    },
    {
     "name": "stderr",
     "output_type": "stream",
     "text": [
      "100%|██████████| 13/13 [00:00<00:00, 36038.30it/s]\n"
     ]
    },
    {
     "name": "stdout",
     "output_type": "stream",
     "text": [
      "Image_path: ../images-115-max-keys-400/images/Acebull_100_Capsule/Acebull_100_Capsule1_gaussian_noise.jpg\n",
      "Dir name: Acebull_100_Capsule\n",
      "Outpath: metaanalysis/Acebull_100_Capsule/Acebull_100_Capsule_6.json\n"
     ]
    },
    {
     "name": "stderr",
     "output_type": "stream",
     "text": [
      "100%|██████████| 51/51 [00:00<00:00, 31652.78it/s]\n"
     ]
    },
    {
     "name": "stdout",
     "output_type": "stream",
     "text": [
      "Image_path: ../images-115-max-keys-400/images/Acebull_100_Capsule/Acebull_100_Capsule0_blur.jpg\n",
      "Dir name: Acebull_100_Capsule\n",
      "Outpath: metaanalysis/Acebull_100_Capsule/Acebull_100_Capsule_7.json\n"
     ]
    },
    {
     "name": "stderr",
     "output_type": "stream",
     "text": [
      "100%|██████████| 11/11 [00:00<00:00, 4577.12it/s]\n"
     ]
    },
    {
     "name": "stdout",
     "output_type": "stream",
     "text": [
      "Image_path: ../images-115-max-keys-400/images/Acebull_100_Capsule/Acebull_100_Capsule1.jpg\n",
      "Dir name: Acebull_100_Capsule\n",
      "Outpath: metaanalysis/Acebull_100_Capsule/Acebull_100_Capsule_8.json\n"
     ]
    },
    {
     "name": "stderr",
     "output_type": "stream",
     "text": [
      "100%|██████████| 55/55 [00:00<00:00, 56805.40it/s]\n"
     ]
    },
    {
     "name": "stdout",
     "output_type": "stream",
     "text": [
      "Dir: ../images-115-max-keys-400/images/Acendol-R_Capsule_SR\n",
      "Image_path: ../images-115-max-keys-400/images/Acendol-R_Capsule_SR/Acendol-R_Capsule_SR0_gaussian_noise.jpg\n",
      "Dir name: Acendol-R_Capsule_SR\n",
      "Outpath: metaanalysis/Acendol-R_Capsule_SR/Acendol-R_Capsule_SR_1.json\n"
     ]
    },
    {
     "name": "stderr",
     "output_type": "stream",
     "text": [
      "100%|██████████| 11/11 [00:00<00:00, 20496.38it/s]\n"
     ]
    },
    {
     "name": "stdout",
     "output_type": "stream",
     "text": [
      "Image_path: ../images-115-max-keys-400/images/Acendol-R_Capsule_SR/Acendol-R_Capsule_SR0_blur.jpg\n",
      "Dir name: Acendol-R_Capsule_SR\n",
      "Outpath: metaanalysis/Acendol-R_Capsule_SR/Acendol-R_Capsule_SR_2.json\n"
     ]
    },
    {
     "name": "stderr",
     "output_type": "stream",
     "text": [
      "100%|██████████| 7/7 [00:00<00:00, 14585.26it/s]\n"
     ]
    },
    {
     "name": "stdout",
     "output_type": "stream",
     "text": [
      "Image_path: ../images-115-max-keys-400/images/Acendol-R_Capsule_SR/Acendol-R_Capsule_SR0_rotated.jpg\n",
      "Dir name: Acendol-R_Capsule_SR\n",
      "Outpath: metaanalysis/Acendol-R_Capsule_SR/Acendol-R_Capsule_SR_3.json\n"
     ]
    },
    {
     "name": "stderr",
     "output_type": "stream",
     "text": [
      "100%|██████████| 20/20 [00:00<00:00, 19728.62it/s]\n"
     ]
    },
    {
     "name": "stdout",
     "output_type": "stream",
     "text": [
      "Image_path: ../images-115-max-keys-400/images/Acendol-R_Capsule_SR/Acendol-R_Capsule_SR0.jpg\n",
      "Dir name: Acendol-R_Capsule_SR\n",
      "Outpath: metaanalysis/Acendol-R_Capsule_SR/Acendol-R_Capsule_SR_4.json\n"
     ]
    },
    {
     "name": "stderr",
     "output_type": "stream",
     "text": [
      "100%|██████████| 87/87 [00:00<00:00, 33020.04it/s]\n"
     ]
    },
    {
     "name": "stdout",
     "output_type": "stream",
     "text": [
      "Dir: ../images-115-max-keys-400/images/Accardi_MR_Tablet_MR\n",
      "Image_path: ../images-115-max-keys-400/images/Accardi_MR_Tablet_MR/Accardi_MR_Tablet_MR1.jpg\n",
      "Dir name: Accardi_MR_Tablet_MR\n",
      "Outpath: metaanalysis/Accardi_MR_Tablet_MR/Accardi_MR_Tablet_MR_1.json\n"
     ]
    },
    {
     "name": "stderr",
     "output_type": "stream",
     "text": [
      "100%|██████████| 35/35 [00:00<00:00, 32045.54it/s]\n"
     ]
    },
    {
     "name": "stdout",
     "output_type": "stream",
     "text": [
      "Image_path: ../images-115-max-keys-400/images/Accardi_MR_Tablet_MR/Accardi_MR_Tablet_MR0.jpg\n",
      "Dir name: Accardi_MR_Tablet_MR\n",
      "Outpath: metaanalysis/Accardi_MR_Tablet_MR/Accardi_MR_Tablet_MR_2.json\n"
     ]
    },
    {
     "name": "stderr",
     "output_type": "stream",
     "text": [
      "100%|██████████| 12/12 [00:00<00:00, 8698.87it/s]\n"
     ]
    },
    {
     "name": "stdout",
     "output_type": "stream",
     "text": [
      "Image_path: ../images-115-max-keys-400/images/Accardi_MR_Tablet_MR/Accardi_MR_Tablet_MR1_gaussian_noise.jpg\n",
      "Dir name: Accardi_MR_Tablet_MR\n",
      "Outpath: metaanalysis/Accardi_MR_Tablet_MR/Accardi_MR_Tablet_MR_3.json\n"
     ]
    },
    {
     "name": "stderr",
     "output_type": "stream",
     "text": [
      "100%|██████████| 26/26 [00:00<00:00, 20587.48it/s]\n"
     ]
    },
    {
     "name": "stdout",
     "output_type": "stream",
     "text": [
      "Image_path: ../images-115-max-keys-400/images/Accardi_MR_Tablet_MR/Accardi_MR_Tablet_MR0_rotated.jpg\n",
      "Dir name: Accardi_MR_Tablet_MR\n",
      "Outpath: metaanalysis/Accardi_MR_Tablet_MR/Accardi_MR_Tablet_MR_4.json\n"
     ]
    },
    {
     "name": "stderr",
     "output_type": "stream",
     "text": [
      "100%|██████████| 12/12 [00:00<00:00, 29537.35it/s]\n"
     ]
    },
    {
     "name": "stdout",
     "output_type": "stream",
     "text": [
      "Image_path: ../images-115-max-keys-400/images/Accardi_MR_Tablet_MR/Accardi_MR_Tablet_MR0_blur.jpg\n",
      "Dir name: Accardi_MR_Tablet_MR\n",
      "Outpath: metaanalysis/Accardi_MR_Tablet_MR/Accardi_MR_Tablet_MR_5.json\n"
     ]
    },
    {
     "name": "stderr",
     "output_type": "stream",
     "text": [
      "100%|██████████| 7/7 [00:00<00:00, 13505.12it/s]\n"
     ]
    },
    {
     "name": "stdout",
     "output_type": "stream",
     "text": [
      "Image_path: ../images-115-max-keys-400/images/Accardi_MR_Tablet_MR/Accardi_MR_Tablet_MR1_rotated.jpg\n",
      "Dir name: Accardi_MR_Tablet_MR\n",
      "Outpath: metaanalysis/Accardi_MR_Tablet_MR/Accardi_MR_Tablet_MR_6.json\n"
     ]
    },
    {
     "name": "stderr",
     "output_type": "stream",
     "text": [
      "100%|██████████| 17/17 [00:00<00:00, 11034.23it/s]\n"
     ]
    },
    {
     "name": "stdout",
     "output_type": "stream",
     "text": [
      "Image_path: ../images-115-max-keys-400/images/Accardi_MR_Tablet_MR/Accardi_MR_Tablet_MR1_blur.jpg\n",
      "Dir name: Accardi_MR_Tablet_MR\n",
      "Outpath: metaanalysis/Accardi_MR_Tablet_MR/Accardi_MR_Tablet_MR_7.json\n"
     ]
    },
    {
     "name": "stderr",
     "output_type": "stream",
     "text": [
      "100%|██████████| 9/9 [00:00<00:00, 29606.85it/s]\n"
     ]
    },
    {
     "name": "stdout",
     "output_type": "stream",
     "text": [
      "Image_path: ../images-115-max-keys-400/images/Accardi_MR_Tablet_MR/Accardi_MR_Tablet_MR0_gaussian_noise.jpg\n",
      "Dir name: Accardi_MR_Tablet_MR\n",
      "Outpath: metaanalysis/Accardi_MR_Tablet_MR/Accardi_MR_Tablet_MR_8.json\n"
     ]
    },
    {
     "name": "stderr",
     "output_type": "stream",
     "text": [
      "100%|██████████| 10/10 [00:00<00:00, 15391.94it/s]\n"
     ]
    },
    {
     "name": "stdout",
     "output_type": "stream",
     "text": [
      "Dir: ../images-115-max-keys-400/images/AB2_Kit\n",
      "Image_path: ../images-115-max-keys-400/images/AB2_Kit/AB2_Kit0_gaussian_noise.jpg\n",
      "Dir name: AB2_Kit\n",
      "Outpath: metaanalysis/AB2_Kit/AB2_Kit_1.json\n"
     ]
    },
    {
     "name": "stderr",
     "output_type": "stream",
     "text": [
      "100%|██████████| 9/9 [00:00<00:00, 7187.50it/s]\n"
     ]
    },
    {
     "name": "stdout",
     "output_type": "stream",
     "text": [
      "Image_path: ../images-115-max-keys-400/images/AB2_Kit/AB2_Kit0.jpg\n",
      "Dir name: AB2_Kit\n",
      "Outpath: metaanalysis/AB2_Kit/AB2_Kit_2.json\n"
     ]
    },
    {
     "name": "stderr",
     "output_type": "stream",
     "text": [
      "100%|██████████| 12/12 [00:00<00:00, 6560.43it/s]\n"
     ]
    },
    {
     "name": "stdout",
     "output_type": "stream",
     "text": [
      "Image_path: ../images-115-max-keys-400/images/AB2_Kit/AB2_Kit0_blur.jpg\n",
      "Dir name: AB2_Kit\n",
      "Outpath: metaanalysis/AB2_Kit/AB2_Kit_3.json\n"
     ]
    },
    {
     "name": "stderr",
     "output_type": "stream",
     "text": [
      "100%|██████████| 8/8 [00:00<00:00, 21974.09it/s]\n"
     ]
    },
    {
     "name": "stdout",
     "output_type": "stream",
     "text": [
      "Image_path: ../images-115-max-keys-400/images/AB2_Kit/AB2_Kit0_rotated.jpg\n",
      "Dir name: AB2_Kit\n",
      "Outpath: metaanalysis/AB2_Kit/AB2_Kit_4.json\n"
     ]
    },
    {
     "name": "stderr",
     "output_type": "stream",
     "text": [
      "100%|██████████| 8/8 [00:00<00:00, 22810.63it/s]\n"
     ]
    },
    {
     "name": "stdout",
     "output_type": "stream",
     "text": [
      "Dir: ../images-115-max-keys-400/images/Abmac_Tablet\n",
      "Image_path: ../images-115-max-keys-400/images/Abmac_Tablet/Abmac_Tablet0_rotated.jpg\n",
      "Dir name: Abmac_Tablet\n",
      "Outpath: metaanalysis/Abmac_Tablet/Abmac_Tablet_1.json\n"
     ]
    },
    {
     "name": "stderr",
     "output_type": "stream",
     "text": [
      "100%|██████████| 8/8 [00:00<00:00, 31300.78it/s]\n"
     ]
    },
    {
     "name": "stdout",
     "output_type": "stream",
     "text": [
      "Image_path: ../images-115-max-keys-400/images/Abmac_Tablet/Abmac_Tablet2_blur.jpg\n",
      "Dir name: Abmac_Tablet\n",
      "Outpath: metaanalysis/Abmac_Tablet/Abmac_Tablet_2.json\n"
     ]
    },
    {
     "name": "stderr",
     "output_type": "stream",
     "text": [
      "100%|██████████| 45/45 [00:00<00:00, 10993.28it/s]\n"
     ]
    },
    {
     "name": "stdout",
     "output_type": "stream",
     "text": [
      "Image_path: ../images-115-max-keys-400/images/Abmac_Tablet/Abmac_Tablet0_blur.jpg\n",
      "Dir name: Abmac_Tablet\n",
      "Outpath: metaanalysis/Abmac_Tablet/Abmac_Tablet_3.json\n"
     ]
    },
    {
     "name": "stderr",
     "output_type": "stream",
     "text": [
      "100%|██████████| 9/9 [00:00<00:00, 16792.14it/s]\n"
     ]
    },
    {
     "name": "stdout",
     "output_type": "stream",
     "text": [
      "Image_path: ../images-115-max-keys-400/images/Abmac_Tablet/Abmac_Tablet2.jpg\n",
      "Dir name: Abmac_Tablet\n",
      "Outpath: metaanalysis/Abmac_Tablet/Abmac_Tablet_4.json\n"
     ]
    },
    {
     "name": "stderr",
     "output_type": "stream",
     "text": [
      "100%|██████████| 52/52 [00:00<00:00, 30875.40it/s]\n"
     ]
    },
    {
     "name": "stdout",
     "output_type": "stream",
     "text": [
      "Image_path: ../images-115-max-keys-400/images/Abmac_Tablet/Abmac_Tablet2_rotated.jpg\n",
      "Dir name: Abmac_Tablet\n",
      "Outpath: metaanalysis/Abmac_Tablet/Abmac_Tablet_5.json\n"
     ]
    },
    {
     "name": "stderr",
     "output_type": "stream",
     "text": [
      "100%|██████████| 45/45 [00:00<00:00, 30640.21it/s]\n"
     ]
    },
    {
     "name": "stdout",
     "output_type": "stream",
     "text": [
      "Image_path: ../images-115-max-keys-400/images/Abmac_Tablet/Abmac_Tablet1_blur.jpg\n",
      "Dir name: Abmac_Tablet\n",
      "Outpath: metaanalysis/Abmac_Tablet/Abmac_Tablet_6.json\n"
     ]
    },
    {
     "name": "stderr",
     "output_type": "stream",
     "text": [
      "100%|██████████| 73/73 [00:00<00:00, 17597.80it/s]\n"
     ]
    },
    {
     "name": "stdout",
     "output_type": "stream",
     "text": [
      "Image_path: ../images-115-max-keys-400/images/Abmac_Tablet/Abmac_Tablet2_gaussian_noise.jpg\n",
      "Dir name: Abmac_Tablet\n",
      "Outpath: metaanalysis/Abmac_Tablet/Abmac_Tablet_7.json\n"
     ]
    },
    {
     "name": "stderr",
     "output_type": "stream",
     "text": [
      "100%|██████████| 48/48 [00:00<00:00, 56205.08it/s]\n"
     ]
    },
    {
     "name": "stdout",
     "output_type": "stream",
     "text": [
      "Image_path: ../images-115-max-keys-400/images/Abmac_Tablet/Abmac_Tablet0.jpg\n",
      "Dir name: Abmac_Tablet\n",
      "Outpath: metaanalysis/Abmac_Tablet/Abmac_Tablet_8.json\n"
     ]
    },
    {
     "name": "stderr",
     "output_type": "stream",
     "text": [
      "100%|██████████| 9/9 [00:00<00:00, 32570.09it/s]\n"
     ]
    },
    {
     "name": "stdout",
     "output_type": "stream",
     "text": [
      "Image_path: ../images-115-max-keys-400/images/Abmac_Tablet/Abmac_Tablet1.jpg\n",
      "Dir name: Abmac_Tablet\n",
      "Outpath: metaanalysis/Abmac_Tablet/Abmac_Tablet_9.json\n"
     ]
    },
    {
     "name": "stderr",
     "output_type": "stream",
     "text": [
      "100%|██████████| 86/86 [00:00<00:00, 35450.63it/s]\n"
     ]
    },
    {
     "name": "stdout",
     "output_type": "stream",
     "text": [
      "Image_path: ../images-115-max-keys-400/images/Abmac_Tablet/Abmac_Tablet1_gaussian_noise.jpg\n",
      "Dir name: Abmac_Tablet\n",
      "Outpath: metaanalysis/Abmac_Tablet/Abmac_Tablet_10.json\n"
     ]
    },
    {
     "name": "stderr",
     "output_type": "stream",
     "text": [
      "100%|██████████| 82/82 [00:00<00:00, 32113.25it/s]\n"
     ]
    },
    {
     "name": "stdout",
     "output_type": "stream",
     "text": [
      "Image_path: ../images-115-max-keys-400/images/Abmac_Tablet/Abmac_Tablet0_gaussian_noise.jpg\n",
      "Dir name: Abmac_Tablet\n",
      "Outpath: metaanalysis/Abmac_Tablet/Abmac_Tablet_11.json\n"
     ]
    },
    {
     "name": "stderr",
     "output_type": "stream",
     "text": [
      "100%|██████████| 8/8 [00:00<00:00, 7535.24it/s]\n"
     ]
    },
    {
     "name": "stdout",
     "output_type": "stream",
     "text": [
      "Image_path: ../images-115-max-keys-400/images/Abmac_Tablet/Abmac_Tablet1_rotated.jpg\n",
      "Dir name: Abmac_Tablet\n",
      "Outpath: metaanalysis/Abmac_Tablet/Abmac_Tablet_12.json\n"
     ]
    },
    {
     "name": "stderr",
     "output_type": "stream",
     "text": [
      "100%|██████████| 74/74 [00:00<00:00, 8594.41it/s]\n"
     ]
    },
    {
     "name": "stdout",
     "output_type": "stream",
     "text": [
      "Dir: ../images-115-max-keys-400/images/Abel_40_Tablet\n",
      "Image_path: ../images-115-max-keys-400/images/Abel_40_Tablet/Abel_40_Tablet0.jpg\n",
      "Dir name: Abel_40_Tablet\n",
      "Outpath: metaanalysis/Abel_40_Tablet/Abel_40_Tablet_1.json\n"
     ]
    },
    {
     "name": "stderr",
     "output_type": "stream",
     "text": [
      "100%|██████████| 10/10 [00:00<00:00, 9504.43it/s]\n"
     ]
    },
    {
     "name": "stdout",
     "output_type": "stream",
     "text": [
      "Image_path: ../images-115-max-keys-400/images/Abel_40_Tablet/Abel_40_Tablet0_rotated.jpg\n",
      "Dir name: Abel_40_Tablet\n",
      "Outpath: metaanalysis/Abel_40_Tablet/Abel_40_Tablet_2.json\n"
     ]
    },
    {
     "name": "stderr",
     "output_type": "stream",
     "text": [
      "100%|██████████| 10/10 [00:00<00:00, 24146.83it/s]\n"
     ]
    },
    {
     "name": "stdout",
     "output_type": "stream",
     "text": [
      "Image_path: ../images-115-max-keys-400/images/Abel_40_Tablet/Abel_40_Tablet0_gaussian_noise.jpg\n",
      "Dir name: Abel_40_Tablet\n",
      "Outpath: metaanalysis/Abel_40_Tablet/Abel_40_Tablet_3.json\n"
     ]
    },
    {
     "name": "stderr",
     "output_type": "stream",
     "text": [
      "100%|██████████| 2/2 [00:00<00:00, 8858.09it/s]\n"
     ]
    },
    {
     "name": "stdout",
     "output_type": "stream",
     "text": [
      "Image_path: ../images-115-max-keys-400/images/Abel_40_Tablet/Abel_40_Tablet1_rotated.jpg\n",
      "Dir name: Abel_40_Tablet\n",
      "Outpath: metaanalysis/Abel_40_Tablet/Abel_40_Tablet_4.json\n"
     ]
    },
    {
     "name": "stderr",
     "output_type": "stream",
     "text": [
      "100%|██████████| 12/12 [00:00<00:00, 6549.34it/s]\n"
     ]
    },
    {
     "name": "stdout",
     "output_type": "stream",
     "text": [
      "Image_path: ../images-115-max-keys-400/images/Abel_40_Tablet/Abel_40_Tablet0_blur.jpg\n",
      "Dir name: Abel_40_Tablet\n",
      "Outpath: metaanalysis/Abel_40_Tablet/Abel_40_Tablet_5.json\n"
     ]
    },
    {
     "name": "stderr",
     "output_type": "stream",
     "text": [
      "100%|██████████| 10/10 [00:00<00:00, 32819.28it/s]\n"
     ]
    },
    {
     "name": "stdout",
     "output_type": "stream",
     "text": [
      "Image_path: ../images-115-max-keys-400/images/Abel_40_Tablet/Abel_40_Tablet1_blur.jpg\n",
      "Dir name: Abel_40_Tablet\n",
      "Outpath: metaanalysis/Abel_40_Tablet/Abel_40_Tablet_6.json\n"
     ]
    },
    {
     "name": "stderr",
     "output_type": "stream",
     "text": [
      "100%|██████████| 11/11 [00:00<00:00, 16053.36it/s]\n"
     ]
    },
    {
     "name": "stdout",
     "output_type": "stream",
     "text": [
      "Image_path: ../images-115-max-keys-400/images/Abel_40_Tablet/Abel_40_Tablet2_gaussian_noise.jpg\n",
      "Dir name: Abel_40_Tablet\n",
      "Outpath: metaanalysis/Abel_40_Tablet/Abel_40_Tablet_7.json\n"
     ]
    },
    {
     "name": "stderr",
     "output_type": "stream",
     "text": [
      "100%|██████████| 23/23 [00:00<00:00, 26693.14it/s]\n"
     ]
    },
    {
     "name": "stdout",
     "output_type": "stream",
     "text": [
      "Image_path: ../images-115-max-keys-400/images/Abel_40_Tablet/Abel_40_Tablet2_blur.jpg\n",
      "Dir name: Abel_40_Tablet\n",
      "Outpath: metaanalysis/Abel_40_Tablet/Abel_40_Tablet_8.json\n"
     ]
    },
    {
     "name": "stderr",
     "output_type": "stream",
     "text": [
      "100%|██████████| 27/27 [00:00<00:00, 24845.59it/s]\n"
     ]
    },
    {
     "name": "stdout",
     "output_type": "stream",
     "text": [
      "Image_path: ../images-115-max-keys-400/images/Abel_40_Tablet/Abel_40_Tablet1.jpg\n",
      "Dir name: Abel_40_Tablet\n",
      "Outpath: metaanalysis/Abel_40_Tablet/Abel_40_Tablet_9.json\n"
     ]
    },
    {
     "name": "stderr",
     "output_type": "stream",
     "text": [
      "100%|██████████| 12/12 [00:00<00:00, 23585.59it/s]\n"
     ]
    },
    {
     "name": "stdout",
     "output_type": "stream",
     "text": [
      "Image_path: ../images-115-max-keys-400/images/Abel_40_Tablet/Abel_40_Tablet1_gaussian_noise.jpg\n",
      "Dir name: Abel_40_Tablet\n",
      "Outpath: metaanalysis/Abel_40_Tablet/Abel_40_Tablet_10.json\n"
     ]
    },
    {
     "name": "stderr",
     "output_type": "stream",
     "text": [
      "100%|██████████| 7/7 [00:00<00:00, 8505.25it/s]\n"
     ]
    },
    {
     "name": "stdout",
     "output_type": "stream",
     "text": [
      "Image_path: ../images-115-max-keys-400/images/Abel_40_Tablet/Abel_40_Tablet2.jpg\n",
      "Dir name: Abel_40_Tablet\n",
      "Outpath: metaanalysis/Abel_40_Tablet/Abel_40_Tablet_11.json\n"
     ]
    },
    {
     "name": "stderr",
     "output_type": "stream",
     "text": [
      "100%|██████████| 81/81 [00:00<00:00, 21460.34it/s]\n"
     ]
    },
    {
     "name": "stdout",
     "output_type": "stream",
     "text": [
      "Image_path: ../images-115-max-keys-400/images/Abel_40_Tablet/Abel_40_Tablet2_rotated.jpg\n",
      "Dir name: Abel_40_Tablet\n",
      "Outpath: metaanalysis/Abel_40_Tablet/Abel_40_Tablet_12.json\n"
     ]
    },
    {
     "name": "stderr",
     "output_type": "stream",
     "text": [
      "100%|██████████| 52/52 [00:00<00:00, 67088.22it/s]\n"
     ]
    },
    {
     "name": "stdout",
     "output_type": "stream",
     "text": [
      "Dir: ../images-115-max-keys-400/images/AB_Phylline_Capsule\n",
      "Image_path: ../images-115-max-keys-400/images/AB_Phylline_Capsule/AB_Phylline_Capsule0.jpg\n",
      "Dir name: AB_Phylline_Capsule\n",
      "Outpath: metaanalysis/AB_Phylline_Capsule/AB_Phylline_Capsule_1.json\n"
     ]
    },
    {
     "name": "stderr",
     "output_type": "stream",
     "text": [
      "100%|██████████| 7/7 [00:00<00:00, 6124.35it/s]\n"
     ]
    },
    {
     "name": "stdout",
     "output_type": "stream",
     "text": [
      "Image_path: ../images-115-max-keys-400/images/AB_Phylline_Capsule/AB_Phylline_Capsule2_blur.jpg\n",
      "Dir name: AB_Phylline_Capsule\n",
      "Outpath: metaanalysis/AB_Phylline_Capsule/AB_Phylline_Capsule_2.json\n"
     ]
    },
    {
     "name": "stderr",
     "output_type": "stream",
     "text": [
      "100%|██████████| 37/37 [00:00<00:00, 25470.09it/s]\n"
     ]
    },
    {
     "name": "stdout",
     "output_type": "stream",
     "text": [
      "Image_path: ../images-115-max-keys-400/images/AB_Phylline_Capsule/AB_Phylline_Capsule0_gaussian_noise.jpg\n",
      "Dir name: AB_Phylline_Capsule\n",
      "Outpath: metaanalysis/AB_Phylline_Capsule/AB_Phylline_Capsule_3.json\n"
     ]
    },
    {
     "name": "stderr",
     "output_type": "stream",
     "text": [
      "100%|██████████| 3/3 [00:00<00:00, 3049.66it/s]\n"
     ]
    },
    {
     "name": "stdout",
     "output_type": "stream",
     "text": [
      "Image_path: ../images-115-max-keys-400/images/AB_Phylline_Capsule/AB_Phylline_Capsule0_blur.jpg\n",
      "Dir name: AB_Phylline_Capsule\n",
      "Outpath: metaanalysis/AB_Phylline_Capsule/AB_Phylline_Capsule_4.json\n"
     ]
    },
    {
     "name": "stderr",
     "output_type": "stream",
     "text": [
      "100%|██████████| 7/7 [00:00<00:00, 19945.74it/s]\n"
     ]
    },
    {
     "name": "stdout",
     "output_type": "stream",
     "text": [
      "Image_path: ../images-115-max-keys-400/images/AB_Phylline_Capsule/AB_Phylline_Capsule0_rotated.jpg\n",
      "Dir name: AB_Phylline_Capsule\n",
      "Outpath: metaanalysis/AB_Phylline_Capsule/AB_Phylline_Capsule_5.json\n"
     ]
    },
    {
     "name": "stderr",
     "output_type": "stream",
     "text": [
      "100%|██████████| 6/6 [00:00<00:00, 14917.50it/s]\n"
     ]
    },
    {
     "name": "stdout",
     "output_type": "stream",
     "text": [
      "Image_path: ../images-115-max-keys-400/images/AB_Phylline_Capsule/AB_Phylline_Capsule2_gaussian_noise.jpg\n",
      "Dir name: AB_Phylline_Capsule\n",
      "Outpath: metaanalysis/AB_Phylline_Capsule/AB_Phylline_Capsule_6.json\n"
     ]
    },
    {
     "name": "stderr",
     "output_type": "stream",
     "text": [
      "100%|██████████| 18/18 [00:00<00:00, 10722.55it/s]\n"
     ]
    },
    {
     "name": "stdout",
     "output_type": "stream",
     "text": [
      "Image_path: ../images-115-max-keys-400/images/AB_Phylline_Capsule/AB_Phylline_Capsule1_rotated.jpg\n",
      "Dir name: AB_Phylline_Capsule\n",
      "Outpath: metaanalysis/AB_Phylline_Capsule/AB_Phylline_Capsule_7.json\n"
     ]
    },
    {
     "name": "stderr",
     "output_type": "stream",
     "text": [
      "100%|██████████| 8/8 [00:00<00:00, 8309.67it/s]\n"
     ]
    },
    {
     "name": "stdout",
     "output_type": "stream",
     "text": [
      "Image_path: ../images-115-max-keys-400/images/AB_Phylline_Capsule/AB_Phylline_Capsule2_rotated.jpg\n",
      "Dir name: AB_Phylline_Capsule\n",
      "Outpath: metaanalysis/AB_Phylline_Capsule/AB_Phylline_Capsule_8.json\n"
     ]
    },
    {
     "name": "stderr",
     "output_type": "stream",
     "text": [
      "100%|██████████| 59/59 [00:00<00:00, 8550.93it/s]\n"
     ]
    },
    {
     "name": "stdout",
     "output_type": "stream",
     "text": [
      "Image_path: ../images-115-max-keys-400/images/AB_Phylline_Capsule/AB_Phylline_Capsule1_gaussian_noise.jpg\n",
      "Dir name: AB_Phylline_Capsule\n",
      "Outpath: metaanalysis/AB_Phylline_Capsule/AB_Phylline_Capsule_9.json\n"
     ]
    },
    {
     "name": "stderr",
     "output_type": "stream",
     "text": [
      "100%|██████████| 6/6 [00:00<00:00, 21509.25it/s]\n"
     ]
    },
    {
     "name": "stdout",
     "output_type": "stream",
     "text": [
      "Image_path: ../images-115-max-keys-400/images/AB_Phylline_Capsule/AB_Phylline_Capsule2.jpg\n",
      "Dir name: AB_Phylline_Capsule\n",
      "Outpath: metaanalysis/AB_Phylline_Capsule/AB_Phylline_Capsule_10.json\n"
     ]
    },
    {
     "name": "stderr",
     "output_type": "stream",
     "text": [
      "100%|██████████| 63/63 [00:00<00:00, 29226.98it/s]\n"
     ]
    },
    {
     "name": "stdout",
     "output_type": "stream",
     "text": [
      "Image_path: ../images-115-max-keys-400/images/AB_Phylline_Capsule/AB_Phylline_Capsule1.jpg\n",
      "Dir name: AB_Phylline_Capsule\n",
      "Outpath: metaanalysis/AB_Phylline_Capsule/AB_Phylline_Capsule_11.json\n"
     ]
    },
    {
     "name": "stderr",
     "output_type": "stream",
     "text": [
      "100%|██████████| 9/9 [00:00<00:00, 31043.37it/s]\n"
     ]
    },
    {
     "name": "stdout",
     "output_type": "stream",
     "text": [
      "Image_path: ../images-115-max-keys-400/images/AB_Phylline_Capsule/AB_Phylline_Capsule1_blur.jpg\n",
      "Dir name: AB_Phylline_Capsule\n",
      "Outpath: metaanalysis/AB_Phylline_Capsule/AB_Phylline_Capsule_12.json\n"
     ]
    },
    {
     "name": "stderr",
     "output_type": "stream",
     "text": [
      "100%|██████████| 9/9 [00:00<00:00, 4783.16it/s]\n"
     ]
    },
    {
     "name": "stdout",
     "output_type": "stream",
     "text": [
      "Dir: ../images-115-max-keys-400/images/Ace_Plus_Tablet\n",
      "Image_path: ../images-115-max-keys-400/images/Ace_Plus_Tablet/Ace_Plus_Tablet2_blur.jpg\n",
      "Dir name: Ace_Plus_Tablet\n",
      "Outpath: metaanalysis/Ace_Plus_Tablet/Ace_Plus_Tablet_1.json\n"
     ]
    },
    {
     "name": "stderr",
     "output_type": "stream",
     "text": [
      "100%|██████████| 90/90 [00:00<00:00, 31290.40it/s]\n"
     ]
    },
    {
     "name": "stdout",
     "output_type": "stream",
     "text": [
      "Image_path: ../images-115-max-keys-400/images/Ace_Plus_Tablet/Ace_Plus_Tablet2.jpg\n",
      "Dir name: Ace_Plus_Tablet\n",
      "Outpath: metaanalysis/Ace_Plus_Tablet/Ace_Plus_Tablet_2.json\n"
     ]
    },
    {
     "name": "stderr",
     "output_type": "stream",
     "text": [
      "100%|██████████| 88/88 [00:00<00:00, 38536.10it/s]\n"
     ]
    },
    {
     "name": "stdout",
     "output_type": "stream",
     "text": [
      "Image_path: ../images-115-max-keys-400/images/Ace_Plus_Tablet/Ace_Plus_Tablet0_rotated.jpg\n",
      "Dir name: Ace_Plus_Tablet\n",
      "Outpath: metaanalysis/Ace_Plus_Tablet/Ace_Plus_Tablet_3.json\n"
     ]
    },
    {
     "name": "stderr",
     "output_type": "stream",
     "text": [
      "100%|██████████| 8/8 [00:00<00:00, 14557.24it/s]\n"
     ]
    },
    {
     "name": "stdout",
     "output_type": "stream",
     "text": [
      "Image_path: ../images-115-max-keys-400/images/Ace_Plus_Tablet/Ace_Plus_Tablet1_gaussian_noise.jpg\n",
      "Dir name: Ace_Plus_Tablet\n",
      "Outpath: metaanalysis/Ace_Plus_Tablet/Ace_Plus_Tablet_4.json\n"
     ]
    },
    {
     "name": "stderr",
     "output_type": "stream",
     "text": [
      "100%|██████████| 9/9 [00:00<00:00, 24916.66it/s]\n"
     ]
    },
    {
     "name": "stdout",
     "output_type": "stream",
     "text": [
      "Image_path: ../images-115-max-keys-400/images/Ace_Plus_Tablet/Ace_Plus_Tablet1.jpg\n",
      "Dir name: Ace_Plus_Tablet\n",
      "Outpath: metaanalysis/Ace_Plus_Tablet/Ace_Plus_Tablet_5.json\n"
     ]
    },
    {
     "name": "stderr",
     "output_type": "stream",
     "text": [
      "100%|██████████| 14/14 [00:00<00:00, 32804.61it/s]\n"
     ]
    },
    {
     "name": "stdout",
     "output_type": "stream",
     "text": [
      "Image_path: ../images-115-max-keys-400/images/Ace_Plus_Tablet/Ace_Plus_Tablet0_gaussian_noise.jpg\n",
      "Dir name: Ace_Plus_Tablet\n",
      "Outpath: metaanalysis/Ace_Plus_Tablet/Ace_Plus_Tablet_6.json\n"
     ]
    },
    {
     "name": "stderr",
     "output_type": "stream",
     "text": [
      "100%|██████████| 3/3 [00:00<00:00, 3474.98it/s]\n"
     ]
    },
    {
     "name": "stdout",
     "output_type": "stream",
     "text": [
      "Image_path: ../images-115-max-keys-400/images/Ace_Plus_Tablet/Ace_Plus_Tablet1_blur.jpg\n",
      "Dir name: Ace_Plus_Tablet\n",
      "Outpath: metaanalysis/Ace_Plus_Tablet/Ace_Plus_Tablet_7.json\n"
     ]
    },
    {
     "name": "stderr",
     "output_type": "stream",
     "text": [
      "100%|██████████| 9/9 [00:00<00:00, 14490.88it/s]\n"
     ]
    },
    {
     "name": "stdout",
     "output_type": "stream",
     "text": [
      "Image_path: ../images-115-max-keys-400/images/Ace_Plus_Tablet/Ace_Plus_Tablet0.jpg\n",
      "Dir name: Ace_Plus_Tablet\n",
      "Outpath: metaanalysis/Ace_Plus_Tablet/Ace_Plus_Tablet_8.json\n"
     ]
    },
    {
     "name": "stderr",
     "output_type": "stream",
     "text": [
      "100%|██████████| 7/7 [00:00<00:00, 6669.72it/s]\n"
     ]
    },
    {
     "name": "stdout",
     "output_type": "stream",
     "text": [
      "Image_path: ../images-115-max-keys-400/images/Ace_Plus_Tablet/Ace_Plus_Tablet0_blur.jpg\n",
      "Dir name: Ace_Plus_Tablet\n",
      "Outpath: metaanalysis/Ace_Plus_Tablet/Ace_Plus_Tablet_9.json\n"
     ]
    },
    {
     "name": "stderr",
     "output_type": "stream",
     "text": [
      "100%|██████████| 4/4 [00:00<00:00, 2648.76it/s]\n"
     ]
    },
    {
     "name": "stdout",
     "output_type": "stream",
     "text": [
      "Image_path: ../images-115-max-keys-400/images/Ace_Plus_Tablet/Ace_Plus_Tablet1_rotated.jpg\n",
      "Dir name: Ace_Plus_Tablet\n",
      "Outpath: metaanalysis/Ace_Plus_Tablet/Ace_Plus_Tablet_10.json\n"
     ]
    },
    {
     "name": "stderr",
     "output_type": "stream",
     "text": [
      "100%|██████████| 8/8 [00:00<00:00, 5087.86it/s]\n"
     ]
    },
    {
     "name": "stdout",
     "output_type": "stream",
     "text": [
      "Image_path: ../images-115-max-keys-400/images/Ace_Plus_Tablet/Ace_Plus_Tablet2_gaussian_noise.jpg\n",
      "Dir name: Ace_Plus_Tablet\n",
      "Outpath: metaanalysis/Ace_Plus_Tablet/Ace_Plus_Tablet_11.json\n"
     ]
    },
    {
     "name": "stderr",
     "output_type": "stream",
     "text": [
      "100%|██████████| 71/71 [00:00<00:00, 15544.19it/s]\n"
     ]
    },
    {
     "name": "stdout",
     "output_type": "stream",
     "text": [
      "Image_path: ../images-115-max-keys-400/images/Ace_Plus_Tablet/Ace_Plus_Tablet2_rotated.jpg\n",
      "Dir name: Ace_Plus_Tablet\n",
      "Outpath: metaanalysis/Ace_Plus_Tablet/Ace_Plus_Tablet_12.json\n"
     ]
    },
    {
     "name": "stderr",
     "output_type": "stream",
     "text": [
      "100%|██████████| 88/88 [00:00<00:00, 36887.74it/s]\n"
     ]
    },
    {
     "name": "stdout",
     "output_type": "stream",
     "text": [
      "Dir: ../images-115-max-keys-400/images/Ace-Proxyvon_SP_Tablet\n",
      "Image_path: ../images-115-max-keys-400/images/Ace-Proxyvon_SP_Tablet/Ace-Proxyvon_SP_Tablet2_blur.jpg\n",
      "Dir name: Ace-Proxyvon_SP_Tablet\n",
      "Outpath: metaanalysis/Ace-Proxyvon_SP_Tablet/Ace-Proxyvon_SP_Tablet_1.json\n"
     ]
    },
    {
     "name": "stderr",
     "output_type": "stream",
     "text": [
      "100%|██████████| 29/29 [00:00<00:00, 38724.87it/s]\n"
     ]
    },
    {
     "name": "stdout",
     "output_type": "stream",
     "text": [
      "Image_path: ../images-115-max-keys-400/images/Ace-Proxyvon_SP_Tablet/Ace-Proxyvon_SP_Tablet1.jpg\n",
      "Dir name: Ace-Proxyvon_SP_Tablet\n",
      "Outpath: metaanalysis/Ace-Proxyvon_SP_Tablet/Ace-Proxyvon_SP_Tablet_2.json\n"
     ]
    },
    {
     "name": "stderr",
     "output_type": "stream",
     "text": [
      "100%|██████████| 10/10 [00:00<00:00, 21151.31it/s]\n"
     ]
    },
    {
     "name": "stdout",
     "output_type": "stream",
     "text": [
      "Image_path: ../images-115-max-keys-400/images/Ace-Proxyvon_SP_Tablet/Ace-Proxyvon_SP_Tablet0.jpg\n",
      "Dir name: Ace-Proxyvon_SP_Tablet\n",
      "Outpath: metaanalysis/Ace-Proxyvon_SP_Tablet/Ace-Proxyvon_SP_Tablet_3.json\n"
     ]
    },
    {
     "name": "stderr",
     "output_type": "stream",
     "text": [
      "100%|██████████| 8/8 [00:00<00:00, 5161.43it/s]\n"
     ]
    },
    {
     "name": "stdout",
     "output_type": "stream",
     "text": [
      "Image_path: ../images-115-max-keys-400/images/Ace-Proxyvon_SP_Tablet/Ace-Proxyvon_SP_Tablet1_rotated.jpg\n",
      "Dir name: Ace-Proxyvon_SP_Tablet\n",
      "Outpath: metaanalysis/Ace-Proxyvon_SP_Tablet/Ace-Proxyvon_SP_Tablet_4.json\n"
     ]
    },
    {
     "name": "stderr",
     "output_type": "stream",
     "text": [
      "100%|██████████| 10/10 [00:00<00:00, 30153.16it/s]\n"
     ]
    },
    {
     "name": "stdout",
     "output_type": "stream",
     "text": [
      "Image_path: ../images-115-max-keys-400/images/Ace-Proxyvon_SP_Tablet/Ace-Proxyvon_SP_Tablet1_blur.jpg\n",
      "Dir name: Ace-Proxyvon_SP_Tablet\n",
      "Outpath: metaanalysis/Ace-Proxyvon_SP_Tablet/Ace-Proxyvon_SP_Tablet_5.json\n"
     ]
    },
    {
     "name": "stderr",
     "output_type": "stream",
     "text": [
      "100%|██████████| 8/8 [00:00<00:00, 21103.42it/s]\n"
     ]
    },
    {
     "name": "stdout",
     "output_type": "stream",
     "text": [
      "Image_path: ../images-115-max-keys-400/images/Ace-Proxyvon_SP_Tablet/Ace-Proxyvon_SP_Tablet2.jpg\n",
      "Dir name: Ace-Proxyvon_SP_Tablet\n",
      "Outpath: metaanalysis/Ace-Proxyvon_SP_Tablet/Ace-Proxyvon_SP_Tablet_6.json\n"
     ]
    },
    {
     "name": "stderr",
     "output_type": "stream",
     "text": [
      "100%|██████████| 105/105 [00:00<00:00, 17734.54it/s]\n"
     ]
    },
    {
     "name": "stdout",
     "output_type": "stream",
     "text": [
      "Image_path: ../images-115-max-keys-400/images/Ace-Proxyvon_SP_Tablet/Ace-Proxyvon_SP_Tablet1_gaussian_noise.jpg\n",
      "Dir name: Ace-Proxyvon_SP_Tablet\n",
      "Outpath: metaanalysis/Ace-Proxyvon_SP_Tablet/Ace-Proxyvon_SP_Tablet_7.json\n"
     ]
    },
    {
     "name": "stderr",
     "output_type": "stream",
     "text": [
      "100%|██████████| 10/10 [00:00<00:00, 30977.13it/s]\n"
     ]
    },
    {
     "name": "stdout",
     "output_type": "stream",
     "text": [
      "Image_path: ../images-115-max-keys-400/images/Ace-Proxyvon_SP_Tablet/Ace-Proxyvon_SP_Tablet0_rotated.jpg\n",
      "Dir name: Ace-Proxyvon_SP_Tablet\n",
      "Outpath: metaanalysis/Ace-Proxyvon_SP_Tablet/Ace-Proxyvon_SP_Tablet_8.json\n"
     ]
    },
    {
     "name": "stderr",
     "output_type": "stream",
     "text": [
      "100%|██████████| 7/7 [00:00<00:00, 14329.00it/s]\n"
     ]
    },
    {
     "name": "stdout",
     "output_type": "stream",
     "text": [
      "Image_path: ../images-115-max-keys-400/images/Ace-Proxyvon_SP_Tablet/Ace-Proxyvon_SP_Tablet2_rotated.jpg\n",
      "Dir name: Ace-Proxyvon_SP_Tablet\n",
      "Outpath: metaanalysis/Ace-Proxyvon_SP_Tablet/Ace-Proxyvon_SP_Tablet_9.json\n"
     ]
    },
    {
     "name": "stderr",
     "output_type": "stream",
     "text": [
      "100%|██████████| 64/64 [00:00<00:00, 13403.68it/s]\n"
     ]
    },
    {
     "name": "stdout",
     "output_type": "stream",
     "text": [
      "Image_path: ../images-115-max-keys-400/images/Ace-Proxyvon_SP_Tablet/Ace-Proxyvon_SP_Tablet2_gaussian_noise.jpg\n",
      "Dir name: Ace-Proxyvon_SP_Tablet\n",
      "Outpath: metaanalysis/Ace-Proxyvon_SP_Tablet/Ace-Proxyvon_SP_Tablet_10.json\n"
     ]
    },
    {
     "name": "stderr",
     "output_type": "stream",
     "text": [
      "100%|██████████| 53/53 [00:00<00:00, 28795.09it/s]\n"
     ]
    },
    {
     "name": "stdout",
     "output_type": "stream",
     "text": [
      "Image_path: ../images-115-max-keys-400/images/Ace-Proxyvon_SP_Tablet/Ace-Proxyvon_SP_Tablet0_gaussian_noise.jpg\n",
      "Dir name: Ace-Proxyvon_SP_Tablet\n",
      "Outpath: metaanalysis/Ace-Proxyvon_SP_Tablet/Ace-Proxyvon_SP_Tablet_11.json\n"
     ]
    },
    {
     "name": "stderr",
     "output_type": "stream",
     "text": [
      "100%|██████████| 4/4 [00:00<00:00, 4723.32it/s]\n"
     ]
    },
    {
     "name": "stdout",
     "output_type": "stream",
     "text": [
      "Image_path: ../images-115-max-keys-400/images/Ace-Proxyvon_SP_Tablet/Ace-Proxyvon_SP_Tablet0_blur.jpg\n",
      "Dir name: Ace-Proxyvon_SP_Tablet\n",
      "Outpath: metaanalysis/Ace-Proxyvon_SP_Tablet/Ace-Proxyvon_SP_Tablet_12.json\n"
     ]
    },
    {
     "name": "stderr",
     "output_type": "stream",
     "text": [
      "100%|██████████| 5/5 [00:00<00:00, 4765.17it/s]\n"
     ]
    },
    {
     "name": "stdout",
     "output_type": "stream",
     "text": [
      "Dir: ../images-115-max-keys-400/images/Acemyoset_P_Tablet\n",
      "Image_path: ../images-115-max-keys-400/images/Acemyoset_P_Tablet/Acemyoset_P_Tablet1_blur.jpg\n",
      "Dir name: Acemyoset_P_Tablet\n",
      "Outpath: metaanalysis/Acemyoset_P_Tablet/Acemyoset_P_Tablet_1.json\n"
     ]
    },
    {
     "name": "stderr",
     "output_type": "stream",
     "text": [
      "100%|██████████| 12/12 [00:00<00:00, 11520.18it/s]\n"
     ]
    },
    {
     "name": "stdout",
     "output_type": "stream",
     "text": [
      "Image_path: ../images-115-max-keys-400/images/Acemyoset_P_Tablet/Acemyoset_P_Tablet0_gaussian_noise.jpg\n",
      "Dir name: Acemyoset_P_Tablet\n",
      "Outpath: metaanalysis/Acemyoset_P_Tablet/Acemyoset_P_Tablet_2.json\n"
     ]
    },
    {
     "name": "stderr",
     "output_type": "stream",
     "text": [
      "100%|██████████| 11/11 [00:00<00:00, 24791.69it/s]\n"
     ]
    },
    {
     "name": "stdout",
     "output_type": "stream",
     "text": [
      "Image_path: ../images-115-max-keys-400/images/Acemyoset_P_Tablet/Acemyoset_P_Tablet2_rotated.jpg\n",
      "Dir name: Acemyoset_P_Tablet\n",
      "Outpath: metaanalysis/Acemyoset_P_Tablet/Acemyoset_P_Tablet_3.json\n"
     ]
    },
    {
     "name": "stderr",
     "output_type": "stream",
     "text": [
      "100%|██████████| 24/24 [00:00<00:00, 16119.02it/s]\n"
     ]
    },
    {
     "name": "stdout",
     "output_type": "stream",
     "text": [
      "Image_path: ../images-115-max-keys-400/images/Acemyoset_P_Tablet/Acemyoset_P_Tablet2_blur.jpg\n",
      "Dir name: Acemyoset_P_Tablet\n",
      "Outpath: metaanalysis/Acemyoset_P_Tablet/Acemyoset_P_Tablet_4.json\n"
     ]
    },
    {
     "name": "stderr",
     "output_type": "stream",
     "text": [
      "100%|██████████| 10/10 [00:00<00:00, 13662.23it/s]\n"
     ]
    },
    {
     "name": "stdout",
     "output_type": "stream",
     "text": [
      "Image_path: ../images-115-max-keys-400/images/Acemyoset_P_Tablet/Acemyoset_P_Tablet2.jpg\n",
      "Dir name: Acemyoset_P_Tablet\n",
      "Outpath: metaanalysis/Acemyoset_P_Tablet/Acemyoset_P_Tablet_5.json\n"
     ]
    },
    {
     "name": "stderr",
     "output_type": "stream",
     "text": [
      "100%|██████████| 55/55 [00:00<00:00, 62415.24it/s]\n"
     ]
    },
    {
     "name": "stdout",
     "output_type": "stream",
     "text": [
      "Image_path: ../images-115-max-keys-400/images/Acemyoset_P_Tablet/Acemyoset_P_Tablet0_blur.jpg\n",
      "Dir name: Acemyoset_P_Tablet\n",
      "Outpath: metaanalysis/Acemyoset_P_Tablet/Acemyoset_P_Tablet_6.json\n"
     ]
    },
    {
     "name": "stderr",
     "output_type": "stream",
     "text": [
      "100%|██████████| 8/8 [00:00<00:00, 18147.34it/s]\n"
     ]
    },
    {
     "name": "stdout",
     "output_type": "stream",
     "text": [
      "Image_path: ../images-115-max-keys-400/images/Acemyoset_P_Tablet/Acemyoset_P_Tablet1.jpg\n",
      "Dir name: Acemyoset_P_Tablet\n",
      "Outpath: metaanalysis/Acemyoset_P_Tablet/Acemyoset_P_Tablet_7.json\n"
     ]
    },
    {
     "name": "stderr",
     "output_type": "stream",
     "text": [
      "100%|██████████| 15/15 [00:00<00:00, 33698.21it/s]\n"
     ]
    },
    {
     "name": "stdout",
     "output_type": "stream",
     "text": [
      "Image_path: ../images-115-max-keys-400/images/Acemyoset_P_Tablet/Acemyoset_P_Tablet1_rotated.jpg\n",
      "Dir name: Acemyoset_P_Tablet\n",
      "Outpath: metaanalysis/Acemyoset_P_Tablet/Acemyoset_P_Tablet_8.json\n"
     ]
    },
    {
     "name": "stderr",
     "output_type": "stream",
     "text": [
      "100%|██████████| 15/15 [00:00<00:00, 23172.95it/s]\n"
     ]
    },
    {
     "name": "stdout",
     "output_type": "stream",
     "text": [
      "Image_path: ../images-115-max-keys-400/images/Acemyoset_P_Tablet/Acemyoset_P_Tablet1_gaussian_noise.jpg\n",
      "Dir name: Acemyoset_P_Tablet\n",
      "Outpath: metaanalysis/Acemyoset_P_Tablet/Acemyoset_P_Tablet_9.json\n"
     ]
    },
    {
     "name": "stderr",
     "output_type": "stream",
     "text": [
      "100%|██████████| 11/11 [00:00<00:00, 9436.97it/s]\n"
     ]
    },
    {
     "name": "stdout",
     "output_type": "stream",
     "text": [
      "Image_path: ../images-115-max-keys-400/images/Acemyoset_P_Tablet/Acemyoset_P_Tablet0_rotated.jpg\n",
      "Dir name: Acemyoset_P_Tablet\n",
      "Outpath: metaanalysis/Acemyoset_P_Tablet/Acemyoset_P_Tablet_10.json\n"
     ]
    },
    {
     "name": "stderr",
     "output_type": "stream",
     "text": [
      "100%|██████████| 10/10 [00:00<00:00, 34894.38it/s]\n"
     ]
    },
    {
     "name": "stdout",
     "output_type": "stream",
     "text": [
      "Image_path: ../images-115-max-keys-400/images/Acemyoset_P_Tablet/Acemyoset_P_Tablet2_gaussian_noise.jpg\n",
      "Dir name: Acemyoset_P_Tablet\n",
      "Outpath: metaanalysis/Acemyoset_P_Tablet/Acemyoset_P_Tablet_11.json\n"
     ]
    },
    {
     "name": "stderr",
     "output_type": "stream",
     "text": [
      "100%|██████████| 9/9 [00:00<00:00, 16412.49it/s]\n"
     ]
    },
    {
     "name": "stdout",
     "output_type": "stream",
     "text": [
      "Image_path: ../images-115-max-keys-400/images/Acemyoset_P_Tablet/Acemyoset_P_Tablet0.jpg\n",
      "Dir name: Acemyoset_P_Tablet\n",
      "Outpath: metaanalysis/Acemyoset_P_Tablet/Acemyoset_P_Tablet_12.json\n"
     ]
    },
    {
     "name": "stderr",
     "output_type": "stream",
     "text": [
      "100%|██████████| 14/14 [00:00<00:00, 7610.19it/s]\n"
     ]
    },
    {
     "name": "stdout",
     "output_type": "stream",
     "text": [
      "Dir: ../images-115-max-keys-400/images/Abd_400mg_Tablet\n",
      "Image_path: ../images-115-max-keys-400/images/Abd_400mg_Tablet/Abd_400mg_Tablet0_rotated.jpg\n",
      "Dir name: Abd_400mg_Tablet\n",
      "Outpath: metaanalysis/Abd_400mg_Tablet/Abd_400mg_Tablet_1.json\n"
     ]
    },
    {
     "name": "stderr",
     "output_type": "stream",
     "text": [
      "100%|██████████| 21/21 [00:00<00:00, 49427.82it/s]\n"
     ]
    },
    {
     "name": "stdout",
     "output_type": "stream",
     "text": [
      "Image_path: ../images-115-max-keys-400/images/Abd_400mg_Tablet/Abd_400mg_Tablet0_blur.jpg\n",
      "Dir name: Abd_400mg_Tablet\n",
      "Outpath: metaanalysis/Abd_400mg_Tablet/Abd_400mg_Tablet_2.json\n"
     ]
    },
    {
     "name": "stderr",
     "output_type": "stream",
     "text": [
      "100%|██████████| 9/9 [00:00<00:00, 8290.96it/s]\n"
     ]
    },
    {
     "name": "stdout",
     "output_type": "stream",
     "text": [
      "Image_path: ../images-115-max-keys-400/images/Abd_400mg_Tablet/Abd_400mg_Tablet0.jpg\n",
      "Dir name: Abd_400mg_Tablet\n",
      "Outpath: metaanalysis/Abd_400mg_Tablet/Abd_400mg_Tablet_3.json\n"
     ]
    },
    {
     "name": "stderr",
     "output_type": "stream",
     "text": [
      "100%|██████████| 56/56 [00:00<00:00, 42328.53it/s]\n"
     ]
    },
    {
     "name": "stdout",
     "output_type": "stream",
     "text": [
      "Image_path: ../images-115-max-keys-400/images/Abd_400mg_Tablet/Abd_400mg_Tablet0_gaussian_noise.jpg\n",
      "Dir name: Abd_400mg_Tablet\n",
      "Outpath: metaanalysis/Abd_400mg_Tablet/Abd_400mg_Tablet_4.json\n"
     ]
    },
    {
     "name": "stderr",
     "output_type": "stream",
     "text": [
      "100%|██████████| 10/10 [00:00<00:00, 23224.27it/s]\n"
     ]
    },
    {
     "name": "stdout",
     "output_type": "stream",
     "text": [
      "Dir: ../images-115-max-keys-400/images/Acemiz_Plus_Tablet\n",
      "Image_path: ../images-115-max-keys-400/images/Acemiz_Plus_Tablet/Acemiz_Plus_Tablet0.jpg\n",
      "Dir name: Acemiz_Plus_Tablet\n",
      "Outpath: metaanalysis/Acemiz_Plus_Tablet/Acemiz_Plus_Tablet_1.json\n"
     ]
    },
    {
     "name": "stderr",
     "output_type": "stream",
     "text": [
      "100%|██████████| 9/9 [00:00<00:00, 17516.81it/s]\n"
     ]
    },
    {
     "name": "stdout",
     "output_type": "stream",
     "text": [
      "Image_path: ../images-115-max-keys-400/images/Acemiz_Plus_Tablet/Acemiz_Plus_Tablet0_blur.jpg\n",
      "Dir name: Acemiz_Plus_Tablet\n",
      "Outpath: metaanalysis/Acemiz_Plus_Tablet/Acemiz_Plus_Tablet_2.json\n"
     ]
    },
    {
     "name": "stderr",
     "output_type": "stream",
     "text": [
      "100%|██████████| 7/7 [00:00<00:00, 7100.39it/s]\n"
     ]
    },
    {
     "name": "stdout",
     "output_type": "stream",
     "text": [
      "Image_path: ../images-115-max-keys-400/images/Acemiz_Plus_Tablet/Acemiz_Plus_Tablet1_rotated.jpg\n",
      "Dir name: Acemiz_Plus_Tablet\n",
      "Outpath: metaanalysis/Acemiz_Plus_Tablet/Acemiz_Plus_Tablet_3.json\n"
     ]
    },
    {
     "name": "stderr",
     "output_type": "stream",
     "text": [
      "100%|██████████| 28/28 [00:00<00:00, 38695.39it/s]\n"
     ]
    },
    {
     "name": "stdout",
     "output_type": "stream",
     "text": [
      "Image_path: ../images-115-max-keys-400/images/Acemiz_Plus_Tablet/Acemiz_Plus_Tablet1.jpg\n",
      "Dir name: Acemiz_Plus_Tablet\n",
      "Outpath: metaanalysis/Acemiz_Plus_Tablet/Acemiz_Plus_Tablet_4.json\n"
     ]
    },
    {
     "name": "stderr",
     "output_type": "stream",
     "text": [
      "100%|██████████| 55/55 [00:00<00:00, 15851.49it/s]\n"
     ]
    },
    {
     "name": "stdout",
     "output_type": "stream",
     "text": [
      "Image_path: ../images-115-max-keys-400/images/Acemiz_Plus_Tablet/Acemiz_Plus_Tablet1_gaussian_noise.jpg\n",
      "Dir name: Acemiz_Plus_Tablet\n",
      "Outpath: metaanalysis/Acemiz_Plus_Tablet/Acemiz_Plus_Tablet_5.json\n"
     ]
    },
    {
     "name": "stderr",
     "output_type": "stream",
     "text": [
      "100%|██████████| 30/30 [00:00<00:00, 18783.27it/s]\n"
     ]
    },
    {
     "name": "stdout",
     "output_type": "stream",
     "text": [
      "Image_path: ../images-115-max-keys-400/images/Acemiz_Plus_Tablet/Acemiz_Plus_Tablet0_gaussian_noise.jpg\n",
      "Dir name: Acemiz_Plus_Tablet\n",
      "Outpath: metaanalysis/Acemiz_Plus_Tablet/Acemiz_Plus_Tablet_6.json\n"
     ]
    },
    {
     "name": "stderr",
     "output_type": "stream",
     "text": [
      "100%|██████████| 7/7 [00:00<00:00, 9157.87it/s]\n"
     ]
    },
    {
     "name": "stdout",
     "output_type": "stream",
     "text": [
      "Image_path: ../images-115-max-keys-400/images/Acemiz_Plus_Tablet/Acemiz_Plus_Tablet1_blur.jpg\n",
      "Dir name: Acemiz_Plus_Tablet\n",
      "Outpath: metaanalysis/Acemiz_Plus_Tablet/Acemiz_Plus_Tablet_7.json\n"
     ]
    },
    {
     "name": "stderr",
     "output_type": "stream",
     "text": [
      "100%|██████████| 15/15 [00:00<00:00, 35951.18it/s]\n"
     ]
    },
    {
     "name": "stdout",
     "output_type": "stream",
     "text": [
      "Image_path: ../images-115-max-keys-400/images/Acemiz_Plus_Tablet/Acemiz_Plus_Tablet0_rotated.jpg\n",
      "Dir name: Acemiz_Plus_Tablet\n",
      "Outpath: metaanalysis/Acemiz_Plus_Tablet/Acemiz_Plus_Tablet_8.json\n"
     ]
    },
    {
     "name": "stderr",
     "output_type": "stream",
     "text": [
      "100%|██████████| 8/8 [00:00<00:00, 15577.73it/s]\n"
     ]
    },
    {
     "name": "stdout",
     "output_type": "stream",
     "text": [
      "Image_path: ../images-115-max-keys-400/images/Acemiz_Plus_Tablet/Acemiz_Plus_Tablet2.jpg\n",
      "Dir name: Acemiz_Plus_Tablet\n",
      "Outpath: metaanalysis/Acemiz_Plus_Tablet/Acemiz_Plus_Tablet_9.json\n"
     ]
    },
    {
     "name": "stderr",
     "output_type": "stream",
     "text": [
      "100%|██████████| 2/2 [00:00<00:00, 3188.37it/s]\n"
     ]
    },
    {
     "name": "stdout",
     "output_type": "stream",
     "text": [
      "Image_path: ../images-115-max-keys-400/images/Acemiz_Plus_Tablet/Acemiz_Plus_Tablet2_blur.jpg\n",
      "Dir name: Acemiz_Plus_Tablet\n",
      "Outpath: metaanalysis/Acemiz_Plus_Tablet/Acemiz_Plus_Tablet_10.json\n"
     ]
    },
    {
     "name": "stderr",
     "output_type": "stream",
     "text": [
      "100%|██████████| 2/2 [00:00<00:00, 8065.97it/s]\n"
     ]
    },
    {
     "name": "stdout",
     "output_type": "stream",
     "text": [
      "Image_path: ../images-115-max-keys-400/images/Acemiz_Plus_Tablet/Acemiz_Plus_Tablet2_gaussian_noise.jpg\n",
      "Dir name: Acemiz_Plus_Tablet\n",
      "Outpath: metaanalysis/Acemiz_Plus_Tablet/Acemiz_Plus_Tablet_11.json\n"
     ]
    },
    {
     "name": "stderr",
     "output_type": "stream",
     "text": [
      "100%|██████████| 2/2 [00:00<00:00, 3294.82it/s]\n"
     ]
    },
    {
     "name": "stdout",
     "output_type": "stream",
     "text": [
      "Image_path: ../images-115-max-keys-400/images/Acemiz_Plus_Tablet/Acemiz_Plus_Tablet2_rotated.jpg\n",
      "Dir name: Acemiz_Plus_Tablet\n",
      "Outpath: metaanalysis/Acemiz_Plus_Tablet/Acemiz_Plus_Tablet_12.json\n"
     ]
    },
    {
     "name": "stderr",
     "output_type": "stream",
     "text": [
      "100%|██████████| 2/2 [00:00<00:00, 7157.52it/s]\n"
     ]
    },
    {
     "name": "stdout",
     "output_type": "stream",
     "text": [
      "Dir: ../images-115-max-keys-400/images/Acegrow_3D_Tablet\n",
      "Image_path: ../images-115-max-keys-400/images/Acegrow_3D_Tablet/Acegrow_3D_Tablet0_rotated.jpg\n",
      "Dir name: Acegrow_3D_Tablet\n",
      "Outpath: metaanalysis/Acegrow_3D_Tablet/Acegrow_3D_Tablet_1.json\n"
     ]
    },
    {
     "name": "stderr",
     "output_type": "stream",
     "text": [
      "100%|██████████| 10/10 [00:00<00:00, 8182.41it/s]\n"
     ]
    },
    {
     "name": "stdout",
     "output_type": "stream",
     "text": [
      "Image_path: ../images-115-max-keys-400/images/Acegrow_3D_Tablet/Acegrow_3D_Tablet1_gaussian_noise.jpg\n",
      "Dir name: Acegrow_3D_Tablet\n",
      "Outpath: metaanalysis/Acegrow_3D_Tablet/Acegrow_3D_Tablet_2.json\n"
     ]
    },
    {
     "name": "stderr",
     "output_type": "stream",
     "text": [
      "100%|██████████| 12/12 [00:00<00:00, 5164.87it/s]\n"
     ]
    },
    {
     "name": "stdout",
     "output_type": "stream",
     "text": [
      "Image_path: ../images-115-max-keys-400/images/Acegrow_3D_Tablet/Acegrow_3D_Tablet2.jpg\n",
      "Dir name: Acegrow_3D_Tablet\n",
      "Outpath: metaanalysis/Acegrow_3D_Tablet/Acegrow_3D_Tablet_3.json\n"
     ]
    },
    {
     "name": "stderr",
     "output_type": "stream",
     "text": [
      "100%|██████████| 71/71 [00:00<00:00, 40532.95it/s]\n"
     ]
    },
    {
     "name": "stdout",
     "output_type": "stream",
     "text": [
      "Image_path: ../images-115-max-keys-400/images/Acegrow_3D_Tablet/Acegrow_3D_Tablet2_blur.jpg\n",
      "Dir name: Acegrow_3D_Tablet\n",
      "Outpath: metaanalysis/Acegrow_3D_Tablet/Acegrow_3D_Tablet_4.json\n"
     ]
    },
    {
     "name": "stderr",
     "output_type": "stream",
     "text": [
      "100%|██████████| 36/36 [00:00<00:00, 23748.81it/s]\n"
     ]
    },
    {
     "name": "stdout",
     "output_type": "stream",
     "text": [
      "Image_path: ../images-115-max-keys-400/images/Acegrow_3D_Tablet/Acegrow_3D_Tablet1_blur.jpg\n",
      "Dir name: Acegrow_3D_Tablet\n",
      "Outpath: metaanalysis/Acegrow_3D_Tablet/Acegrow_3D_Tablet_5.json\n"
     ]
    },
    {
     "name": "stderr",
     "output_type": "stream",
     "text": [
      "100%|██████████| 12/12 [00:00<00:00, 18943.04it/s]\n"
     ]
    },
    {
     "name": "stdout",
     "output_type": "stream",
     "text": [
      "Image_path: ../images-115-max-keys-400/images/Acegrow_3D_Tablet/Acegrow_3D_Tablet1.jpg\n",
      "Dir name: Acegrow_3D_Tablet\n",
      "Outpath: metaanalysis/Acegrow_3D_Tablet/Acegrow_3D_Tablet_6.json\n"
     ]
    },
    {
     "name": "stderr",
     "output_type": "stream",
     "text": [
      "100%|██████████| 13/13 [00:00<00:00, 18750.33it/s]\n"
     ]
    },
    {
     "name": "stdout",
     "output_type": "stream",
     "text": [
      "Image_path: ../images-115-max-keys-400/images/Acegrow_3D_Tablet/Acegrow_3D_Tablet0.jpg\n",
      "Dir name: Acegrow_3D_Tablet\n",
      "Outpath: metaanalysis/Acegrow_3D_Tablet/Acegrow_3D_Tablet_7.json\n"
     ]
    },
    {
     "name": "stderr",
     "output_type": "stream",
     "text": [
      "100%|██████████| 12/12 [00:00<00:00, 9970.61it/s]\n"
     ]
    },
    {
     "name": "stdout",
     "output_type": "stream",
     "text": [
      "Image_path: ../images-115-max-keys-400/images/Acegrow_3D_Tablet/Acegrow_3D_Tablet2_rotated.jpg\n",
      "Dir name: Acegrow_3D_Tablet\n",
      "Outpath: metaanalysis/Acegrow_3D_Tablet/Acegrow_3D_Tablet_8.json\n"
     ]
    },
    {
     "name": "stderr",
     "output_type": "stream",
     "text": [
      "100%|██████████| 63/63 [00:00<00:00, 15256.42it/s]\n"
     ]
    },
    {
     "name": "stdout",
     "output_type": "stream",
     "text": [
      "Image_path: ../images-115-max-keys-400/images/Acegrow_3D_Tablet/Acegrow_3D_Tablet0_gaussian_noise.jpg\n",
      "Dir name: Acegrow_3D_Tablet\n",
      "Outpath: metaanalysis/Acegrow_3D_Tablet/Acegrow_3D_Tablet_9.json\n"
     ]
    },
    {
     "name": "stderr",
     "output_type": "stream",
     "text": [
      "100%|██████████| 5/5 [00:00<00:00, 11155.06it/s]\n"
     ]
    },
    {
     "name": "stdout",
     "output_type": "stream",
     "text": [
      "Image_path: ../images-115-max-keys-400/images/Acegrow_3D_Tablet/Acegrow_3D_Tablet2_gaussian_noise.jpg\n",
      "Dir name: Acegrow_3D_Tablet\n",
      "Outpath: metaanalysis/Acegrow_3D_Tablet/Acegrow_3D_Tablet_10.json\n"
     ]
    },
    {
     "name": "stderr",
     "output_type": "stream",
     "text": [
      "100%|██████████| 52/52 [00:00<00:00, 28758.41it/s]\n"
     ]
    },
    {
     "name": "stdout",
     "output_type": "stream",
     "text": [
      "Image_path: ../images-115-max-keys-400/images/Acegrow_3D_Tablet/Acegrow_3D_Tablet1_rotated.jpg\n",
      "Dir name: Acegrow_3D_Tablet\n",
      "Outpath: metaanalysis/Acegrow_3D_Tablet/Acegrow_3D_Tablet_11.json\n"
     ]
    },
    {
     "name": "stderr",
     "output_type": "stream",
     "text": [
      "100%|██████████| 12/12 [00:00<00:00, 6649.71it/s]\n"
     ]
    },
    {
     "name": "stdout",
     "output_type": "stream",
     "text": [
      "Image_path: ../images-115-max-keys-400/images/Acegrow_3D_Tablet/Acegrow_3D_Tablet0_blur.jpg\n",
      "Dir name: Acegrow_3D_Tablet\n",
      "Outpath: metaanalysis/Acegrow_3D_Tablet/Acegrow_3D_Tablet_12.json\n"
     ]
    },
    {
     "name": "stderr",
     "output_type": "stream",
     "text": [
      "100%|██████████| 6/6 [00:00<00:00, 6350.20it/s]\n"
     ]
    },
    {
     "name": "stdout",
     "output_type": "stream",
     "text": [
      "Dir: ../images-115-max-keys-400/images/Abdocool_Tablet\n",
      "Image_path: ../images-115-max-keys-400/images/Abdocool_Tablet/Abdocool_Tablet2_gaussian_noise.jpg\n",
      "Dir name: Abdocool_Tablet\n",
      "Outpath: metaanalysis/Abdocool_Tablet/Abdocool_Tablet_1.json\n"
     ]
    },
    {
     "name": "stderr",
     "output_type": "stream",
     "text": [
      "100%|██████████| 15/15 [00:00<00:00, 11348.23it/s]\n"
     ]
    },
    {
     "name": "stdout",
     "output_type": "stream",
     "text": [
      "Image_path: ../images-115-max-keys-400/images/Abdocool_Tablet/Abdocool_Tablet0_gaussian_noise.jpg\n",
      "Dir name: Abdocool_Tablet\n",
      "Outpath: metaanalysis/Abdocool_Tablet/Abdocool_Tablet_2.json\n"
     ]
    },
    {
     "name": "stderr",
     "output_type": "stream",
     "text": [
      "100%|██████████| 11/11 [00:00<00:00, 17738.31it/s]\n"
     ]
    },
    {
     "name": "stdout",
     "output_type": "stream",
     "text": [
      "Image_path: ../images-115-max-keys-400/images/Abdocool_Tablet/Abdocool_Tablet0_rotated.jpg\n",
      "Dir name: Abdocool_Tablet\n",
      "Outpath: metaanalysis/Abdocool_Tablet/Abdocool_Tablet_3.json\n"
     ]
    },
    {
     "name": "stderr",
     "output_type": "stream",
     "text": [
      "100%|██████████| 11/11 [00:00<00:00, 7597.13it/s]\n"
     ]
    },
    {
     "name": "stdout",
     "output_type": "stream",
     "text": [
      "Image_path: ../images-115-max-keys-400/images/Abdocool_Tablet/Abdocool_Tablet2_rotated.jpg\n",
      "Dir name: Abdocool_Tablet\n",
      "Outpath: metaanalysis/Abdocool_Tablet/Abdocool_Tablet_4.json\n"
     ]
    },
    {
     "name": "stderr",
     "output_type": "stream",
     "text": [
      "100%|██████████| 11/11 [00:00<00:00, 10075.86it/s]\n"
     ]
    },
    {
     "name": "stdout",
     "output_type": "stream",
     "text": [
      "Image_path: ../images-115-max-keys-400/images/Abdocool_Tablet/Abdocool_Tablet1_blur.jpg\n",
      "Dir name: Abdocool_Tablet\n",
      "Outpath: metaanalysis/Abdocool_Tablet/Abdocool_Tablet_5.json\n"
     ]
    },
    {
     "name": "stderr",
     "output_type": "stream",
     "text": [
      "100%|██████████| 8/8 [00:00<00:00, 12183.89it/s]\n"
     ]
    },
    {
     "name": "stdout",
     "output_type": "stream",
     "text": [
      "Image_path: ../images-115-max-keys-400/images/Abdocool_Tablet/Abdocool_Tablet1.jpg\n",
      "Dir name: Abdocool_Tablet\n",
      "Outpath: metaanalysis/Abdocool_Tablet/Abdocool_Tablet_6.json\n"
     ]
    },
    {
     "name": "stderr",
     "output_type": "stream",
     "text": [
      "100%|██████████| 23/23 [00:00<00:00, 11624.17it/s]\n"
     ]
    },
    {
     "name": "stdout",
     "output_type": "stream",
     "text": [
      "Image_path: ../images-115-max-keys-400/images/Abdocool_Tablet/Abdocool_Tablet0.jpg\n",
      "Dir name: Abdocool_Tablet\n",
      "Outpath: metaanalysis/Abdocool_Tablet/Abdocool_Tablet_7.json\n"
     ]
    },
    {
     "name": "stderr",
     "output_type": "stream",
     "text": [
      "100%|██████████| 14/14 [00:00<00:00, 28546.55it/s]\n"
     ]
    },
    {
     "name": "stdout",
     "output_type": "stream",
     "text": [
      "Image_path: ../images-115-max-keys-400/images/Abdocool_Tablet/Abdocool_Tablet1_rotated.jpg\n",
      "Dir name: Abdocool_Tablet\n",
      "Outpath: metaanalysis/Abdocool_Tablet/Abdocool_Tablet_8.json\n"
     ]
    },
    {
     "name": "stderr",
     "output_type": "stream",
     "text": [
      "100%|██████████| 25/25 [00:00<00:00, 37502.72it/s]\n"
     ]
    },
    {
     "name": "stdout",
     "output_type": "stream",
     "text": [
      "Image_path: ../images-115-max-keys-400/images/Abdocool_Tablet/Abdocool_Tablet0_blur.jpg\n",
      "Dir name: Abdocool_Tablet\n",
      "Outpath: metaanalysis/Abdocool_Tablet/Abdocool_Tablet_9.json\n"
     ]
    },
    {
     "name": "stderr",
     "output_type": "stream",
     "text": [
      "100%|██████████| 10/10 [00:00<00:00, 5354.66it/s]\n"
     ]
    },
    {
     "name": "stdout",
     "output_type": "stream",
     "text": [
      "Image_path: ../images-115-max-keys-400/images/Abdocool_Tablet/Abdocool_Tablet1_gaussian_noise.jpg\n",
      "Dir name: Abdocool_Tablet\n",
      "Outpath: metaanalysis/Abdocool_Tablet/Abdocool_Tablet_10.json\n"
     ]
    },
    {
     "name": "stderr",
     "output_type": "stream",
     "text": [
      "100%|██████████| 33/33 [00:00<00:00, 10871.19it/s]\n"
     ]
    },
    {
     "name": "stdout",
     "output_type": "stream",
     "text": [
      "Image_path: ../images-115-max-keys-400/images/Abdocool_Tablet/Abdocool_Tablet2_blur.jpg\n",
      "Dir name: Abdocool_Tablet\n",
      "Outpath: metaanalysis/Abdocool_Tablet/Abdocool_Tablet_11.json\n"
     ]
    },
    {
     "name": "stderr",
     "output_type": "stream",
     "text": [
      "100%|██████████| 12/12 [00:00<00:00, 5469.64it/s]\n"
     ]
    },
    {
     "name": "stdout",
     "output_type": "stream",
     "text": [
      "Image_path: ../images-115-max-keys-400/images/Abdocool_Tablet/Abdocool_Tablet2.jpg\n",
      "Dir name: Abdocool_Tablet\n",
      "Outpath: metaanalysis/Abdocool_Tablet/Abdocool_Tablet_12.json\n"
     ]
    },
    {
     "name": "stderr",
     "output_type": "stream",
     "text": [
      "100%|██████████| 46/46 [00:00<00:00, 46146.37it/s]\n"
     ]
    },
    {
     "name": "stdout",
     "output_type": "stream",
     "text": [
      "Dir: ../images-115-max-keys-400/images/Abiways_200_SR_Tablet\n",
      "Image_path: ../images-115-max-keys-400/images/Abiways_200_SR_Tablet/Abiways_200_SR_Tablet0.jpg\n",
      "Dir name: Abiways_200_SR_Tablet\n",
      "Outpath: metaanalysis/Abiways_200_SR_Tablet/Abiways_200_SR_Tablet_1.json\n"
     ]
    },
    {
     "name": "stderr",
     "output_type": "stream",
     "text": [
      "100%|██████████| 16/16 [00:00<00:00, 10883.70it/s]\n"
     ]
    },
    {
     "name": "stdout",
     "output_type": "stream",
     "text": [
      "Image_path: ../images-115-max-keys-400/images/Abiways_200_SR_Tablet/Abiways_200_SR_Tablet1_rotated.jpg\n",
      "Dir name: Abiways_200_SR_Tablet\n",
      "Outpath: metaanalysis/Abiways_200_SR_Tablet/Abiways_200_SR_Tablet_2.json\n"
     ]
    },
    {
     "name": "stderr",
     "output_type": "stream",
     "text": [
      "100%|██████████| 12/12 [00:00<00:00, 16024.08it/s]\n"
     ]
    },
    {
     "name": "stdout",
     "output_type": "stream",
     "text": [
      "Image_path: ../images-115-max-keys-400/images/Abiways_200_SR_Tablet/Abiways_200_SR_Tablet0_blur.jpg\n",
      "Dir name: Abiways_200_SR_Tablet\n",
      "Outpath: metaanalysis/Abiways_200_SR_Tablet/Abiways_200_SR_Tablet_3.json\n"
     ]
    },
    {
     "name": "stderr",
     "output_type": "stream",
     "text": [
      "100%|██████████| 13/13 [00:00<00:00, 11579.09it/s]\n"
     ]
    },
    {
     "name": "stdout",
     "output_type": "stream",
     "text": [
      "Image_path: ../images-115-max-keys-400/images/Abiways_200_SR_Tablet/Abiways_200_SR_Tablet1_blur.jpg\n",
      "Dir name: Abiways_200_SR_Tablet\n",
      "Outpath: metaanalysis/Abiways_200_SR_Tablet/Abiways_200_SR_Tablet_4.json\n"
     ]
    },
    {
     "name": "stderr",
     "output_type": "stream",
     "text": [
      "100%|██████████| 14/14 [00:00<00:00, 18682.87it/s]\n"
     ]
    },
    {
     "name": "stdout",
     "output_type": "stream",
     "text": [
      "Image_path: ../images-115-max-keys-400/images/Abiways_200_SR_Tablet/Abiways_200_SR_Tablet2_rotated.jpg\n",
      "Dir name: Abiways_200_SR_Tablet\n",
      "Outpath: metaanalysis/Abiways_200_SR_Tablet/Abiways_200_SR_Tablet_5.json\n"
     ]
    },
    {
     "name": "stderr",
     "output_type": "stream",
     "text": [
      "100%|██████████| 23/23 [00:00<00:00, 38495.21it/s]\n"
     ]
    },
    {
     "name": "stdout",
     "output_type": "stream",
     "text": [
      "Image_path: ../images-115-max-keys-400/images/Abiways_200_SR_Tablet/Abiways_200_SR_Tablet2_gaussian_noise.jpg\n",
      "Dir name: Abiways_200_SR_Tablet\n",
      "Outpath: metaanalysis/Abiways_200_SR_Tablet/Abiways_200_SR_Tablet_6.json\n"
     ]
    },
    {
     "name": "stderr",
     "output_type": "stream",
     "text": [
      "100%|██████████| 5/5 [00:00<00:00, 5491.36it/s]\n"
     ]
    },
    {
     "name": "stdout",
     "output_type": "stream",
     "text": [
      "Image_path: ../images-115-max-keys-400/images/Abiways_200_SR_Tablet/Abiways_200_SR_Tablet2_blur.jpg\n",
      "Dir name: Abiways_200_SR_Tablet\n",
      "Outpath: metaanalysis/Abiways_200_SR_Tablet/Abiways_200_SR_Tablet_7.json\n"
     ]
    },
    {
     "name": "stderr",
     "output_type": "stream",
     "text": [
      "100%|██████████| 7/7 [00:00<00:00, 7627.99it/s]\n"
     ]
    },
    {
     "name": "stdout",
     "output_type": "stream",
     "text": [
      "Image_path: ../images-115-max-keys-400/images/Abiways_200_SR_Tablet/Abiways_200_SR_Tablet1.jpg\n",
      "Dir name: Abiways_200_SR_Tablet\n",
      "Outpath: metaanalysis/Abiways_200_SR_Tablet/Abiways_200_SR_Tablet_8.json\n"
     ]
    },
    {
     "name": "stderr",
     "output_type": "stream",
     "text": [
      "100%|██████████| 15/15 [00:00<00:00, 19587.35it/s]\n"
     ]
    },
    {
     "name": "stdout",
     "output_type": "stream",
     "text": [
      "Image_path: ../images-115-max-keys-400/images/Abiways_200_SR_Tablet/Abiways_200_SR_Tablet0_gaussian_noise.jpg\n",
      "Dir name: Abiways_200_SR_Tablet\n",
      "Outpath: metaanalysis/Abiways_200_SR_Tablet/Abiways_200_SR_Tablet_9.json\n"
     ]
    },
    {
     "name": "stderr",
     "output_type": "stream",
     "text": [
      "100%|██████████| 10/10 [00:00<00:00, 9670.98it/s]\n"
     ]
    },
    {
     "name": "stdout",
     "output_type": "stream",
     "text": [
      "Image_path: ../images-115-max-keys-400/images/Abiways_200_SR_Tablet/Abiways_200_SR_Tablet1_gaussian_noise.jpg\n",
      "Dir name: Abiways_200_SR_Tablet\n",
      "Outpath: metaanalysis/Abiways_200_SR_Tablet/Abiways_200_SR_Tablet_10.json\n"
     ]
    },
    {
     "name": "stderr",
     "output_type": "stream",
     "text": [
      "100%|██████████| 9/9 [00:00<00:00, 29376.45it/s]\n"
     ]
    },
    {
     "name": "stdout",
     "output_type": "stream",
     "text": [
      "Image_path: ../images-115-max-keys-400/images/Abiways_200_SR_Tablet/Abiways_200_SR_Tablet0_rotated.jpg\n",
      "Dir name: Abiways_200_SR_Tablet\n",
      "Outpath: metaanalysis/Abiways_200_SR_Tablet/Abiways_200_SR_Tablet_11.json\n"
     ]
    },
    {
     "name": "stderr",
     "output_type": "stream",
     "text": [
      "100%|██████████| 13/13 [00:00<00:00, 15543.32it/s]\n"
     ]
    },
    {
     "name": "stdout",
     "output_type": "stream",
     "text": [
      "Image_path: ../images-115-max-keys-400/images/Abiways_200_SR_Tablet/Abiways_200_SR_Tablet2.jpg\n",
      "Dir name: Abiways_200_SR_Tablet\n",
      "Outpath: metaanalysis/Abiways_200_SR_Tablet/Abiways_200_SR_Tablet_12.json\n"
     ]
    },
    {
     "name": "stderr",
     "output_type": "stream",
     "text": [
      "100%|██████████| 40/40 [00:00<00:00, 27094.99it/s]\n"
     ]
    },
    {
     "name": "stdout",
     "output_type": "stream",
     "text": [
      "Dir: ../images-115-max-keys-400/images/AF_50_Tablet_DT\n",
      "Image_path: ../images-115-max-keys-400/images/AF_50_Tablet_DT/AF_50_Tablet_DT2_gaussian_noise.jpg\n",
      "Dir name: AF_50_Tablet_DT\n",
      "Outpath: metaanalysis/AF_50_Tablet_DT/AF_50_Tablet_DT_1.json\n"
     ]
    },
    {
     "name": "stderr",
     "output_type": "stream",
     "text": [
      "100%|██████████| 10/10 [00:00<00:00, 14217.98it/s]\n"
     ]
    },
    {
     "name": "stdout",
     "output_type": "stream",
     "text": [
      "Image_path: ../images-115-max-keys-400/images/AF_50_Tablet_DT/AF_50_Tablet_DT2_rotated.jpg\n",
      "Dir name: AF_50_Tablet_DT\n",
      "Outpath: metaanalysis/AF_50_Tablet_DT/AF_50_Tablet_DT_2.json\n"
     ]
    },
    {
     "name": "stderr",
     "output_type": "stream",
     "text": [
      "100%|██████████| 10/10 [00:00<00:00, 15935.81it/s]\n"
     ]
    },
    {
     "name": "stdout",
     "output_type": "stream",
     "text": [
      "Image_path: ../images-115-max-keys-400/images/AF_50_Tablet_DT/AF_50_Tablet_DT1_gaussian_noise.jpg\n",
      "Dir name: AF_50_Tablet_DT\n",
      "Outpath: metaanalysis/AF_50_Tablet_DT/AF_50_Tablet_DT_3.json\n"
     ]
    },
    {
     "name": "stderr",
     "output_type": "stream",
     "text": [
      "100%|██████████| 44/44 [00:00<00:00, 43649.33it/s]\n"
     ]
    },
    {
     "name": "stdout",
     "output_type": "stream",
     "text": [
      "Image_path: ../images-115-max-keys-400/images/AF_50_Tablet_DT/AF_50_Tablet_DT0.jpg\n",
      "Dir name: AF_50_Tablet_DT\n",
      "Outpath: metaanalysis/AF_50_Tablet_DT/AF_50_Tablet_DT_4.json\n"
     ]
    },
    {
     "name": "stderr",
     "output_type": "stream",
     "text": [
      "100%|██████████| 10/10 [00:00<00:00, 8224.13it/s]\n"
     ]
    },
    {
     "name": "stdout",
     "output_type": "stream",
     "text": [
      "Image_path: ../images-115-max-keys-400/images/AF_50_Tablet_DT/AF_50_Tablet_DT1_blur.jpg\n",
      "Dir name: AF_50_Tablet_DT\n",
      "Outpath: metaanalysis/AF_50_Tablet_DT/AF_50_Tablet_DT_5.json\n"
     ]
    },
    {
     "name": "stderr",
     "output_type": "stream",
     "text": [
      "100%|██████████| 29/29 [00:00<00:00, 16013.01it/s]\n"
     ]
    },
    {
     "name": "stdout",
     "output_type": "stream",
     "text": [
      "Image_path: ../images-115-max-keys-400/images/AF_50_Tablet_DT/AF_50_Tablet_DT1_rotated.jpg\n",
      "Dir name: AF_50_Tablet_DT\n",
      "Outpath: metaanalysis/AF_50_Tablet_DT/AF_50_Tablet_DT_6.json\n"
     ]
    },
    {
     "name": "stderr",
     "output_type": "stream",
     "text": [
      "100%|██████████| 59/59 [00:00<00:00, 43567.59it/s]\n"
     ]
    },
    {
     "name": "stdout",
     "output_type": "stream",
     "text": [
      "Image_path: ../images-115-max-keys-400/images/AF_50_Tablet_DT/AF_50_Tablet_DT0_rotated.jpg\n",
      "Dir name: AF_50_Tablet_DT\n",
      "Outpath: metaanalysis/AF_50_Tablet_DT/AF_50_Tablet_DT_7.json\n"
     ]
    },
    {
     "name": "stderr",
     "output_type": "stream",
     "text": [
      "100%|██████████| 10/10 [00:00<00:00, 8360.18it/s]\n"
     ]
    },
    {
     "name": "stdout",
     "output_type": "stream",
     "text": [
      "Image_path: ../images-115-max-keys-400/images/AF_50_Tablet_DT/AF_50_Tablet_DT0_blur.jpg\n",
      "Dir name: AF_50_Tablet_DT\n",
      "Outpath: metaanalysis/AF_50_Tablet_DT/AF_50_Tablet_DT_8.json\n"
     ]
    },
    {
     "name": "stderr",
     "output_type": "stream",
     "text": [
      "100%|██████████| 9/9 [00:00<00:00, 19318.70it/s]\n"
     ]
    },
    {
     "name": "stdout",
     "output_type": "stream",
     "text": [
      "Image_path: ../images-115-max-keys-400/images/AF_50_Tablet_DT/AF_50_Tablet_DT1.jpg\n",
      "Dir name: AF_50_Tablet_DT\n",
      "Outpath: metaanalysis/AF_50_Tablet_DT/AF_50_Tablet_DT_9.json\n"
     ]
    },
    {
     "name": "stderr",
     "output_type": "stream",
     "text": [
      "100%|██████████| 86/86 [00:00<00:00, 53701.08it/s]\n"
     ]
    },
    {
     "name": "stdout",
     "output_type": "stream",
     "text": [
      "Image_path: ../images-115-max-keys-400/images/AF_50_Tablet_DT/AF_50_Tablet_DT0_gaussian_noise.jpg\n",
      "Dir name: AF_50_Tablet_DT\n",
      "Outpath: metaanalysis/AF_50_Tablet_DT/AF_50_Tablet_DT_10.json\n"
     ]
    },
    {
     "name": "stderr",
     "output_type": "stream",
     "text": [
      "100%|██████████| 8/8 [00:00<00:00, 33420.75it/s]\n"
     ]
    },
    {
     "name": "stdout",
     "output_type": "stream",
     "text": [
      "Image_path: ../images-115-max-keys-400/images/AF_50_Tablet_DT/AF_50_Tablet_DT2_blur.jpg\n",
      "Dir name: AF_50_Tablet_DT\n",
      "Outpath: metaanalysis/AF_50_Tablet_DT/AF_50_Tablet_DT_11.json\n"
     ]
    },
    {
     "name": "stderr",
     "output_type": "stream",
     "text": [
      "100%|██████████| 9/9 [00:00<00:00, 12260.06it/s]\n"
     ]
    },
    {
     "name": "stdout",
     "output_type": "stream",
     "text": [
      "Image_path: ../images-115-max-keys-400/images/AF_50_Tablet_DT/AF_50_Tablet_DT2.jpg\n",
      "Dir name: AF_50_Tablet_DT\n",
      "Outpath: metaanalysis/AF_50_Tablet_DT/AF_50_Tablet_DT_12.json\n"
     ]
    },
    {
     "name": "stderr",
     "output_type": "stream",
     "text": [
      "100%|██████████| 22/22 [00:00<00:00, 12753.93it/s]\n"
     ]
    },
    {
     "name": "stdout",
     "output_type": "stream",
     "text": [
      "Dir: ../images-115-max-keys-400/images/Acenext_100mg_Tablet\n",
      "Image_path: ../images-115-max-keys-400/images/Acenext_100mg_Tablet/Acenext_100mg_Tablet2_rotated.jpg\n",
      "Dir name: Acenext_100mg_Tablet\n",
      "Outpath: metaanalysis/Acenext_100mg_Tablet/Acenext_100mg_Tablet_1.json\n"
     ]
    },
    {
     "name": "stderr",
     "output_type": "stream",
     "text": [
      "100%|██████████| 1/1 [00:00<00:00, 3382.50it/s]\n"
     ]
    },
    {
     "name": "stdout",
     "output_type": "stream",
     "text": [
      "Image_path: ../images-115-max-keys-400/images/Acenext_100mg_Tablet/Acenext_100mg_Tablet0_rotated.jpg\n",
      "Dir name: Acenext_100mg_Tablet\n",
      "Outpath: metaanalysis/Acenext_100mg_Tablet/Acenext_100mg_Tablet_2.json\n"
     ]
    },
    {
     "name": "stderr",
     "output_type": "stream",
     "text": [
      "100%|██████████| 11/11 [00:00<00:00, 10729.61it/s]\n"
     ]
    },
    {
     "name": "stdout",
     "output_type": "stream",
     "text": [
      "Image_path: ../images-115-max-keys-400/images/Acenext_100mg_Tablet/Acenext_100mg_Tablet1.jpg\n",
      "Dir name: Acenext_100mg_Tablet\n",
      "Outpath: metaanalysis/Acenext_100mg_Tablet/Acenext_100mg_Tablet_3.json\n"
     ]
    },
    {
     "name": "stderr",
     "output_type": "stream",
     "text": [
      "100%|██████████| 50/50 [00:00<00:00, 38199.49it/s]\n"
     ]
    },
    {
     "name": "stdout",
     "output_type": "stream",
     "text": [
      "Image_path: ../images-115-max-keys-400/images/Acenext_100mg_Tablet/Acenext_100mg_Tablet0_blur.jpg\n",
      "Dir name: Acenext_100mg_Tablet\n",
      "Outpath: metaanalysis/Acenext_100mg_Tablet/Acenext_100mg_Tablet_4.json\n"
     ]
    },
    {
     "name": "stderr",
     "output_type": "stream",
     "text": [
      "100%|██████████| 9/9 [00:00<00:00, 8677.87it/s]\n"
     ]
    },
    {
     "name": "stdout",
     "output_type": "stream",
     "text": [
      "Image_path: ../images-115-max-keys-400/images/Acenext_100mg_Tablet/Acenext_100mg_Tablet2.jpg\n",
      "Dir name: Acenext_100mg_Tablet\n",
      "Outpath: metaanalysis/Acenext_100mg_Tablet/Acenext_100mg_Tablet_5.json\n"
     ]
    },
    {
     "name": "stderr",
     "output_type": "stream",
     "text": [
      "100%|██████████| 2/2 [00:00<00:00, 2571.61it/s]\n"
     ]
    },
    {
     "name": "stdout",
     "output_type": "stream",
     "text": [
      "Image_path: ../images-115-max-keys-400/images/Acenext_100mg_Tablet/Acenext_100mg_Tablet0.jpg\n",
      "Dir name: Acenext_100mg_Tablet\n",
      "Outpath: metaanalysis/Acenext_100mg_Tablet/Acenext_100mg_Tablet_6.json\n"
     ]
    },
    {
     "name": "stderr",
     "output_type": "stream",
     "text": [
      "100%|██████████| 10/10 [00:00<00:00, 22574.29it/s]\n"
     ]
    },
    {
     "name": "stdout",
     "output_type": "stream",
     "text": [
      "Image_path: ../images-115-max-keys-400/images/Acenext_100mg_Tablet/Acenext_100mg_Tablet1_gaussian_noise.jpg\n",
      "Dir name: Acenext_100mg_Tablet\n",
      "Outpath: metaanalysis/Acenext_100mg_Tablet/Acenext_100mg_Tablet_7.json\n"
     ]
    },
    {
     "name": "stderr",
     "output_type": "stream",
     "text": [
      "100%|██████████| 13/13 [00:00<00:00, 16084.35it/s]\n"
     ]
    },
    {
     "name": "stdout",
     "output_type": "stream",
     "text": [
      "Image_path: ../images-115-max-keys-400/images/Acenext_100mg_Tablet/Acenext_100mg_Tablet0_gaussian_noise.jpg\n",
      "Dir name: Acenext_100mg_Tablet\n",
      "Outpath: metaanalysis/Acenext_100mg_Tablet/Acenext_100mg_Tablet_8.json\n"
     ]
    },
    {
     "name": "stderr",
     "output_type": "stream",
     "text": [
      "100%|██████████| 8/8 [00:00<00:00, 8437.12it/s]\n"
     ]
    },
    {
     "name": "stdout",
     "output_type": "stream",
     "text": [
      "Image_path: ../images-115-max-keys-400/images/Acenext_100mg_Tablet/Acenext_100mg_Tablet2_blur.jpg\n",
      "Dir name: Acenext_100mg_Tablet\n",
      "Outpath: metaanalysis/Acenext_100mg_Tablet/Acenext_100mg_Tablet_9.json\n",
      "Image_path: ../images-115-max-keys-400/images/Acenext_100mg_Tablet/Acenext_100mg_Tablet1_rotated.jpg\n",
      "Dir name: Acenext_100mg_Tablet\n",
      "Outpath: metaanalysis/Acenext_100mg_Tablet/Acenext_100mg_Tablet_10.json\n"
     ]
    },
    {
     "name": "stderr",
     "output_type": "stream",
     "text": [
      "100%|██████████| 32/32 [00:00<00:00, 22284.20it/s]\n"
     ]
    },
    {
     "name": "stdout",
     "output_type": "stream",
     "text": [
      "Image_path: ../images-115-max-keys-400/images/Acenext_100mg_Tablet/Acenext_100mg_Tablet2_gaussian_noise.jpg\n",
      "Dir name: Acenext_100mg_Tablet\n",
      "Outpath: metaanalysis/Acenext_100mg_Tablet/Acenext_100mg_Tablet_11.json\n",
      "Image_path: ../images-115-max-keys-400/images/Acenext_100mg_Tablet/Acenext_100mg_Tablet1_blur.jpg\n",
      "Dir name: Acenext_100mg_Tablet\n",
      "Outpath: metaanalysis/Acenext_100mg_Tablet/Acenext_100mg_Tablet_12.json\n"
     ]
    },
    {
     "name": "stderr",
     "output_type": "stream",
     "text": [
      "100%|██████████| 13/13 [00:00<00:00, 10872.57it/s]\n"
     ]
    },
    {
     "name": "stdout",
     "output_type": "stream",
     "text": [
      "Dir: ../images-115-max-keys-400/images/Acemiz-S_Tablet\n",
      "Image_path: ../images-115-max-keys-400/images/Acemiz-S_Tablet/Acemiz-S_Tablet1_rotated.jpg\n",
      "Dir name: Acemiz-S_Tablet\n",
      "Outpath: metaanalysis/Acemiz-S_Tablet/Acemiz-S_Tablet_1.json\n"
     ]
    },
    {
     "name": "stderr",
     "output_type": "stream",
     "text": [
      "100%|██████████| 7/7 [00:00<00:00, 3397.38it/s]\n"
     ]
    },
    {
     "name": "stdout",
     "output_type": "stream",
     "text": [
      "Image_path: ../images-115-max-keys-400/images/Acemiz-S_Tablet/Acemiz-S_Tablet0.jpg\n",
      "Dir name: Acemiz-S_Tablet\n",
      "Outpath: metaanalysis/Acemiz-S_Tablet/Acemiz-S_Tablet_2.json\n"
     ]
    },
    {
     "name": "stderr",
     "output_type": "stream",
     "text": [
      "100%|██████████| 8/8 [00:00<00:00, 12219.39it/s]\n"
     ]
    },
    {
     "name": "stdout",
     "output_type": "stream",
     "text": [
      "Image_path: ../images-115-max-keys-400/images/Acemiz-S_Tablet/Acemiz-S_Tablet1_gaussian_noise.jpg\n",
      "Dir name: Acemiz-S_Tablet\n",
      "Outpath: metaanalysis/Acemiz-S_Tablet/Acemiz-S_Tablet_3.json\n"
     ]
    },
    {
     "name": "stderr",
     "output_type": "stream",
     "text": [
      "100%|██████████| 8/8 [00:00<00:00, 4537.45it/s]\n"
     ]
    },
    {
     "name": "stdout",
     "output_type": "stream",
     "text": [
      "Image_path: ../images-115-max-keys-400/images/Acemiz-S_Tablet/Acemiz-S_Tablet1.jpg\n",
      "Dir name: Acemiz-S_Tablet\n",
      "Outpath: metaanalysis/Acemiz-S_Tablet/Acemiz-S_Tablet_4.json\n"
     ]
    },
    {
     "name": "stderr",
     "output_type": "stream",
     "text": [
      "100%|██████████| 13/13 [00:00<00:00, 14158.91it/s]\n"
     ]
    },
    {
     "name": "stdout",
     "output_type": "stream",
     "text": [
      "Image_path: ../images-115-max-keys-400/images/Acemiz-S_Tablet/Acemiz-S_Tablet0_gaussian_noise.jpg\n",
      "Dir name: Acemiz-S_Tablet\n",
      "Outpath: metaanalysis/Acemiz-S_Tablet/Acemiz-S_Tablet_5.json\n"
     ]
    },
    {
     "name": "stderr",
     "output_type": "stream",
     "text": [
      "100%|██████████| 1/1 [00:00<00:00, 2535.85it/s]\n"
     ]
    },
    {
     "name": "stdout",
     "output_type": "stream",
     "text": [
      "Image_path: ../images-115-max-keys-400/images/Acemiz-S_Tablet/Acemiz-S_Tablet0_rotated.jpg\n",
      "Dir name: Acemiz-S_Tablet\n",
      "Outpath: metaanalysis/Acemiz-S_Tablet/Acemiz-S_Tablet_6.json\n"
     ]
    },
    {
     "name": "stderr",
     "output_type": "stream",
     "text": [
      "100%|██████████| 7/7 [00:00<00:00, 23320.20it/s]\n"
     ]
    },
    {
     "name": "stdout",
     "output_type": "stream",
     "text": [
      "Image_path: ../images-115-max-keys-400/images/Acemiz-S_Tablet/Acemiz-S_Tablet1_blur.jpg\n",
      "Dir name: Acemiz-S_Tablet\n",
      "Outpath: metaanalysis/Acemiz-S_Tablet/Acemiz-S_Tablet_7.json\n"
     ]
    },
    {
     "name": "stderr",
     "output_type": "stream",
     "text": [
      "100%|██████████| 11/11 [00:00<00:00, 8906.82it/s]\n"
     ]
    },
    {
     "name": "stdout",
     "output_type": "stream",
     "text": [
      "Image_path: ../images-115-max-keys-400/images/Acemiz-S_Tablet/Acemiz-S_Tablet2_blur.jpg\n",
      "Dir name: Acemiz-S_Tablet\n",
      "Outpath: metaanalysis/Acemiz-S_Tablet/Acemiz-S_Tablet_8.json\n"
     ]
    },
    {
     "name": "stderr",
     "output_type": "stream",
     "text": [
      "100%|██████████| 99/99 [00:00<00:00, 23340.98it/s]\n"
     ]
    },
    {
     "name": "stdout",
     "output_type": "stream",
     "text": [
      "Image_path: ../images-115-max-keys-400/images/Acemiz-S_Tablet/Acemiz-S_Tablet0_blur.jpg\n",
      "Dir name: Acemiz-S_Tablet\n",
      "Outpath: metaanalysis/Acemiz-S_Tablet/Acemiz-S_Tablet_9.json\n"
     ]
    },
    {
     "name": "stderr",
     "output_type": "stream",
     "text": [
      "100%|██████████| 8/8 [00:00<00:00, 24582.00it/s]\n"
     ]
    },
    {
     "name": "stdout",
     "output_type": "stream",
     "text": [
      "Image_path: ../images-115-max-keys-400/images/Acemiz-S_Tablet/Acemiz-S_Tablet2.jpg\n",
      "Dir name: Acemiz-S_Tablet\n",
      "Outpath: metaanalysis/Acemiz-S_Tablet/Acemiz-S_Tablet_10.json\n"
     ]
    },
    {
     "name": "stderr",
     "output_type": "stream",
     "text": [
      "100%|██████████| 122/122 [00:00<00:00, 32417.17it/s]\n"
     ]
    },
    {
     "name": "stdout",
     "output_type": "stream",
     "text": [
      "Image_path: ../images-115-max-keys-400/images/Acemiz-S_Tablet/Acemiz-S_Tablet2_gaussian_noise.jpg\n",
      "Dir name: Acemiz-S_Tablet\n",
      "Outpath: metaanalysis/Acemiz-S_Tablet/Acemiz-S_Tablet_11.json\n"
     ]
    },
    {
     "name": "stderr",
     "output_type": "stream",
     "text": [
      "100%|██████████| 116/116 [00:00<00:00, 43581.09it/s]\n"
     ]
    },
    {
     "name": "stdout",
     "output_type": "stream",
     "text": [
      "Image_path: ../images-115-max-keys-400/images/Acemiz-S_Tablet/Acemiz-S_Tablet2_rotated.jpg\n",
      "Dir name: Acemiz-S_Tablet\n",
      "Outpath: metaanalysis/Acemiz-S_Tablet/Acemiz-S_Tablet_12.json\n"
     ]
    },
    {
     "name": "stderr",
     "output_type": "stream",
     "text": [
      "100%|██████████| 122/122 [00:00<00:00, 17876.16it/s]\n"
     ]
    },
    {
     "name": "stdout",
     "output_type": "stream",
     "text": [
      "Dir: ../images-115-max-keys-400/images/AF_400_Tablet\n",
      "Image_path: ../images-115-max-keys-400/images/AF_400_Tablet/AF_400_Tablet2_gaussian_noise.jpg\n",
      "Dir name: AF_400_Tablet\n",
      "Outpath: metaanalysis/AF_400_Tablet/AF_400_Tablet_1.json\n"
     ]
    },
    {
     "name": "stderr",
     "output_type": "stream",
     "text": [
      "100%|██████████| 7/7 [00:00<00:00, 11973.95it/s]\n"
     ]
    },
    {
     "name": "stdout",
     "output_type": "stream",
     "text": [
      "Image_path: ../images-115-max-keys-400/images/AF_400_Tablet/AF_400_Tablet2_blur.jpg\n",
      "Dir name: AF_400_Tablet\n",
      "Outpath: metaanalysis/AF_400_Tablet/AF_400_Tablet_2.json\n"
     ]
    },
    {
     "name": "stderr",
     "output_type": "stream",
     "text": [
      "100%|██████████| 11/11 [00:00<00:00, 13788.81it/s]\n"
     ]
    },
    {
     "name": "stdout",
     "output_type": "stream",
     "text": [
      "Image_path: ../images-115-max-keys-400/images/AF_400_Tablet/AF_400_Tablet2.jpg\n",
      "Dir name: AF_400_Tablet\n",
      "Outpath: metaanalysis/AF_400_Tablet/AF_400_Tablet_3.json\n"
     ]
    },
    {
     "name": "stderr",
     "output_type": "stream",
     "text": [
      "100%|██████████| 22/22 [00:00<00:00, 6608.51it/s]\n"
     ]
    },
    {
     "name": "stdout",
     "output_type": "stream",
     "text": [
      "Image_path: ../images-115-max-keys-400/images/AF_400_Tablet/AF_400_Tablet1_blur.jpg\n",
      "Dir name: AF_400_Tablet\n",
      "Outpath: metaanalysis/AF_400_Tablet/AF_400_Tablet_4.json\n"
     ]
    },
    {
     "name": "stderr",
     "output_type": "stream",
     "text": [
      "100%|██████████| 11/11 [00:00<00:00, 3796.69it/s]\n"
     ]
    },
    {
     "name": "stdout",
     "output_type": "stream",
     "text": [
      "Image_path: ../images-115-max-keys-400/images/AF_400_Tablet/AF_400_Tablet0_gaussian_noise.jpg\n",
      "Dir name: AF_400_Tablet\n",
      "Outpath: metaanalysis/AF_400_Tablet/AF_400_Tablet_5.json\n"
     ]
    },
    {
     "name": "stderr",
     "output_type": "stream",
     "text": [
      "100%|██████████| 10/10 [00:00<00:00, 12108.27it/s]\n"
     ]
    },
    {
     "name": "stdout",
     "output_type": "stream",
     "text": [
      "Image_path: ../images-115-max-keys-400/images/AF_400_Tablet/AF_400_Tablet0_rotated.jpg\n",
      "Dir name: AF_400_Tablet\n",
      "Outpath: metaanalysis/AF_400_Tablet/AF_400_Tablet_6.json\n"
     ]
    },
    {
     "name": "stderr",
     "output_type": "stream",
     "text": [
      "100%|██████████| 11/11 [00:00<00:00, 6459.10it/s]\n"
     ]
    },
    {
     "name": "stdout",
     "output_type": "stream",
     "text": [
      "Image_path: ../images-115-max-keys-400/images/AF_400_Tablet/AF_400_Tablet0_blur.jpg\n",
      "Dir name: AF_400_Tablet\n",
      "Outpath: metaanalysis/AF_400_Tablet/AF_400_Tablet_7.json\n"
     ]
    },
    {
     "name": "stderr",
     "output_type": "stream",
     "text": [
      "100%|██████████| 8/8 [00:00<00:00, 20422.66it/s]\n"
     ]
    },
    {
     "name": "stdout",
     "output_type": "stream",
     "text": [
      "Image_path: ../images-115-max-keys-400/images/AF_400_Tablet/AF_400_Tablet1_rotated.jpg\n",
      "Dir name: AF_400_Tablet\n",
      "Outpath: metaanalysis/AF_400_Tablet/AF_400_Tablet_8.json\n"
     ]
    },
    {
     "name": "stderr",
     "output_type": "stream",
     "text": [
      "100%|██████████| 9/9 [00:00<00:00, 7441.11it/s]\n"
     ]
    },
    {
     "name": "stdout",
     "output_type": "stream",
     "text": [
      "Image_path: ../images-115-max-keys-400/images/AF_400_Tablet/AF_400_Tablet0.jpg\n",
      "Dir name: AF_400_Tablet\n",
      "Outpath: metaanalysis/AF_400_Tablet/AF_400_Tablet_9.json\n"
     ]
    },
    {
     "name": "stderr",
     "output_type": "stream",
     "text": [
      "100%|██████████| 12/12 [00:00<00:00, 15345.01it/s]\n"
     ]
    },
    {
     "name": "stdout",
     "output_type": "stream",
     "text": [
      "Image_path: ../images-115-max-keys-400/images/AF_400_Tablet/AF_400_Tablet2_rotated.jpg\n",
      "Dir name: AF_400_Tablet\n",
      "Outpath: metaanalysis/AF_400_Tablet/AF_400_Tablet_10.json\n"
     ]
    },
    {
     "name": "stderr",
     "output_type": "stream",
     "text": [
      "100%|██████████| 16/16 [00:00<00:00, 11450.07it/s]\n"
     ]
    },
    {
     "name": "stdout",
     "output_type": "stream",
     "text": [
      "Image_path: ../images-115-max-keys-400/images/AF_400_Tablet/AF_400_Tablet1_gaussian_noise.jpg\n",
      "Dir name: AF_400_Tablet\n",
      "Outpath: metaanalysis/AF_400_Tablet/AF_400_Tablet_11.json\n"
     ]
    },
    {
     "name": "stderr",
     "output_type": "stream",
     "text": [
      "100%|██████████| 9/9 [00:00<00:00, 11741.44it/s]\n"
     ]
    },
    {
     "name": "stdout",
     "output_type": "stream",
     "text": [
      "Image_path: ../images-115-max-keys-400/images/AF_400_Tablet/AF_400_Tablet1.jpg\n",
      "Dir name: AF_400_Tablet\n",
      "Outpath: metaanalysis/AF_400_Tablet/AF_400_Tablet_12.json\n"
     ]
    },
    {
     "name": "stderr",
     "output_type": "stream",
     "text": [
      "100%|██████████| 9/9 [00:00<00:00, 25420.02it/s]\n"
     ]
    },
    {
     "name": "stdout",
     "output_type": "stream",
     "text": [
      "Dir: ../images-115-max-keys-400/images/Acenac_Tablet\n",
      "Image_path: ../images-115-max-keys-400/images/Acenac_Tablet/Acenac_Tablet1_gaussian_noise.jpg\n",
      "Dir name: Acenac_Tablet\n",
      "Outpath: metaanalysis/Acenac_Tablet/Acenac_Tablet_1.json\n"
     ]
    },
    {
     "name": "stderr",
     "output_type": "stream",
     "text": [
      "100%|██████████| 1/1 [00:00<00:00, 3323.54it/s]\n"
     ]
    },
    {
     "name": "stdout",
     "output_type": "stream",
     "text": [
      "Image_path: ../images-115-max-keys-400/images/Acenac_Tablet/Acenac_Tablet1.jpg\n",
      "Dir name: Acenac_Tablet\n",
      "Outpath: metaanalysis/Acenac_Tablet/Acenac_Tablet_2.json\n"
     ]
    },
    {
     "name": "stderr",
     "output_type": "stream",
     "text": [
      "100%|██████████| 8/8 [00:00<00:00, 25003.30it/s]\n"
     ]
    },
    {
     "name": "stdout",
     "output_type": "stream",
     "text": [
      "Image_path: ../images-115-max-keys-400/images/Acenac_Tablet/Acenac_Tablet0.jpg\n",
      "Dir name: Acenac_Tablet\n",
      "Outpath: metaanalysis/Acenac_Tablet/Acenac_Tablet_3.json\n"
     ]
    },
    {
     "name": "stderr",
     "output_type": "stream",
     "text": [
      "100%|██████████| 8/8 [00:00<00:00, 8258.54it/s]\n"
     ]
    },
    {
     "name": "stdout",
     "output_type": "stream",
     "text": [
      "Image_path: ../images-115-max-keys-400/images/Acenac_Tablet/Acenac_Tablet2_blur.jpg\n",
      "Dir name: Acenac_Tablet\n",
      "Outpath: metaanalysis/Acenac_Tablet/Acenac_Tablet_4.json\n"
     ]
    },
    {
     "name": "stderr",
     "output_type": "stream",
     "text": [
      "100%|██████████| 49/49 [00:00<00:00, 15258.81it/s]\n"
     ]
    },
    {
     "name": "stdout",
     "output_type": "stream",
     "text": [
      "Image_path: ../images-115-max-keys-400/images/Acenac_Tablet/Acenac_Tablet0_rotated.jpg\n",
      "Dir name: Acenac_Tablet\n",
      "Outpath: metaanalysis/Acenac_Tablet/Acenac_Tablet_5.json\n"
     ]
    },
    {
     "name": "stderr",
     "output_type": "stream",
     "text": [
      "100%|██████████| 5/5 [00:00<00:00, 6045.41it/s]\n"
     ]
    },
    {
     "name": "stdout",
     "output_type": "stream",
     "text": [
      "Image_path: ../images-115-max-keys-400/images/Acenac_Tablet/Acenac_Tablet0_blur.jpg\n",
      "Dir name: Acenac_Tablet\n",
      "Outpath: metaanalysis/Acenac_Tablet/Acenac_Tablet_6.json\n"
     ]
    },
    {
     "name": "stderr",
     "output_type": "stream",
     "text": [
      "100%|██████████| 6/6 [00:00<00:00, 6472.69it/s]\n"
     ]
    },
    {
     "name": "stdout",
     "output_type": "stream",
     "text": [
      "Image_path: ../images-115-max-keys-400/images/Acenac_Tablet/Acenac_Tablet2.jpg\n",
      "Dir name: Acenac_Tablet\n",
      "Outpath: metaanalysis/Acenac_Tablet/Acenac_Tablet_7.json\n"
     ]
    },
    {
     "name": "stderr",
     "output_type": "stream",
     "text": [
      "100%|██████████| 55/55 [00:00<00:00, 15896.27it/s]\n"
     ]
    },
    {
     "name": "stdout",
     "output_type": "stream",
     "text": [
      "Image_path: ../images-115-max-keys-400/images/Acenac_Tablet/Acenac_Tablet1_rotated.jpg\n",
      "Dir name: Acenac_Tablet\n",
      "Outpath: metaanalysis/Acenac_Tablet/Acenac_Tablet_8.json\n"
     ]
    },
    {
     "name": "stderr",
     "output_type": "stream",
     "text": [
      "100%|██████████| 6/6 [00:00<00:00, 19065.02it/s]\n"
     ]
    },
    {
     "name": "stdout",
     "output_type": "stream",
     "text": [
      "Image_path: ../images-115-max-keys-400/images/Acenac_Tablet/Acenac_Tablet2_rotated.jpg\n",
      "Dir name: Acenac_Tablet\n",
      "Outpath: metaanalysis/Acenac_Tablet/Acenac_Tablet_9.json\n"
     ]
    },
    {
     "name": "stderr",
     "output_type": "stream",
     "text": [
      "100%|██████████| 54/54 [00:00<00:00, 33137.15it/s]\n"
     ]
    },
    {
     "name": "stdout",
     "output_type": "stream",
     "text": [
      "Image_path: ../images-115-max-keys-400/images/Acenac_Tablet/Acenac_Tablet1_blur.jpg\n",
      "Dir name: Acenac_Tablet\n",
      "Outpath: metaanalysis/Acenac_Tablet/Acenac_Tablet_10.json\n"
     ]
    },
    {
     "name": "stderr",
     "output_type": "stream",
     "text": [
      "100%|██████████| 7/7 [00:00<00:00, 14115.45it/s]\n"
     ]
    },
    {
     "name": "stdout",
     "output_type": "stream",
     "text": [
      "Image_path: ../images-115-max-keys-400/images/Acenac_Tablet/Acenac_Tablet2_gaussian_noise.jpg\n",
      "Dir name: Acenac_Tablet\n",
      "Outpath: metaanalysis/Acenac_Tablet/Acenac_Tablet_11.json\n"
     ]
    },
    {
     "name": "stderr",
     "output_type": "stream",
     "text": [
      "100%|██████████| 48/48 [00:00<00:00, 36301.22it/s]\n"
     ]
    },
    {
     "name": "stdout",
     "output_type": "stream",
     "text": [
      "Image_path: ../images-115-max-keys-400/images/Acenac_Tablet/Acenac_Tablet0_gaussian_noise.jpg\n",
      "Dir name: Acenac_Tablet\n",
      "Outpath: metaanalysis/Acenac_Tablet/Acenac_Tablet_12.json\n"
     ]
    },
    {
     "name": "stderr",
     "output_type": "stream",
     "text": [
      "100%|██████████| 3/3 [00:00<00:00, 16070.13it/s]\n"
     ]
    },
    {
     "name": "stdout",
     "output_type": "stream",
     "text": [
      "Dir: ../images-115-max-keys-400/images/Aceloz-SP_Tablet\n",
      "Image_path: ../images-115-max-keys-400/images/Aceloz-SP_Tablet/Aceloz-SP_Tablet0_blur.jpg\n",
      "Dir name: Aceloz-SP_Tablet\n",
      "Outpath: metaanalysis/Aceloz-SP_Tablet/Aceloz-SP_Tablet_1.json\n"
     ]
    },
    {
     "name": "stderr",
     "output_type": "stream",
     "text": [
      "100%|██████████| 11/11 [00:00<00:00, 8117.06it/s]\n"
     ]
    },
    {
     "name": "stdout",
     "output_type": "stream",
     "text": [
      "Image_path: ../images-115-max-keys-400/images/Aceloz-SP_Tablet/Aceloz-SP_Tablet0_gaussian_noise.jpg\n",
      "Dir name: Aceloz-SP_Tablet\n",
      "Outpath: metaanalysis/Aceloz-SP_Tablet/Aceloz-SP_Tablet_2.json\n"
     ]
    },
    {
     "name": "stderr",
     "output_type": "stream",
     "text": [
      "100%|██████████| 8/8 [00:00<00:00, 24892.01it/s]\n"
     ]
    },
    {
     "name": "stdout",
     "output_type": "stream",
     "text": [
      "Image_path: ../images-115-max-keys-400/images/Aceloz-SP_Tablet/Aceloz-SP_Tablet1_gaussian_noise.jpg\n",
      "Dir name: Aceloz-SP_Tablet\n",
      "Outpath: metaanalysis/Aceloz-SP_Tablet/Aceloz-SP_Tablet_3.json\n"
     ]
    },
    {
     "name": "stderr",
     "output_type": "stream",
     "text": [
      "100%|██████████| 79/79 [00:00<00:00, 71751.84it/s]\n"
     ]
    },
    {
     "name": "stdout",
     "output_type": "stream",
     "text": [
      "Image_path: ../images-115-max-keys-400/images/Aceloz-SP_Tablet/Aceloz-SP_Tablet0_rotated.jpg\n",
      "Dir name: Aceloz-SP_Tablet\n",
      "Outpath: metaanalysis/Aceloz-SP_Tablet/Aceloz-SP_Tablet_4.json\n"
     ]
    },
    {
     "name": "stderr",
     "output_type": "stream",
     "text": [
      "100%|██████████| 14/14 [00:00<00:00, 43144.93it/s]\n"
     ]
    },
    {
     "name": "stdout",
     "output_type": "stream",
     "text": [
      "Image_path: ../images-115-max-keys-400/images/Aceloz-SP_Tablet/Aceloz-SP_Tablet1.jpg\n",
      "Dir name: Aceloz-SP_Tablet\n",
      "Outpath: metaanalysis/Aceloz-SP_Tablet/Aceloz-SP_Tablet_5.json\n"
     ]
    },
    {
     "name": "stderr",
     "output_type": "stream",
     "text": [
      "100%|██████████| 108/108 [00:00<00:00, 56573.60it/s]\n"
     ]
    },
    {
     "name": "stdout",
     "output_type": "stream",
     "text": [
      "Image_path: ../images-115-max-keys-400/images/Aceloz-SP_Tablet/Aceloz-SP_Tablet1_rotated.jpg\n",
      "Dir name: Aceloz-SP_Tablet\n",
      "Outpath: metaanalysis/Aceloz-SP_Tablet/Aceloz-SP_Tablet_6.json\n"
     ]
    },
    {
     "name": "stderr",
     "output_type": "stream",
     "text": [
      "100%|██████████| 79/79 [00:00<00:00, 8854.89it/s]\n"
     ]
    },
    {
     "name": "stdout",
     "output_type": "stream",
     "text": [
      "Image_path: ../images-115-max-keys-400/images/Aceloz-SP_Tablet/Aceloz-SP_Tablet0.jpg\n",
      "Dir name: Aceloz-SP_Tablet\n",
      "Outpath: metaanalysis/Aceloz-SP_Tablet/Aceloz-SP_Tablet_7.json\n"
     ]
    },
    {
     "name": "stderr",
     "output_type": "stream",
     "text": [
      "100%|██████████| 11/11 [00:00<00:00, 7651.30it/s]\n"
     ]
    },
    {
     "name": "stdout",
     "output_type": "stream",
     "text": [
      "Image_path: ../images-115-max-keys-400/images/Aceloz-SP_Tablet/Aceloz-SP_Tablet1_blur.jpg\n",
      "Dir name: Aceloz-SP_Tablet\n",
      "Outpath: metaanalysis/Aceloz-SP_Tablet/Aceloz-SP_Tablet_8.json\n"
     ]
    },
    {
     "name": "stderr",
     "output_type": "stream",
     "text": [
      "100%|██████████| 79/79 [00:00<00:00, 17905.97it/s]\n"
     ]
    },
    {
     "name": "stdout",
     "output_type": "stream",
     "text": [
      "Dir: ../images-115-max-keys-400/images/ATZ_50_Tablet\n",
      "Image_path: ../images-115-max-keys-400/images/ATZ_50_Tablet/ATZ_50_Tablet0.jpg\n",
      "Dir name: ATZ_50_Tablet\n",
      "Outpath: metaanalysis/ATZ_50_Tablet/ATZ_50_Tablet_1.json\n"
     ]
    },
    {
     "name": "stderr",
     "output_type": "stream",
     "text": [
      "100%|██████████| 47/47 [00:00<00:00, 18229.36it/s]\n"
     ]
    },
    {
     "name": "stdout",
     "output_type": "stream",
     "text": [
      "Image_path: ../images-115-max-keys-400/images/ATZ_50_Tablet/ATZ_50_Tablet0_gaussian_noise.jpg\n",
      "Dir name: ATZ_50_Tablet\n",
      "Outpath: metaanalysis/ATZ_50_Tablet/ATZ_50_Tablet_2.json\n"
     ]
    },
    {
     "name": "stderr",
     "output_type": "stream",
     "text": [
      "100%|██████████| 11/11 [00:00<00:00, 7850.49it/s]\n"
     ]
    },
    {
     "name": "stdout",
     "output_type": "stream",
     "text": [
      "Image_path: ../images-115-max-keys-400/images/ATZ_50_Tablet/ATZ_50_Tablet0_blur.jpg\n",
      "Dir name: ATZ_50_Tablet\n",
      "Outpath: metaanalysis/ATZ_50_Tablet/ATZ_50_Tablet_3.json\n"
     ]
    },
    {
     "name": "stderr",
     "output_type": "stream",
     "text": [
      "100%|██████████| 14/14 [00:00<00:00, 19764.48it/s]\n"
     ]
    },
    {
     "name": "stdout",
     "output_type": "stream",
     "text": [
      "Image_path: ../images-115-max-keys-400/images/ATZ_50_Tablet/ATZ_50_Tablet0_rotated.jpg\n",
      "Dir name: ATZ_50_Tablet\n",
      "Outpath: metaanalysis/ATZ_50_Tablet/ATZ_50_Tablet_4.json\n"
     ]
    },
    {
     "name": "stderr",
     "output_type": "stream",
     "text": [
      "100%|██████████| 18/18 [00:00<00:00, 7709.33it/s]\n"
     ]
    },
    {
     "name": "stdout",
     "output_type": "stream",
     "text": [
      "Dir: ../images-115-max-keys-400/images/Acenomac_4mg_Tablet\n",
      "Image_path: ../images-115-max-keys-400/images/Acenomac_4mg_Tablet/Acenomac_4mg_Tablet0_gaussian_noise.jpg\n",
      "Dir name: Acenomac_4mg_Tablet\n",
      "Outpath: metaanalysis/Acenomac_4mg_Tablet/Acenomac_4mg_Tablet_1.json\n"
     ]
    },
    {
     "name": "stderr",
     "output_type": "stream",
     "text": [
      "100%|██████████| 2/2 [00:00<00:00, 6754.11it/s]\n"
     ]
    },
    {
     "name": "stdout",
     "output_type": "stream",
     "text": [
      "Image_path: ../images-115-max-keys-400/images/Acenomac_4mg_Tablet/Acenomac_4mg_Tablet1_blur.jpg\n",
      "Dir name: Acenomac_4mg_Tablet\n",
      "Outpath: metaanalysis/Acenomac_4mg_Tablet/Acenomac_4mg_Tablet_2.json\n"
     ]
    },
    {
     "name": "stderr",
     "output_type": "stream",
     "text": [
      "100%|██████████| 4/4 [00:00<00:00, 3900.77it/s]\n"
     ]
    },
    {
     "name": "stdout",
     "output_type": "stream",
     "text": [
      "Image_path: ../images-115-max-keys-400/images/Acenomac_4mg_Tablet/Acenomac_4mg_Tablet0.jpg\n",
      "Dir name: Acenomac_4mg_Tablet\n",
      "Outpath: metaanalysis/Acenomac_4mg_Tablet/Acenomac_4mg_Tablet_3.json\n"
     ]
    },
    {
     "name": "stderr",
     "output_type": "stream",
     "text": [
      "100%|██████████| 3/3 [00:00<00:00, 4022.67it/s]\n"
     ]
    },
    {
     "name": "stdout",
     "output_type": "stream",
     "text": [
      "Image_path: ../images-115-max-keys-400/images/Acenomac_4mg_Tablet/Acenomac_4mg_Tablet2.jpg\n",
      "Dir name: Acenomac_4mg_Tablet\n",
      "Outpath: metaanalysis/Acenomac_4mg_Tablet/Acenomac_4mg_Tablet_4.json\n",
      "Image_path: ../images-115-max-keys-400/images/Acenomac_4mg_Tablet/Acenomac_4mg_Tablet0_blur.jpg\n",
      "Dir name: Acenomac_4mg_Tablet\n",
      "Outpath: metaanalysis/Acenomac_4mg_Tablet/Acenomac_4mg_Tablet_5.json\n"
     ]
    },
    {
     "name": "stderr",
     "output_type": "stream",
     "text": [
      "100%|██████████| 1/1 [00:00<00:00, 5504.34it/s]\n"
     ]
    },
    {
     "name": "stdout",
     "output_type": "stream",
     "text": [
      "Image_path: ../images-115-max-keys-400/images/Acenomac_4mg_Tablet/Acenomac_4mg_Tablet2_gaussian_noise.jpg\n",
      "Dir name: Acenomac_4mg_Tablet\n",
      "Outpath: metaanalysis/Acenomac_4mg_Tablet/Acenomac_4mg_Tablet_6.json\n"
     ]
    },
    {
     "name": "stderr",
     "output_type": "stream",
     "text": [
      "100%|██████████| 1/1 [00:00<00:00, 2563.76it/s]\n"
     ]
    },
    {
     "name": "stdout",
     "output_type": "stream",
     "text": [
      "Image_path: ../images-115-max-keys-400/images/Acenomac_4mg_Tablet/Acenomac_4mg_Tablet1_rotated.jpg\n",
      "Dir name: Acenomac_4mg_Tablet\n",
      "Outpath: metaanalysis/Acenomac_4mg_Tablet/Acenomac_4mg_Tablet_7.json\n"
     ]
    },
    {
     "name": "stderr",
     "output_type": "stream",
     "text": [
      "100%|██████████| 6/6 [00:00<00:00, 4865.78it/s]\n"
     ]
    },
    {
     "name": "stdout",
     "output_type": "stream",
     "text": [
      "Image_path: ../images-115-max-keys-400/images/Acenomac_4mg_Tablet/Acenomac_4mg_Tablet1_gaussian_noise.jpg\n",
      "Dir name: Acenomac_4mg_Tablet\n",
      "Outpath: metaanalysis/Acenomac_4mg_Tablet/Acenomac_4mg_Tablet_8.json\n"
     ]
    },
    {
     "name": "stderr",
     "output_type": "stream",
     "text": [
      "100%|██████████| 2/2 [00:00<00:00, 6307.22it/s]\n"
     ]
    },
    {
     "name": "stdout",
     "output_type": "stream",
     "text": [
      "Image_path: ../images-115-max-keys-400/images/Acenomac_4mg_Tablet/Acenomac_4mg_Tablet2_rotated.jpg\n",
      "Dir name: Acenomac_4mg_Tablet\n",
      "Outpath: metaanalysis/Acenomac_4mg_Tablet/Acenomac_4mg_Tablet_9.json\n"
     ]
    },
    {
     "name": "stderr",
     "output_type": "stream",
     "text": [
      "100%|██████████| 1/1 [00:00<00:00, 2985.27it/s]\n"
     ]
    },
    {
     "name": "stdout",
     "output_type": "stream",
     "text": [
      "Image_path: ../images-115-max-keys-400/images/Acenomac_4mg_Tablet/Acenomac_4mg_Tablet1.jpg\n",
      "Dir name: Acenomac_4mg_Tablet\n",
      "Outpath: metaanalysis/Acenomac_4mg_Tablet/Acenomac_4mg_Tablet_10.json\n"
     ]
    },
    {
     "name": "stderr",
     "output_type": "stream",
     "text": [
      "100%|██████████| 14/14 [00:00<00:00, 31930.54it/s]\n"
     ]
    },
    {
     "name": "stdout",
     "output_type": "stream",
     "text": [
      "Image_path: ../images-115-max-keys-400/images/Acenomac_4mg_Tablet/Acenomac_4mg_Tablet2_blur.jpg\n",
      "Dir name: Acenomac_4mg_Tablet\n",
      "Outpath: metaanalysis/Acenomac_4mg_Tablet/Acenomac_4mg_Tablet_11.json\n"
     ]
    },
    {
     "name": "stderr",
     "output_type": "stream",
     "text": [
      "100%|██████████| 2/2 [00:00<00:00, 2816.86it/s]\n"
     ]
    },
    {
     "name": "stdout",
     "output_type": "stream",
     "text": [
      "Image_path: ../images-115-max-keys-400/images/Acenomac_4mg_Tablet/Acenomac_4mg_Tablet0_rotated.jpg\n",
      "Dir name: Acenomac_4mg_Tablet\n",
      "Outpath: metaanalysis/Acenomac_4mg_Tablet/Acenomac_4mg_Tablet_12.json\n"
     ]
    },
    {
     "name": "stderr",
     "output_type": "stream",
     "text": [
      "100%|██████████| 3/3 [00:00<00:00, 3459.70it/s]\n"
     ]
    },
    {
     "name": "stdout",
     "output_type": "stream",
     "text": [
      "Dir: ../images-115-max-keys-400/images/Ace_Proxyvon_TH_8_mg_Tablet\n",
      "Image_path: ../images-115-max-keys-400/images/Ace_Proxyvon_TH_8_mg_Tablet/Ace_Proxyvon_TH_8_mg_Tablet0_gaussian_noise.jpg\n",
      "Dir name: Ace_Proxyvon_TH_8_mg_Tablet\n",
      "Outpath: metaanalysis/Ace_Proxyvon_TH_8_mg_Tablet/Ace_Proxyvon_TH_8_mg_Tablet_1.json\n"
     ]
    },
    {
     "name": "stderr",
     "output_type": "stream",
     "text": [
      "100%|██████████| 25/25 [00:00<00:00, 10435.67it/s]\n"
     ]
    },
    {
     "name": "stdout",
     "output_type": "stream",
     "text": [
      "Image_path: ../images-115-max-keys-400/images/Ace_Proxyvon_TH_8_mg_Tablet/Ace_Proxyvon_TH_8_mg_Tablet0_blur.jpg\n",
      "Dir name: Ace_Proxyvon_TH_8_mg_Tablet\n",
      "Outpath: metaanalysis/Ace_Proxyvon_TH_8_mg_Tablet/Ace_Proxyvon_TH_8_mg_Tablet_2.json\n"
     ]
    },
    {
     "name": "stderr",
     "output_type": "stream",
     "text": [
      "100%|██████████| 13/13 [00:00<00:00, 5386.34it/s]\n"
     ]
    },
    {
     "name": "stdout",
     "output_type": "stream",
     "text": [
      "Image_path: ../images-115-max-keys-400/images/Ace_Proxyvon_TH_8_mg_Tablet/Ace_Proxyvon_TH_8_mg_Tablet0.jpg\n",
      "Dir name: Ace_Proxyvon_TH_8_mg_Tablet\n",
      "Outpath: metaanalysis/Ace_Proxyvon_TH_8_mg_Tablet/Ace_Proxyvon_TH_8_mg_Tablet_3.json\n"
     ]
    },
    {
     "name": "stderr",
     "output_type": "stream",
     "text": [
      "100%|██████████| 56/56 [00:00<00:00, 12230.84it/s]\n"
     ]
    },
    {
     "name": "stdout",
     "output_type": "stream",
     "text": [
      "Image_path: ../images-115-max-keys-400/images/Ace_Proxyvon_TH_8_mg_Tablet/Ace_Proxyvon_TH_8_mg_Tablet0_rotated.jpg\n",
      "Dir name: Ace_Proxyvon_TH_8_mg_Tablet\n",
      "Outpath: metaanalysis/Ace_Proxyvon_TH_8_mg_Tablet/Ace_Proxyvon_TH_8_mg_Tablet_4.json\n"
     ]
    },
    {
     "name": "stderr",
     "output_type": "stream",
     "text": [
      "100%|██████████| 17/17 [00:00<00:00, 16920.54it/s]\n"
     ]
    },
    {
     "name": "stdout",
     "output_type": "stream",
     "text": [
      "Image_path: ../images-115-max-keys-400/images/Ace_Proxyvon_TH_8_mg_Tablet/Ace_Proxyvon_TH_8_mg_Tablet1_rotated.jpg\n",
      "Dir name: Ace_Proxyvon_TH_8_mg_Tablet\n",
      "Outpath: metaanalysis/Ace_Proxyvon_TH_8_mg_Tablet/Ace_Proxyvon_TH_8_mg_Tablet_5.json\n"
     ]
    },
    {
     "name": "stderr",
     "output_type": "stream",
     "text": [
      "100%|██████████| 2/2 [00:00<00:00, 2209.85it/s]\n"
     ]
    },
    {
     "name": "stdout",
     "output_type": "stream",
     "text": [
      "Image_path: ../images-115-max-keys-400/images/Ace_Proxyvon_TH_8_mg_Tablet/Ace_Proxyvon_TH_8_mg_Tablet1.jpg\n",
      "Dir name: Ace_Proxyvon_TH_8_mg_Tablet\n",
      "Outpath: metaanalysis/Ace_Proxyvon_TH_8_mg_Tablet/Ace_Proxyvon_TH_8_mg_Tablet_6.json\n"
     ]
    },
    {
     "name": "stderr",
     "output_type": "stream",
     "text": [
      "100%|██████████| 2/2 [00:00<00:00, 3450.68it/s]\n"
     ]
    },
    {
     "name": "stdout",
     "output_type": "stream",
     "text": [
      "Image_path: ../images-115-max-keys-400/images/Ace_Proxyvon_TH_8_mg_Tablet/Ace_Proxyvon_TH_8_mg_Tablet1_gaussian_noise.jpg\n",
      "Dir name: Ace_Proxyvon_TH_8_mg_Tablet\n",
      "Outpath: metaanalysis/Ace_Proxyvon_TH_8_mg_Tablet/Ace_Proxyvon_TH_8_mg_Tablet_7.json\n"
     ]
    },
    {
     "name": "stderr",
     "output_type": "stream",
     "text": [
      "100%|██████████| 2/2 [00:00<00:00, 10230.01it/s]\n"
     ]
    },
    {
     "name": "stdout",
     "output_type": "stream",
     "text": [
      "Image_path: ../images-115-max-keys-400/images/Ace_Proxyvon_TH_8_mg_Tablet/Ace_Proxyvon_TH_8_mg_Tablet1_blur.jpg\n",
      "Dir name: Ace_Proxyvon_TH_8_mg_Tablet\n",
      "Outpath: metaanalysis/Ace_Proxyvon_TH_8_mg_Tablet/Ace_Proxyvon_TH_8_mg_Tablet_8.json\n"
     ]
    },
    {
     "name": "stderr",
     "output_type": "stream",
     "text": [
      "100%|██████████| 2/2 [00:00<00:00, 2750.36it/s]\n"
     ]
    },
    {
     "name": "stdout",
     "output_type": "stream",
     "text": [
      "Dir: ../images-115-max-keys-400/images/Ace-SP_Tablet\n",
      "Image_path: ../images-115-max-keys-400/images/Ace-SP_Tablet/Ace-SP_Tablet1_gaussian_noise.jpg\n",
      "Dir name: Ace-SP_Tablet\n",
      "Outpath: metaanalysis/Ace-SP_Tablet/Ace-SP_Tablet_1.json\n"
     ]
    },
    {
     "name": "stderr",
     "output_type": "stream",
     "text": [
      "100%|██████████| 9/9 [00:00<00:00, 12578.72it/s]\n"
     ]
    },
    {
     "name": "stdout",
     "output_type": "stream",
     "text": [
      "Image_path: ../images-115-max-keys-400/images/Ace-SP_Tablet/Ace-SP_Tablet0.jpg\n",
      "Dir name: Ace-SP_Tablet\n",
      "Outpath: metaanalysis/Ace-SP_Tablet/Ace-SP_Tablet_2.json\n"
     ]
    },
    {
     "name": "stderr",
     "output_type": "stream",
     "text": [
      "100%|██████████| 8/8 [00:00<00:00, 11037.64it/s]\n"
     ]
    },
    {
     "name": "stdout",
     "output_type": "stream",
     "text": [
      "Image_path: ../images-115-max-keys-400/images/Ace-SP_Tablet/Ace-SP_Tablet0_rotated.jpg\n",
      "Dir name: Ace-SP_Tablet\n",
      "Outpath: metaanalysis/Ace-SP_Tablet/Ace-SP_Tablet_3.json\n"
     ]
    },
    {
     "name": "stderr",
     "output_type": "stream",
     "text": [
      "100%|██████████| 8/8 [00:00<00:00, 5498.92it/s]\n"
     ]
    },
    {
     "name": "stdout",
     "output_type": "stream",
     "text": [
      "Image_path: ../images-115-max-keys-400/images/Ace-SP_Tablet/Ace-SP_Tablet1_rotated.jpg\n",
      "Dir name: Ace-SP_Tablet\n",
      "Outpath: metaanalysis/Ace-SP_Tablet/Ace-SP_Tablet_4.json\n"
     ]
    },
    {
     "name": "stderr",
     "output_type": "stream",
     "text": [
      "100%|██████████| 9/9 [00:00<00:00, 12936.51it/s]\n"
     ]
    },
    {
     "name": "stdout",
     "output_type": "stream",
     "text": [
      "Image_path: ../images-115-max-keys-400/images/Ace-SP_Tablet/Ace-SP_Tablet2_blur.jpg\n",
      "Dir name: Ace-SP_Tablet\n",
      "Outpath: metaanalysis/Ace-SP_Tablet/Ace-SP_Tablet_5.json\n"
     ]
    },
    {
     "name": "stderr",
     "output_type": "stream",
     "text": [
      "100%|██████████| 29/29 [00:00<00:00, 32026.02it/s]\n"
     ]
    },
    {
     "name": "stdout",
     "output_type": "stream",
     "text": [
      "Image_path: ../images-115-max-keys-400/images/Ace-SP_Tablet/Ace-SP_Tablet0_blur.jpg\n",
      "Dir name: Ace-SP_Tablet\n",
      "Outpath: metaanalysis/Ace-SP_Tablet/Ace-SP_Tablet_6.json\n"
     ]
    },
    {
     "name": "stderr",
     "output_type": "stream",
     "text": [
      "100%|██████████| 5/5 [00:00<00:00, 6543.38it/s]\n"
     ]
    },
    {
     "name": "stdout",
     "output_type": "stream",
     "text": [
      "Image_path: ../images-115-max-keys-400/images/Ace-SP_Tablet/Ace-SP_Tablet0_gaussian_noise.jpg\n",
      "Dir name: Ace-SP_Tablet\n",
      "Outpath: metaanalysis/Ace-SP_Tablet/Ace-SP_Tablet_7.json\n"
     ]
    },
    {
     "name": "stderr",
     "output_type": "stream",
     "text": [
      "100%|██████████| 3/3 [00:00<00:00, 3529.57it/s]\n"
     ]
    },
    {
     "name": "stdout",
     "output_type": "stream",
     "text": [
      "Image_path: ../images-115-max-keys-400/images/Ace-SP_Tablet/Ace-SP_Tablet2_gaussian_noise.jpg\n",
      "Dir name: Ace-SP_Tablet\n",
      "Outpath: metaanalysis/Ace-SP_Tablet/Ace-SP_Tablet_8.json\n"
     ]
    },
    {
     "name": "stderr",
     "output_type": "stream",
     "text": [
      "100%|██████████| 66/66 [00:00<00:00, 15048.88it/s]\n"
     ]
    },
    {
     "name": "stdout",
     "output_type": "stream",
     "text": [
      "Image_path: ../images-115-max-keys-400/images/Ace-SP_Tablet/Ace-SP_Tablet1_blur.jpg\n",
      "Dir name: Ace-SP_Tablet\n",
      "Outpath: metaanalysis/Ace-SP_Tablet/Ace-SP_Tablet_9.json\n"
     ]
    },
    {
     "name": "stderr",
     "output_type": "stream",
     "text": [
      "100%|██████████| 8/8 [00:00<00:00, 16320.25it/s]\n"
     ]
    },
    {
     "name": "stdout",
     "output_type": "stream",
     "text": [
      "Image_path: ../images-115-max-keys-400/images/Ace-SP_Tablet/Ace-SP_Tablet2_rotated.jpg\n",
      "Dir name: Ace-SP_Tablet\n",
      "Outpath: metaanalysis/Ace-SP_Tablet/Ace-SP_Tablet_10.json\n"
     ]
    },
    {
     "name": "stderr",
     "output_type": "stream",
     "text": [
      "100%|██████████| 62/62 [00:00<00:00, 25487.29it/s]\n"
     ]
    },
    {
     "name": "stdout",
     "output_type": "stream",
     "text": [
      "Image_path: ../images-115-max-keys-400/images/Ace-SP_Tablet/Ace-SP_Tablet2.jpg\n",
      "Dir name: Ace-SP_Tablet\n",
      "Outpath: metaanalysis/Ace-SP_Tablet/Ace-SP_Tablet_11.json\n"
     ]
    },
    {
     "name": "stderr",
     "output_type": "stream",
     "text": [
      "100%|██████████| 105/105 [00:00<00:00, 24078.84it/s]\n"
     ]
    },
    {
     "name": "stdout",
     "output_type": "stream",
     "text": [
      "Image_path: ../images-115-max-keys-400/images/Ace-SP_Tablet/Ace-SP_Tablet1.jpg\n",
      "Dir name: Ace-SP_Tablet\n",
      "Outpath: metaanalysis/Ace-SP_Tablet/Ace-SP_Tablet_12.json\n"
     ]
    },
    {
     "name": "stderr",
     "output_type": "stream",
     "text": [
      "100%|██████████| 10/10 [00:00<00:00, 9153.87it/s]\n"
     ]
    },
    {
     "name": "stdout",
     "output_type": "stream",
     "text": [
      "Dir: ../images-115-max-keys-400/images/Abiways-M_Tablet_SR\n",
      "Image_path: ../images-115-max-keys-400/images/Abiways-M_Tablet_SR/Abiways-M_Tablet_SR1_gaussian_noise.jpg\n",
      "Dir name: Abiways-M_Tablet_SR\n",
      "Outpath: metaanalysis/Abiways-M_Tablet_SR/Abiways-M_Tablet_SR_1.json\n"
     ]
    },
    {
     "name": "stderr",
     "output_type": "stream",
     "text": [
      "100%|██████████| 8/8 [00:00<00:00, 6763.64it/s]\n"
     ]
    },
    {
     "name": "stdout",
     "output_type": "stream",
     "text": [
      "Image_path: ../images-115-max-keys-400/images/Abiways-M_Tablet_SR/Abiways-M_Tablet_SR1_rotated.jpg\n",
      "Dir name: Abiways-M_Tablet_SR\n",
      "Outpath: metaanalysis/Abiways-M_Tablet_SR/Abiways-M_Tablet_SR_2.json\n"
     ]
    },
    {
     "name": "stderr",
     "output_type": "stream",
     "text": [
      "100%|██████████| 12/12 [00:00<00:00, 6081.64it/s]\n"
     ]
    },
    {
     "name": "stdout",
     "output_type": "stream",
     "text": [
      "Image_path: ../images-115-max-keys-400/images/Abiways-M_Tablet_SR/Abiways-M_Tablet_SR0_blur.jpg\n",
      "Dir name: Abiways-M_Tablet_SR\n",
      "Outpath: metaanalysis/Abiways-M_Tablet_SR/Abiways-M_Tablet_SR_3.json\n"
     ]
    },
    {
     "name": "stderr",
     "output_type": "stream",
     "text": [
      "100%|██████████| 8/8 [00:00<00:00, 9071.22it/s]\n"
     ]
    },
    {
     "name": "stdout",
     "output_type": "stream",
     "text": [
      "Image_path: ../images-115-max-keys-400/images/Abiways-M_Tablet_SR/Abiways-M_Tablet_SR0.jpg\n",
      "Dir name: Abiways-M_Tablet_SR\n",
      "Outpath: metaanalysis/Abiways-M_Tablet_SR/Abiways-M_Tablet_SR_4.json\n"
     ]
    },
    {
     "name": "stderr",
     "output_type": "stream",
     "text": [
      "100%|██████████| 11/11 [00:00<00:00, 14892.62it/s]\n"
     ]
    },
    {
     "name": "stdout",
     "output_type": "stream",
     "text": [
      "Image_path: ../images-115-max-keys-400/images/Abiways-M_Tablet_SR/Abiways-M_Tablet_SR1.jpg\n",
      "Dir name: Abiways-M_Tablet_SR\n",
      "Outpath: metaanalysis/Abiways-M_Tablet_SR/Abiways-M_Tablet_SR_5.json\n"
     ]
    },
    {
     "name": "stderr",
     "output_type": "stream",
     "text": [
      "100%|██████████| 20/20 [00:00<00:00, 13202.09it/s]\n"
     ]
    },
    {
     "name": "stdout",
     "output_type": "stream",
     "text": [
      "Image_path: ../images-115-max-keys-400/images/Abiways-M_Tablet_SR/Abiways-M_Tablet_SR0_rotated.jpg\n",
      "Dir name: Abiways-M_Tablet_SR\n",
      "Outpath: metaanalysis/Abiways-M_Tablet_SR/Abiways-M_Tablet_SR_6.json\n"
     ]
    },
    {
     "name": "stderr",
     "output_type": "stream",
     "text": [
      "100%|██████████| 9/9 [00:00<00:00, 8644.09it/s]\n"
     ]
    },
    {
     "name": "stdout",
     "output_type": "stream",
     "text": [
      "Image_path: ../images-115-max-keys-400/images/Abiways-M_Tablet_SR/Abiways-M_Tablet_SR1_blur.jpg\n",
      "Dir name: Abiways-M_Tablet_SR\n",
      "Outpath: metaanalysis/Abiways-M_Tablet_SR/Abiways-M_Tablet_SR_7.json\n"
     ]
    },
    {
     "name": "stderr",
     "output_type": "stream",
     "text": [
      "100%|██████████| 10/10 [00:00<00:00, 7405.20it/s]\n"
     ]
    },
    {
     "name": "stdout",
     "output_type": "stream",
     "text": [
      "Image_path: ../images-115-max-keys-400/images/Abiways-M_Tablet_SR/Abiways-M_Tablet_SR0_gaussian_noise.jpg\n",
      "Dir name: Abiways-M_Tablet_SR\n",
      "Outpath: metaanalysis/Abiways-M_Tablet_SR/Abiways-M_Tablet_SR_8.json\n"
     ]
    },
    {
     "name": "stderr",
     "output_type": "stream",
     "text": [
      "100%|██████████| 9/9 [00:00<00:00, 9058.97it/s]\n"
     ]
    }
   ],
   "source": [
    "for dirpath, dirnames, filenames in os.walk('../images-115-max-keys-400/images'):\n",
    "    print(\"Dir:\",dirpath)\n",
    "    dir_name = os.path.basename(dirpath)\n",
    "    if dir_name == \"images\":\n",
    "        continue    \n",
    "    image_paths = process_directory(dirpath)\n",
    "    if not image_paths:\n",
    "        continue\n",
    "    counter = 0\n",
    "    for image_path in image_paths:\n",
    "        counter += 1\n",
    "        print(\"Image_path:\", image_path)\n",
    "        print(\"Dir name:\",dir_name)\n",
    "        toJson(image_path,dir_name, counter)\n",
    "    "
   ]
  },
  {
   "cell_type": "code",
   "execution_count": 279,
   "metadata": {},
   "outputs": [
    {
     "name": "stderr",
     "output_type": "stream",
     "text": [
      "100%|██████████| 84/84 [00:00<00:00, 48429.08it/s]\n"
     ]
    },
    {
     "data": {
      "text/plain": [
       "{'Text': {'Word List': ['acceptsp', '20000']},\n",
       " 'Color Moments': {'Colour Features': [1.0,\n",
       "   241.82269660016618,\n",
       "   77670.99784300446,\n",
       "   158.35815420887445,\n",
       "   38165.005853283306,\n",
       "   34035.683194369456,\n",
       "   1.0,\n",
       "   239.73730339309432,\n",
       "   76878.92557922703,\n",
       "   158.2292454910792,\n",
       "   37815.985687643224,\n",
       "   33985.5850936557,\n",
       "   1.0,\n",
       "   242.4240522970985,\n",
       "   78014.78238623713,\n",
       "   158.32791008105244,\n",
       "   38241.26631223746,\n",
       "   34017.41576882488]},\n",
       " 'Texture': {'Contrast': 615.0416337025316,\n",
       "  'Dissimilarity': 9.433023470464136,\n",
       "  'Homogeneity': 0.5019732088818553,\n",
       "  'Energy': 0.13262236915429243,\n",
       "  'Coorelation': 0.839205042376685},\n",
       " 'Shape': {'Mean Area': 151364.0,\n",
       "  'Std Area': 0.0,\n",
       "  'Mean Perimeter': 1590.0,\n",
       "  'Std Perimeter': 0.0,\n",
       "  'Mean Aspect Ratio': 0.6604166666666667,\n",
       "  'Std Aspect Ratio': 0.0,\n",
       "  'Mean Centroid X': 158.5,\n",
       "  'Std Centroid X': 0.0,\n",
       "  'Mean Centroid Y': 240.0,\n",
       "  'Std Centroid Y': 0.0},\n",
       " 'Pattern': {'Entropy': 5.431147575378418}}"
      ]
     },
     "execution_count": 279,
     "metadata": {},
     "output_type": "execute_result"
    }
   ],
   "source": [
    "medicine_data=executeFeatures(\"Accept-SP_Tablet2 (1).jpg\")\n",
    "medicine_data\n"
   ]
  },
  {
   "cell_type": "code",
   "execution_count": 269,
   "metadata": {},
   "outputs": [],
   "source": [
    "import json\n",
    "with open('Accept-SP_Tablet.json','w') as file:\n",
    "    json.dump(medicine_data, file)"
   ]
  },
  {
   "cell_type": "code",
   "execution_count": null,
   "metadata": {},
   "outputs": [],
   "source": []
  }
 ],
 "metadata": {
  "kernelspec": {
   "display_name": "BTEP",
   "language": "python",
   "name": "btep"
  },
  "language_info": {
   "codemirror_mode": {
    "name": "ipython",
    "version": 3
   },
   "file_extension": ".py",
   "mimetype": "text/x-python",
   "name": "python",
   "nbconvert_exporter": "python",
   "pygments_lexer": "ipython3",
   "version": "3.8.10"
  },
  "orig_nbformat": 4
 },
 "nbformat": 4,
 "nbformat_minor": 2
}
